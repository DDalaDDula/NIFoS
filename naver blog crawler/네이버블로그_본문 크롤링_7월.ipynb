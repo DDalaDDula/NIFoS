{
 "cells": [
  {
   "cell_type": "markdown",
   "id": "db7b5304",
   "metadata": {},
   "source": [
    "# 본문 스크래핑"
   ]
  },
  {
   "cell_type": "code",
   "execution_count": 1,
   "id": "88f269e2",
   "metadata": {},
   "outputs": [],
   "source": [
    "import pandas as pd\n",
    "import numpy as np\n",
    "import time\n",
    "from tqdm.notebook import tqdm\n",
    "import random\n",
    "import urllib.request\n",
    "from selenium.common.exceptions import NoSuchElementException, UnexpectedAlertPresentException, TimeoutException\n",
    "from selenium import webdriver\n",
    "from selenium.webdriver.common.by import By\n",
    "# import chromedriver_auto\n",
    "\n",
    "\n",
    "# 웹드라이버 설정\n",
    "options = webdriver.ChromeOptions()\n",
    "options.add_experimental_option(\"excludeSwitches\", [\"enable-automation\"])\n",
    "options.add_experimental_option(\"useAutomationExtension\", False)\n",
    "options.add_argument('headless') # 창 숨기기\n"
   ]
  },
  {
   "cell_type": "code",
   "execution_count": 3,
   "id": "990973ce",
   "metadata": {},
   "outputs": [],
   "source": [
    "# from user_agent import generate_user_agent, generate_navigator\n",
    "\n",
    "# print(generate_user_agent(device_type='desktop'))\n",
    "# print(generate_user_agent(os='win', device_type='desktop'))\n",
    "\n",
    "# navigator = generate_navigator()\n",
    "\n",
    "# random_user = generate_user_agent(os='win', device_type='desktop')\n",
    "# print(random_user)"
   ]
  },
  {
   "cell_type": "code",
   "execution_count": 3,
   "id": "36c7dea6",
   "metadata": {},
   "outputs": [],
   "source": [
    "from selenium.webdriver.chrome.options import Options\n",
    "\n",
    "# chrome_options = Options()\n",
    "# chrome_options.add_argument(random_user)\n",
    "driver = webdriver.Chrome(executable_path ='./chromedriver_win32/chromedriver.exe',options = options)\n",
    "\n",
    "driver.maximize_window()\n",
    "driver.get(\"https://www.naver.com/\")\n",
    "driver.implicitly_wait(10)\n"
   ]
  },
  {
   "cell_type": "code",
   "execution_count": 4,
   "id": "e4e6f57e",
   "metadata": {},
   "outputs": [
    {
     "name": "stdout",
     "output_type": "stream",
     "text": [
      "(14192, 3) Index(['url', 'title', 'date'], dtype='object')\n"
     ]
    },
    {
     "data": {
      "text/html": [
       "<div>\n",
       "<style scoped>\n",
       "    .dataframe tbody tr th:only-of-type {\n",
       "        vertical-align: middle;\n",
       "    }\n",
       "\n",
       "    .dataframe tbody tr th {\n",
       "        vertical-align: top;\n",
       "    }\n",
       "\n",
       "    .dataframe thead th {\n",
       "        text-align: right;\n",
       "    }\n",
       "</style>\n",
       "<table border=\"1\" class=\"dataframe\">\n",
       "  <thead>\n",
       "    <tr style=\"text-align: right;\">\n",
       "      <th></th>\n",
       "      <th>url</th>\n",
       "      <th>title</th>\n",
       "      <th>date</th>\n",
       "    </tr>\n",
       "  </thead>\n",
       "  <tbody>\n",
       "    <tr>\n",
       "      <th>0</th>\n",
       "      <td>https://blog.naver.com/kittiepie/222047759528</td>\n",
       "      <td>7月 31日: 칠월의 마지막 밤은 매미 울음 속에</td>\n",
       "      <td>2020.07.31.</td>\n",
       "    </tr>\n",
       "    <tr>\n",
       "      <th>1</th>\n",
       "      <td>https://blog.naver.com/minghae00/222047758389</td>\n",
       "      <td>여름휴가 1일차:고모리저수지/경기도잣나무푸른숲/축령산...</td>\n",
       "      <td>2020.07.31.</td>\n",
       "    </tr>\n",
       "    <tr>\n",
       "      <th>2</th>\n",
       "      <td>https://blog.naver.com/chicbook/222047758534</td>\n",
       "      <td>한우리독서토론논술 초등부 8월 프로그램</td>\n",
       "      <td>2020.07.31.</td>\n",
       "    </tr>\n",
       "    <tr>\n",
       "      <th>3</th>\n",
       "      <td>https://blog.naver.com/wsc1025/222047756291</td>\n",
       "      <td>아이와 구한말의 세 주인공들을 만나다! 고종, 흥선대원군...</td>\n",
       "      <td>2020.07.31.</td>\n",
       "    </tr>\n",
       "    <tr>\n",
       "      <th>4</th>\n",
       "      <td>https://blog.naver.com/misspark365/222047750066</td>\n",
       "      <td>강진 여행 1박2일 일정 + 나홀로 야간여행</td>\n",
       "      <td>2020.07.31.</td>\n",
       "    </tr>\n",
       "    <tr>\n",
       "      <th>...</th>\n",
       "      <td>...</td>\n",
       "      <td>...</td>\n",
       "      <td>...</td>\n",
       "    </tr>\n",
       "    <tr>\n",
       "      <th>14187</th>\n",
       "      <td>https://blog.naver.com/namsan_couple/222016467737</td>\n",
       "      <td>강릉 여행 경포대 가볼 곳 허균생가 가족과 함께 가기 좋은 곳</td>\n",
       "      <td>2020.07.01.</td>\n",
       "    </tr>\n",
       "    <tr>\n",
       "      <th>14188</th>\n",
       "      <td>https://blog.naver.com/correctgame/222017310122</td>\n",
       "      <td>1292. 2017.7.16. 대한민국 경상북도 경주시...</td>\n",
       "      <td>2020.07.01.</td>\n",
       "    </tr>\n",
       "    <tr>\n",
       "      <th>14189</th>\n",
       "      <td>https://blog.naver.com/jubalry/222016833799</td>\n",
       "      <td>넷마블 - 중국 관련주(게임주) &amp; BTS(방탄소년단) 관련주</td>\n",
       "      <td>2020.07.01.</td>\n",
       "    </tr>\n",
       "    <tr>\n",
       "      <th>14190</th>\n",
       "      <td>https://blog.naver.com/dalloway7374/222017177943</td>\n",
       "      <td>김용남展 - 삶의 미학 - 심화</td>\n",
       "      <td>2020.07.01.</td>\n",
       "    </tr>\n",
       "    <tr>\n",
       "      <th>14191</th>\n",
       "      <td>https://blog.naver.com/1006hjy/222007895420</td>\n",
       "      <td>경북청도에 가시면 보실수있는 우리의 문화재 입니다</td>\n",
       "      <td>2020.07.01.</td>\n",
       "    </tr>\n",
       "  </tbody>\n",
       "</table>\n",
       "<p>14192 rows × 3 columns</p>\n",
       "</div>"
      ],
      "text/plain": [
       "                                                     url  \\\n",
       "0          https://blog.naver.com/kittiepie/222047759528   \n",
       "1          https://blog.naver.com/minghae00/222047758389   \n",
       "2           https://blog.naver.com/chicbook/222047758534   \n",
       "3            https://blog.naver.com/wsc1025/222047756291   \n",
       "4        https://blog.naver.com/misspark365/222047750066   \n",
       "...                                                  ...   \n",
       "14187  https://blog.naver.com/namsan_couple/222016467737   \n",
       "14188    https://blog.naver.com/correctgame/222017310122   \n",
       "14189        https://blog.naver.com/jubalry/222016833799   \n",
       "14190   https://blog.naver.com/dalloway7374/222017177943   \n",
       "14191        https://blog.naver.com/1006hjy/222007895420   \n",
       "\n",
       "                                    title         date  \n",
       "0             7月 31日: 칠월의 마지막 밤은 매미 울음 속에  2020.07.31.  \n",
       "1        여름휴가 1일차:고모리저수지/경기도잣나무푸른숲/축령산...  2020.07.31.  \n",
       "2                   한우리독서토론논술 초등부 8월 프로그램  2020.07.31.  \n",
       "3      아이와 구한말의 세 주인공들을 만나다! 고종, 흥선대원군...  2020.07.31.  \n",
       "4                강진 여행 1박2일 일정 + 나홀로 야간여행  2020.07.31.  \n",
       "...                                   ...          ...  \n",
       "14187  강릉 여행 경포대 가볼 곳 허균생가 가족과 함께 가기 좋은 곳  2020.07.01.  \n",
       "14188   1292. 2017.7.16. 대한민국 경상북도 경주시...  2020.07.01.  \n",
       "14189  넷마블 - 중국 관련주(게임주) & BTS(방탄소년단) 관련주  2020.07.01.  \n",
       "14190                   김용남展 - 삶의 미학 - 심화  2020.07.01.  \n",
       "14191         경북청도에 가시면 보실수있는 우리의 문화재 입니다  2020.07.01.  \n",
       "\n",
       "[14192 rows x 3 columns]"
      ]
     },
     "execution_count": 4,
     "metadata": {},
     "output_type": "execute_result"
    }
   ],
   "source": [
    "url_df = pd.read_csv(\"./나무문화/2020/나무문화_링크_2020_7월.csv\", encoding='UTF-8')\n",
    "print(url_df.shape, url_df.columns)\n",
    "url_df\n"
   ]
  },
  {
   "cell_type": "code",
   "execution_count": 5,
   "id": "892b0519",
   "metadata": {},
   "outputs": [
    {
     "name": "stdout",
     "output_type": "stream",
     "text": [
      "14192\n"
     ]
    }
   ],
   "source": [
    "blog_links = url_df['url'].to_list()\n",
    "print(len(blog_links))\n"
   ]
  },
  {
   "cell_type": "code",
   "execution_count": 13,
   "id": "865be6f4",
   "metadata": {},
   "outputs": [],
   "source": [
    "# df = pd.DataFrame(columns = {'url','본문'})\n",
    "# df.to_csv(\"./나무문화/2020/나무문화_본문_2020_7월.csv\", index=False, encoding='UTF-8')\n",
    "# df.to_excel(\"./나무문화/2020/나무문화_본문_2020_7월.xlsx\", index=False, encoding='UTF-8')"
   ]
  },
  {
   "cell_type": "code",
   "execution_count": 6,
   "id": "8d715a2b",
   "metadata": {},
   "outputs": [
    {
     "data": {
      "text/html": [
       "<div>\n",
       "<style scoped>\n",
       "    .dataframe tbody tr th:only-of-type {\n",
       "        vertical-align: middle;\n",
       "    }\n",
       "\n",
       "    .dataframe tbody tr th {\n",
       "        vertical-align: top;\n",
       "    }\n",
       "\n",
       "    .dataframe thead th {\n",
       "        text-align: right;\n",
       "    }\n",
       "</style>\n",
       "<table border=\"1\" class=\"dataframe\">\n",
       "  <thead>\n",
       "    <tr style=\"text-align: right;\">\n",
       "      <th></th>\n",
       "      <th>본문</th>\n",
       "      <th>url</th>\n",
       "    </tr>\n",
       "  </thead>\n",
       "  <tbody>\n",
       "    <tr>\n",
       "      <th>0</th>\n",
       "      <td>1. 이번 7월은 허연의 칠월을 읽지 않았고 루카 구아다니노의 아이엠러브도 보지 않...</td>\n",
       "      <td>https://blog.naver.com/kittiepie/222047759528</td>\n",
       "    </tr>\n",
       "    <tr>\n",
       "      <th>1</th>\n",
       "      <td>2020년 7월 31일\\n여름휴가 1일차\\n일정: 포천 고모리 욕쟁이할머니집 점심 ...</td>\n",
       "      <td>https://blog.naver.com/minghae00/222047758389</td>\n",
       "    </tr>\n",
       "    <tr>\n",
       "      <th>2</th>\n",
       "      <td>생각하는 나무 어휘리더 1 (초등1)\\n1차시 자신만만 읽기 • 쓰기\\n《말짱 도루...</td>\n",
       "      <td>https://blog.naver.com/chicbook/222047758534</td>\n",
       "    </tr>\n",
       "    <tr>\n",
       "      <th>3</th>\n",
       "      <td>반갑습니다. 오늘은 인사동 주변 볼거리를 소개합니다. 바로 운현궁, 천도교중앙대교당...</td>\n",
       "      <td>https://blog.naver.com/wsc1025/222047756291</td>\n",
       "    </tr>\n",
       "    <tr>\n",
       "      <th>4</th>\n",
       "      <td>강진 여행 1박2일 일정 + 나홀로아간여행\\n글, 사진, 영상 ⓒ박매력\\n대한민국 ...</td>\n",
       "      <td>https://blog.naver.com/misspark365/222047750066</td>\n",
       "    </tr>\n",
       "    <tr>\n",
       "      <th>...</th>\n",
       "      <td>...</td>\n",
       "      <td>...</td>\n",
       "    </tr>\n",
       "    <tr>\n",
       "      <th>8816</th>\n",
       "      <td>국립 제천 치유의 숲에 남편이 가보자고 했다.\\n좋다는 후기를 많이 봤고 이름도 맘...</td>\n",
       "      <td>https://blog.naver.com/civil95/222029365191</td>\n",
       "    </tr>\n",
       "    <tr>\n",
       "      <th>8817</th>\n",
       "      <td>https://blog.naver.com/p858484/222027595639\\n독...</td>\n",
       "      <td>https://blog.naver.com/roozar/222029363943</td>\n",
       "    </tr>\n",
       "    <tr>\n",
       "      <th>8818</th>\n",
       "      <td>#바람커피 #바람커피연남 #바람커피강남\\n코로나 시대.\\n2019년에 시작되어 20...</td>\n",
       "      <td>https://blog.naver.com/login/222029363418</td>\n",
       "    </tr>\n",
       "    <tr>\n",
       "      <th>8819</th>\n",
       "      <td>도서관 여행하는 법\\n저자\\n임윤희\\n출판\\n유유\\n발매\\n2019.04.14.\\n...</td>\n",
       "      <td>https://blog.naver.com/ktmst222/222029361969</td>\n",
       "    </tr>\n",
       "    <tr>\n",
       "      <th>8820</th>\n",
       "      <td>예수 더 알기 원하네(브라운워십 ver.)\\n재생\\n262\\n좋아요\\n0\\n00:0...</td>\n",
       "      <td>https://blog.naver.com/ceing88/222028111283</td>\n",
       "    </tr>\n",
       "  </tbody>\n",
       "</table>\n",
       "<p>8821 rows × 2 columns</p>\n",
       "</div>"
      ],
      "text/plain": [
       "                                                     본문  \\\n",
       "0     1. 이번 7월은 허연의 칠월을 읽지 않았고 루카 구아다니노의 아이엠러브도 보지 않...   \n",
       "1     2020년 7월 31일\\n여름휴가 1일차\\n일정: 포천 고모리 욕쟁이할머니집 점심 ...   \n",
       "2     생각하는 나무 어휘리더 1 (초등1)\\n1차시 자신만만 읽기 • 쓰기\\n《말짱 도루...   \n",
       "3     반갑습니다. 오늘은 인사동 주변 볼거리를 소개합니다. 바로 운현궁, 천도교중앙대교당...   \n",
       "4     강진 여행 1박2일 일정 + 나홀로아간여행\\n글, 사진, 영상 ⓒ박매력\\n대한민국 ...   \n",
       "...                                                 ...   \n",
       "8816  국립 제천 치유의 숲에 남편이 가보자고 했다.\\n좋다는 후기를 많이 봤고 이름도 맘...   \n",
       "8817  https://blog.naver.com/p858484/222027595639\\n독...   \n",
       "8818  #바람커피 #바람커피연남 #바람커피강남\\n코로나 시대.\\n2019년에 시작되어 20...   \n",
       "8819  도서관 여행하는 법\\n저자\\n임윤희\\n출판\\n유유\\n발매\\n2019.04.14.\\n...   \n",
       "8820  예수 더 알기 원하네(브라운워십 ver.)\\n재생\\n262\\n좋아요\\n0\\n00:0...   \n",
       "\n",
       "                                                  url  \n",
       "0       https://blog.naver.com/kittiepie/222047759528  \n",
       "1       https://blog.naver.com/minghae00/222047758389  \n",
       "2        https://blog.naver.com/chicbook/222047758534  \n",
       "3         https://blog.naver.com/wsc1025/222047756291  \n",
       "4     https://blog.naver.com/misspark365/222047750066  \n",
       "...                                               ...  \n",
       "8816      https://blog.naver.com/civil95/222029365191  \n",
       "8817       https://blog.naver.com/roozar/222029363943  \n",
       "8818        https://blog.naver.com/login/222029363418  \n",
       "8819     https://blog.naver.com/ktmst222/222029361969  \n",
       "8820      https://blog.naver.com/ceing88/222028111283  \n",
       "\n",
       "[8821 rows x 2 columns]"
      ]
     },
     "execution_count": 6,
     "metadata": {},
     "output_type": "execute_result"
    }
   ],
   "source": [
    "df = pd.read_csv(\"./나무문화/2020/나무문화_본문_2020_7월.csv\", encoding='UTF-8')\n",
    "df"
   ]
  },
  {
   "cell_type": "code",
   "execution_count": 7,
   "id": "0504acf1",
   "metadata": {},
   "outputs": [
    {
     "data": {
      "text/plain": [
       "8821"
      ]
     },
     "execution_count": 7,
     "metadata": {},
     "output_type": "execute_result"
    }
   ],
   "source": [
    "len(df)"
   ]
  },
  {
   "cell_type": "code",
   "execution_count": 10,
   "id": "2896404b",
   "metadata": {},
   "outputs": [
    {
     "data": {
      "text/plain": [
       "url      https://blog.naver.com/himynet/222036795571\n",
       "title                                  추억의 TV 외화 총집결\n",
       "date                                     2020.07.21.\n",
       "Name: 5349, dtype: object"
      ]
     },
     "execution_count": 10,
     "metadata": {},
     "output_type": "execute_result"
    }
   ],
   "source": [
    "url_df.iloc[5349]"
   ]
  },
  {
   "cell_type": "code",
   "execution_count": 16,
   "id": "b6825e03",
   "metadata": {},
   "outputs": [
    {
     "name": "stderr",
     "output_type": "stream",
     "text": [
      "C:\\Users\\user\\AppData\\Local\\Temp\\ipykernel_12796\\2719505373.py:3: FutureWarning: The frame.append method is deprecated and will be removed from pandas in a future version. Use pandas.concat instead.\n",
      "  df = df.append(additional_df, ignore_index = True)\n"
     ]
    }
   ],
   "source": [
    "# 이건 필요할때 쓰면 됨. 블로그가 닫혔거나 삭제되었을때 빈 본문을 가진 데이터프레임 추가.\n",
    "# content_dic = {'url' : [\"https://blog.naver.com/himynet/222036795571\"], '본문' : [None]}\n",
    "# additional_df = pd.DataFrame(content_dic)\n",
    "# df = df.append(additional_df, ignore_index = True)"
   ]
  },
  {
   "cell_type": "code",
   "execution_count": 8,
   "id": "7bfeb2ec",
   "metadata": {
    "scrolled": true
   },
   "outputs": [
    {
     "name": "stderr",
     "output_type": "stream",
     "text": [
      "C:\\Users\\user\\AppData\\Local\\Temp\\ipykernel_6492\\3645067668.py:42: FutureWarning: The frame.append method is deprecated and will be removed from pandas in a future version. Use pandas.concat instead.\n",
      "  df = df.append(additional_df, ignore_index = True)\n"
     ]
    },
    {
     "name": "stdout",
     "output_type": "stream",
     "text": [
      "8871 8871\n"
     ]
    }
   ],
   "source": [
    "#### 삭제/비공개 링크 인덱스도 매번 바꿔줄 것!!! ###\n",
    "# contents = []\n",
    "# old_blogs = []\n",
    "hide_link = []\n",
    "waitsec = random.uniform(4,4.5)\n",
    "\n",
    "from IPython.display import clear_output\n",
    "from IPython import display # 램효율을 늘리기 위해 아웃풋 display를 지워줄 것.\n",
    "from ipywidgets import Output\n",
    "\n",
    "out = Output()\n",
    "display.display(out)\n",
    "\n",
    "for i in tqdm(blog_links[len(df):]):\n",
    "    content_dic = {'url' : [], '본문' : []}\n",
    "    content_dic['url'].append(i)\n",
    "    driver.get(i)\n",
    "    driver.implicitly_wait(100)\n",
    "    time.sleep(waitsec)\n",
    "    try:\n",
    "        driver.switch_to.frame(\"mainFrame\")\n",
    "    except TimeoutException as e:\n",
    "        print('시간 초과 오류 : ', e)\n",
    "        content_dic['본문'].append('수집불가능')\n",
    "    except UnexpectedAlertPresentException as e:\n",
    "    ### 이 오류 해결함. 에러 코드 파일에서 직접 임포트하면 된다!\n",
    "        print(e)\n",
    "                                                                            # 여기도 바꿔야 함\n",
    "        print('{}번째 게시글은 비공개로 전환되었거나 게시판이 바뀜.'.format(blog_links.index(i)))\n",
    "        hide_link.append(i)\n",
    "        time.sleep(1.5)\n",
    "        driver.switch_to.frame('mainFrame')\n",
    "    try:\n",
    "        a = driver.find_element(By.CSS_SELECTOR,'div.se-main-container').text\n",
    "        content_dic['본문'].append(a)\n",
    "    # NoSuchElement 오류시 예외처리(구버전 블로그에 적용)\n",
    "    except NoSuchElementException:\n",
    "        a = driver.find_element(By.CSS_SELECTOR,'div#content-area').text\n",
    "        content_dic['본문'].append(a)\n",
    "        #old_blogs.append(i)\n",
    "    additional_df = pd.DataFrame(content_dic)\n",
    "    df = df.append(additional_df, ignore_index = True)\n",
    "    df.to_csv(\"./나무문화/2020/나무문화_본문_2020_7월.csv\", index=False, encoding='UTF-8')\n",
    "    #df.to_excel(\"./나무문화/2020/나무문화_본문_2020_7월.xlsx\", index=False, encoding='UTF-8')\n",
    "    print(blog_links.index(i), df['본문'].tolist().index(a))\n",
    "    \n",
    "    display.clear_output(wait=True) # 출력지우기\n",
    "    # if blog_links.index(i) != df['본문'].tolist().index(a):\n",
    "    #     break\n"
   ]
  },
  {
   "cell_type": "code",
   "execution_count": null,
   "id": "febb389f",
   "metadata": {},
   "outputs": [],
   "source": [
    "df"
   ]
  },
  {
   "cell_type": "code",
   "execution_count": null,
   "id": "e35b9068",
   "metadata": {},
   "outputs": [],
   "source": [
    "print(len(contents))\n",
    "#print(len(old_blogs))\n",
    "print(len(hide_link))\n"
   ]
  }
 ],
 "metadata": {
  "kernelspec": {
   "display_name": "Python 3.8.0 ('NIFS')",
   "language": "python",
   "name": "python3"
  },
  "language_info": {
   "codemirror_mode": {
    "name": "ipython",
    "version": 3
   },
   "file_extension": ".py",
   "mimetype": "text/x-python",
   "name": "python",
   "nbconvert_exporter": "python",
   "pygments_lexer": "ipython3",
   "version": "3.8.0"
  },
  "vscode": {
   "interpreter": {
    "hash": "ef870b4feb386425c661b7ebcadef1c9affb03996f900964fa02bf03ee560957"
   }
  }
 },
 "nbformat": 4,
 "nbformat_minor": 5
}
