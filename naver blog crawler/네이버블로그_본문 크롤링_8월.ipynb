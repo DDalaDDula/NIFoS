{
 "cells": [
  {
   "cell_type": "markdown",
   "id": "db7b5304",
   "metadata": {},
   "source": [
    "# 본문 스크래핑"
   ]
  },
  {
   "cell_type": "code",
   "execution_count": 1,
   "id": "88f269e2",
   "metadata": {},
   "outputs": [],
   "source": [
    "import pandas as pd\n",
    "import numpy as np\n",
    "import time\n",
    "from tqdm.notebook import tqdm\n",
    "import random\n",
    "import urllib.request\n",
    "from selenium.common.exceptions import NoSuchElementException, UnexpectedAlertPresentException, TimeoutException\n",
    "from selenium import webdriver\n",
    "from selenium.webdriver.common.by import By\n",
    "# import chromedriver_auto\n",
    "\n",
    "\n",
    "# 웹드라이버 설정\n",
    "options = webdriver.ChromeOptions()\n",
    "options.add_experimental_option(\"excludeSwitches\", [\"enable-automation\"])\n",
    "options.add_experimental_option(\"useAutomationExtension\", False)\n",
    "options.add_argument('headless') # 창 숨기기\n"
   ]
  },
  {
   "cell_type": "code",
   "execution_count": null,
   "id": "990973ce",
   "metadata": {},
   "outputs": [],
   "source": [
    "# from user_agent import generate_user_agent, generate_navigator\n",
    "\n",
    "# print(generate_user_agent(device_type='desktop'))\n",
    "# print(generate_user_agent(os='win', device_type='desktop'))\n",
    "\n",
    "# navigator = generate_navigator()\n",
    "\n",
    "# random_user = generate_user_agent(os='win', device_type='desktop')\n",
    "# print(random_user)"
   ]
  },
  {
   "cell_type": "code",
   "execution_count": 2,
   "id": "36c7dea6",
   "metadata": {},
   "outputs": [],
   "source": [
    "from selenium.webdriver.chrome.options import Options\n",
    "\n",
    "# chrome_options = Options()\n",
    "# chrome_options.add_argument(random_user)\n",
    "driver = webdriver.Chrome(executable_path ='./chromedriver_win32/chromedriver.exe',options = options)\n",
    "\n",
    "driver.maximize_window()\n",
    "driver.get(\"https://www.naver.com/\")\n",
    "driver.implicitly_wait(10)\n"
   ]
  },
  {
   "cell_type": "code",
   "execution_count": 3,
   "id": "e4e6f57e",
   "metadata": {},
   "outputs": [
    {
     "name": "stdout",
     "output_type": "stream",
     "text": [
      "(12508, 3) Index(['url', 'title', 'date'], dtype='object')\n"
     ]
    },
    {
     "data": {
      "text/html": [
       "<div>\n",
       "<style scoped>\n",
       "    .dataframe tbody tr th:only-of-type {\n",
       "        vertical-align: middle;\n",
       "    }\n",
       "\n",
       "    .dataframe tbody tr th {\n",
       "        vertical-align: top;\n",
       "    }\n",
       "\n",
       "    .dataframe thead th {\n",
       "        text-align: right;\n",
       "    }\n",
       "</style>\n",
       "<table border=\"1\" class=\"dataframe\">\n",
       "  <thead>\n",
       "    <tr style=\"text-align: right;\">\n",
       "      <th></th>\n",
       "      <th>url</th>\n",
       "      <th>title</th>\n",
       "      <th>date</th>\n",
       "    </tr>\n",
       "  </thead>\n",
       "  <tbody>\n",
       "    <tr>\n",
       "      <th>0</th>\n",
       "      <td>https://blog.naver.com/yoosoojoung/222076684802</td>\n",
       "      <td>이마트 트레이더스 월계점 가성비갑 대형식품</td>\n",
       "      <td>2020.08.31.</td>\n",
       "    </tr>\n",
       "    <tr>\n",
       "      <th>1</th>\n",
       "      <td>https://blog.naver.com/yuneyun/222076685632</td>\n",
       "      <td>&lt;백일독서 그물독서#1&gt;마이퍼스트월드: 바퀴</td>\n",
       "      <td>2020.08.31.</td>\n",
       "    </tr>\n",
       "    <tr>\n",
       "      <th>2</th>\n",
       "      <td>https://blog.naver.com/jun95990/222076683798</td>\n",
       "      <td>[포스코] 2020 하반기 포스코 채용</td>\n",
       "      <td>2020.08.31.</td>\n",
       "    </tr>\n",
       "    <tr>\n",
       "      <th>3</th>\n",
       "      <td>https://blog.naver.com/iloveyou915/222076683007</td>\n",
       "      <td>광주광역시 서구 상무시민공원 시민들의 휴식공간으로 딱이야!</td>\n",
       "      <td>2020.08.31.</td>\n",
       "    </tr>\n",
       "    <tr>\n",
       "      <th>4</th>\n",
       "      <td>https://blog.naver.com/mkw728/222076680205</td>\n",
       "      <td>(탄핵 무상)자비의 샘물-55</td>\n",
       "      <td>2020.08.31.</td>\n",
       "    </tr>\n",
       "    <tr>\n",
       "      <th>...</th>\n",
       "      <td>...</td>\n",
       "      <td>...</td>\n",
       "      <td>...</td>\n",
       "    </tr>\n",
       "    <tr>\n",
       "      <th>12503</th>\n",
       "      <td>https://blog.naver.com/imjwimjw/222047769668</td>\n",
       "      <td>신창세론: 20 장 시대의 요청</td>\n",
       "      <td>2020.08.01.</td>\n",
       "    </tr>\n",
       "    <tr>\n",
       "      <th>12504</th>\n",
       "      <td>https://blog.naver.com/whynews1/222047767476</td>\n",
       "      <td>[인터뷰] 생각하고 ‘신속’ 행동하는 정치인 한은경 오산시의원</td>\n",
       "      <td>2020.08.01.</td>\n",
       "    </tr>\n",
       "    <tr>\n",
       "      <th>12505</th>\n",
       "      <td>https://blog.naver.com/alpepel/222047765522</td>\n",
       "      <td>광주광역시동물병원 고정을 시켜놓고 올림</td>\n",
       "      <td>2020.08.01.</td>\n",
       "    </tr>\n",
       "    <tr>\n",
       "      <th>12506</th>\n",
       "      <td>https://blog.naver.com/sheenbee/222047763422</td>\n",
       "      <td>남파랑길 부산 5코스(신평동 교차로~강서구 송정공원)</td>\n",
       "      <td>2020.08.01.</td>\n",
       "    </tr>\n",
       "    <tr>\n",
       "      <th>12507</th>\n",
       "      <td>https://blog.naver.com/ha5807/222046846739</td>\n",
       "      <td>체력이 예전같지 않은 집사와 활발한 토끼의 세계 놀이문화</td>\n",
       "      <td>2020.08.01.</td>\n",
       "    </tr>\n",
       "  </tbody>\n",
       "</table>\n",
       "<p>12508 rows × 3 columns</p>\n",
       "</div>"
      ],
      "text/plain": [
       "                                                   url  \\\n",
       "0      https://blog.naver.com/yoosoojoung/222076684802   \n",
       "1          https://blog.naver.com/yuneyun/222076685632   \n",
       "2         https://blog.naver.com/jun95990/222076683798   \n",
       "3      https://blog.naver.com/iloveyou915/222076683007   \n",
       "4           https://blog.naver.com/mkw728/222076680205   \n",
       "...                                                ...   \n",
       "12503     https://blog.naver.com/imjwimjw/222047769668   \n",
       "12504     https://blog.naver.com/whynews1/222047767476   \n",
       "12505      https://blog.naver.com/alpepel/222047765522   \n",
       "12506     https://blog.naver.com/sheenbee/222047763422   \n",
       "12507       https://blog.naver.com/ha5807/222046846739   \n",
       "\n",
       "                                    title         date  \n",
       "0                 이마트 트레이더스 월계점 가성비갑 대형식품  2020.08.31.  \n",
       "1                <백일독서 그물독서#1>마이퍼스트월드: 바퀴  2020.08.31.  \n",
       "2                   [포스코] 2020 하반기 포스코 채용  2020.08.31.  \n",
       "3        광주광역시 서구 상무시민공원 시민들의 휴식공간으로 딱이야!  2020.08.31.  \n",
       "4                        (탄핵 무상)자비의 샘물-55  2020.08.31.  \n",
       "...                                   ...          ...  \n",
       "12503                   신창세론: 20 장 시대의 요청  2020.08.01.  \n",
       "12504  [인터뷰] 생각하고 ‘신속’ 행동하는 정치인 한은경 오산시의원  2020.08.01.  \n",
       "12505               광주광역시동물병원 고정을 시켜놓고 올림  2020.08.01.  \n",
       "12506       남파랑길 부산 5코스(신평동 교차로~강서구 송정공원)  2020.08.01.  \n",
       "12507     체력이 예전같지 않은 집사와 활발한 토끼의 세계 놀이문화  2020.08.01.  \n",
       "\n",
       "[12508 rows x 3 columns]"
      ]
     },
     "execution_count": 3,
     "metadata": {},
     "output_type": "execute_result"
    }
   ],
   "source": [
    "url_df = pd.read_csv(\"./나무문화/2020/나무문화_링크_2020_8월.csv\", encoding='UTF-8')\n",
    "print(url_df.shape, url_df.columns)\n",
    "url_df\n"
   ]
  },
  {
   "cell_type": "code",
   "execution_count": 4,
   "id": "892b0519",
   "metadata": {},
   "outputs": [
    {
     "name": "stdout",
     "output_type": "stream",
     "text": [
      "12508\n"
     ]
    }
   ],
   "source": [
    "blog_links = url_df['url'].to_list()\n",
    "print(len(blog_links))\n"
   ]
  },
  {
   "cell_type": "code",
   "execution_count": null,
   "id": "865be6f4",
   "metadata": {},
   "outputs": [],
   "source": [
    "# df = pd.DataFrame(columns = {'url','본문'})\n",
    "# df.to_csv(\"./나무문화/2020/나무문화_본문_2020_8월.csv\", index=False, encoding='UTF-8')\n",
    "# df.to_excel(\"./나무문화/2020/나무문화_본문_2020_8월.xlsx\", index=False, encoding='UTF-8')"
   ]
  },
  {
   "cell_type": "code",
   "execution_count": 5,
   "id": "79031cb7",
   "metadata": {},
   "outputs": [
    {
     "data": {
      "text/html": [
       "<div>\n",
       "<style scoped>\n",
       "    .dataframe tbody tr th:only-of-type {\n",
       "        vertical-align: middle;\n",
       "    }\n",
       "\n",
       "    .dataframe tbody tr th {\n",
       "        vertical-align: top;\n",
       "    }\n",
       "\n",
       "    .dataframe thead th {\n",
       "        text-align: right;\n",
       "    }\n",
       "</style>\n",
       "<table border=\"1\" class=\"dataframe\">\n",
       "  <thead>\n",
       "    <tr style=\"text-align: right;\">\n",
       "      <th></th>\n",
       "      <th>url</th>\n",
       "      <th>본문</th>\n",
       "    </tr>\n",
       "  </thead>\n",
       "  <tbody>\n",
       "    <tr>\n",
       "      <th>0</th>\n",
       "      <td>https://blog.naver.com/yoosoojoung/222076684802</td>\n",
       "      <td>이마트\\n트레이더스\\n월계점\\n처음 가본\\n후기입니다.\\n서울 자전거\\n따릉이를 타...</td>\n",
       "    </tr>\n",
       "    <tr>\n",
       "      <th>1</th>\n",
       "      <td>https://blog.naver.com/yuneyun/222076685632</td>\n",
       "      <td>마이퍼스트월드: 바퀴\\n열려라지식문: 부릉부릉 씽씽\\n탄탄 곰돌아 안녕: 빵빵 부릉...</td>\n",
       "    </tr>\n",
       "    <tr>\n",
       "      <th>2</th>\n",
       "      <td>https://blog.naver.com/jun95990/222076683798</td>\n",
       "      <td>채용공고\\nㅣ포스코그룹 채용공고 링크ㅣ\\nPOSCO GROUP\\ngorecruit....</td>\n",
       "    </tr>\n",
       "    <tr>\n",
       "      <th>3</th>\n",
       "      <td>https://blog.naver.com/iloveyou915/222076683007</td>\n",
       "      <td>광주광역시 서구 상무시민공원 시민들의 휴식공간으로 딱이야!\\n안녕하세요 해이뉘입니다...</td>\n",
       "    </tr>\n",
       "    <tr>\n",
       "      <th>4</th>\n",
       "      <td>https://blog.naver.com/mkw728/222076680205</td>\n",
       "      <td>(탄핵 무상)자비의 샘물-55\\n빠르다\\n바쁘다.\\n그리움과 아쉬움이 고일 여지가 ...</td>\n",
       "    </tr>\n",
       "    <tr>\n",
       "      <th>...</th>\n",
       "      <td>...</td>\n",
       "      <td>...</td>\n",
       "    </tr>\n",
       "    <tr>\n",
       "      <th>3716</th>\n",
       "      <td>https://blog.naver.com/75ik/222068002031</td>\n",
       "      <td>책을 여러권\\n한꺼번에 읽는 편이다.\\n꼭 처음부터 마지막까지....라기보다\\n한챕...</td>\n",
       "    </tr>\n",
       "    <tr>\n",
       "      <th>3717</th>\n",
       "      <td>https://blog.naver.com/dysnomia/222068001346</td>\n",
       "      <td>2020년 제38회 서울시 건축상 대상에 '클리오 사옥'이 선정됐다.\\n'클리오 사...</td>\n",
       "    </tr>\n",
       "    <tr>\n",
       "      <th>3718</th>\n",
       "      <td>https://blog.naver.com/urinari/222068000758</td>\n",
       "      <td>D+688\\n오늘은 다음주에 있는 2번의 생일날이 있어\\n국내 3인이 모였다.\\n시...</td>\n",
       "    </tr>\n",
       "    <tr>\n",
       "      <th>3719</th>\n",
       "      <td>https://blog.naver.com/jaeyoung0935/222067999129</td>\n",
       "      <td>서울농대\\n70년대 말 비봉에서 수원을 가려면 합승버스를 타고 땡땡이 신호에 따라 ...</td>\n",
       "    </tr>\n",
       "    <tr>\n",
       "      <th>3720</th>\n",
       "      <td>https://blog.naver.com/k_saja/222067998756</td>\n",
       "      <td>울릉도 관광지도\\n울릉읍\\n01. 유람선(섬일주) 대인 25,000원 / 소인 12...</td>\n",
       "    </tr>\n",
       "  </tbody>\n",
       "</table>\n",
       "<p>3721 rows × 2 columns</p>\n",
       "</div>"
      ],
      "text/plain": [
       "                                                   url  \\\n",
       "0      https://blog.naver.com/yoosoojoung/222076684802   \n",
       "1          https://blog.naver.com/yuneyun/222076685632   \n",
       "2         https://blog.naver.com/jun95990/222076683798   \n",
       "3      https://blog.naver.com/iloveyou915/222076683007   \n",
       "4           https://blog.naver.com/mkw728/222076680205   \n",
       "...                                                ...   \n",
       "3716          https://blog.naver.com/75ik/222068002031   \n",
       "3717      https://blog.naver.com/dysnomia/222068001346   \n",
       "3718       https://blog.naver.com/urinari/222068000758   \n",
       "3719  https://blog.naver.com/jaeyoung0935/222067999129   \n",
       "3720        https://blog.naver.com/k_saja/222067998756   \n",
       "\n",
       "                                                     본문  \n",
       "0     이마트\\n트레이더스\\n월계점\\n처음 가본\\n후기입니다.\\n서울 자전거\\n따릉이를 타...  \n",
       "1     마이퍼스트월드: 바퀴\\n열려라지식문: 부릉부릉 씽씽\\n탄탄 곰돌아 안녕: 빵빵 부릉...  \n",
       "2     채용공고\\nㅣ포스코그룹 채용공고 링크ㅣ\\nPOSCO GROUP\\ngorecruit....  \n",
       "3     광주광역시 서구 상무시민공원 시민들의 휴식공간으로 딱이야!\\n안녕하세요 해이뉘입니다...  \n",
       "4     (탄핵 무상)자비의 샘물-55\\n빠르다\\n바쁘다.\\n그리움과 아쉬움이 고일 여지가 ...  \n",
       "...                                                 ...  \n",
       "3716  책을 여러권\\n한꺼번에 읽는 편이다.\\n꼭 처음부터 마지막까지....라기보다\\n한챕...  \n",
       "3717  2020년 제38회 서울시 건축상 대상에 '클리오 사옥'이 선정됐다.\\n'클리오 사...  \n",
       "3718  D+688\\n오늘은 다음주에 있는 2번의 생일날이 있어\\n국내 3인이 모였다.\\n시...  \n",
       "3719  서울농대\\n70년대 말 비봉에서 수원을 가려면 합승버스를 타고 땡땡이 신호에 따라 ...  \n",
       "3720  울릉도 관광지도\\n울릉읍\\n01. 유람선(섬일주) 대인 25,000원 / 소인 12...  \n",
       "\n",
       "[3721 rows x 2 columns]"
      ]
     },
     "execution_count": 5,
     "metadata": {},
     "output_type": "execute_result"
    }
   ],
   "source": [
    "df = pd.read_csv(\"./나무문화/2020/나무문화_본문_2020_8월.csv\", encoding='UTF-8')\n",
    "df"
   ]
  },
  {
   "cell_type": "code",
   "execution_count": 6,
   "id": "0504acf1",
   "metadata": {},
   "outputs": [
    {
     "data": {
      "text/plain": [
       "3721"
      ]
     },
     "execution_count": 6,
     "metadata": {},
     "output_type": "execute_result"
    }
   ],
   "source": [
    "len(df)"
   ]
  },
  {
   "cell_type": "code",
   "execution_count": null,
   "id": "7bfeb2ec",
   "metadata": {
    "scrolled": true
   },
   "outputs": [],
   "source": [
    "#### 삭제/비공개 링크 인덱스도 매번 바꿔줄 것!!! ###\n",
    "# contents = []\n",
    "# old_blogs = []\n",
    "hide_link = []\n",
    "from IPython.display import clear_output\n",
    "from IPython import display # 램효율을 늘리기 위해 아웃풋 display를 지워줄 것.\n",
    "from ipywidgets import Output\n",
    "\n",
    "out = Output()\n",
    "display.display(out)\n",
    "\n",
    "for i in tqdm(blog_links[len(df):]):\n",
    "    content_dic = {'url' : [], '본문' : []}\n",
    "    content_dic['url'].append(i)\n",
    "    driver.get(i)\n",
    "    driver.implicitly_wait(10)\n",
    "    try:\n",
    "        driver.switch_to.frame(\"mainFrame\")\n",
    "    except TimeoutException as e:\n",
    "        print('시간 초과 오류 : ', e)\n",
    "        content_dic['본문'].append('수집불가능')\n",
    "    except UnexpectedAlertPresentException as e:\n",
    "    ### 이 오류 해결함. 에러 코드 파일에서 직접 임포트하면 된다!\n",
    "        print(e)\n",
    "                                                                            # 여기도 바꿔야 함\n",
    "        print('{}번째 게시글은 비공개로 전환되었거나 게시판이 바뀜.'.format(blog_links.index(i)))\n",
    "        hide_link.append(i)\n",
    "        time.sleep(1.5)\n",
    "        driver.switch_to.frame('mainFrame')\n",
    "    time.sleep(1)\n",
    "    try:\n",
    "        a = driver.find_element(By.CSS_SELECTOR,'div.se-main-container').text\n",
    "        content_dic['본문'].append(a)\n",
    "    # NoSuchElement 오류시 예외처리(구버전 블로그에 적용)\n",
    "    except NoSuchElementException:\n",
    "        a = driver.find_element(By.CSS_SELECTOR,'div#content-area').text\n",
    "        content_dic['본문'].append(a)\n",
    "        #old_blogs.append(i)\n",
    "    additional_df = pd.DataFrame(content_dic)\n",
    "    df = df.append(additional_df, ignore_index = True)\n",
    "    df.to_csv(\"./나무문화/2020/나무문화_본문_2020_8월.csv\", index=False, encoding='UTF-8')\n",
    "    df.to_excel(\"./나무문화/2020/나무문화_본문_2020_8월.xlsx\", index=False, encoding='UTF-8')\n",
    "    print(blog_links.index(i), df['본문'].tolist().index(a))\n",
    "    \n",
    "    display.clear_output(wait=True) # 출력지우기\n",
    "    # if blog_links.index(i) != df['본문'].tolist().index(a):\n",
    "    #     break\n"
   ]
  },
  {
   "cell_type": "code",
   "execution_count": null,
   "id": "febb389f",
   "metadata": {},
   "outputs": [],
   "source": [
    "df"
   ]
  },
  {
   "cell_type": "code",
   "execution_count": null,
   "id": "e35b9068",
   "metadata": {},
   "outputs": [],
   "source": [
    "print(len(contents))\n",
    "#print(len(old_blogs))\n",
    "print(len(hide_link))\n"
   ]
  }
 ],
 "metadata": {
  "kernelspec": {
   "display_name": "Python 3.8.0 ('NIFS')",
   "language": "python",
   "name": "python3"
  },
  "language_info": {
   "codemirror_mode": {
    "name": "ipython",
    "version": 3
   },
   "file_extension": ".py",
   "mimetype": "text/x-python",
   "name": "python",
   "nbconvert_exporter": "python",
   "pygments_lexer": "ipython3",
   "version": "3.8.0"
  },
  "vscode": {
   "interpreter": {
    "hash": "ef870b4feb386425c661b7ebcadef1c9affb03996f900964fa02bf03ee560957"
   }
  }
 },
 "nbformat": 4,
 "nbformat_minor": 5
}
