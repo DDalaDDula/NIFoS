{
 "cells": [
  {
   "cell_type": "markdown",
   "id": "db7b5304",
   "metadata": {},
   "source": [
    "# 본문 스크래핑"
   ]
  },
  {
   "cell_type": "code",
   "execution_count": 1,
   "id": "88f269e2",
   "metadata": {},
   "outputs": [],
   "source": [
    "import pandas as pd\n",
    "import numpy as np\n",
    "import time\n",
    "from tqdm.notebook import tqdm\n",
    "import random\n",
    "import urllib.request\n",
    "from selenium.common.exceptions import NoSuchElementException, UnexpectedAlertPresentException, TimeoutException\n",
    "from selenium import webdriver\n",
    "from selenium.webdriver.common.by import By\n",
    "# import chromedriver_auto\n",
    "\n",
    "\n",
    "# 웹드라이버 설정\n",
    "options = webdriver.ChromeOptions()\n",
    "options.add_experimental_option(\"excludeSwitches\", [\"enable-automation\"])\n",
    "options.add_experimental_option(\"useAutomationExtension\", False)\n",
    "options.add_argument('headless') # 창 숨기기\n"
   ]
  },
  {
   "cell_type": "code",
   "execution_count": null,
   "id": "990973ce",
   "metadata": {},
   "outputs": [],
   "source": [
    "# from user_agent import generate_user_agent, generate_navigator\n",
    "\n",
    "# print(generate_user_agent(device_type='desktop'))\n",
    "# print(generate_user_agent(os='win', device_type='desktop'))\n",
    "\n",
    "# navigator = generate_navigator()\n",
    "\n",
    "# random_user = generate_user_agent(os='win', device_type='desktop')\n",
    "# print(random_user)"
   ]
  },
  {
   "cell_type": "code",
   "execution_count": 2,
   "id": "36c7dea6",
   "metadata": {},
   "outputs": [],
   "source": [
    "from selenium.webdriver.chrome.options import Options\n",
    "\n",
    "# chrome_options = Options()\n",
    "# chrome_options.add_argument(random_user)\n",
    "driver = webdriver.Chrome(executable_path ='./chromedriver_win32/chromedriver.exe',options = options)\n",
    "\n",
    "#driver.maximize_window()\n",
    "driver.get(\"https://www.naver.com/\")\n",
    "driver.implicitly_wait(10)\n"
   ]
  },
  {
   "cell_type": "code",
   "execution_count": 3,
   "id": "e4e6f57e",
   "metadata": {},
   "outputs": [
    {
     "name": "stdout",
     "output_type": "stream",
     "text": [
      "(11904, 3) Index(['url', 'title', 'date'], dtype='object')\n"
     ]
    },
    {
     "data": {
      "text/html": [
       "<div>\n",
       "<style scoped>\n",
       "    .dataframe tbody tr th:only-of-type {\n",
       "        vertical-align: middle;\n",
       "    }\n",
       "\n",
       "    .dataframe tbody tr th {\n",
       "        vertical-align: top;\n",
       "    }\n",
       "\n",
       "    .dataframe thead th {\n",
       "        text-align: right;\n",
       "    }\n",
       "</style>\n",
       "<table border=\"1\" class=\"dataframe\">\n",
       "  <thead>\n",
       "    <tr style=\"text-align: right;\">\n",
       "      <th></th>\n",
       "      <th>url</th>\n",
       "      <th>title</th>\n",
       "      <th>date</th>\n",
       "    </tr>\n",
       "  </thead>\n",
       "  <tbody>\n",
       "    <tr>\n",
       "      <th>0</th>\n",
       "      <td>https://blog.naver.com/jinidag/222104033228</td>\n",
       "      <td>추석연휴 가볼만한곳 한국민속촌 야외 당일치기 나들이</td>\n",
       "      <td>2020.09.30.</td>\n",
       "    </tr>\n",
       "    <tr>\n",
       "      <th>1</th>\n",
       "      <td>https://blog.naver.com/taya2765/222104032204</td>\n",
       "      <td>동래 가볼만한 곳, 복천박물관</td>\n",
       "      <td>2020.09.30.</td>\n",
       "    </tr>\n",
       "    <tr>\n",
       "      <th>2</th>\n",
       "      <td>https://blog.naver.com/yeonjae1213/222104028784</td>\n",
       "      <td>배꼽 빠질 뻔했다</td>\n",
       "      <td>2020.09.30.</td>\n",
       "    </tr>\n",
       "    <tr>\n",
       "      <th>3</th>\n",
       "      <td>https://blog.naver.com/sunnybridge_/222104026647</td>\n",
       "      <td>내가 사랑했던 마을,탬워스(Tamworth)</td>\n",
       "      <td>2020.09.30.</td>\n",
       "    </tr>\n",
       "    <tr>\n",
       "      <th>4</th>\n",
       "      <td>https://blog.naver.com/lby56/222104022581</td>\n",
       "      <td>언택트 한가위… ‘꼰대’ 삼촌이 10대 조카에게 보내는 편지</td>\n",
       "      <td>2020.09.30.</td>\n",
       "    </tr>\n",
       "    <tr>\n",
       "      <th>...</th>\n",
       "      <td>...</td>\n",
       "      <td>...</td>\n",
       "      <td>...</td>\n",
       "    </tr>\n",
       "    <tr>\n",
       "      <th>11899</th>\n",
       "      <td>https://blog.naver.com/chookk7/222076688184</td>\n",
       "      <td>“먹튀자본 MBK 김병주의 땅투기로 안산이 망가진다”</td>\n",
       "      <td>2020.09.01.</td>\n",
       "    </tr>\n",
       "    <tr>\n",
       "      <th>11900</th>\n",
       "      <td>https://blog.naver.com/bugman1303/222076686202</td>\n",
       "      <td>머리가 좋은 동물들</td>\n",
       "      <td>2020.09.01.</td>\n",
       "    </tr>\n",
       "    <tr>\n",
       "      <th>11901</th>\n",
       "      <td>https://blog.naver.com/sherry8279/222076052955</td>\n",
       "      <td>&lt;도시는 무엇으로 사는 가, 유현준&gt; 도시의 다채로운 생각과...</td>\n",
       "      <td>2020.09.01.</td>\n",
       "    </tr>\n",
       "    <tr>\n",
       "      <th>11902</th>\n",
       "      <td>https://blog.naver.com/butterfly0724/222071335341</td>\n",
       "      <td>[경기도 미술관 카페] 호이안</td>\n",
       "      <td>2020.09.01.</td>\n",
       "    </tr>\n",
       "    <tr>\n",
       "      <th>11903</th>\n",
       "      <td>https://blog.naver.com/hm3632/222076581976</td>\n",
       "      <td>대구 앞산해넘이전망대 야간 야경 데이트 코스로 추천</td>\n",
       "      <td>2020.09.01.</td>\n",
       "    </tr>\n",
       "  </tbody>\n",
       "</table>\n",
       "<p>11904 rows × 3 columns</p>\n",
       "</div>"
      ],
      "text/plain": [
       "                                                     url  \\\n",
       "0            https://blog.naver.com/jinidag/222104033228   \n",
       "1           https://blog.naver.com/taya2765/222104032204   \n",
       "2        https://blog.naver.com/yeonjae1213/222104028784   \n",
       "3       https://blog.naver.com/sunnybridge_/222104026647   \n",
       "4              https://blog.naver.com/lby56/222104022581   \n",
       "...                                                  ...   \n",
       "11899        https://blog.naver.com/chookk7/222076688184   \n",
       "11900     https://blog.naver.com/bugman1303/222076686202   \n",
       "11901     https://blog.naver.com/sherry8279/222076052955   \n",
       "11902  https://blog.naver.com/butterfly0724/222071335341   \n",
       "11903         https://blog.naver.com/hm3632/222076581976   \n",
       "\n",
       "                                      title         date  \n",
       "0              추석연휴 가볼만한곳 한국민속촌 야외 당일치기 나들이  2020.09.30.  \n",
       "1                          동래 가볼만한 곳, 복천박물관  2020.09.30.  \n",
       "2                                 배꼽 빠질 뻔했다  2020.09.30.  \n",
       "3                  내가 사랑했던 마을,탬워스(Tamworth)  2020.09.30.  \n",
       "4         언택트 한가위… ‘꼰대’ 삼촌이 10대 조카에게 보내는 편지  2020.09.30.  \n",
       "...                                     ...          ...  \n",
       "11899         “먹튀자본 MBK 김병주의 땅투기로 안산이 망가진다”  2020.09.01.  \n",
       "11900                            머리가 좋은 동물들  2020.09.01.  \n",
       "11901  <도시는 무엇으로 사는 가, 유현준> 도시의 다채로운 생각과...  2020.09.01.  \n",
       "11902                      [경기도 미술관 카페] 호이안  2020.09.01.  \n",
       "11903          대구 앞산해넘이전망대 야간 야경 데이트 코스로 추천  2020.09.01.  \n",
       "\n",
       "[11904 rows x 3 columns]"
      ]
     },
     "execution_count": 3,
     "metadata": {},
     "output_type": "execute_result"
    }
   ],
   "source": [
    "url_df = pd.read_csv(\"./나무문화/2020/나무문화_링크_2020_9월.csv\", encoding='UTF-8')\n",
    "print(url_df.shape, url_df.columns)\n",
    "url_df\n"
   ]
  },
  {
   "cell_type": "code",
   "execution_count": 4,
   "id": "892b0519",
   "metadata": {},
   "outputs": [
    {
     "name": "stdout",
     "output_type": "stream",
     "text": [
      "11904\n"
     ]
    }
   ],
   "source": [
    "blog_links = url_df['url'].to_list()\n",
    "print(len(blog_links))\n"
   ]
  },
  {
   "cell_type": "code",
   "execution_count": null,
   "id": "865be6f4",
   "metadata": {},
   "outputs": [],
   "source": [
    "# df = pd.DataFrame(columns = {'url','본문'}) # 처음 만들때를 위한 코드라 주석처리 하였음.\n",
    "# df.to_csv(\"./나무문화/2020/나무문화_본문_2020_9월.csv\", index=False, encoding='UTF-8')\n",
    "# df.to_excel(\"./나무문화/2020/나무문화_본문_2020_9월.xlsx\", index=False, encoding='UTF-8')"
   ]
  },
  {
   "cell_type": "code",
   "execution_count": 5,
   "id": "7e6127c6",
   "metadata": {},
   "outputs": [
    {
     "data": {
      "text/html": [
       "<div>\n",
       "<style scoped>\n",
       "    .dataframe tbody tr th:only-of-type {\n",
       "        vertical-align: middle;\n",
       "    }\n",
       "\n",
       "    .dataframe tbody tr th {\n",
       "        vertical-align: top;\n",
       "    }\n",
       "\n",
       "    .dataframe thead th {\n",
       "        text-align: right;\n",
       "    }\n",
       "</style>\n",
       "<table border=\"1\" class=\"dataframe\">\n",
       "  <thead>\n",
       "    <tr style=\"text-align: right;\">\n",
       "      <th></th>\n",
       "      <th>본문</th>\n",
       "      <th>url</th>\n",
       "    </tr>\n",
       "  </thead>\n",
       "  <tbody>\n",
       "    <tr>\n",
       "      <th>0</th>\n",
       "      <td>추석연휴 가볼만한곳 야외 나들이\\n\"이글은 한국민속촌으로부터 금전적 지원을 받아 작...</td>\n",
       "      <td>https://blog.naver.com/jinidag/222104033228</td>\n",
       "    </tr>\n",
       "    <tr>\n",
       "      <th>1</th>\n",
       "      <td>복천박물관\\n부산 동래구 복천로 63\\n매일 09:00-18:00 (매주 마지막주 ...</td>\n",
       "      <td>https://blog.naver.com/taya2765/222104032204</td>\n",
       "    </tr>\n",
       "    <tr>\n",
       "      <th>2</th>\n",
       "      <td>오늘 아침에 일어나서 엄마랑 극적 화해하고 기분 좋았다. 그런데 기상은 늦었다 10...</td>\n",
       "      <td>https://blog.naver.com/yeonjae1213/222104028784</td>\n",
       "    </tr>\n",
       "    <tr>\n",
       "      <th>3</th>\n",
       "      <td>호주 워킹홀리데이 상반기 시즌은 사진이 많이 없어서\\n포스팅 할게 많이 없다 ㅠㅠ\\...</td>\n",
       "      <td>https://blog.naver.com/sunnybridge_/222104026647</td>\n",
       "    </tr>\n",
       "    <tr>\n",
       "      <th>4</th>\n",
       "      <td>블로그\\n공지 목록\\n공지글\\n글 제목 작성일\\n(12)\\n공지 이병렬 저서 출간 ...</td>\n",
       "      <td>https://blog.naver.com/lby56/222104022581</td>\n",
       "    </tr>\n",
       "    <tr>\n",
       "      <th>...</th>\n",
       "      <td>...</td>\n",
       "      <td>...</td>\n",
       "    </tr>\n",
       "    <tr>\n",
       "      <th>4567</th>\n",
       "      <td>과거 커피라고는 자판기 커피가 전부인 줄 알았는데, 언젠가부터 프랜차이즈 커피 전문...</td>\n",
       "      <td>https://blog.naver.com/jongscokr/222092173601</td>\n",
       "    </tr>\n",
       "    <tr>\n",
       "      <th>4568</th>\n",
       "      <td>안녕하세요! 해커인사팀 채용 담당자입니다. :)\\n채용 과정에 돌입하면 취업 준비생...</td>\n",
       "      <td>https://blog.naver.com/hacademia/222093107681</td>\n",
       "    </tr>\n",
       "    <tr>\n",
       "      <th>4569</th>\n",
       "      <td>안동여행 _ 유네스코 세계문화유산 병산서원\\n#안동여행 을 계획한다면 꼭 들려봐야할...</td>\n",
       "      <td>https://blog.naver.com/outro10/222089932265</td>\n",
       "    </tr>\n",
       "    <tr>\n",
       "      <th>4570</th>\n",
       "      <td>#반타얀싼타페\\n반타얀 BANTAYAN아일랜드 TRAVEL 가이드!\\nTANON 해...</td>\n",
       "      <td>https://blog.naver.com/qtuj4iijy/222092730591</td>\n",
       "    </tr>\n",
       "    <tr>\n",
       "      <th>4571</th>\n",
       "      <td>(276쪽, 청소년, 어른)\\n막대한 지구의 쓰레기에 우주의 쓰레기까지.\\n우리 인...</td>\n",
       "      <td>https://blog.naver.com/young_bong/222091484607</td>\n",
       "    </tr>\n",
       "  </tbody>\n",
       "</table>\n",
       "<p>4572 rows × 2 columns</p>\n",
       "</div>"
      ],
      "text/plain": [
       "                                                     본문  \\\n",
       "0     추석연휴 가볼만한곳 야외 나들이\\n\"이글은 한국민속촌으로부터 금전적 지원을 받아 작...   \n",
       "1     복천박물관\\n부산 동래구 복천로 63\\n매일 09:00-18:00 (매주 마지막주 ...   \n",
       "2     오늘 아침에 일어나서 엄마랑 극적 화해하고 기분 좋았다. 그런데 기상은 늦었다 10...   \n",
       "3     호주 워킹홀리데이 상반기 시즌은 사진이 많이 없어서\\n포스팅 할게 많이 없다 ㅠㅠ\\...   \n",
       "4     블로그\\n공지 목록\\n공지글\\n글 제목 작성일\\n(12)\\n공지 이병렬 저서 출간 ...   \n",
       "...                                                 ...   \n",
       "4567  과거 커피라고는 자판기 커피가 전부인 줄 알았는데, 언젠가부터 프랜차이즈 커피 전문...   \n",
       "4568  안녕하세요! 해커인사팀 채용 담당자입니다. :)\\n채용 과정에 돌입하면 취업 준비생...   \n",
       "4569  안동여행 _ 유네스코 세계문화유산 병산서원\\n#안동여행 을 계획한다면 꼭 들려봐야할...   \n",
       "4570  #반타얀싼타페\\n반타얀 BANTAYAN아일랜드 TRAVEL 가이드!\\nTANON 해...   \n",
       "4571  (276쪽, 청소년, 어른)\\n막대한 지구의 쓰레기에 우주의 쓰레기까지.\\n우리 인...   \n",
       "\n",
       "                                                   url  \n",
       "0          https://blog.naver.com/jinidag/222104033228  \n",
       "1         https://blog.naver.com/taya2765/222104032204  \n",
       "2      https://blog.naver.com/yeonjae1213/222104028784  \n",
       "3     https://blog.naver.com/sunnybridge_/222104026647  \n",
       "4            https://blog.naver.com/lby56/222104022581  \n",
       "...                                                ...  \n",
       "4567     https://blog.naver.com/jongscokr/222092173601  \n",
       "4568     https://blog.naver.com/hacademia/222093107681  \n",
       "4569       https://blog.naver.com/outro10/222089932265  \n",
       "4570     https://blog.naver.com/qtuj4iijy/222092730591  \n",
       "4571    https://blog.naver.com/young_bong/222091484607  \n",
       "\n",
       "[4572 rows x 2 columns]"
      ]
     },
     "execution_count": 5,
     "metadata": {},
     "output_type": "execute_result"
    }
   ],
   "source": [
    "df = pd.read_csv(\"./나무문화/2020/나무문화_본문_2020_9월.csv\", encoding='UTF-8')\n",
    "df"
   ]
  },
  {
   "cell_type": "code",
   "execution_count": 6,
   "id": "0504acf1",
   "metadata": {},
   "outputs": [
    {
     "data": {
      "text/plain": [
       "4572"
      ]
     },
     "execution_count": 6,
     "metadata": {},
     "output_type": "execute_result"
    }
   ],
   "source": [
    "len(df)"
   ]
  },
  {
   "cell_type": "code",
   "execution_count": null,
   "id": "7bfeb2ec",
   "metadata": {
    "scrolled": true
   },
   "outputs": [],
   "source": [
    "#### 삭제/비공개 링크 인덱스도 매번 바꿔줄 것!!! ###\n",
    "# contents = []\n",
    "# old_blogs = []\n",
    "hide_link = []\n",
    "from IPython.display import clear_output\n",
    "from IPython import display # 램효율을 늘리기 위해 아웃풋 display를 지워줄 것.\n",
    "from ipywidgets import Output\n",
    "\n",
    "out = Output()\n",
    "display.display(out)\n",
    "\n",
    "for i in tqdm(blog_links[len(df):]):\n",
    "    content_dic = {'url' : [], '본문' : []}\n",
    "    content_dic['url'].append(i)\n",
    "    driver.get(i)\n",
    "    driver.implicitly_wait(10)\n",
    "    try:\n",
    "        driver.switch_to.frame(\"mainFrame\")\n",
    "    except TimeoutException as e:\n",
    "        print('시간 초과 오류 : ', e)\n",
    "        content_dic['본문'].append('수집불가능')\n",
    "    except UnexpectedAlertPresentException as e:\n",
    "    ### 이 오류 해결함. 에러 코드 파일에서 직접 임포트하면 된다!\n",
    "        print(e)\n",
    "        # 여기도 바꿔야 함\n",
    "        print('{}번째 게시글은 비공개로 전환되었거나 게시판이 바뀜.'.format(blog_links.index(i)))\n",
    "        hide_link.append(i)\n",
    "        time.sleep(1.5)\n",
    "        driver.switch_to.frame('mainFrame')\n",
    "    time.sleep(1)\n",
    "    try:\n",
    "        a = driver.find_element(By.CSS_SELECTOR,'div.se-main-container').text\n",
    "        content_dic['본문'].append(a)\n",
    "    # NoSuchElement 오류시 예외처리(구버전 블로그에 적용)\n",
    "    except NoSuchElementException:\n",
    "        a = driver.find_element(By.CSS_SELECTOR,'div#content-area').text\n",
    "        content_dic['본문'].append(a)\n",
    "        #old_blogs.append(i)\n",
    "    additional_df = pd.DataFrame(content_dic)\n",
    "    df = df.append(additional_df, ignore_index = True)\n",
    "    df.to_csv(\"./나무문화/2020/나무문화_본문_2020_9월.csv\", index=False, encoding='UTF-8')\n",
    "    df.to_excel(\"./나무문화/2020/나무문화_본문_2020_9월.xlsx\", index=False, encoding='UTF-8')\n",
    "    print(blog_links.index(i), df['본문'].tolist().index(a))\n",
    "    \n",
    "    display.clear_output(wait=True) # 출력지우기\n",
    "    # if blog_links.index(i) != df['본문'].tolist().index(a):\n",
    "    #     break\n"
   ]
  },
  {
   "cell_type": "code",
   "execution_count": null,
   "id": "febb389f",
   "metadata": {},
   "outputs": [],
   "source": [
    "df"
   ]
  },
  {
   "cell_type": "code",
   "execution_count": null,
   "id": "e35b9068",
   "metadata": {},
   "outputs": [],
   "source": [
    "print(len(contents))\n",
    "#print(len(old_blogs))\n",
    "print(len(hide_link))\n"
   ]
  }
 ],
 "metadata": {
  "kernelspec": {
   "display_name": "Python 3.8.0 ('NIFS')",
   "language": "python",
   "name": "python3"
  },
  "language_info": {
   "codemirror_mode": {
    "name": "ipython",
    "version": 3
   },
   "file_extension": ".py",
   "mimetype": "text/x-python",
   "name": "python",
   "nbconvert_exporter": "python",
   "pygments_lexer": "ipython3",
   "version": "3.8.0"
  },
  "vscode": {
   "interpreter": {
    "hash": "ef870b4feb386425c661b7ebcadef1c9affb03996f900964fa02bf03ee560957"
   }
  }
 },
 "nbformat": 4,
 "nbformat_minor": 5
}
