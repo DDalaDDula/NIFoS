{
 "cells": [
  {
   "cell_type": "markdown",
   "id": "db7b5304",
   "metadata": {},
   "source": [
    "# 본문 스크래핑"
   ]
  },
  {
   "cell_type": "code",
   "execution_count": 1,
   "id": "88f269e2",
   "metadata": {},
   "outputs": [],
   "source": [
    "import pandas as pd\n",
    "import numpy as np\n",
    "import time\n",
    "from tqdm.notebook import tqdm\n",
    "import random\n",
    "import urllib.request\n",
    "from selenium.common.exceptions import NoSuchElementException, UnexpectedAlertPresentException, TimeoutException\n",
    "from selenium import webdriver\n",
    "from selenium.webdriver.common.by import By\n",
    "# import chromedriver_auto\n",
    "\n",
    "\n",
    "# 웹드라이버 설정\n",
    "options = webdriver.ChromeOptions()\n",
    "options.add_experimental_option(\"excludeSwitches\", [\"enable-automation\"])\n",
    "options.add_experimental_option(\"useAutomationExtension\", False)\n",
    "options.add_argument('headless') # 창 숨기기\n"
   ]
  },
  {
   "cell_type": "code",
   "execution_count": 11,
   "id": "990973ce",
   "metadata": {},
   "outputs": [],
   "source": [
    "# from user_agent import generate_user_agent, generate_navigator\n",
    "\n",
    "# print(generate_user_agent(device_type='desktop'))\n",
    "# print(generate_user_agent(os='win', device_type='desktop'))\n",
    "\n",
    "# navigator = generate_navigator()\n",
    "\n",
    "# random_user = generate_user_agent(os='win', device_type='desktop')\n",
    "# print(random_user)"
   ]
  },
  {
   "cell_type": "code",
   "execution_count": 2,
   "id": "36c7dea6",
   "metadata": {},
   "outputs": [],
   "source": [
    "from selenium.webdriver.chrome.options import Options\n",
    "\n",
    "# chrome_options = Options()\n",
    "# chrome_options.add_argument(random_user)\n",
    "driver = webdriver.Chrome(executable_path ='./chromedriver_win32/chromedriver.exe',options = options)\n",
    "\n",
    "#driver.maximize_window()\n",
    "driver.get(\"https://www.naver.com/\")\n",
    "driver.implicitly_wait(10)\n"
   ]
  },
  {
   "cell_type": "code",
   "execution_count": 3,
   "id": "e4e6f57e",
   "metadata": {},
   "outputs": [
    {
     "name": "stdout",
     "output_type": "stream",
     "text": [
      "(987, 3) Index(['url', 'title', 'date'], dtype='object')\n"
     ]
    },
    {
     "data": {
      "text/html": [
       "<div>\n",
       "<style scoped>\n",
       "    .dataframe tbody tr th:only-of-type {\n",
       "        vertical-align: middle;\n",
       "    }\n",
       "\n",
       "    .dataframe tbody tr th {\n",
       "        vertical-align: top;\n",
       "    }\n",
       "\n",
       "    .dataframe thead th {\n",
       "        text-align: right;\n",
       "    }\n",
       "</style>\n",
       "<table border=\"1\" class=\"dataframe\">\n",
       "  <thead>\n",
       "    <tr style=\"text-align: right;\">\n",
       "      <th></th>\n",
       "      <th>url</th>\n",
       "      <th>title</th>\n",
       "      <th>date</th>\n",
       "    </tr>\n",
       "  </thead>\n",
       "  <tbody>\n",
       "    <tr>\n",
       "      <th>0</th>\n",
       "      <td>https://blog.naver.com/plumtreelee-/222888764192</td>\n",
       "      <td>2022 정조대왕 능행차 공동재현(서울 구간 축제소개/일정...</td>\n",
       "      <td>2022.09.30.</td>\n",
       "    </tr>\n",
       "    <tr>\n",
       "      <th>1</th>\n",
       "      <td>https://blog.naver.com/kimjihye525/222888763332</td>\n",
       "      <td>[전주야경] 덕진공원 &amp; 카페한올 - 가을밤 산책코스</td>\n",
       "      <td>2022.09.30.</td>\n",
       "    </tr>\n",
       "    <tr>\n",
       "      <th>2</th>\n",
       "      <td>https://blog.naver.com/iland2279/222888762836</td>\n",
       "      <td>가을의 문지기 9월의 아라반</td>\n",
       "      <td>2022.09.30.</td>\n",
       "    </tr>\n",
       "    <tr>\n",
       "      <th>3</th>\n",
       "      <td>https://blog.naver.com/aceyun88/222888760839</td>\n",
       "      <td>정남진 장흥 여행 특산물, 귀족호도박물관,귀족호도를 아시나요?</td>\n",
       "      <td>2022.09.30.</td>\n",
       "    </tr>\n",
       "    <tr>\n",
       "      <th>4</th>\n",
       "      <td>https://blog.naver.com/numain64/222888760244</td>\n",
       "      <td>살기 싫어질때 가는 여행, 순천으로 가세요 (시즌 2)</td>\n",
       "      <td>2022.09.30.</td>\n",
       "    </tr>\n",
       "    <tr>\n",
       "      <th>...</th>\n",
       "      <td>...</td>\n",
       "      <td>...</td>\n",
       "      <td>...</td>\n",
       "    </tr>\n",
       "    <tr>\n",
       "      <th>982</th>\n",
       "      <td>https://blog.naver.com/ka1186/222864429353</td>\n",
       "      <td>노원관광 이야기 - 서울 생활사 박물관 별관 (구치감동)</td>\n",
       "      <td>2022.09.01.</td>\n",
       "    </tr>\n",
       "    <tr>\n",
       "      <th>983</th>\n",
       "      <td>https://blog.naver.com/ge0307/222864429290</td>\n",
       "      <td>[애정맛집] 카페 - 커피를 찾아서 (광교웰빙국민체육센터)</td>\n",
       "      <td>2022.09.01.</td>\n",
       "    </tr>\n",
       "    <tr>\n",
       "      <th>984</th>\n",
       "      <td>https://blog.naver.com/grant2/222864428566</td>\n",
       "      <td>여주 가볼만한곳 강천섬 고목의 고혹함, 남한강...</td>\n",
       "      <td>2022.09.01.</td>\n",
       "    </tr>\n",
       "    <tr>\n",
       "      <th>985</th>\n",
       "      <td>https://blog.naver.com/tear911/222864426193</td>\n",
       "      <td>대구팔공산맛집 신숭겸유적지 옆 화덕촌 대구지묘점!</td>\n",
       "      <td>2022.09.01.</td>\n",
       "    </tr>\n",
       "    <tr>\n",
       "      <th>986</th>\n",
       "      <td>https://blog.naver.com/jung10512/222864425951</td>\n",
       "      <td>오르 조수능 공부일기 25일차- 몸이 아픈 날 ㅜㅜ</td>\n",
       "      <td>2022.09.01.</td>\n",
       "    </tr>\n",
       "  </tbody>\n",
       "</table>\n",
       "<p>987 rows × 3 columns</p>\n",
       "</div>"
      ],
      "text/plain": [
       "                                                  url  \\\n",
       "0    https://blog.naver.com/plumtreelee-/222888764192   \n",
       "1     https://blog.naver.com/kimjihye525/222888763332   \n",
       "2       https://blog.naver.com/iland2279/222888762836   \n",
       "3        https://blog.naver.com/aceyun88/222888760839   \n",
       "4        https://blog.naver.com/numain64/222888760244   \n",
       "..                                                ...   \n",
       "982        https://blog.naver.com/ka1186/222864429353   \n",
       "983        https://blog.naver.com/ge0307/222864429290   \n",
       "984        https://blog.naver.com/grant2/222864428566   \n",
       "985       https://blog.naver.com/tear911/222864426193   \n",
       "986     https://blog.naver.com/jung10512/222864425951   \n",
       "\n",
       "                                   title         date  \n",
       "0    2022 정조대왕 능행차 공동재현(서울 구간 축제소개/일정...  2022.09.30.  \n",
       "1          [전주야경] 덕진공원 & 카페한올 - 가을밤 산책코스  2022.09.30.  \n",
       "2                        가을의 문지기 9월의 아라반  2022.09.30.  \n",
       "3     정남진 장흥 여행 특산물, 귀족호도박물관,귀족호도를 아시나요?  2022.09.30.  \n",
       "4         살기 싫어질때 가는 여행, 순천으로 가세요 (시즌 2)  2022.09.30.  \n",
       "..                                   ...          ...  \n",
       "982      노원관광 이야기 - 서울 생활사 박물관 별관 (구치감동)  2022.09.01.  \n",
       "983     [애정맛집] 카페 - 커피를 찾아서 (광교웰빙국민체육센터)  2022.09.01.  \n",
       "984         여주 가볼만한곳 강천섬 고목의 고혹함, 남한강...  2022.09.01.  \n",
       "985          대구팔공산맛집 신숭겸유적지 옆 화덕촌 대구지묘점!  2022.09.01.  \n",
       "986         오르 조수능 공부일기 25일차- 몸이 아픈 날 ㅜㅜ  2022.09.01.  \n",
       "\n",
       "[987 rows x 3 columns]"
      ]
     },
     "execution_count": 3,
     "metadata": {},
     "output_type": "execute_result"
    }
   ],
   "source": [
    "url_df = pd.read_csv(\"./나무문화/2022/나무문화_링크_2022_9월.csv\", encoding='UTF-8')\n",
    "print(url_df.shape, url_df.columns)\n",
    "url_df\n"
   ]
  },
  {
   "cell_type": "code",
   "execution_count": 4,
   "id": "892b0519",
   "metadata": {},
   "outputs": [
    {
     "name": "stdout",
     "output_type": "stream",
     "text": [
      "987\n"
     ]
    }
   ],
   "source": [
    "blog_links = url_df['url'].to_list()\n",
    "print(len(blog_links))\n"
   ]
  },
  {
   "cell_type": "code",
   "execution_count": 7,
   "id": "865be6f4",
   "metadata": {},
   "outputs": [
    {
     "name": "stderr",
     "output_type": "stream",
     "text": [
      "c:\\Users\\user\\anaconda3\\envs\\NIFS\\lib\\site-packages\\pandas\\util\\_decorators.py:211: FutureWarning: the 'encoding' keyword is deprecated and will be removed in a future version. Please take steps to stop the use of 'encoding'\n",
      "  return func(*args, **kwargs)\n"
     ]
    }
   ],
   "source": [
    "df = pd.DataFrame(columns = ['url','본문']) # 처음 만들때를 위한 코드라 주석처리 하였음.\n",
    "df.to_csv(\"./나무문화/2022/나무문화_본문_2022_9월.csv\", index=False, encoding='UTF-8')\n",
    "df.to_excel(\"./나무문화/2022/나무문화_본문_2022_9월.xlsx\", index=False, encoding='UTF-8')"
   ]
  },
  {
   "cell_type": "code",
   "execution_count": 9,
   "id": "7e6127c6",
   "metadata": {},
   "outputs": [
    {
     "data": {
      "text/html": [
       "<div>\n",
       "<style scoped>\n",
       "    .dataframe tbody tr th:only-of-type {\n",
       "        vertical-align: middle;\n",
       "    }\n",
       "\n",
       "    .dataframe tbody tr th {\n",
       "        vertical-align: top;\n",
       "    }\n",
       "\n",
       "    .dataframe thead th {\n",
       "        text-align: right;\n",
       "    }\n",
       "</style>\n",
       "<table border=\"1\" class=\"dataframe\">\n",
       "  <thead>\n",
       "    <tr style=\"text-align: right;\">\n",
       "      <th></th>\n",
       "      <th>url</th>\n",
       "      <th>본문</th>\n",
       "    </tr>\n",
       "  </thead>\n",
       "  <tbody>\n",
       "  </tbody>\n",
       "</table>\n",
       "</div>"
      ],
      "text/plain": [
       "Empty DataFrame\n",
       "Columns: [url, 본문]\n",
       "Index: []"
      ]
     },
     "execution_count": 9,
     "metadata": {},
     "output_type": "execute_result"
    }
   ],
   "source": [
    "df = pd.read_csv(\"./나무문화/2022/나무문화_본문_2022_9월.csv\", encoding='UTF-8')\n",
    "df"
   ]
  },
  {
   "cell_type": "code",
   "execution_count": 10,
   "id": "0504acf1",
   "metadata": {},
   "outputs": [
    {
     "data": {
      "text/plain": [
       "0"
      ]
     },
     "execution_count": 10,
     "metadata": {},
     "output_type": "execute_result"
    }
   ],
   "source": [
    "len(df)"
   ]
  },
  {
   "cell_type": "code",
   "execution_count": 18,
   "id": "7009d198",
   "metadata": {},
   "outputs": [
    {
     "data": {
      "text/plain": [
       "url      https://blog.naver.com/dltnwls5397/222077716819\n",
       "title                   [향수] 프로소디 런던 PROSODY LONDON. com\n",
       "date                                         2020.09.02.\n",
       "Name: 11354, dtype: object"
      ]
     },
     "execution_count": 18,
     "metadata": {},
     "output_type": "execute_result"
    }
   ],
   "source": [
    "url_df.iloc[11354]"
   ]
  },
  {
   "cell_type": "code",
   "execution_count": 19,
   "id": "48ecfa11",
   "metadata": {},
   "outputs": [
    {
     "data": {
      "text/plain": [
       "본문     4\n",
       "url    0\n",
       "dtype: int64"
      ]
     },
     "execution_count": 19,
     "metadata": {},
     "output_type": "execute_result"
    }
   ],
   "source": [
    "df.isnull().sum()"
   ]
  },
  {
   "cell_type": "code",
   "execution_count": 20,
   "id": "3d3aad2b",
   "metadata": {},
   "outputs": [],
   "source": [
    "# 이건 필요할때 쓰면 됨. 블로그가 닫혔거나 삭제되었을때 빈 본문을 가진 데이터프레임 추가.\n",
    "# content_dic = {'url' : [\"https://blog.naver.com/fbi8864/221998085418\"], '본문' : [None]}\n",
    "# additional_df = pd.DataFrame(content_dic)\n",
    "# df = df.append(additional_df, ignore_index = True)"
   ]
  },
  {
   "cell_type": "code",
   "execution_count": 11,
   "id": "7bfeb2ec",
   "metadata": {
    "scrolled": true
   },
   "outputs": [
    {
     "name": "stdout",
     "output_type": "stream",
     "text": [
      "986 986\n"
     ]
    },
    {
     "name": "stderr",
     "output_type": "stream",
     "text": [
      "C:\\Users\\user\\AppData\\Local\\Temp\\ipykernel_13108\\3810532493.py:42: FutureWarning: The frame.append method is deprecated and will be removed from pandas in a future version. Use pandas.concat instead.\n",
      "  df = df.append(additional_df, ignore_index = True)\n"
     ]
    }
   ],
   "source": [
    "#### 삭제/비공개 링크 인덱스도 매번 바꿔줄 것!!! ###\n",
    "# contents = []\n",
    "# old_blogs = []\n",
    "hide_link = []\n",
    "waitsec = random.uniform(4,4.5)\n",
    "\n",
    "from IPython.display import clear_output\n",
    "from IPython import display # 램효율을 늘리기 위해 아웃풋 display를 지워줄 것.\n",
    "from ipywidgets import Output\n",
    "\n",
    "out = Output()\n",
    "display.display(out)\n",
    "\n",
    "for i in tqdm(blog_links[len(df):]):\n",
    "    content_dic = {'url' : [], '본문' : []}\n",
    "    content_dic['url'].append(i)\n",
    "    driver.get(i)\n",
    "    driver.implicitly_wait(10)\n",
    "    time.sleep(waitsec)\n",
    "    try:\n",
    "        driver.switch_to.frame(\"mainFrame\")\n",
    "    except TimeoutException as e:\n",
    "        print('시간 초과 오류 : ', e)\n",
    "        content_dic['본문'].append('수집불가능')\n",
    "    except UnexpectedAlertPresentException as e:\n",
    "    ### 이 오류 해결함. 에러 코드 파일에서 직접 임포트하면 된다!\n",
    "        print(e)\n",
    "        # 여기도 바꿔야 함\n",
    "        print('{}번째 게시글은 비공개로 전환되었거나 게시판이 바뀜.'.format(blog_links.index(i)))\n",
    "        hide_link.append(i)\n",
    "        time.sleep(1.5)\n",
    "        driver.switch_to.frame('mainFrame')\n",
    "    try:\n",
    "        a = driver.find_element(By.CSS_SELECTOR,'div.se-main-container').text\n",
    "        content_dic['본문'].append(a)\n",
    "    # NoSuchElement 오류시 예외처리(구버전 블로그에 적용)\n",
    "    except NoSuchElementException:\n",
    "        a = driver.find_element(By.CSS_SELECTOR,'div#content-area').text\n",
    "        content_dic['본문'].append(a)\n",
    "        #old_blogs.append(i)\n",
    "    additional_df = pd.DataFrame(content_dic)\n",
    "    df = df.append(additional_df, ignore_index = True)\n",
    "    df.to_csv(\"./나무문화/2022/나무문화_본문_2022_9월.csv\", index=False, encoding='UTF-8')\n",
    "    #df.to_excel(\"./나무문화/2022/나무문화_본문_2022_9월.xlsx\", index=False, encoding='UTF-8')\n",
    "    print(blog_links.index(i), df['본문'].tolist().index(a))\n",
    "    \n",
    "    display.clear_output(wait=True) # 출력지우기\n",
    "    # if blog_links.index(i) != df['본문'].tolist().index(a):\n",
    "    #     break\n"
   ]
  },
  {
   "cell_type": "code",
   "execution_count": null,
   "id": "febb389f",
   "metadata": {},
   "outputs": [],
   "source": [
    "df"
   ]
  },
  {
   "cell_type": "code",
   "execution_count": null,
   "id": "e35b9068",
   "metadata": {},
   "outputs": [],
   "source": [
    "print(len(contents))\n",
    "#print(len(old_blogs))\n",
    "print(len(hide_link))\n"
   ]
  }
 ],
 "metadata": {
  "kernelspec": {
   "display_name": "Python 3.8.0 ('NIFS')",
   "language": "python",
   "name": "python3"
  },
  "language_info": {
   "codemirror_mode": {
    "name": "ipython",
    "version": 3
   },
   "file_extension": ".py",
   "mimetype": "text/x-python",
   "name": "python",
   "nbconvert_exporter": "python",
   "pygments_lexer": "ipython3",
   "version": "3.8.0"
  },
  "vscode": {
   "interpreter": {
    "hash": "ef870b4feb386425c661b7ebcadef1c9affb03996f900964fa02bf03ee560957"
   }
  }
 },
 "nbformat": 4,
 "nbformat_minor": 5
}
