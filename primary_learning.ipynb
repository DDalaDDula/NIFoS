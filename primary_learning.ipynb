{
 "cells": [
  {
   "attachments": {},
   "cell_type": "markdown",
   "metadata": {},
   "source": [
    "## 1차 긍정/부정/중립 3진분류(Ternary_classification)"
   ]
  },
  {
   "cell_type": "code",
   "execution_count": 16,
   "metadata": {},
   "outputs": [],
   "source": [
    "import numpy as np\n",
    "import pandas as pd\n",
    "from tqdm import tqdm\n",
    "from learning import CustomDataset, dataset_split, load_model\n",
    "from learning import train_with_early_stopping, train_fn, eval_fn, predict_label\n",
    "from learning.visualization import sent_length_vis, plot_training_progress\n",
    "from transformers import ElectraTokenizer, ElectraForSequenceClassification\n",
    "\n",
    "# KOELECTRA 모델 경로, tokenizer와 model이 같은 위치에 있음\n",
    "modelpath = \"./koelectra-base-v3-discriminator\""
   ]
  },
  {
   "cell_type": "code",
   "execution_count": null,
   "metadata": {},
   "outputs": [],
   "source": [
    "# 데이터 로드\n",
    "dataset = pd.read_csv(\"./a.csv\", encoding='UTF-8')\n",
    "dataset.dropna(axis=0, inplace=True) # 결측치 제거\n",
    "dataset.drop_duplicates(inplace=True) # 중복 제거\n",
    "dataset.reset_index(drop=True, inplace=True) # 인덱스 리셋\n",
    "\n",
    "print(dataset.isnull().sum()) # 결측치 확인\n",
    "print(dataset['sentiment'].value_counts()) # 라벨 갯수분포 확인\n",
    "dataset"
   ]
  },
  {
   "cell_type": "code",
   "execution_count": 3,
   "metadata": {},
   "outputs": [],
   "source": [
    "# 문장과 라벨 리스트화\n",
    "sentences = dataset['sentence'].values\n",
    "labels = dataset['sentiment'].values\n",
    "\n",
    "# 라벨을 One-Hot 인코딩으로 변환\n",
    "label_map = {'부정': 0, '중립': 1,'긍정': 2}\n",
    "labels = np.array([label_map[label] for label in labels])"
   ]
  },
  {
   "cell_type": "code",
   "execution_count": null,
   "metadata": {},
   "outputs": [],
   "source": [
    "# 문장 토크나이징 길이 시각화, 원하는 비율을 커버하는 최적의 padding길이 return\n",
    "padding_length = sent_length_vis(sentences, modelpath, 0.95) # 문장 리스트, 토크나이저 경로, 원하는 비율\n",
    "print(\"최적의 padding_length는 '%s' 입니다.\"%padding_length)"
   ]
  },
  {
   "cell_type": "code",
   "execution_count": null,
   "metadata": {},
   "outputs": [],
   "source": [
    "train_dataloader, val_dataloader = dataset_split(padding_length, sentences, labels, modelpath, 0.2)"
   ]
  },
  {
   "cell_type": "code",
   "execution_count": null,
   "metadata": {},
   "outputs": [],
   "source": [
    "model, optimizer, loss_fn, device = load_model(modelpath, 3) # 모델경로, label수 - (필수) 모델 dict 경로, 옵티마이저 dict 경로, 모델 체크포인트 경로 - (선택사항)"
   ]
  },
  {
   "cell_type": "code",
   "execution_count": null,
   "metadata": {},
   "outputs": [],
   "source": [
    "train_losses_epoch, train_accs_epoch, val_losses_epoch, val_accs_epoch = train_with_early_stopping(train_dataloader, val_dataloader, model, optimizer, loss_fn, device, 50,  patience=3)"
   ]
  },
  {
   "cell_type": "code",
   "execution_count": null,
   "metadata": {},
   "outputs": [],
   "source": [
    "plot_training_progress(train_losses_epoch, train_accs_epoch, val_losses_epoch, val_accs_epoch)"
   ]
  },
  {
   "attachments": {},
   "cell_type": "markdown",
   "metadata": {},
   "source": [
    "## 3진 분류 학습된 모델로 직접 예측하기"
   ]
  },
  {
   "cell_type": "code",
   "execution_count": 11,
   "metadata": {},
   "outputs": [],
   "source": [
    "df = pd.read_csv(\"./사랑이별_커뮤니티_챗봇데이터.csv\", encoding='UTF-8')\n",
    "korean_sentences = df['sentence'].tolist() # 한국어 문장 리스트"
   ]
  },
  {
   "cell_type": "code",
   "execution_count": null,
   "metadata": {},
   "outputs": [],
   "source": [
    "model, optimizer, loss_fn, device = load_model(modelpath, 3, model_state_path=\"./model_state/best_model_state_epoch50.pt\") # 체크포인트나 모델 dict, optimizer dict 로드"
   ]
  },
  {
   "cell_type": "code",
   "execution_count": null,
   "metadata": {},
   "outputs": [],
   "source": [
    "# 예측 라벨 출력\n",
    "emotion_labels = {0:'부정', 1:'중립', 2:'긍정'}\n",
    "predicted_label = [emotion_labels[predict_label(korean_sentence, model, modelpath, device)] for korean_sentence in tqdm(korean_sentences)]\n",
    "df['label'] = predicted_label\n",
    "df"
   ]
  },
  {
   "cell_type": "code",
   "execution_count": null,
   "metadata": {},
   "outputs": [],
   "source": [
    "df['label'].value_counts()"
   ]
  }
 ],
 "metadata": {
  "kernelspec": {
   "display_name": "Python 3.10.7 64-bit",
   "language": "python",
   "name": "python3"
  },
  "language_info": {
   "codemirror_mode": {
    "name": "ipython",
    "version": 3
   },
   "file_extension": ".py",
   "mimetype": "text/x-python",
   "name": "python",
   "nbconvert_exporter": "python",
   "pygments_lexer": "ipython3",
   "version": "3.10.7"
  },
  "orig_nbformat": 4,
  "vscode": {
   "interpreter": {
    "hash": "fb4569285eef3a3450cb62085a5b1e0da4bce0af555edc33dcf29baf3acc1368"
   }
  }
 },
 "nbformat": 4,
 "nbformat_minor": 2
}
