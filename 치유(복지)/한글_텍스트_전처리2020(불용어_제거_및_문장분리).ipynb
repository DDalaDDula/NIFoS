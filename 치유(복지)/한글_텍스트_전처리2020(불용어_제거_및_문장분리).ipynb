{
 "cells": [
  {
   "cell_type": "code",
   "execution_count": 3,
   "metadata": {},
   "outputs": [
    {
     "data": {
      "application/vnd.jupyter.widget-view+json": {
       "model_id": "59bd1f237ad648c78b5e2bb939fd1c54",
       "version_major": 2,
       "version_minor": 0
      },
      "text/plain": [
       "Output()"
      ]
     },
     "metadata": {},
     "output_type": "display_data"
    }
   ],
   "source": [
    "#- 패키지 임포트\n",
    "import pandas as pd\n",
    "import numpy as np\n",
    "#import emoji # 이모지 제거용\n",
    "import re\n",
    "from soynlp.normalizer import * #반복되는 자음 제거\n",
    "import time\n",
    "from tqdm.notebook import tqdm #for문 진행률 \n",
    "from time import sleep #for문 진행 시간 \n",
    "from kiwipiepy import Kiwi #문장 분리2\n",
    "\n",
    "from IPython.display import clear_output\n",
    "from IPython import display # 램효율을 늘리기 위해 아웃풋 display를 지워줄 것.\n",
    "from ipywidgets import Output\n",
    "\n",
    "out = Output()\n",
    "display.display(out)\n"
   ]
  },
  {
   "cell_type": "code",
   "execution_count": 15,
   "metadata": {},
   "outputs": [],
   "source": [
    "''' 파일 불러오기 '''\n",
    "df = pd.read_csv(\"./산림복지/2020산림복지_본문_노이즈 제거.txt\", sep='\\t', encoding='UTF-8')\n",
    "# print(df.shape, type(df)) # 파일 구조 및 컬럼명 확인용\n",
    "df['org_idx']= df.index # 인덱스 column 만들기: 문장 분리할 때 사용함\n",
    "# print(df.columns) # org_idx 제대로 추가됐나 단순 확인용.\n",
    "post_list = list(df['본문']) #자연어 전처리를 위해 본문을 리스트 형태로"
   ]
  },
  {
   "cell_type": "code",
   "execution_count": 16,
   "metadata": {},
   "outputs": [],
   "source": [
    "''' 불용어 제거 '''\n",
    "# post_list 양이 많을 경우 불용어 제거 중에 오류 나면 다시 리스트로 만드는 데 오래 걸려서 카피하는 것임. 안 하고 post_list로 진행해도 됨.\n",
    "post_list2 = post_list.copy()\n",
    "for i in range(len(post_list2)):\n",
    "    post_list2[i] = re.sub('\\n', ' ', string=str(post_list2[i])) # 줄바꿈을 띄어쓰기 하나로\n",
    "    post_list2[i] = re.compile('[^|ㄱ-ㅎ|ㅏ-ㅣ|A-Z|a-z|0-9|가-힣]+').sub(' ',post_list2[i])\n",
    "    post_list2[i] = repeat_normalize(post_list2[i], num_repeats=1)\n",
    "\t# ↑ ㅋㅋㅋ, ㅎㅎㅎ 등의 의미 없는 자음 삭제. num_repeats가 1이면 반복 글자 중 1개만 남기고 2면 2개만 남김.\n",
    "    post_list2[i] = re.sub(r\"^\\s+|\\s+$\", \"\", post_list2[i]) # 문서 앞뒤 공백 제거\n",
    "    post_list2[i] = post_list2[i].split() # 문서 내 공백(1개 이상) 기준으로 자르기\n",
    "    post_list2[i] = ' '.join(post_list2[i]) # 공백 기준으로 나뉜 문서를 다시 1개의 공백을 두고 붙임.\n",
    "\t# ↑ 문서 내 다중 공백을 지우기 위함.]\n",
    "\n",
    "df['cleaning'] = pd.DataFrame(post_list2) #불용어 제거된 본문을 데이터 프레임으로"
   ]
  },
  {
   "cell_type": "code",
   "execution_count": null,
   "metadata": {},
   "outputs": [],
   "source": [
    "df"
   ]
  },
  {
   "cell_type": "code",
   "execution_count": null,
   "metadata": {},
   "outputs": [],
   "source": [
    "''' 문장 분리 '''\n",
    "kiwi = Kiwi() #kss보다 속도 빠름 \n",
    "split_list = [kiwi.split_into_sents(df['cleaning'][i]) for i in tqdm(range(len(df['cleaning'])))]\n",
    "df['split_list'] = split_list\n",
    "df"
   ]
  },
  {
   "cell_type": "code",
   "execution_count": 19,
   "metadata": {},
   "outputs": [],
   "source": [
    "df.to_csv(\"2020산림복지_세이브포인트.csv\", index=False, encoding='UTF-8')"
   ]
  },
  {
   "cell_type": "code",
   "execution_count": 20,
   "metadata": {},
   "outputs": [
    {
     "data": {
      "text/html": [
       "<div>\n",
       "<style scoped>\n",
       "    .dataframe tbody tr th:only-of-type {\n",
       "        vertical-align: middle;\n",
       "    }\n",
       "\n",
       "    .dataframe tbody tr th {\n",
       "        vertical-align: top;\n",
       "    }\n",
       "\n",
       "    .dataframe thead th {\n",
       "        text-align: right;\n",
       "    }\n",
       "</style>\n",
       "<table border=\"1\" class=\"dataframe\">\n",
       "  <thead>\n",
       "    <tr style=\"text-align: right;\">\n",
       "      <th></th>\n",
       "      <th>url</th>\n",
       "      <th>title</th>\n",
       "      <th>date</th>\n",
       "      <th>본문</th>\n",
       "      <th>org_idx</th>\n",
       "      <th>cleaning</th>\n",
       "      <th>split_list</th>\n",
       "    </tr>\n",
       "  </thead>\n",
       "  <tbody>\n",
       "    <tr>\n",
       "      <th>0</th>\n",
       "      <td>https://blog.naver.com/naturalperso/222192091578</td>\n",
       "      <td>2020년에도 열심히 살은 나의 삶</td>\n",
       "      <td>2020.12.31.</td>\n",
       "      <td>이제는\\n열심히\\n부지런히\\n최선을\\n잘\\n봉사 하는 삶을\\n내려 놓아도\\n잘 산다...</td>\n",
       "      <td>0</td>\n",
       "      <td>이제는 열심히 부지런히 최선을 잘 봉사 하는 삶을 내려 놓아도 잘 산다고 해서 대충...</td>\n",
       "      <td>[Sentence(text='이제는 열심히 부지런히 최선을 잘 봉사 하는 삶을 내려...</td>\n",
       "    </tr>\n",
       "    <tr>\n",
       "      <th>1</th>\n",
       "      <td>https://blog.naver.com/abc112212/222192059763</td>\n",
       "      <td>위장환경주의 ; '그린'으로 포장한 기업의 실체</td>\n",
       "      <td>2020.12.31.</td>\n",
       "      <td>플라스틱 쓰레기 문제, 육식을 위한 가축산업으로 인한 문제, 산림 파괴, 석유 누출...</td>\n",
       "      <td>1</td>\n",
       "      <td>플라스틱 쓰레기 문제 육식을 위한 가축산업으로 인한 문제 산림 파괴 석유 누출로 인...</td>\n",
       "      <td>[Sentence(text='플라스틱 쓰레기 문제 육식을 위한 가축산업으로 인한 문...</td>\n",
       "    </tr>\n",
       "    <tr>\n",
       "      <th>2</th>\n",
       "      <td>https://blog.naver.com/yrangal/222191919215</td>\n",
       "      <td>[濟 經]</td>\n",
       "      <td>2020.12.31.</td>\n",
       "      <td>석가 공자 예수는 성인이자 현인이기도 하다.\\n이 분들은 중생을 구제하는 빼어난 지...</td>\n",
       "      <td>2</td>\n",
       "      <td>석가 공자 예수는 성인이자 현인이기도 하다 이 분들은 중생을 구제하는 빼어난 지혜가...</td>\n",
       "      <td>[Sentence(text='석가 공자 예수는 성인이자 현인이기도 하다', star...</td>\n",
       "    </tr>\n",
       "    <tr>\n",
       "      <th>3</th>\n",
       "      <td>https://blog.naver.com/jtwon21/222191901961</td>\n",
       "      <td>2020 통영거제환경연합 올해의 환경뉴스는?</td>\n",
       "      <td>2020.12.31.</td>\n",
       "      <td>2020년 통영거제환경운동연합 선정 ‘올해의 환경 뉴스’\\n#통영거제환경운동연합은 ...</td>\n",
       "      <td>3</td>\n",
       "      <td>2020년 통영거제환경운동연합 선정 올해의 환경 뉴스 통영거제환경운동연합은 2020...</td>\n",
       "      <td>[Sentence(text='2020년 통영거제환경운동연합 선정 올해의 환경 뉴스 ...</td>\n",
       "    </tr>\n",
       "    <tr>\n",
       "      <th>4</th>\n",
       "      <td>https://blog.naver.com/inhyangin/222191824736</td>\n",
       "      <td>전남도, 산림행정종합평가... 광양․보성·해남/세계 산림치...</td>\n",
       "      <td>2020.12.31.</td>\n",
       "      <td>블로그\\n[전남] 7,530개의 글\\n[전남]\\n목록열기\\n전남도, 산림행정종합평가...</td>\n",
       "      <td>4</td>\n",
       "      <td>블로그 전남 7 530개의 글 전남 목록열기 전남도 산림행정종합평가 담양군 최우수 ...</td>\n",
       "      <td>[Sentence(text='블로그 전남 7 530개의 글 전남 목록열기 전남도 산...</td>\n",
       "    </tr>\n",
       "    <tr>\n",
       "      <th>...</th>\n",
       "      <td>...</td>\n",
       "      <td>...</td>\n",
       "      <td>...</td>\n",
       "      <td>...</td>\n",
       "      <td>...</td>\n",
       "      <td>...</td>\n",
       "      <td>...</td>\n",
       "    </tr>\n",
       "    <tr>\n",
       "      <th>6410</th>\n",
       "      <td>https://blog.naver.com/nature_school/221756708673</td>\n",
       "      <td>산림교육프로그램 인증 DONE!</td>\n",
       "      <td>2020.01.01.</td>\n",
       "      <td>[홍유릉 자연학교]\\n홍유릉 자연학교가\\n산림교육프로그램 2가지를\\n동시에 인증받았...</td>\n",
       "      <td>6410</td>\n",
       "      <td>홍유릉 자연학교 홍유릉 자연학교가 산림교육프로그램 2가지를 동시에 인증받았습니다 D...</td>\n",
       "      <td>[Sentence(text='홍유릉 자연학교 홍유릉 자연학교가 산림교육프로그램 2가...</td>\n",
       "    </tr>\n",
       "    <tr>\n",
       "      <th>6411</th>\n",
       "      <td>https://blog.naver.com/inhyangin/221756499038</td>\n",
       "      <td>광양시, 2020년 1월 월간 업무보고_3 [조순익 기자]</td>\n",
       "      <td>2020.01.01.</td>\n",
       "      <td>블로그\\n[공지/날씨/오늘] 3,834개의 글\\n[공지/날씨/오늘]\\n목록열기\\n광...</td>\n",
       "      <td>6411</td>\n",
       "      <td>블로그 공지 날씨 오늘 3 834개의 글 공지 날씨 오늘 목록열기 광양시 2020년...</td>\n",
       "      <td>[Sentence(text='블로그 공지 날씨 오늘 3 834개의 글 공지 날씨 오...</td>\n",
       "    </tr>\n",
       "    <tr>\n",
       "      <th>6412</th>\n",
       "      <td>https://blog.naver.com/humanism1968/221756321414</td>\n",
       "      <td>(( 주간투자전략 )) 삼성전자 잠정실적(-) 예상으로 시장 및...</td>\n",
       "      <td>2020.01.01.</td>\n",
       "      <td>블로그\\n공지 목록\\n공지글\\n글 제목 작성일\\n공지 [ 주식 이야기 ] 시장이야기...</td>\n",
       "      <td>6412</td>\n",
       "      <td>블로그 공지 목록 공지글 글 제목 작성일 공지 주식 이야기 시장이야기 시장흐름 종목...</td>\n",
       "      <td>[Sentence(text='블로그 공지 목록 공지글 글 제목 작성일 공지 주식 이...</td>\n",
       "    </tr>\n",
       "    <tr>\n",
       "      <th>6413</th>\n",
       "      <td>https://blog.naver.com/yneconomic/221756088888</td>\n",
       "      <td>경북도정, 땀과 열정으로 공고한 성장 기틀 마련</td>\n",
       "      <td>2020.01.01.</td>\n",
       "      <td>지난 26일, 이철우도지사는 도청에서 기자간담회를 열고, 2019년 도정의 주요성과...</td>\n",
       "      <td>6413</td>\n",
       "      <td>지난 26일 이철우도지사는 도청에서 기자간담회를 열고 2019년 도정의 주요성과와 ...</td>\n",
       "      <td>[Sentence(text='지난 26일 이철우도지사는 도청에서 기자간담회를 열고 ...</td>\n",
       "    </tr>\n",
       "    <tr>\n",
       "      <th>6414</th>\n",
       "      <td>https://blog.naver.com/yneconomic/221756087218</td>\n",
       "      <td>【기획특집】윤경희 청송군수, 2019년의 소회와 2020년...</td>\n",
       "      <td>2020.01.01.</td>\n",
       "      <td>청송군은 밝아온 새해에 빛나는 청송을 이룩하고자 2020년 올해를 새로운 도약의 원...</td>\n",
       "      <td>6414</td>\n",
       "      <td>청송군은 밝아온 새해에 빛나는 청송을 이룩하고자 2020년 올해를 새로운 도약의 원...</td>\n",
       "      <td>[Sentence(text='청송군은 밝아온 새해에 빛나는 청송을 이룩하고자 202...</td>\n",
       "    </tr>\n",
       "  </tbody>\n",
       "</table>\n",
       "<p>6415 rows × 7 columns</p>\n",
       "</div>"
      ],
      "text/plain": [
       "                                                    url  \\\n",
       "0      https://blog.naver.com/naturalperso/222192091578   \n",
       "1         https://blog.naver.com/abc112212/222192059763   \n",
       "2           https://blog.naver.com/yrangal/222191919215   \n",
       "3           https://blog.naver.com/jtwon21/222191901961   \n",
       "4         https://blog.naver.com/inhyangin/222191824736   \n",
       "...                                                 ...   \n",
       "6410  https://blog.naver.com/nature_school/221756708673   \n",
       "6411      https://blog.naver.com/inhyangin/221756499038   \n",
       "6412   https://blog.naver.com/humanism1968/221756321414   \n",
       "6413     https://blog.naver.com/yneconomic/221756088888   \n",
       "6414     https://blog.naver.com/yneconomic/221756087218   \n",
       "\n",
       "                                       title         date  \\\n",
       "0                        2020년에도 열심히 살은 나의 삶  2020.12.31.   \n",
       "1                 위장환경주의 ; '그린'으로 포장한 기업의 실체  2020.12.31.   \n",
       "2                                      [濟 經]  2020.12.31.   \n",
       "3                   2020 통영거제환경연합 올해의 환경뉴스는?  2020.12.31.   \n",
       "4        전남도, 산림행정종합평가... 광양․보성·해남/세계 산림치...  2020.12.31.   \n",
       "...                                      ...          ...   \n",
       "6410                       산림교육프로그램 인증 DONE!  2020.01.01.   \n",
       "6411        광양시, 2020년 1월 월간 업무보고_3 [조순익 기자]  2020.01.01.   \n",
       "6412  (( 주간투자전략 )) 삼성전자 잠정실적(-) 예상으로 시장 및...  2020.01.01.   \n",
       "6413              경북도정, 땀과 열정으로 공고한 성장 기틀 마련  2020.01.01.   \n",
       "6414     【기획특집】윤경희 청송군수, 2019년의 소회와 2020년...  2020.01.01.   \n",
       "\n",
       "                                                     본문  org_idx  \\\n",
       "0     이제는\\n열심히\\n부지런히\\n최선을\\n잘\\n봉사 하는 삶을\\n내려 놓아도\\n잘 산다...        0   \n",
       "1     플라스틱 쓰레기 문제, 육식을 위한 가축산업으로 인한 문제, 산림 파괴, 석유 누출...        1   \n",
       "2     석가 공자 예수는 성인이자 현인이기도 하다.\\n이 분들은 중생을 구제하는 빼어난 지...        2   \n",
       "3     2020년 통영거제환경운동연합 선정 ‘올해의 환경 뉴스’\\n#통영거제환경운동연합은 ...        3   \n",
       "4     블로그\\n[전남] 7,530개의 글\\n[전남]\\n목록열기\\n전남도, 산림행정종합평가...        4   \n",
       "...                                                 ...      ...   \n",
       "6410  [홍유릉 자연학교]\\n홍유릉 자연학교가\\n산림교육프로그램 2가지를\\n동시에 인증받았...     6410   \n",
       "6411  블로그\\n[공지/날씨/오늘] 3,834개의 글\\n[공지/날씨/오늘]\\n목록열기\\n광...     6411   \n",
       "6412  블로그\\n공지 목록\\n공지글\\n글 제목 작성일\\n공지 [ 주식 이야기 ] 시장이야기...     6412   \n",
       "6413  지난 26일, 이철우도지사는 도청에서 기자간담회를 열고, 2019년 도정의 주요성과...     6413   \n",
       "6414  청송군은 밝아온 새해에 빛나는 청송을 이룩하고자 2020년 올해를 새로운 도약의 원...     6414   \n",
       "\n",
       "                                               cleaning  \\\n",
       "0     이제는 열심히 부지런히 최선을 잘 봉사 하는 삶을 내려 놓아도 잘 산다고 해서 대충...   \n",
       "1     플라스틱 쓰레기 문제 육식을 위한 가축산업으로 인한 문제 산림 파괴 석유 누출로 인...   \n",
       "2     석가 공자 예수는 성인이자 현인이기도 하다 이 분들은 중생을 구제하는 빼어난 지혜가...   \n",
       "3     2020년 통영거제환경운동연합 선정 올해의 환경 뉴스 통영거제환경운동연합은 2020...   \n",
       "4     블로그 전남 7 530개의 글 전남 목록열기 전남도 산림행정종합평가 담양군 최우수 ...   \n",
       "...                                                 ...   \n",
       "6410  홍유릉 자연학교 홍유릉 자연학교가 산림교육프로그램 2가지를 동시에 인증받았습니다 D...   \n",
       "6411  블로그 공지 날씨 오늘 3 834개의 글 공지 날씨 오늘 목록열기 광양시 2020년...   \n",
       "6412  블로그 공지 목록 공지글 글 제목 작성일 공지 주식 이야기 시장이야기 시장흐름 종목...   \n",
       "6413  지난 26일 이철우도지사는 도청에서 기자간담회를 열고 2019년 도정의 주요성과와 ...   \n",
       "6414  청송군은 밝아온 새해에 빛나는 청송을 이룩하고자 2020년 올해를 새로운 도약의 원...   \n",
       "\n",
       "                                             split_list  \n",
       "0     [Sentence(text='이제는 열심히 부지런히 최선을 잘 봉사 하는 삶을 내려...  \n",
       "1     [Sentence(text='플라스틱 쓰레기 문제 육식을 위한 가축산업으로 인한 문...  \n",
       "2     [Sentence(text='석가 공자 예수는 성인이자 현인이기도 하다', star...  \n",
       "3     [Sentence(text='2020년 통영거제환경운동연합 선정 올해의 환경 뉴스 ...  \n",
       "4     [Sentence(text='블로그 전남 7 530개의 글 전남 목록열기 전남도 산...  \n",
       "...                                                 ...  \n",
       "6410  [Sentence(text='홍유릉 자연학교 홍유릉 자연학교가 산림교육프로그램 2가...  \n",
       "6411  [Sentence(text='블로그 공지 날씨 오늘 3 834개의 글 공지 날씨 오...  \n",
       "6412  [Sentence(text='블로그 공지 목록 공지글 글 제목 작성일 공지 주식 이...  \n",
       "6413  [Sentence(text='지난 26일 이철우도지사는 도청에서 기자간담회를 열고 ...  \n",
       "6414  [Sentence(text='청송군은 밝아온 새해에 빛나는 청송을 이룩하고자 202...  \n",
       "\n",
       "[6415 rows x 7 columns]"
      ]
     },
     "execution_count": 20,
     "metadata": {},
     "output_type": "execute_result"
    }
   ],
   "source": [
    "df = pd.read_csv(\"2020산림복지_세이브포인트.csv\", encoding='UTF-8')\n",
    "df"
   ]
  },
  {
   "cell_type": "code",
   "execution_count": 8,
   "metadata": {},
   "outputs": [],
   "source": [
    "# ''' 분리된 문장 한 개를 한 row로 '''\n",
    "# df2 = pd.DataFrame(columns = ['split_str', 'org_idx']) #용량을 줄이기 위해 새로운 데이터프레임으로\n",
    "\n",
    "# ''' 문장 데이터 프레임 저장 '''\n",
    "# df2.to_csv(\"./산림복지/2020산림복지_본문_전처리.csv\", index=False, encoding='UTF-8')"
   ]
  },
  {
   "cell_type": "code",
   "execution_count": 21,
   "metadata": {},
   "outputs": [
    {
     "data": {
      "text/html": [
       "<div>\n",
       "<style scoped>\n",
       "    .dataframe tbody tr th:only-of-type {\n",
       "        vertical-align: middle;\n",
       "    }\n",
       "\n",
       "    .dataframe tbody tr th {\n",
       "        vertical-align: top;\n",
       "    }\n",
       "\n",
       "    .dataframe thead th {\n",
       "        text-align: right;\n",
       "    }\n",
       "</style>\n",
       "<table border=\"1\" class=\"dataframe\">\n",
       "  <thead>\n",
       "    <tr style=\"text-align: right;\">\n",
       "      <th></th>\n",
       "      <th>split_str</th>\n",
       "      <th>org_idx</th>\n",
       "    </tr>\n",
       "  </thead>\n",
       "  <tbody>\n",
       "  </tbody>\n",
       "</table>\n",
       "</div>"
      ],
      "text/plain": [
       "Empty DataFrame\n",
       "Columns: [split_str, org_idx]\n",
       "Index: []"
      ]
     },
     "execution_count": 21,
     "metadata": {},
     "output_type": "execute_result"
    }
   ],
   "source": [
    "df2 = pd.read_csv(\"./산림복지/2020산림복지_본문_전처리.csv\", encoding='UTF-8')\n",
    "df2"
   ]
  },
  {
   "cell_type": "code",
   "execution_count": 22,
   "metadata": {},
   "outputs": [],
   "source": [
    "df_1 = df[:1000]\n",
    "df_2 = df[1000:2000]\n",
    "df_3 = df[2000:3000]\n",
    "df_4 = df[3000:4000]\n",
    "df_5 = df[4000:5000]\n",
    "df_6 = df[5000:]"
   ]
  },
  {
   "cell_type": "code",
   "execution_count": 23,
   "metadata": {},
   "outputs": [
    {
     "data": {
      "text/plain": [
       "RangeIndex(start=0, stop=1000, step=1)"
      ]
     },
     "execution_count": 23,
     "metadata": {},
     "output_type": "execute_result"
    }
   ],
   "source": [
    "df_1['split_list'].index"
   ]
  },
  {
   "cell_type": "code",
   "execution_count": 24,
   "metadata": {},
   "outputs": [
    {
     "name": "stdout",
     "output_type": "stream",
     "text": [
      "[1]\n"
     ]
    },
    {
     "ename": "KeyboardInterrupt",
     "evalue": "",
     "output_type": "error",
     "traceback": [
      "\u001b[1;31m---------------------------------------------------------------------------\u001b[0m",
      "\u001b[1;31mKeyboardInterrupt\u001b[0m                         Traceback (most recent call last)",
      "Cell \u001b[1;32mIn[24], line 8\u001b[0m\n\u001b[0;32m      6\u001b[0m         df2 \u001b[39m=\u001b[39m pd\u001b[39m.\u001b[39mconcat([df2,split_df])\n\u001b[0;32m      7\u001b[0m         df2\u001b[39m.\u001b[39mreset_index(drop\u001b[39m=\u001b[39m\u001b[39mTrue\u001b[39;00m, inplace\u001b[39m=\u001b[39m\u001b[39mTrue\u001b[39;00m)\n\u001b[1;32m----> 8\u001b[0m         display\u001b[39m.\u001b[39;49mclear_output(wait\u001b[39m=\u001b[39;49m\u001b[39mTrue\u001b[39;49;00m) \u001b[39m# 출력지우기\u001b[39;00m\n\u001b[0;32m     10\u001b[0m df2\u001b[39m.\u001b[39mreset_index(drop\u001b[39m=\u001b[39m\u001b[39mTrue\u001b[39;00m, inplace\u001b[39m=\u001b[39m\u001b[39mTrue\u001b[39;00m)\n\u001b[0;32m     11\u001b[0m df2\n",
      "File \u001b[1;32mc:\\Users\\user\\anaconda3\\envs\\NIFS\\lib\\site-packages\\IPython\\core\\display_functions.py:386\u001b[0m, in \u001b[0;36mclear_output\u001b[1;34m(wait)\u001b[0m\n\u001b[0;32m    384\u001b[0m \u001b[39mfrom\u001b[39;00m \u001b[39mIPython\u001b[39;00m\u001b[39m.\u001b[39;00m\u001b[39mcore\u001b[39;00m\u001b[39m.\u001b[39;00m\u001b[39minteractiveshell\u001b[39;00m \u001b[39mimport\u001b[39;00m InteractiveShell\n\u001b[0;32m    385\u001b[0m \u001b[39mif\u001b[39;00m InteractiveShell\u001b[39m.\u001b[39minitialized():\n\u001b[1;32m--> 386\u001b[0m     InteractiveShell\u001b[39m.\u001b[39;49minstance()\u001b[39m.\u001b[39;49mdisplay_pub\u001b[39m.\u001b[39;49mclear_output(wait)\n\u001b[0;32m    387\u001b[0m \u001b[39melse\u001b[39;00m:\n\u001b[0;32m    388\u001b[0m     \u001b[39mprint\u001b[39m(\u001b[39m'\u001b[39m\u001b[39m\\033\u001b[39;00m\u001b[39m[2K\u001b[39m\u001b[39m\\r\u001b[39;00m\u001b[39m'\u001b[39m, end\u001b[39m=\u001b[39m\u001b[39m'\u001b[39m\u001b[39m'\u001b[39m)\n",
      "File \u001b[1;32mc:\\Users\\user\\anaconda3\\envs\\NIFS\\lib\\site-packages\\ipykernel\\zmqshell.py:147\u001b[0m, in \u001b[0;36mZMQDisplayPublisher.clear_output\u001b[1;34m(self, wait)\u001b[0m\n\u001b[0;32m    136\u001b[0m \u001b[39m\u001b[39m\u001b[39m\"\"\"Clear output associated with the current execution (cell).\u001b[39;00m\n\u001b[0;32m    137\u001b[0m \n\u001b[0;32m    138\u001b[0m \u001b[39mParameters\u001b[39;00m\n\u001b[1;32m   (...)\u001b[0m\n\u001b[0;32m    144\u001b[0m \n\u001b[0;32m    145\u001b[0m \u001b[39m\"\"\"\u001b[39;00m\n\u001b[0;32m    146\u001b[0m content \u001b[39m=\u001b[39m \u001b[39mdict\u001b[39m(wait\u001b[39m=\u001b[39mwait)\n\u001b[1;32m--> 147\u001b[0m \u001b[39mself\u001b[39;49m\u001b[39m.\u001b[39;49m_flush_streams()\n\u001b[0;32m    148\u001b[0m \u001b[39mself\u001b[39m\u001b[39m.\u001b[39msession\u001b[39m.\u001b[39msend(\n\u001b[0;32m    149\u001b[0m     \u001b[39mself\u001b[39m\u001b[39m.\u001b[39mpub_socket,\n\u001b[0;32m    150\u001b[0m     \u001b[39m\"\u001b[39m\u001b[39mclear_output\u001b[39m\u001b[39m\"\u001b[39m,\n\u001b[1;32m   (...)\u001b[0m\n\u001b[0;32m    153\u001b[0m     ident\u001b[39m=\u001b[39m\u001b[39mself\u001b[39m\u001b[39m.\u001b[39mtopic,\n\u001b[0;32m    154\u001b[0m )\n",
      "File \u001b[1;32mc:\\Users\\user\\anaconda3\\envs\\NIFS\\lib\\site-packages\\ipykernel\\zmqshell.py:67\u001b[0m, in \u001b[0;36mZMQDisplayPublisher._flush_streams\u001b[1;34m(self)\u001b[0m\n\u001b[0;32m     65\u001b[0m \u001b[39m\u001b[39m\u001b[39m\"\"\"flush IO Streams prior to display\"\"\"\u001b[39;00m\n\u001b[0;32m     66\u001b[0m sys\u001b[39m.\u001b[39mstdout\u001b[39m.\u001b[39mflush()\n\u001b[1;32m---> 67\u001b[0m sys\u001b[39m.\u001b[39;49mstderr\u001b[39m.\u001b[39;49mflush()\n",
      "File \u001b[1;32mc:\\Users\\user\\anaconda3\\envs\\NIFS\\lib\\site-packages\\ipykernel\\iostream.py:483\u001b[0m, in \u001b[0;36mOutStream.flush\u001b[1;34m(self)\u001b[0m\n\u001b[0;32m    472\u001b[0m \u001b[39m\u001b[39m\u001b[39m\"\"\"trigger actual zmq send\u001b[39;00m\n\u001b[0;32m    473\u001b[0m \n\u001b[0;32m    474\u001b[0m \u001b[39msend will happen in the background thread\u001b[39;00m\n\u001b[0;32m    475\u001b[0m \u001b[39m\"\"\"\u001b[39;00m\n\u001b[0;32m    476\u001b[0m \u001b[39mif\u001b[39;00m (\n\u001b[0;32m    477\u001b[0m     \u001b[39mself\u001b[39m\u001b[39m.\u001b[39mpub_thread\n\u001b[0;32m    478\u001b[0m     \u001b[39mand\u001b[39;00m \u001b[39mself\u001b[39m\u001b[39m.\u001b[39mpub_thread\u001b[39m.\u001b[39mthread \u001b[39mis\u001b[39;00m \u001b[39mnot\u001b[39;00m \u001b[39mNone\u001b[39;00m\n\u001b[1;32m   (...)\u001b[0m\n\u001b[0;32m    481\u001b[0m ):\n\u001b[0;32m    482\u001b[0m     \u001b[39m# request flush on the background thread\u001b[39;00m\n\u001b[1;32m--> 483\u001b[0m     \u001b[39mself\u001b[39;49m\u001b[39m.\u001b[39;49mpub_thread\u001b[39m.\u001b[39;49mschedule(\u001b[39mself\u001b[39;49m\u001b[39m.\u001b[39;49m_flush)\n\u001b[0;32m    484\u001b[0m     \u001b[39m# wait for flush to actually get through, if we can.\u001b[39;00m\n\u001b[0;32m    485\u001b[0m     evt \u001b[39m=\u001b[39m threading\u001b[39m.\u001b[39mEvent()\n",
      "File \u001b[1;32mc:\\Users\\user\\anaconda3\\envs\\NIFS\\lib\\site-packages\\ipykernel\\iostream.py:210\u001b[0m, in \u001b[0;36mIOPubThread.schedule\u001b[1;34m(self, f)\u001b[0m\n\u001b[0;32m    208\u001b[0m     \u001b[39mself\u001b[39m\u001b[39m.\u001b[39m_events\u001b[39m.\u001b[39mappend(f)\n\u001b[0;32m    209\u001b[0m     \u001b[39m# wake event thread (message content is ignored)\u001b[39;00m\n\u001b[1;32m--> 210\u001b[0m     \u001b[39mself\u001b[39;49m\u001b[39m.\u001b[39;49m_event_pipe\u001b[39m.\u001b[39;49msend(\u001b[39mb\u001b[39;49m\u001b[39m\"\u001b[39;49m\u001b[39m\"\u001b[39;49m)\n\u001b[0;32m    211\u001b[0m \u001b[39melse\u001b[39;00m:\n\u001b[0;32m    212\u001b[0m     f()\n",
      "File \u001b[1;32mc:\\Users\\user\\anaconda3\\envs\\NIFS\\lib\\site-packages\\zmq\\sugar\\socket.py:696\u001b[0m, in \u001b[0;36mSocket.send\u001b[1;34m(self, data, flags, copy, track, routing_id, group)\u001b[0m\n\u001b[0;32m    689\u001b[0m         data \u001b[39m=\u001b[39m zmq\u001b[39m.\u001b[39mFrame(\n\u001b[0;32m    690\u001b[0m             data,\n\u001b[0;32m    691\u001b[0m             track\u001b[39m=\u001b[39mtrack,\n\u001b[0;32m    692\u001b[0m             copy\u001b[39m=\u001b[39mcopy \u001b[39mor\u001b[39;00m \u001b[39mNone\u001b[39;00m,\n\u001b[0;32m    693\u001b[0m             copy_threshold\u001b[39m=\u001b[39m\u001b[39mself\u001b[39m\u001b[39m.\u001b[39mcopy_threshold,\n\u001b[0;32m    694\u001b[0m         )\n\u001b[0;32m    695\u001b[0m     data\u001b[39m.\u001b[39mgroup \u001b[39m=\u001b[39m group\n\u001b[1;32m--> 696\u001b[0m \u001b[39mreturn\u001b[39;00m \u001b[39msuper\u001b[39;49m()\u001b[39m.\u001b[39;49msend(data, flags\u001b[39m=\u001b[39;49mflags, copy\u001b[39m=\u001b[39;49mcopy, track\u001b[39m=\u001b[39;49mtrack)\n",
      "File \u001b[1;32mzmq/backend/cython/socket.pyx:742\u001b[0m, in \u001b[0;36mzmq.backend.cython.socket.Socket.send\u001b[1;34m()\u001b[0m\n",
      "File \u001b[1;32mzmq/backend/cython/socket.pyx:789\u001b[0m, in \u001b[0;36mzmq.backend.cython.socket.Socket.send\u001b[1;34m()\u001b[0m\n",
      "File \u001b[1;32mzmq/backend/cython/socket.pyx:250\u001b[0m, in \u001b[0;36mzmq.backend.cython.socket._send_copy\u001b[1;34m()\u001b[0m\n",
      "File \u001b[1;32mc:\\Users\\user\\anaconda3\\envs\\NIFS\\lib\\site-packages\\zmq\\backend\\cython\\checkrc.pxd:13\u001b[0m, in \u001b[0;36mzmq.backend.cython.checkrc._check_rc\u001b[1;34m()\u001b[0m\n",
      "\u001b[1;31mKeyboardInterrupt\u001b[0m: "
     ]
    }
   ],
   "source": [
    "for i in tqdm(df_1['split_list'].index):\n",
    "    for j in range(len(df_1['split_list'][i])):\n",
    "        split_str= {'split_str': df_1['split_list'][i][j][0], 'org_idx': [i]}\n",
    "        print(split_str['org_idx'])\n",
    "        split_df= pd.DataFrame(split_str)\n",
    "        df2 = pd.concat([df2,split_df])\n",
    "        df2.reset_index(drop=True, inplace=True)\n",
    "        display.clear_output(wait=True) # 출력지우기\n",
    "\n",
    "df2.reset_index(drop=True, inplace=True)\n",
    "df2"
   ]
  },
  {
   "cell_type": "code",
   "execution_count": null,
   "metadata": {},
   "outputs": [],
   "source": [
    "for i in tqdm(df_2['split_list'].index):\n",
    "    for j in range(len(df_2['split_list'][i])):\n",
    "        split_str= {'split_str': df_2['split_list'][i][j][0], 'org_idx': [i]}\n",
    "        print(split_str['org_idx'])\n",
    "        split_df= pd.DataFrame(split_str)\n",
    "        df2 = pd.concat([df2,split_df])\n",
    "        df2.reset_index(drop=True, inplace=True)\n",
    "        df2.to_csv(\"./산림복지/2018산림복지_본문_불용어제거_및_문장분리.csv\", index=False, encoding='UTF-8')\n",
    "        display.clear_output(wait=True) # 출력지우기\n",
    "\n",
    "df2.reset_index(drop=True, inplace=True)\n",
    "df2"
   ]
  },
  {
   "cell_type": "code",
   "execution_count": 52,
   "metadata": {},
   "outputs": [
    {
     "name": "stdout",
     "output_type": "stream",
     "text": [
      "[2999]\n"
     ]
    }
   ],
   "source": [
    "for i in tqdm(df_3['split_list'].index):\n",
    "    for j in range(len(df_3['split_list'][i])):\n",
    "        split_str= {'split_str': df_3['split_list'][i][j][0], 'org_idx': [i]}\n",
    "        print(split_str['org_idx'])\n",
    "        split_df= pd.DataFrame(split_str)\n",
    "        df2 = pd.concat([df2,split_df])\n",
    "        df2.reset_index(drop=True, inplace=True)\n",
    "        df2.to_csv(\"./산림복지/2018산림복지_본문_불용어제거_및_문장분리.csv\", index=False, encoding='UTF-8')\n",
    "        display.clear_output(wait=True) # 출력지우기\n",
    "\n",
    "df2.reset_index(drop=True, inplace=True)"
   ]
  },
  {
   "cell_type": "code",
   "execution_count": null,
   "metadata": {},
   "outputs": [],
   "source": [
    "for i in tqdm(df_4['split_list'].index):\n",
    "    for j in range(len(df_4['split_list'][i])):\n",
    "        split_str= {'split_str': df_4['split_list'][i][j][0], 'org_idx': [i]}\n",
    "        print(split_str['org_idx'])\n",
    "        split_df= pd.DataFrame(split_str)\n",
    "        df2 = pd.concat([df2,split_df])\n",
    "        df2.reset_index(drop=True, inplace=True)\n",
    "        df2.to_csv(\"./산림복지/2018산림복지_본문_불용어제거_및_문장분리.csv\", index=False, encoding='UTF-8')\n",
    "        display.clear_output(wait=True) # 출력지우기\n",
    "\n",
    "df2.reset_index(drop=True, inplace=True)\n",
    "df2"
   ]
  },
  {
   "cell_type": "code",
   "execution_count": null,
   "metadata": {},
   "outputs": [],
   "source": [
    "for i in tqdm(df_5['split_list'].index):\n",
    "    for j in range(len(df_5['split_list'][i])):\n",
    "        split_str= {'split_str': df_5['split_list'][i][j][0], 'org_idx': [i]}\n",
    "        print(split_str['org_idx'])\n",
    "        split_df= pd.DataFrame(split_str)\n",
    "        df2 = pd.concat([df2,split_df])\n",
    "        df2.reset_index(drop=True, inplace=True)\n",
    "        display.clear_output(wait=True) # 출력지우기\n",
    "\n",
    "df2.reset_index(drop=True, inplace=True)\n",
    "df2"
   ]
  },
  {
   "cell_type": "code",
   "execution_count": 21,
   "metadata": {},
   "outputs": [],
   "source": [
    "df2.to_csv(\"./산림복지/2018산림복지_본문_불용어제거_및_문장분리.csv\", index=False, encoding='UTF-8')"
   ]
  },
  {
   "cell_type": "code",
   "execution_count": 14,
   "metadata": {},
   "outputs": [
    {
     "data": {
      "text/html": [
       "<div>\n",
       "<style scoped>\n",
       "    .dataframe tbody tr th:only-of-type {\n",
       "        vertical-align: middle;\n",
       "    }\n",
       "\n",
       "    .dataframe tbody tr th {\n",
       "        vertical-align: top;\n",
       "    }\n",
       "\n",
       "    .dataframe thead th {\n",
       "        text-align: right;\n",
       "    }\n",
       "</style>\n",
       "<table border=\"1\" class=\"dataframe\">\n",
       "  <thead>\n",
       "    <tr style=\"text-align: right;\">\n",
       "      <th></th>\n",
       "      <th>split_str</th>\n",
       "      <th>org_idx</th>\n",
       "    </tr>\n",
       "  </thead>\n",
       "  <tbody>\n",
       "    <tr>\n",
       "      <th>0</th>\n",
       "      <td>블로그 momo 5개의 글 momo 목록열기 영어명언 모음입니다</td>\n",
       "      <td>0</td>\n",
       "    </tr>\n",
       "    <tr>\n",
       "      <th>1</th>\n",
       "      <td>momo 2018 12 31 19 52 https blog naver com omj...</td>\n",
       "      <td>0</td>\n",
       "    </tr>\n",
       "    <tr>\n",
       "      <th>2</th>\n",
       "      <td>An enemy generally says and believes what he w...</td>\n",
       "      <td>0</td>\n",
       "    </tr>\n",
       "    <tr>\n",
       "      <th>3</th>\n",
       "      <td>True love is the joy of life 진실한 사랑은 인생의 환희다</td>\n",
       "      <td>0</td>\n",
       "    </tr>\n",
       "    <tr>\n",
       "      <th>4</th>\n",
       "      <td>Carpe diem 현재를 즐겨라</td>\n",
       "      <td>0</td>\n",
       "    </tr>\n",
       "    <tr>\n",
       "      <th>...</th>\n",
       "      <td>...</td>\n",
       "      <td>...</td>\n",
       "    </tr>\n",
       "    <tr>\n",
       "      <th>110259</th>\n",
       "      <td>김종욱 이사장은 상대적으로 산림복지서비스 기회가 적은 취약계층에게 숲을 통한 소통 ...</td>\n",
       "      <td>3998</td>\n",
       "    </tr>\n",
       "    <tr>\n",
       "      <th>110260</th>\n",
       "      <td>종합지 대한뉴스 등록번호 서울가361호 크리에이티브 코리아 등록번호 강서라00175...</td>\n",
       "      <td>3998</td>\n",
       "    </tr>\n",
       "    <tr>\n",
       "      <th>110261</th>\n",
       "      <td>Tag 저작권자 대한뉴스 무단전재 및 재배포 금지 공감 2 이 글에 공감한 블로거 ...</td>\n",
       "      <td>3998</td>\n",
       "    </tr>\n",
       "    <tr>\n",
       "      <th>110262</th>\n",
       "      <td>세월속에 세월속에 139개의 글 세월속에 목록열기 목민심서12편72조 0414 세월...</td>\n",
       "      <td>3999</td>\n",
       "    </tr>\n",
       "    <tr>\n",
       "      <th>110263</th>\n",
       "      <td>예로써 응대 문보 공문서관리 공납 공물납부 왕역 업무차출 제5장 애민6조 양자진애관...</td>\n",
       "      <td>3999</td>\n",
       "    </tr>\n",
       "  </tbody>\n",
       "</table>\n",
       "<p>110264 rows × 2 columns</p>\n",
       "</div>"
      ],
      "text/plain": [
       "                                                split_str  org_idx\n",
       "0                     블로그 momo 5개의 글 momo 목록열기 영어명언 모음입니다        0\n",
       "1       momo 2018 12 31 19 52 https blog naver com omj...        0\n",
       "2       An enemy generally says and believes what he w...        0\n",
       "3            True love is the joy of life 진실한 사랑은 인생의 환희다        0\n",
       "4                                      Carpe diem 현재를 즐겨라        0\n",
       "...                                                   ...      ...\n",
       "110259  김종욱 이사장은 상대적으로 산림복지서비스 기회가 적은 취약계층에게 숲을 통한 소통 ...     3998\n",
       "110260  종합지 대한뉴스 등록번호 서울가361호 크리에이티브 코리아 등록번호 강서라00175...     3998\n",
       "110261  Tag 저작권자 대한뉴스 무단전재 및 재배포 금지 공감 2 이 글에 공감한 블로거 ...     3998\n",
       "110262  세월속에 세월속에 139개의 글 세월속에 목록열기 목민심서12편72조 0414 세월...     3999\n",
       "110263  예로써 응대 문보 공문서관리 공납 공물납부 왕역 업무차출 제5장 애민6조 양자진애관...     3999\n",
       "\n",
       "[110264 rows x 2 columns]"
      ]
     },
     "execution_count": 14,
     "metadata": {},
     "output_type": "execute_result"
    }
   ],
   "source": [
    "df2 # 3999까지 한거."
   ]
  },
  {
   "cell_type": "code",
   "execution_count": null,
   "metadata": {},
   "outputs": [],
   "source": [
    "#- 패키지 임포트\n",
    "import requests\n",
    "import json\n",
    "import pandas as pd\n",
    "from tqdm.notebook import tqdm\n",
    "import re\n",
    "\n",
    "\n",
    "'''맞춤법 검사 함수'''\n",
    "def ko_grammar(sent):\n",
    "    global correct_list ; correct_list= []\n",
    "    #for i in tqdm(range(len(a))):\n",
    "    for i in tqdm(range(len(sent))):\n",
    "        try:                                                                               \n",
    "            response = requests.post('http://164.125.7.61/speller/results', data={'text1': sent[i]})  # 맞춤법 검사 요청 (requests)    \n",
    "            data = response.text.split('data = [', 1)[-1].rsplit('];', 1)[0] # 응답에서 필요한 내용 추출 (html 파싱)\n",
    "            data = json.loads(data) # 파이썬 딕셔너리 형식으로 변환\n",
    "            orgStr = [err['orgStr'] for err in data['errInfo']] #오류가 담긴 errinfo에서 고쳐야 되는 단어 리스트로 추출 \n",
    "            correct = [err['candWord'] for err in data['errInfo']] #고쳐진 단어도 리스트로 추출\n",
    "            splited = sent[i] \n",
    "\n",
    "            '''여러 개로 고쳐졌을 때 맨 처음 단어만 선택'''\n",
    "            for j in range(len(correct)):\n",
    "                if '|'in correct[j]: #여러 개로 고쳐질 경우 문자열이 '|'로 구분되어 있음\n",
    "                    com = re.compile('\\|')\n",
    "                    many = com.search(correct[j])\n",
    "                    correct[j]= correct [j][0:(many.span()[0])]\n",
    "                '''틀린 문장 고치기'''   \n",
    "                splited = splited.replace(orgStr[j], correct[j])\n",
    "\n",
    "        except:      \n",
    "            splited = sent[i]\n",
    "\n",
    "        correct_list.append(splited)\n",
    "\n",
    "# 데이터 프레임 나누기\n",
    "df2_1 = df2[:5000]\n",
    "df2_2 = df2[5000:10000]\n",
    "df2_3 = df2[10000:15000]\n",
    "\n",
    "df2_n = df2[:]\n",
    "\n",
    "'''인덱스 0부터'''\n",
    "df2_1.reset_index(drop=True, inplace=True)\n",
    "df2_2.reset_index(drop=True, inplace=True)\n",
    "df2_3.reset_index(drop=True, inplace=True)\n",
    "\n",
    "df2_n.reset_index(drop=True, inplace=True)\n",
    "\n",
    "\n",
    "'''맞춤법 검사하기''' \n",
    "ko_grammar(df2_1['split_str'])\n",
    "df2_n['correct_str'] = correct_list\n",
    "df2_n.to_csv('df2_n.txt', encoding='UTF-8')"
   ]
  }
 ],
 "metadata": {
  "kernelspec": {
   "display_name": "Python 3.8.0 ('NIFS')",
   "language": "python",
   "name": "python3"
  },
  "language_info": {
   "codemirror_mode": {
    "name": "ipython",
    "version": 3
   },
   "file_extension": ".py",
   "mimetype": "text/x-python",
   "name": "python",
   "nbconvert_exporter": "python",
   "pygments_lexer": "ipython3",
   "version": "3.8.0"
  },
  "orig_nbformat": 4,
  "vscode": {
   "interpreter": {
    "hash": "ef870b4feb386425c661b7ebcadef1c9affb03996f900964fa02bf03ee560957"
   }
  }
 },
 "nbformat": 4,
 "nbformat_minor": 2
}
