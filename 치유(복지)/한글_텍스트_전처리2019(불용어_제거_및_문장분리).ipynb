{
 "cells": [
  {
   "cell_type": "code",
   "execution_count": 1,
   "metadata": {},
   "outputs": [
    {
     "data": {
      "application/vnd.jupyter.widget-view+json": {
       "model_id": "9289fcc373ac42d4adb26a38157bf5f8",
       "version_major": 2,
       "version_minor": 0
      },
      "text/plain": [
       "Output()"
      ]
     },
     "metadata": {},
     "output_type": "display_data"
    }
   ],
   "source": [
    "#- 패키지 임포트\n",
    "import pandas as pd\n",
    "import numpy as np\n",
    "#import emoji # 이모지 제거용\n",
    "import re\n",
    "from soynlp.normalizer import * #반복되는 자음 제거\n",
    "import time\n",
    "from tqdm.notebook import tqdm #for문 진행률 \n",
    "from time import sleep #for문 진행 시간 \n",
    "from kiwipiepy import Kiwi #문장 분리2\n",
    "\n",
    "from IPython.display import clear_output\n",
    "from IPython import display # 램효율을 늘리기 위해 아웃풋 display를 지워줄 것.\n",
    "from ipywidgets import Output\n",
    "\n",
    "out = Output()\n",
    "display.display(out)\n"
   ]
  },
  {
   "cell_type": "code",
   "execution_count": 2,
   "metadata": {},
   "outputs": [],
   "source": [
    "''' 파일 불러오기 '''\n",
    "df = pd.read_csv(\"./산림복지/2019산림복지_본문_노이즈 제거.txt\", sep='\\t', encoding='UTF-8')\n",
    "# print(df.shape, type(df)) # 파일 구조 및 컬럼명 확인용\n",
    "df['org_idx']= df.index # 인덱스 column 만들기: 문장 분리할 때 사용함\n",
    "# print(df.columns) # org_idx 제대로 추가됐나 단순 확인용.\n",
    "post_list = list(df['본문']) #자연어 전처리를 위해 본문을 리스트 형태로"
   ]
  },
  {
   "cell_type": "code",
   "execution_count": 3,
   "metadata": {},
   "outputs": [],
   "source": [
    "''' 불용어 제거 '''\n",
    "# post_list 양이 많을 경우 불용어 제거 중에 오류 나면 다시 리스트로 만드는 데 오래 걸려서 카피하는 것임. 안 하고 post_list로 진행해도 됨.\n",
    "post_list2 = post_list.copy()\n",
    "for i in range(len(post_list2)):\n",
    "    post_list2[i] = re.sub('\\n', ' ', string=str(post_list2[i])) # 줄바꿈을 띄어쓰기 하나로\n",
    "    post_list2[i] = re.compile('[^|ㄱ-ㅎ|ㅏ-ㅣ|A-Z|a-z|0-9|가-힣]+').sub(' ',post_list2[i])\n",
    "    post_list2[i] = repeat_normalize(post_list2[i], num_repeats=1)\n",
    "\t# ↑ ㅋㅋㅋ, ㅎㅎㅎ 등의 의미 없는 자음 삭제. num_repeats가 1이면 반복 글자 중 1개만 남기고 2면 2개만 남김.\n",
    "    post_list2[i] = re.sub(r\"^\\s+|\\s+$\", \"\", post_list2[i]) # 문서 앞뒤 공백 제거\n",
    "    post_list2[i] = post_list2[i].split() # 문서 내 공백(1개 이상) 기준으로 자르기\n",
    "    post_list2[i] = ' '.join(post_list2[i]) # 공백 기준으로 나뉜 문서를 다시 1개의 공백을 두고 붙임.\n",
    "\t# ↑ 문서 내 다중 공백을 지우기 위함.]\n",
    "\n",
    "df['cleaning'] = pd.DataFrame(post_list2) #불용어 제거된 본문을 데이터 프레임으로"
   ]
  },
  {
   "cell_type": "code",
   "execution_count": null,
   "metadata": {},
   "outputs": [],
   "source": [
    "''' 문장 분리 '''\n",
    "kiwi = Kiwi() #kss보다 속도 빠름 \n",
    "split_list = [kiwi.split_into_sents(df['cleaning'][i]) for i in tqdm(range(len(df['cleaning'])))]\n",
    "df['split_list'] = split_list\n",
    "df"
   ]
  },
  {
   "cell_type": "code",
   "execution_count": 2,
   "metadata": {},
   "outputs": [
    {
     "data": {
      "text/html": [
       "<div>\n",
       "<style scoped>\n",
       "    .dataframe tbody tr th:only-of-type {\n",
       "        vertical-align: middle;\n",
       "    }\n",
       "\n",
       "    .dataframe tbody tr th {\n",
       "        vertical-align: top;\n",
       "    }\n",
       "\n",
       "    .dataframe thead th {\n",
       "        text-align: right;\n",
       "    }\n",
       "</style>\n",
       "<table border=\"1\" class=\"dataframe\">\n",
       "  <thead>\n",
       "    <tr style=\"text-align: right;\">\n",
       "      <th></th>\n",
       "      <th>url</th>\n",
       "      <th>title</th>\n",
       "      <th>date</th>\n",
       "      <th>본문</th>\n",
       "      <th>org_idx</th>\n",
       "      <th>cleaning</th>\n",
       "      <th>split_list</th>\n",
       "    </tr>\n",
       "  </thead>\n",
       "  <tbody>\n",
       "    <tr>\n",
       "      <th>0</th>\n",
       "      <td>https://blog.naver.com/waura21/221755822694</td>\n",
       "      <td>[코리아투데이뉴스=상주시] 상주시 2020년 상반기 정기인사...</td>\n",
       "      <td>2019.12.31.</td>\n",
       "      <td>[코리아투데이뉴스=상주시] 상주시 2020년 상반기 정기인사 이동조서-(2020. ...</td>\n",
       "      <td>0</td>\n",
       "      <td>코리아투데이뉴스 상주시 상주시 2020년 상반기 정기인사 이동조서 2020 1 1 ...</td>\n",
       "      <td>[Sentence(text='코리아투데이뉴스 상주시 상주시 2020년 상반기 정기인...</td>\n",
       "    </tr>\n",
       "    <tr>\n",
       "      <th>1</th>\n",
       "      <td>https://blog.naver.com/skfzhddlwkd/221755736686</td>\n",
       "      <td>[지방분권 대학생 서포터즈] 공공기관 지방이전과 혁신도시</td>\n",
       "      <td>2019.12.31.</td>\n",
       "      <td>안녕하세요~ 메리썽입니다.\\n혁신도시에 대해서는 많이들 들어보셨을거라고 생각이 드는...</td>\n",
       "      <td>1</td>\n",
       "      <td>안녕하세요 메리썽입니다 혁신도시에 대해서는 많이들 들어보셨을거라고 생각이 드는데요 ...</td>\n",
       "      <td>[Sentence(text='안녕하세요 메리썽입니다', start=0, end=12...</td>\n",
       "    </tr>\n",
       "    <tr>\n",
       "      <th>2</th>\n",
       "      <td>https://blog.naver.com/vipgim1390/221755564191</td>\n",
       "      <td>[인사] 경북 구미시</td>\n",
       "      <td>2019.12.31.</td>\n",
       "      <td>◇4급 승진 △경제기획국장 박수원 △문화체육관광국장 김회식 △의회사무국장 이근도 △...</td>\n",
       "      <td>2</td>\n",
       "      <td>4급 승진 경제기획국장 박수원 문화체육관광국장 김회식 의회사무국장 이근도 평생교육원...</td>\n",
       "      <td>[Sentence(text='4급 승진 경제기획국장 박수원 문화체육관광국장 김회식 ...</td>\n",
       "    </tr>\n",
       "    <tr>\n",
       "      <th>3</th>\n",
       "      <td>https://blog.naver.com/aromaplayer/221755469475</td>\n",
       "      <td>경기창조경제혁신센터_로컬크리에이터_사후간담회_역시...</td>\n",
       "      <td>2019.12.31.</td>\n",
       "      <td>안녕하세요!\\n반고 유은기(유진선)입니다.\\n오늘은 2019년의 마지막날!! 입니다...</td>\n",
       "      <td>3</td>\n",
       "      <td>안녕하세요 반고 유은기 유진선 입니다 오늘은 2019년의 마지막날 입니다 올해는 정...</td>\n",
       "      <td>[Sentence(text='안녕하세요 반고 유은기 유진선 입니다', start=0...</td>\n",
       "    </tr>\n",
       "    <tr>\n",
       "      <th>4</th>\n",
       "      <td>https://blog.naver.com/sejongicon/221755302232</td>\n",
       "      <td>국립칠곡숲체원 사인/ 간판디자인</td>\n",
       "      <td>2019.12.31.</td>\n",
       "      <td>한국산림복지진흥원 국립칠곡숲체원 사인/ 간판 디자인 및 시공\\nhttps://blo...</td>\n",
       "      <td>4</td>\n",
       "      <td>한국산림복지진흥원 국립칠곡숲체원 사인 간판 디자인 및 시공 https blog na...</td>\n",
       "      <td>[Sentence(text='한국산림복지진흥원 국립칠곡숲체원 사인 간판 디자인 및 ...</td>\n",
       "    </tr>\n",
       "    <tr>\n",
       "      <th>...</th>\n",
       "      <td>...</td>\n",
       "      <td>...</td>\n",
       "      <td>...</td>\n",
       "      <td>...</td>\n",
       "      <td>...</td>\n",
       "      <td>...</td>\n",
       "      <td>...</td>\n",
       "    </tr>\n",
       "    <tr>\n",
       "      <th>6122</th>\n",
       "      <td>https://blog.naver.com/vipgim1390/221431934615</td>\n",
       "      <td>[인사] 경북 김천시</td>\n",
       "      <td>2019.01.01.</td>\n",
       "      <td>◆4급 승진 △금오공대 파견 김용수 △경제산업국장 구영훈 △의회사무국장 안민 △행정...</td>\n",
       "      <td>6122</td>\n",
       "      <td>4급 승진 금오공대 파견 김용수 경제산업국장 구영훈 의회사무국장 안민 행정복지국장 ...</td>\n",
       "      <td>[Sentence(text='4급 승진 금오공대 파견 김용수 경제산업국장 구영훈 의...</td>\n",
       "    </tr>\n",
       "    <tr>\n",
       "      <th>6123</th>\n",
       "      <td>https://blog.naver.com/dltmf1427/221431893814</td>\n",
       "      <td>2018년 마무리, 2019년 새해 목표는 세우셨나요? (부록...</td>\n",
       "      <td>2019.01.01.</td>\n",
       "      <td>안녕하세요.\\n라포르커뮤니케이션 원쌤이에요.\\n2019년 한 해 잘 시작하셨나요^^...</td>\n",
       "      <td>6123</td>\n",
       "      <td>안녕하세요 라포르커뮤니케이션 원쌤이에요 2019년 한 해 잘 시작하셨나요 나이 먹기...</td>\n",
       "      <td>[Sentence(text='안녕하세요 라포르커뮤니케이션 원쌤이에요', start=...</td>\n",
       "    </tr>\n",
       "    <tr>\n",
       "      <th>6124</th>\n",
       "      <td>https://blog.naver.com/rich2s/221431887654</td>\n",
       "      <td>2018년 12월 31일 동·서·남해안 및 내륙권 발전 특별법...</td>\n",
       "      <td>2019.01.01.</td>\n",
       "      <td>블로그\\n부동산뉴스 95개의 글\\n부동산뉴스\\n목록열기\\n2018년 12월 31일 ...</td>\n",
       "      <td>6124</td>\n",
       "      <td>블로그 부동산뉴스 95개의 글 부동산뉴스 목록열기 2018년 12월 31일 동 서 ...</td>\n",
       "      <td>[Sentence(text='블로그 부동산뉴스 95개의 글 부동산뉴스 목록열기 20...</td>\n",
       "    </tr>\n",
       "    <tr>\n",
       "      <th>6125</th>\n",
       "      <td>https://blog.naver.com/changsantree/221431590702</td>\n",
       "      <td>1월 1일 화요일</td>\n",
       "      <td>2019.01.01.</td>\n",
       "      <td>blog\\n공지 목록\\n공지글\\n글 제목 작성일\\n(1)\\n공지 3월 27일 수요일...</td>\n",
       "      <td>6125</td>\n",
       "      <td>blog 공지 목록 공지글 글 제목 작성일 1 공지 3월 27일 수요일 2019 3...</td>\n",
       "      <td>[Sentence(text='blog 공지 목록 공지글 글 제목 작성일 1 공지 3...</td>\n",
       "    </tr>\n",
       "    <tr>\n",
       "      <th>6126</th>\n",
       "      <td>https://blog.naver.com/karyu99/221431556361</td>\n",
       "      <td>지정기부금 단체</td>\n",
       "      <td>2019.01.01.</td>\n",
       "      <td>기획재정부 고시 제2018-9호\\n「법인세법 시행령」제36조 제1항 제1호 바목, ...</td>\n",
       "      <td>6126</td>\n",
       "      <td>기획재정부 고시 제2018 9호 법인세법 시행령 제36조 제1항 제1호 바목 같은 ...</td>\n",
       "      <td>[Sentence(text='기획재정부 고시 제2018 9호 법인세법 시행령 제36...</td>\n",
       "    </tr>\n",
       "  </tbody>\n",
       "</table>\n",
       "<p>6127 rows × 7 columns</p>\n",
       "</div>"
      ],
      "text/plain": [
       "                                                   url  \\\n",
       "0          https://blog.naver.com/waura21/221755822694   \n",
       "1      https://blog.naver.com/skfzhddlwkd/221755736686   \n",
       "2       https://blog.naver.com/vipgim1390/221755564191   \n",
       "3      https://blog.naver.com/aromaplayer/221755469475   \n",
       "4       https://blog.naver.com/sejongicon/221755302232   \n",
       "...                                                ...   \n",
       "6122    https://blog.naver.com/vipgim1390/221431934615   \n",
       "6123     https://blog.naver.com/dltmf1427/221431893814   \n",
       "6124        https://blog.naver.com/rich2s/221431887654   \n",
       "6125  https://blog.naver.com/changsantree/221431590702   \n",
       "6126       https://blog.naver.com/karyu99/221431556361   \n",
       "\n",
       "                                      title         date  \\\n",
       "0      [코리아투데이뉴스=상주시] 상주시 2020년 상반기 정기인사...  2019.12.31.   \n",
       "1           [지방분권 대학생 서포터즈] 공공기관 지방이전과 혁신도시  2019.12.31.   \n",
       "2                               [인사] 경북 구미시  2019.12.31.   \n",
       "3            경기창조경제혁신센터_로컬크리에이터_사후간담회_역시...  2019.12.31.   \n",
       "4                         국립칠곡숲체원 사인/ 간판디자인  2019.12.31.   \n",
       "...                                     ...          ...   \n",
       "6122                            [인사] 경북 김천시  2019.01.01.   \n",
       "6123  2018년 마무리, 2019년 새해 목표는 세우셨나요? (부록...  2019.01.01.   \n",
       "6124  2018년 12월 31일 동·서·남해안 및 내륙권 발전 특별법...  2019.01.01.   \n",
       "6125                              1월 1일 화요일  2019.01.01.   \n",
       "6126                               지정기부금 단체  2019.01.01.   \n",
       "\n",
       "                                                     본문  org_idx  \\\n",
       "0     [코리아투데이뉴스=상주시] 상주시 2020년 상반기 정기인사 이동조서-(2020. ...        0   \n",
       "1     안녕하세요~ 메리썽입니다.\\n혁신도시에 대해서는 많이들 들어보셨을거라고 생각이 드는...        1   \n",
       "2     ◇4급 승진 △경제기획국장 박수원 △문화체육관광국장 김회식 △의회사무국장 이근도 △...        2   \n",
       "3     안녕하세요!\\n반고 유은기(유진선)입니다.\\n오늘은 2019년의 마지막날!! 입니다...        3   \n",
       "4     한국산림복지진흥원 국립칠곡숲체원 사인/ 간판 디자인 및 시공\\nhttps://blo...        4   \n",
       "...                                                 ...      ...   \n",
       "6122  ◆4급 승진 △금오공대 파견 김용수 △경제산업국장 구영훈 △의회사무국장 안민 △행정...     6122   \n",
       "6123  안녕하세요.\\n라포르커뮤니케이션 원쌤이에요.\\n2019년 한 해 잘 시작하셨나요^^...     6123   \n",
       "6124  블로그\\n부동산뉴스 95개의 글\\n부동산뉴스\\n목록열기\\n2018년 12월 31일 ...     6124   \n",
       "6125  blog\\n공지 목록\\n공지글\\n글 제목 작성일\\n(1)\\n공지 3월 27일 수요일...     6125   \n",
       "6126  기획재정부 고시 제2018-9호\\n「법인세법 시행령」제36조 제1항 제1호 바목, ...     6126   \n",
       "\n",
       "                                               cleaning  \\\n",
       "0     코리아투데이뉴스 상주시 상주시 2020년 상반기 정기인사 이동조서 2020 1 1 ...   \n",
       "1     안녕하세요 메리썽입니다 혁신도시에 대해서는 많이들 들어보셨을거라고 생각이 드는데요 ...   \n",
       "2     4급 승진 경제기획국장 박수원 문화체육관광국장 김회식 의회사무국장 이근도 평생교육원...   \n",
       "3     안녕하세요 반고 유은기 유진선 입니다 오늘은 2019년의 마지막날 입니다 올해는 정...   \n",
       "4     한국산림복지진흥원 국립칠곡숲체원 사인 간판 디자인 및 시공 https blog na...   \n",
       "...                                                 ...   \n",
       "6122  4급 승진 금오공대 파견 김용수 경제산업국장 구영훈 의회사무국장 안민 행정복지국장 ...   \n",
       "6123  안녕하세요 라포르커뮤니케이션 원쌤이에요 2019년 한 해 잘 시작하셨나요 나이 먹기...   \n",
       "6124  블로그 부동산뉴스 95개의 글 부동산뉴스 목록열기 2018년 12월 31일 동 서 ...   \n",
       "6125  blog 공지 목록 공지글 글 제목 작성일 1 공지 3월 27일 수요일 2019 3...   \n",
       "6126  기획재정부 고시 제2018 9호 법인세법 시행령 제36조 제1항 제1호 바목 같은 ...   \n",
       "\n",
       "                                             split_list  \n",
       "0     [Sentence(text='코리아투데이뉴스 상주시 상주시 2020년 상반기 정기인...  \n",
       "1     [Sentence(text='안녕하세요 메리썽입니다', start=0, end=12...  \n",
       "2     [Sentence(text='4급 승진 경제기획국장 박수원 문화체육관광국장 김회식 ...  \n",
       "3     [Sentence(text='안녕하세요 반고 유은기 유진선 입니다', start=0...  \n",
       "4     [Sentence(text='한국산림복지진흥원 국립칠곡숲체원 사인 간판 디자인 및 ...  \n",
       "...                                                 ...  \n",
       "6122  [Sentence(text='4급 승진 금오공대 파견 김용수 경제산업국장 구영훈 의...  \n",
       "6123  [Sentence(text='안녕하세요 라포르커뮤니케이션 원쌤이에요', start=...  \n",
       "6124  [Sentence(text='블로그 부동산뉴스 95개의 글 부동산뉴스 목록열기 20...  \n",
       "6125  [Sentence(text='blog 공지 목록 공지글 글 제목 작성일 1 공지 3...  \n",
       "6126  [Sentence(text='기획재정부 고시 제2018 9호 법인세법 시행령 제36...  \n",
       "\n",
       "[6127 rows x 7 columns]"
      ]
     },
     "execution_count": 2,
     "metadata": {},
     "output_type": "execute_result"
    }
   ],
   "source": [
    "df = pd.read_csv(\"2019산림복지_세이브포인트.csv\", encoding='UTF-8')\n",
    "df"
   ]
  },
  {
   "cell_type": "code",
   "execution_count": 4,
   "metadata": {},
   "outputs": [
    {
     "data": {
      "text/plain": [
       "\"[Sentence(text='코리아투데이뉴스 상주시 상주시 2020년 상반기 정기인사 이동조서 2020 1 1 6급 공보감사담당관 지역정보팀장 김귀연 미래전략추진단 인구정책팀장 이상규 총무과 총무팀장 조성광 인사팀장 신종원 교육후생팀장 김상식 송상섭 민순희 새마을체육과 시민운동장팀장 김호웅 회계과 지출팀장 남정억 재산관리팀장 이상익 사회복지과 희망복지지원팀장 서명옥 가족복지과 노인복지팀장 강정화 경제기업과 지역경제팀장 우광하 경제기업과 기업지원팀장 윤태경 환경관리과 폐기물관리팀장 김정진 농업정책과 농산팀장 김영기 농업정책과 원예특작팀장 최정숙 산림녹지과 산림정책팀장 김대환 산림복지팀장 안재현 곶감관리팀장 조준홍 건설과 토목팀장 김시진 하천팀장 김영국 개발지원과 개발행정팀장 홍헌식 시설지원팀장 이두희 안전재난과 재난방재팀장 이춘길 안전재난과 민방위팀장 이하국 교통에너지과 교통지도팀장 정원용 차량등록팀장 성일중 자전거팀장 김광현 건축과 건축허가팀장 김덕수 건축신고1팀장 김형수 건축신고2팀장 신은우 주택팀장 김웅정 민원토지과 개발행위팀장 김동구 가족관계등록팀장 김명원 의회사무국 고두환 보건소보건위생과 보건행정팀장 김기우 김근우 김혜경 남정선 문정옥 배완식 안윤정 우상하 위외자 정해숙 조성욱 한현정 강옥분 김승란 손미자 이성숙 정안순 피정주 상하수도사업소 상하수도행정팀장 황갑주 마을상수도팀장 이상보 평생학습원 운영지원팀장 박종욱 한방산업단지관리사업소 휴양림팀장 김기완 상주박물관 자전거박물관팀장 김원기 함창읍 안재정 이상문 사벌국면 부면장 박정소 강만식 김경민 정정미 중동면 김학진 박진규 낙동면 박진호 청리면 부면장 박광호 외남면 부면장 정해수 내서면 오종철 모동면 오장엽 모서면 부면장 윤성렬 이기학 화동면 지영진 조용준 화북면 권애경 외서면 윤동규 은척면 송금화 공검면 김주연 이안면 장사준 화남면 윤용운 남원동 조성덕 계림동 전주화 동문동 김민용 김미정 동성동 김범정 신흥동 신영만 6급 무보직 및 7급 이하 기획예산담당관 윤승민 김인욱 박지혜 이진영 성창엽 공보감사담당관 김유범 심효정 이준 임수현 이상분 미래전략추진단 이정애 총무과 노동현 임재봉 김창읍 김지현 이준상 백현상 권구성 문화예술과 이정환 김유은 장소윤 김기석 관광진흥과 민애솔 홍세령 서인식 이광민 김형수 새마을체육과 이덕호 장지훈 이봉희 세정과 김영옥 박희준 오승숙 이주희 송승학 남현정 회계과 정종훈 박현석 강은정 권세나 이하윤 권일옥 김은태 전재우 김태광 강신택 이상민 최상진 이종우 사회복지과 정재욱 신미경 박진수 이진우 김영진 김석민 서다솔 김주용 가족복지과 이영미 함영식 정선희 경제기업과 최인석 정민아 임한솔 배성호 환경관리과 우중하 김지현 배숙희 오재화 농업정책과 김윤성 스마트농업추진단 최은식 축산과 전석재 김우경 이미화 유통마케팅과 김명숙 산림녹지과 권영걸 김현덕 이윤정 김종윤 건설과 주정란 신경철 김용두 조성현 신영민 이기희 이상준 도시과 이현희 오성탁 윤병훈 임희철 개발지원과 김인숙 양유진 박정훈 이재명 안전재난과 김명화 김두영 강대근 성원락 교통에너지과 이재순 유왕근 원혜성 이다영 김지우 조남배 건축과 박미향 박재홍 김시홍 김동주 김정동 민원토지과 이경자 이하나 남윤정 이태겸 이지영 곽재성 보건소 김춘렬 장운주 김명희 천인옥 김정옥 정윤경 류승임', start=0, end=1585, tokens=None, subs=[]), Sentence(text='이소영 남혜진 박소영 상하수도사업소 김인화 서원상 김주헌 윤원해 평생학습원 이세인 최현정 정춘희 한방산업단지관리사업소 장영언 이승환 김상득 상주박물관 정현정 박병진 김철현 함창읍 이효정 김형열 윤연진 조아영 장진식 사벌국면 김애진 김정도 김혜정 나소진 모민성 김자연 김민이 이용호 박선희 지성미 김인식 구본정 중동면 이한욱 조병희 황성진 낙동면 김상덕 김화세 정해인 김현태 청리면 이정원 박은혜 황승억 김인환 공성면 김웅한 박지원 장윤혁 외남면 박선아 류영기 내서면 장지혜 모동면 김미준 김영훈 모서면 차한준 이정화 정승화 한성민 화동면 서유석 고유미 화서면 김동우 정재학 화북면 임종규 박원호 박종태 추상훈 외서면 이점자 김승곤 은척면 권성일 이유영 정해창 공검면 이효진 안수연 안광원 임종숙 이안면 김민주 윤진구 박현아 화남면 김은정 전성근 임종민 남원동 정하영 양선혜 전윤경 김윤정 정의로 북문동 김수라 계림동 주영선 동문동 문경애 권성효 신흥동 송영숙 홍순의 이희경 황민호 신규임용 관광진흥과 안영림 환경관리과 김민정 최승표 농업정책과 정유정 축산과 김윤서 산림녹지과 이채연 손영집 개발지원과 이재민 교통에너지과 이혜정 건축과 권혜지 민원토지과 백형규 보건소 임은미 농업기술센터 권상엽 배민정 사벌국면 류다정 중동면 박찬호 낙동면 김수경 박은미 공성면 김슬기 모동면 안성진 화동면 이상중 김병규 화서면 박지은 외서면 최길수 남원동 장유진 북문동 윤현수 신흥동 조성호 실무수습 문화예술과 신수민 관광진흥과 박진도 세정과 정유선 유통마케팅과 정의현 안전재난과 장정민 교통에너지과 김소라 민원토지과 정의창 한방산업단지관리사업소 양병현 중동면 김소연 공성면 임예지 내서면 윤다영 모동면 한용희 화북면 차보경 화남면 박장경 남원동 김동현 신흥동 박재형 이태겸기자 tkpress82 naver com 상주시정기인사 2020년상주정기인사 상주시인사이동 인사이동', start=1586, end=2512, tokens=None, subs=[])]\""
      ]
     },
     "execution_count": 4,
     "metadata": {},
     "output_type": "execute_result"
    }
   ],
   "source": [
    "df[\"split_list\"][0]"
   ]
  },
  {
   "cell_type": "code",
   "execution_count": 6,
   "metadata": {},
   "outputs": [],
   "source": [
    "df_1 = df[:1000]\n",
    "df_2 = df[1000:2000]\n",
    "df_3 = df[2000:3000]\n",
    "df_4 = df[3000:4000]\n",
    "df_5 = df[4000:5000]\n",
    "df_6 = df[5000:]"
   ]
  },
  {
   "cell_type": "code",
   "execution_count": 7,
   "metadata": {},
   "outputs": [],
   "source": [
    "# ''' 분리된 문장 한 개를 한 row로 '''\n",
    "# df2 = pd.DataFrame(columns = ['split_str', 'org_idx']) #용량을 줄이기 위해 새로운 데이터프레임으로\n",
    "\n",
    "# ''' 문장 데이터 프레임 저장 '''\n",
    "# df2.to_csv(\"./산림복지/2019산림복지_본문_전처리.csv\", index=False, encoding='UTF-8')"
   ]
  },
  {
   "cell_type": "code",
   "execution_count": 8,
   "metadata": {},
   "outputs": [
    {
     "data": {
      "text/html": [
       "<div>\n",
       "<style scoped>\n",
       "    .dataframe tbody tr th:only-of-type {\n",
       "        vertical-align: middle;\n",
       "    }\n",
       "\n",
       "    .dataframe tbody tr th {\n",
       "        vertical-align: top;\n",
       "    }\n",
       "\n",
       "    .dataframe thead th {\n",
       "        text-align: right;\n",
       "    }\n",
       "</style>\n",
       "<table border=\"1\" class=\"dataframe\">\n",
       "  <thead>\n",
       "    <tr style=\"text-align: right;\">\n",
       "      <th></th>\n",
       "      <th>split_str</th>\n",
       "      <th>org_idx</th>\n",
       "    </tr>\n",
       "  </thead>\n",
       "  <tbody>\n",
       "  </tbody>\n",
       "</table>\n",
       "</div>"
      ],
      "text/plain": [
       "Empty DataFrame\n",
       "Columns: [split_str, org_idx]\n",
       "Index: []"
      ]
     },
     "execution_count": 8,
     "metadata": {},
     "output_type": "execute_result"
    }
   ],
   "source": [
    "df2 = pd.read_csv(\"./산림복지/2019산림복지_본문_전처리.csv\", encoding='UTF-8')\n",
    "df2"
   ]
  },
  {
   "cell_type": "code",
   "execution_count": 9,
   "metadata": {},
   "outputs": [
    {
     "data": {
      "text/plain": [
       "RangeIndex(start=0, stop=1000, step=1)"
      ]
     },
     "execution_count": 9,
     "metadata": {},
     "output_type": "execute_result"
    }
   ],
   "source": [
    "df_1['split_list'].index"
   ]
  },
  {
   "cell_type": "code",
   "execution_count": null,
   "metadata": {},
   "outputs": [],
   "source": [
    "for i in tqdm(df_1['split_list'].index):\n",
    "    for j in range(len(df_1['split_list'][i])):\n",
    "        split_str= {'split_str': df_1['split_list'][i][j][0], 'org_idx': [i]}\n",
    "        print(split_str['org_idx'])\n",
    "        split_df= pd.DataFrame(split_str)\n",
    "        df2 = pd.concat([df2,split_df])\n",
    "        df2.reset_index(drop=True, inplace=True)\n",
    "        display.clear_output(wait=True) # 출력지우기\n",
    "\n",
    "df2.reset_index(drop=True, inplace=True)\n",
    "df2"
   ]
  },
  {
   "cell_type": "code",
   "execution_count": null,
   "metadata": {},
   "outputs": [],
   "source": [
    "for i in tqdm(df_2['split_list'].index):\n",
    "    for j in range(len(df_2['split_list'][i])):\n",
    "        split_str= {'split_str': df_2['split_list'][i][j][0], 'org_idx': [i]}\n",
    "        print(split_str['org_idx'])\n",
    "        split_df= pd.DataFrame(split_str)\n",
    "        df2 = pd.concat([df2,split_df])\n",
    "        df2.reset_index(drop=True, inplace=True)\n",
    "        display.clear_output(wait=True) # 출력지우기\n",
    "\n",
    "df2.reset_index(drop=True, inplace=True)\n",
    "df2"
   ]
  },
  {
   "cell_type": "code",
   "execution_count": 52,
   "metadata": {},
   "outputs": [
    {
     "name": "stdout",
     "output_type": "stream",
     "text": [
      "[2999]\n"
     ]
    }
   ],
   "source": [
    "for i in tqdm(df_3['split_list'].index):\n",
    "    for j in range(len(df_3['split_list'][i])):\n",
    "        split_str= {'split_str': df_3['split_list'][i][j][0], 'org_idx': [i]}\n",
    "        print(split_str['org_idx'])\n",
    "        split_df= pd.DataFrame(split_str)\n",
    "        df2 = pd.concat([df2,split_df])\n",
    "        df2.reset_index(drop=True, inplace=True)\n",
    "        display.clear_output(wait=True) # 출력지우기\n",
    "\n",
    "df2.reset_index(drop=True, inplace=True)"
   ]
  },
  {
   "cell_type": "code",
   "execution_count": null,
   "metadata": {},
   "outputs": [],
   "source": [
    "for i in tqdm(df_4['split_list'].index):\n",
    "    for j in range(len(df_4['split_list'][i])):\n",
    "        split_str= {'split_str': df_4['split_list'][i][j][0], 'org_idx': [i]}\n",
    "        print(split_str['org_idx'])\n",
    "        split_df= pd.DataFrame(split_str)\n",
    "        df2 = pd.concat([df2,split_df])\n",
    "        df2.reset_index(drop=True, inplace=True)\n",
    "        display.clear_output(wait=True) # 출력지우기\n",
    "\n",
    "df2.reset_index(drop=True, inplace=True)\n",
    "df2"
   ]
  },
  {
   "cell_type": "code",
   "execution_count": null,
   "metadata": {},
   "outputs": [],
   "source": [
    "for i in tqdm(df_5['split_list'].index):\n",
    "    for j in range(len(df_5['split_list'][i])):\n",
    "        split_str= {'split_str': df_5['split_list'][i][j][0], 'org_idx': [i]}\n",
    "        print(split_str['org_idx'])\n",
    "        split_df= pd.DataFrame(split_str)\n",
    "        df2 = pd.concat([df2,split_df])\n",
    "        df2.reset_index(drop=True, inplace=True)\n",
    "        display.clear_output(wait=True) # 출력지우기\n",
    "\n",
    "df2.reset_index(drop=True, inplace=True)\n",
    "df2"
   ]
  },
  {
   "cell_type": "code",
   "execution_count": null,
   "metadata": {},
   "outputs": [],
   "source": [
    "for i in tqdm(df_6['split_list'].index):\n",
    "    for j in range(len(df_6['split_list'][i])):\n",
    "        split_str= {'split_str': df_6['split_list'][i][j][0], 'org_idx': [i]}\n",
    "        print(split_str['org_idx'])\n",
    "        split_df= pd.DataFrame(split_str)\n",
    "        df2 = pd.concat([df2,split_df])\n",
    "        df2.reset_index(drop=True, inplace=True)\n",
    "        display.clear_output(wait=True) # 출력지우기\n",
    "\n",
    "df2.reset_index(drop=True, inplace=True)\n",
    "df2"
   ]
  },
  {
   "cell_type": "code",
   "execution_count": 21,
   "metadata": {},
   "outputs": [],
   "source": [
    "df2.to_csv(\"./산림복지/2019산림복지_본문_전처리.csv\", index=False, encoding='UTF-8')"
   ]
  },
  {
   "cell_type": "code",
   "execution_count": 14,
   "metadata": {},
   "outputs": [
    {
     "data": {
      "text/html": [
       "<div>\n",
       "<style scoped>\n",
       "    .dataframe tbody tr th:only-of-type {\n",
       "        vertical-align: middle;\n",
       "    }\n",
       "\n",
       "    .dataframe tbody tr th {\n",
       "        vertical-align: top;\n",
       "    }\n",
       "\n",
       "    .dataframe thead th {\n",
       "        text-align: right;\n",
       "    }\n",
       "</style>\n",
       "<table border=\"1\" class=\"dataframe\">\n",
       "  <thead>\n",
       "    <tr style=\"text-align: right;\">\n",
       "      <th></th>\n",
       "      <th>split_str</th>\n",
       "      <th>org_idx</th>\n",
       "    </tr>\n",
       "  </thead>\n",
       "  <tbody>\n",
       "    <tr>\n",
       "      <th>0</th>\n",
       "      <td>블로그 momo 5개의 글 momo 목록열기 영어명언 모음입니다</td>\n",
       "      <td>0</td>\n",
       "    </tr>\n",
       "    <tr>\n",
       "      <th>1</th>\n",
       "      <td>momo 2018 12 31 19 52 https blog naver com omj...</td>\n",
       "      <td>0</td>\n",
       "    </tr>\n",
       "    <tr>\n",
       "      <th>2</th>\n",
       "      <td>An enemy generally says and believes what he w...</td>\n",
       "      <td>0</td>\n",
       "    </tr>\n",
       "    <tr>\n",
       "      <th>3</th>\n",
       "      <td>True love is the joy of life 진실한 사랑은 인생의 환희다</td>\n",
       "      <td>0</td>\n",
       "    </tr>\n",
       "    <tr>\n",
       "      <th>4</th>\n",
       "      <td>Carpe diem 현재를 즐겨라</td>\n",
       "      <td>0</td>\n",
       "    </tr>\n",
       "    <tr>\n",
       "      <th>...</th>\n",
       "      <td>...</td>\n",
       "      <td>...</td>\n",
       "    </tr>\n",
       "    <tr>\n",
       "      <th>110259</th>\n",
       "      <td>김종욱 이사장은 상대적으로 산림복지서비스 기회가 적은 취약계층에게 숲을 통한 소통 ...</td>\n",
       "      <td>3998</td>\n",
       "    </tr>\n",
       "    <tr>\n",
       "      <th>110260</th>\n",
       "      <td>종합지 대한뉴스 등록번호 서울가361호 크리에이티브 코리아 등록번호 강서라00175...</td>\n",
       "      <td>3998</td>\n",
       "    </tr>\n",
       "    <tr>\n",
       "      <th>110261</th>\n",
       "      <td>Tag 저작권자 대한뉴스 무단전재 및 재배포 금지 공감 2 이 글에 공감한 블로거 ...</td>\n",
       "      <td>3998</td>\n",
       "    </tr>\n",
       "    <tr>\n",
       "      <th>110262</th>\n",
       "      <td>세월속에 세월속에 139개의 글 세월속에 목록열기 목민심서12편72조 0414 세월...</td>\n",
       "      <td>3999</td>\n",
       "    </tr>\n",
       "    <tr>\n",
       "      <th>110263</th>\n",
       "      <td>예로써 응대 문보 공문서관리 공납 공물납부 왕역 업무차출 제5장 애민6조 양자진애관...</td>\n",
       "      <td>3999</td>\n",
       "    </tr>\n",
       "  </tbody>\n",
       "</table>\n",
       "<p>110264 rows × 2 columns</p>\n",
       "</div>"
      ],
      "text/plain": [
       "                                                split_str  org_idx\n",
       "0                     블로그 momo 5개의 글 momo 목록열기 영어명언 모음입니다        0\n",
       "1       momo 2018 12 31 19 52 https blog naver com omj...        0\n",
       "2       An enemy generally says and believes what he w...        0\n",
       "3            True love is the joy of life 진실한 사랑은 인생의 환희다        0\n",
       "4                                      Carpe diem 현재를 즐겨라        0\n",
       "...                                                   ...      ...\n",
       "110259  김종욱 이사장은 상대적으로 산림복지서비스 기회가 적은 취약계층에게 숲을 통한 소통 ...     3998\n",
       "110260  종합지 대한뉴스 등록번호 서울가361호 크리에이티브 코리아 등록번호 강서라00175...     3998\n",
       "110261  Tag 저작권자 대한뉴스 무단전재 및 재배포 금지 공감 2 이 글에 공감한 블로거 ...     3998\n",
       "110262  세월속에 세월속에 139개의 글 세월속에 목록열기 목민심서12편72조 0414 세월...     3999\n",
       "110263  예로써 응대 문보 공문서관리 공납 공물납부 왕역 업무차출 제5장 애민6조 양자진애관...     3999\n",
       "\n",
       "[110264 rows x 2 columns]"
      ]
     },
     "execution_count": 14,
     "metadata": {},
     "output_type": "execute_result"
    }
   ],
   "source": [
    "df2 # 3999까지 한거."
   ]
  },
  {
   "cell_type": "code",
   "execution_count": null,
   "metadata": {},
   "outputs": [],
   "source": [
    "#- 패키지 임포트\n",
    "import requests\n",
    "import json\n",
    "import pandas as pd\n",
    "from tqdm.notebook import tqdm\n",
    "import re\n",
    "\n",
    "\n",
    "'''맞춤법 검사 함수'''\n",
    "def ko_grammar(sent):\n",
    "    global correct_list ; correct_list= []\n",
    "    #for i in tqdm(range(len(a))):\n",
    "    for i in tqdm(range(len(sent))):\n",
    "        try:                                                                               \n",
    "            response = requests.post('http://164.125.7.61/speller/results', data={'text1': sent[i]})  # 맞춤법 검사 요청 (requests)    \n",
    "            data = response.text.split('data = [', 1)[-1].rsplit('];', 1)[0] # 응답에서 필요한 내용 추출 (html 파싱)\n",
    "            data = json.loads(data) # 파이썬 딕셔너리 형식으로 변환\n",
    "            orgStr = [err['orgStr'] for err in data['errInfo']] #오류가 담긴 errinfo에서 고쳐야 되는 단어 리스트로 추출 \n",
    "            correct = [err['candWord'] for err in data['errInfo']] #고쳐진 단어도 리스트로 추출\n",
    "            splited = sent[i] \n",
    "\n",
    "            '''여러 개로 고쳐졌을 때 맨 처음 단어만 선택'''\n",
    "            for j in range(len(correct)):\n",
    "                if '|'in correct[j]: #여러 개로 고쳐질 경우 문자열이 '|'로 구분되어 있음\n",
    "                    com = re.compile('\\|')\n",
    "                    many = com.search(correct[j])\n",
    "                    correct[j]= correct [j][0:(many.span()[0])]\n",
    "                '''틀린 문장 고치기'''   \n",
    "                splited = splited.replace(orgStr[j], correct[j])\n",
    "\n",
    "        except:      \n",
    "            splited = sent[i]\n",
    "\n",
    "        correct_list.append(splited)\n",
    "\n",
    "# 데이터 프레임 나누기\n",
    "df2_1 = df2[:5000]\n",
    "df2_2 = df2[5000:10000]\n",
    "df2_3 = df2[10000:15000]\n",
    "\n",
    "df2_n = df2[:]\n",
    "\n",
    "'''인덱스 0부터'''\n",
    "df2_1.reset_index(drop=True, inplace=True)\n",
    "df2_2.reset_index(drop=True, inplace=True)\n",
    "df2_3.reset_index(drop=True, inplace=True)\n",
    "\n",
    "df2_n.reset_index(drop=True, inplace=True)\n",
    "\n",
    "\n",
    "'''맞춤법 검사하기''' \n",
    "ko_grammar(df2_1['split_str'])\n",
    "df2_n['correct_str'] = correct_list\n",
    "df2_n.to_csv('df2_n.txt', encoding='UTF-8')"
   ]
  }
 ],
 "metadata": {
  "kernelspec": {
   "display_name": "Python 3.8.0 ('NIFS')",
   "language": "python",
   "name": "python3"
  },
  "language_info": {
   "codemirror_mode": {
    "name": "ipython",
    "version": 3
   },
   "file_extension": ".py",
   "mimetype": "text/x-python",
   "name": "python",
   "nbconvert_exporter": "python",
   "pygments_lexer": "ipython3",
   "version": "3.8.0"
  },
  "orig_nbformat": 4,
  "vscode": {
   "interpreter": {
    "hash": "ef870b4feb386425c661b7ebcadef1c9affb03996f900964fa02bf03ee560957"
   }
  }
 },
 "nbformat": 4,
 "nbformat_minor": 2
}
