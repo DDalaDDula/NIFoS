{
 "cells": [
  {
   "cell_type": "code",
   "execution_count": null,
   "metadata": {},
   "outputs": [],
   "source": [
    "#- 패키지 임포트\n",
    "import requests\n",
    "import json\n",
    "import pandas as pd\n",
    "from tqdm.notebook import tqdm\n",
    "\n",
    "\n",
    "'''맞춤법 검사 함수'''\n",
    "def ko_grammar(a):\n",
    "\tglobal correct_list ; correct_list= []\n",
    "    for i in tqdm(range(len(a))):\n",
    "        try:                                                                               \n",
    "            response = requests.post('http://164.125.7.61/speller/results', data={'text1': a[i]})  # 맞춤법 검사 요청 (requests)    \n",
    "            data = response.text.split('data = [', 1)[-1].rsplit('];', 1)[0] # 응답에서 필요한 내용 추출 (html 파싱)\n",
    "            data = json.loads(data) # 파이썬 딕셔너리 형식으로 변환\n",
    "            orgStr = [err['orgStr'] for err in data['errInfo']] #오류가 담긴 errinfo에서 고쳐야 되는 단어 리스트로 추출 \n",
    "            correct = [err['candWord'] for err in data['errInfo']] #고쳐진 단어도 리스트로 추출\n",
    "            splited = a[i] \n",
    "\n",
    "            '''여러 개로 고쳐졌을 때 맨 처음 단어만 선택'''\n",
    "            for j in range(len(correct)):\n",
    "                if '|'in correct[j]: #여러 개로 고쳐질 경우 문자열이 '|'로 구분되어 있음\n",
    "                    com = re.compile('\\|')\n",
    "                    many = com.search(correct[j])\n",
    "                    correct[j]= correct [j][0:(many.span()[0])]\n",
    "                '''틀린 문장 고치기'''   \n",
    "                splited = splited.replace(orgStr[j], correct[j])\n",
    "\n",
    "        except:      \n",
    "            splited = a[i]\n",
    "\n",
    "        correct_list.append(splited)\n"
   ]
  }
 ],
 "metadata": {
  "kernelspec": {
   "display_name": "Python 3.8.0 ('NIFS')",
   "language": "python",
   "name": "python3"
  },
  "language_info": {
   "name": "python",
   "version": "3.8.0"
  },
  "orig_nbformat": 4,
  "vscode": {
   "interpreter": {
    "hash": "ef870b4feb386425c661b7ebcadef1c9affb03996f900964fa02bf03ee560957"
   }
  }
 },
 "nbformat": 4,
 "nbformat_minor": 2
}
