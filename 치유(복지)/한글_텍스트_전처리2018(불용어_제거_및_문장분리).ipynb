{
 "cells": [
  {
   "cell_type": "code",
   "execution_count": 1,
   "metadata": {},
   "outputs": [
    {
     "data": {
      "application/vnd.jupyter.widget-view+json": {
       "model_id": "0a34c890f6f14a988c4f247c574c009e",
       "version_major": 2,
       "version_minor": 0
      },
      "text/plain": [
       "Output()"
      ]
     },
     "metadata": {},
     "output_type": "display_data"
    }
   ],
   "source": [
    "#- 패키지 임포트\n",
    "import pandas as pd\n",
    "import numpy as np\n",
    "#import emoji # 이모지 제거용\n",
    "import re\n",
    "from soynlp.normalizer import * #반복되는 자음 제거\n",
    "import time\n",
    "from tqdm.notebook import tqdm #for문 진행률 \n",
    "from time import sleep #for문 진행 시간 \n",
    "from kiwipiepy import Kiwi #문장 분리2\n",
    "\n",
    "from IPython.display import clear_output\n",
    "from IPython import display # 램효율을 늘리기 위해 아웃풋 display를 지워줄 것.\n",
    "from ipywidgets import Output\n",
    "\n",
    "out = Output()\n",
    "display.display(out)\n"
   ]
  },
  {
   "cell_type": "code",
   "execution_count": 23,
   "metadata": {},
   "outputs": [],
   "source": [
    "''' 파일 불러오기 '''\n",
    "df = pd.read_csv(\"./산림복지/2019산림복지_본문_노이즈 제거.txt\", sep='\\t', encoding='UTF-8')\n",
    "# print(df.shape, type(df)) # 파일 구조 및 컬럼명 확인용\n",
    "df['org_idx']= df.index # 인덱스 column 만들기: 문장 분리할 때 사용함\n",
    "# print(df.columns) # org_idx 제대로 추가됐나 단순 확인용.\n",
    "post_list = list(df['본문']) #자연어 전처리를 위해 본문을 리스트 형태로"
   ]
  },
  {
   "cell_type": "code",
   "execution_count": 24,
   "metadata": {},
   "outputs": [],
   "source": [
    "''' 불용어 제거 '''\n",
    "# post_list 양이 많을 경우 불용어 제거 중에 오류 나면 다시 리스트로 만드는 데 오래 걸려서 카피하는 것임. 안 하고 post_list로 진행해도 됨.\n",
    "post_list2 = post_list.copy()\n",
    "for i in range(len(post_list2)):\n",
    "    post_list2[i] = re.sub('\\n', ' ', string=str(post_list2[i])) # 줄바꿈을 띄어쓰기 하나로\n",
    "    post_list2[i] = re.compile('[^|ㄱ-ㅎ|ㅏ-ㅣ|A-Z|a-z|0-9|가-힣]+').sub(' ',post_list2[i])\n",
    "    post_list2[i] = repeat_normalize(post_list2[i], num_repeats=1)\n",
    "\t# ↑ ㅋㅋㅋ, ㅎㅎㅎ 등의 의미 없는 자음 삭제. num_repeats가 1이면 반복 글자 중 1개만 남기고 2면 2개만 남김.\n",
    "    post_list2[i] = re.sub(r\"^\\s+|\\s+$\", \"\", post_list2[i]) # 문서 앞뒤 공백 제거\n",
    "    post_list2[i] = post_list2[i].split() # 문서 내 공백(1개 이상) 기준으로 자르기\n",
    "    post_list2[i] = ' '.join(post_list2[i]) # 공백 기준으로 나뉜 문서를 다시 1개의 공백을 두고 붙임.\n",
    "\t# ↑ 문서 내 다중 공백을 지우기 위함.]\n",
    "\n",
    "df['cleaning'] = pd.DataFrame(post_list2) #불용어 제거된 본문을 데이터 프레임으로"
   ]
  },
  {
   "cell_type": "code",
   "execution_count": null,
   "metadata": {},
   "outputs": [],
   "source": [
    "df"
   ]
  },
  {
   "cell_type": "code",
   "execution_count": 26,
   "metadata": {},
   "outputs": [
    {
     "data": {
      "application/vnd.jupyter.widget-view+json": {
       "model_id": "5742264d48a94f0ebda31284d73eafed",
       "version_major": 2,
       "version_minor": 0
      },
      "text/plain": [
       "  0%|          | 0/6127 [00:00<?, ?it/s]"
      ]
     },
     "metadata": {},
     "output_type": "display_data"
    }
   ],
   "source": [
    "''' 문장 분리 '''\n",
    "kiwi = Kiwi() #kss보다 속도 빠름 \n",
    "split_list = [kiwi.split_into_sents(df['cleaning'][i]) for i in tqdm(range(len(df['cleaning'])))]\n",
    "df['split_list'] = split_list\n",
    "df"
   ]
  },
  {
   "cell_type": "code",
   "execution_count": 6,
   "metadata": {},
   "outputs": [],
   "source": [
    "df_1 = df[:1000]\n",
    "df_2 = df[1000:2000]\n",
    "df_3 = df[2000:3000]\n",
    "df_4 = df[3000:4000]\n",
    "df_5 = df[4000:]"
   ]
  },
  {
   "cell_type": "code",
   "execution_count": 48,
   "metadata": {},
   "outputs": [],
   "source": [
    "# ''' 분리된 문장 한 개를 한 row로 '''\n",
    "# df2 = pd.DataFrame(columns = ['split_str', 'org_idx']) #용량을 줄이기 위해 새로운 데이터프레임으로\n",
    "\n",
    "# ''' 문장 데이터 프레임 저장 '''\n",
    "# df2.to_csv(\"./산림복지/2018산림복지_본문_전처리.csv\", index=False, encoding='UTF-8')"
   ]
  },
  {
   "cell_type": "code",
   "execution_count": 2,
   "metadata": {},
   "outputs": [
    {
     "data": {
      "text/html": [
       "<div>\n",
       "<style scoped>\n",
       "    .dataframe tbody tr th:only-of-type {\n",
       "        vertical-align: middle;\n",
       "    }\n",
       "\n",
       "    .dataframe tbody tr th {\n",
       "        vertical-align: top;\n",
       "    }\n",
       "\n",
       "    .dataframe thead th {\n",
       "        text-align: right;\n",
       "    }\n",
       "</style>\n",
       "<table border=\"1\" class=\"dataframe\">\n",
       "  <thead>\n",
       "    <tr style=\"text-align: right;\">\n",
       "      <th></th>\n",
       "      <th>split_str</th>\n",
       "      <th>org_idx</th>\n",
       "    </tr>\n",
       "  </thead>\n",
       "  <tbody>\n",
       "    <tr>\n",
       "      <th>0</th>\n",
       "      <td>블로그 momo 5개의 글 momo 목록열기 영어명언 모음입니다</td>\n",
       "      <td>0</td>\n",
       "    </tr>\n",
       "    <tr>\n",
       "      <th>1</th>\n",
       "      <td>momo 2018 12 31 19 52 https blog naver com omj...</td>\n",
       "      <td>0</td>\n",
       "    </tr>\n",
       "    <tr>\n",
       "      <th>2</th>\n",
       "      <td>An enemy generally says and believes what he w...</td>\n",
       "      <td>0</td>\n",
       "    </tr>\n",
       "    <tr>\n",
       "      <th>3</th>\n",
       "      <td>True love is the joy of life 진실한 사랑은 인생의 환희다</td>\n",
       "      <td>0</td>\n",
       "    </tr>\n",
       "    <tr>\n",
       "      <th>4</th>\n",
       "      <td>Carpe diem 현재를 즐겨라</td>\n",
       "      <td>0</td>\n",
       "    </tr>\n",
       "    <tr>\n",
       "      <th>...</th>\n",
       "      <td>...</td>\n",
       "      <td>...</td>\n",
       "    </tr>\n",
       "    <tr>\n",
       "      <th>135826</th>\n",
       "      <td>한편 경계의 의미로 이 사자성어를 추천한 이들도 눈에 띈다</td>\n",
       "      <td>5170</td>\n",
       "    </tr>\n",
       "    <tr>\n",
       "      <th>135827</th>\n",
       "      <td>조은영 원광대 교수 미술과 는 2017년을 종합하기에는 수락석출 외의 단어들이 지나...</td>\n",
       "      <td>5170</td>\n",
       "    </tr>\n",
       "    <tr>\n",
       "      <th>135828</th>\n",
       "      <td>올해의 사자성어는 3위부터 5위까지는 약 16 대의 고른 분포를 보인 것이 특징이다</td>\n",
       "      <td>5170</td>\n",
       "    </tr>\n",
       "    <tr>\n",
       "      <th>135829</th>\n",
       "      <td>4위는 16 5위는 15 1 였다</td>\n",
       "      <td>5170</td>\n",
       "    </tr>\n",
       "    <tr>\n",
       "      <th>135830</th>\n",
       "      <td>공감 0 이 글에 공감한 블로거 열고 닫기 댓글 쓰기 이 글에 댓글 단 블로거 열고...</td>\n",
       "      <td>5170</td>\n",
       "    </tr>\n",
       "  </tbody>\n",
       "</table>\n",
       "<p>135831 rows × 2 columns</p>\n",
       "</div>"
      ],
      "text/plain": [
       "                                                split_str  org_idx\n",
       "0                     블로그 momo 5개의 글 momo 목록열기 영어명언 모음입니다        0\n",
       "1       momo 2018 12 31 19 52 https blog naver com omj...        0\n",
       "2       An enemy generally says and believes what he w...        0\n",
       "3            True love is the joy of life 진실한 사랑은 인생의 환희다        0\n",
       "4                                      Carpe diem 현재를 즐겨라        0\n",
       "...                                                   ...      ...\n",
       "135826                   한편 경계의 의미로 이 사자성어를 추천한 이들도 눈에 띈다     5170\n",
       "135827  조은영 원광대 교수 미술과 는 2017년을 종합하기에는 수락석출 외의 단어들이 지나...     5170\n",
       "135828     올해의 사자성어는 3위부터 5위까지는 약 16 대의 고른 분포를 보인 것이 특징이다     5170\n",
       "135829                                 4위는 16 5위는 15 1 였다     5170\n",
       "135830  공감 0 이 글에 공감한 블로거 열고 닫기 댓글 쓰기 이 글에 댓글 단 블로거 열고...     5170\n",
       "\n",
       "[135831 rows x 2 columns]"
      ]
     },
     "execution_count": 2,
     "metadata": {},
     "output_type": "execute_result"
    }
   ],
   "source": [
    "df2 = pd.read_csv(\"./산림복지/2018산림복지_본문_전처리.csv\", encoding='UTF-8')\n",
    "df2"
   ]
  },
  {
   "cell_type": "code",
   "execution_count": 47,
   "metadata": {},
   "outputs": [
    {
     "data": {
      "text/plain": [
       "RangeIndex(start=0, stop=1000, step=1)"
      ]
     },
     "execution_count": 47,
     "metadata": {},
     "output_type": "execute_result"
    }
   ],
   "source": [
    "df_1['split_list'].index"
   ]
  },
  {
   "cell_type": "code",
   "execution_count": null,
   "metadata": {},
   "outputs": [],
   "source": [
    "for i in tqdm(df_1['split_list'].index):\n",
    "    for j in range(len(df_1['split_list'][i])):\n",
    "        split_str= {'split_str': df_1['split_list'][i][j][0], 'org_idx': [i]}\n",
    "        print(split_str['org_idx'])\n",
    "        split_df= pd.DataFrame(split_str)\n",
    "        df2 = pd.concat([df2,split_df])\n",
    "        df2.reset_index(drop=True, inplace=True)\n",
    "        display.clear_output(wait=True) # 출력지우기\n",
    "\n",
    "df2.reset_index(drop=True, inplace=True)\n",
    "df2"
   ]
  },
  {
   "cell_type": "code",
   "execution_count": null,
   "metadata": {},
   "outputs": [],
   "source": [
    "for i in tqdm(df_2['split_list'].index):\n",
    "    for j in range(len(df_2['split_list'][i])):\n",
    "        split_str= {'split_str': df_2['split_list'][i][j][0], 'org_idx': [i]}\n",
    "        print(split_str['org_idx'])\n",
    "        split_df= pd.DataFrame(split_str)\n",
    "        df2 = pd.concat([df2,split_df])\n",
    "        df2.reset_index(drop=True, inplace=True)\n",
    "        display.clear_output(wait=True) # 출력지우기\n",
    "\n",
    "df2.reset_index(drop=True, inplace=True)\n",
    "df2"
   ]
  },
  {
   "cell_type": "code",
   "execution_count": 52,
   "metadata": {},
   "outputs": [
    {
     "name": "stdout",
     "output_type": "stream",
     "text": [
      "[2999]\n"
     ]
    }
   ],
   "source": [
    "for i in tqdm(df_3['split_list'].index):\n",
    "    for j in range(len(df_3['split_list'][i])):\n",
    "        split_str= {'split_str': df_3['split_list'][i][j][0], 'org_idx': [i]}\n",
    "        print(split_str['org_idx'])\n",
    "        split_df= pd.DataFrame(split_str)\n",
    "        df2 = pd.concat([df2,split_df])\n",
    "        df2.reset_index(drop=True, inplace=True)\n",
    "        display.clear_output(wait=True) # 출력지우기\n",
    "\n",
    "df2.reset_index(drop=True, inplace=True)"
   ]
  },
  {
   "cell_type": "code",
   "execution_count": null,
   "metadata": {},
   "outputs": [],
   "source": [
    "for i in tqdm(df_4['split_list'].index):\n",
    "    for j in range(len(df_4['split_list'][i])):\n",
    "        split_str= {'split_str': df_4['split_list'][i][j][0], 'org_idx': [i]}\n",
    "        print(split_str['org_idx'])\n",
    "        split_df= pd.DataFrame(split_str)\n",
    "        df2 = pd.concat([df2,split_df])\n",
    "        df2.reset_index(drop=True, inplace=True)\n",
    "        display.clear_output(wait=True) # 출력지우기\n",
    "\n",
    "df2.reset_index(drop=True, inplace=True)\n",
    "df2"
   ]
  },
  {
   "cell_type": "code",
   "execution_count": null,
   "metadata": {},
   "outputs": [],
   "source": [
    "for i in tqdm(df_5['split_list'].index):\n",
    "    for j in range(len(df_5['split_list'][i])):\n",
    "        split_str= {'split_str': df_5['split_list'][i][j][0], 'org_idx': [i]}\n",
    "        print(split_str['org_idx'])\n",
    "        split_df= pd.DataFrame(split_str)\n",
    "        df2 = pd.concat([df2,split_df])\n",
    "        df2.reset_index(drop=True, inplace=True)\n",
    "        display.clear_output(wait=True) # 출력지우기\n",
    "\n",
    "df2.reset_index(drop=True, inplace=True)\n",
    "df2"
   ]
  },
  {
   "cell_type": "code",
   "execution_count": 21,
   "metadata": {},
   "outputs": [],
   "source": [
    "df2.to_csv(\"./산림복지/2018산림복지_본문_전처리.csv\", index=False, encoding='UTF-8')"
   ]
  },
  {
   "cell_type": "markdown",
   "metadata": {},
   "source": [
    "## 맞춤법 검사"
   ]
  },
  {
   "cell_type": "code",
   "execution_count": 1,
   "metadata": {},
   "outputs": [
    {
     "data": {
      "text/html": [
       "<div>\n",
       "<style scoped>\n",
       "    .dataframe tbody tr th:only-of-type {\n",
       "        vertical-align: middle;\n",
       "    }\n",
       "\n",
       "    .dataframe tbody tr th {\n",
       "        vertical-align: top;\n",
       "    }\n",
       "\n",
       "    .dataframe thead th {\n",
       "        text-align: right;\n",
       "    }\n",
       "</style>\n",
       "<table border=\"1\" class=\"dataframe\">\n",
       "  <thead>\n",
       "    <tr style=\"text-align: right;\">\n",
       "      <th></th>\n",
       "      <th>split_str</th>\n",
       "      <th>org_idx</th>\n",
       "    </tr>\n",
       "  </thead>\n",
       "  <tbody>\n",
       "    <tr>\n",
       "      <th>0</th>\n",
       "      <td>블로그 momo 5개의 글 momo 목록열기 영어명언 모음입니다</td>\n",
       "      <td>0</td>\n",
       "    </tr>\n",
       "    <tr>\n",
       "      <th>1</th>\n",
       "      <td>momo 2018 12 31 19 52 https blog naver com omj...</td>\n",
       "      <td>0</td>\n",
       "    </tr>\n",
       "    <tr>\n",
       "      <th>2</th>\n",
       "      <td>An enemy generally says and believes what he w...</td>\n",
       "      <td>0</td>\n",
       "    </tr>\n",
       "    <tr>\n",
       "      <th>3</th>\n",
       "      <td>True love is the joy of life 진실한 사랑은 인생의 환희다</td>\n",
       "      <td>0</td>\n",
       "    </tr>\n",
       "    <tr>\n",
       "      <th>4</th>\n",
       "      <td>Carpe diem 현재를 즐겨라</td>\n",
       "      <td>0</td>\n",
       "    </tr>\n",
       "    <tr>\n",
       "      <th>...</th>\n",
       "      <td>...</td>\n",
       "      <td>...</td>\n",
       "    </tr>\n",
       "    <tr>\n",
       "      <th>135826</th>\n",
       "      <td>한편 경계의 의미로 이 사자성어를 추천한 이들도 눈에 띈다</td>\n",
       "      <td>5170</td>\n",
       "    </tr>\n",
       "    <tr>\n",
       "      <th>135827</th>\n",
       "      <td>조은영 원광대 교수 미술과 는 2017년을 종합하기에는 수락석출 외의 단어들이 지나...</td>\n",
       "      <td>5170</td>\n",
       "    </tr>\n",
       "    <tr>\n",
       "      <th>135828</th>\n",
       "      <td>올해의 사자성어는 3위부터 5위까지는 약 16 대의 고른 분포를 보인 것이 특징이다</td>\n",
       "      <td>5170</td>\n",
       "    </tr>\n",
       "    <tr>\n",
       "      <th>135829</th>\n",
       "      <td>4위는 16 5위는 15 1 였다</td>\n",
       "      <td>5170</td>\n",
       "    </tr>\n",
       "    <tr>\n",
       "      <th>135830</th>\n",
       "      <td>공감 0 이 글에 공감한 블로거 열고 닫기 댓글 쓰기 이 글에 댓글 단 블로거 열고...</td>\n",
       "      <td>5170</td>\n",
       "    </tr>\n",
       "  </tbody>\n",
       "</table>\n",
       "<p>135831 rows × 2 columns</p>\n",
       "</div>"
      ],
      "text/plain": [
       "                                                split_str  org_idx\n",
       "0                     블로그 momo 5개의 글 momo 목록열기 영어명언 모음입니다        0\n",
       "1       momo 2018 12 31 19 52 https blog naver com omj...        0\n",
       "2       An enemy generally says and believes what he w...        0\n",
       "3            True love is the joy of life 진실한 사랑은 인생의 환희다        0\n",
       "4                                      Carpe diem 현재를 즐겨라        0\n",
       "...                                                   ...      ...\n",
       "135826                   한편 경계의 의미로 이 사자성어를 추천한 이들도 눈에 띈다     5170\n",
       "135827  조은영 원광대 교수 미술과 는 2017년을 종합하기에는 수락석출 외의 단어들이 지나...     5170\n",
       "135828     올해의 사자성어는 3위부터 5위까지는 약 16 대의 고른 분포를 보인 것이 특징이다     5170\n",
       "135829                                 4위는 16 5위는 15 1 였다     5170\n",
       "135830  공감 0 이 글에 공감한 블로거 열고 닫기 댓글 쓰기 이 글에 댓글 단 블로거 열고...     5170\n",
       "\n",
       "[135831 rows x 2 columns]"
      ]
     },
     "execution_count": 1,
     "metadata": {},
     "output_type": "execute_result"
    }
   ],
   "source": [
    "import pandas as pd\n",
    "df2 = pd.read_csv(\"./산림복지/2018산림복지_본문_전처리.csv\", encoding='UTF-8')\n",
    "df2"
   ]
  },
  {
   "cell_type": "code",
   "execution_count": 2,
   "metadata": {},
   "outputs": [
    {
     "data": {
      "application/vnd.jupyter.widget-view+json": {
       "model_id": "12243a3ec5804cebb6686ab17e939263",
       "version_major": 2,
       "version_minor": 0
      },
      "text/plain": [
       "Output()"
      ]
     },
     "metadata": {},
     "output_type": "display_data"
    }
   ],
   "source": [
    "#- 패키지 임포트\n",
    "import requests\n",
    "import json\n",
    "from tqdm.notebook import tqdm\n",
    "import re\n",
    "from IPython.display import clear_output\n",
    "from IPython import display # 램효율을 늘리기 위해 아웃풋 display를 지워줄 것.\n",
    "from ipywidgets import Output\n",
    "\n",
    "out = Output()\n",
    "display.display(out)\n",
    "\n",
    "\n",
    "'''맞춤법 검사 함수'''\n",
    "def ko_grammar(sent):\n",
    "    global correct_list ; correct_list= []\n",
    "    #for i in tqdm(range(len(a))):\n",
    "    for i in tqdm(range(len(sent))):\n",
    "        try:\n",
    "            print(i)                                                                               \n",
    "            response = requests.post('http://164.125.7.61/speller/results', data={'text1': sent[i]})  # 맞춤법 검사 요청 (requests)    \n",
    "            data = response.text.split('data = [', 1)[-1].rsplit('];', 1)[0] # 응답에서 필요한 내용 추출 (html 파싱)\n",
    "            data = json.loads(data) # 파이썬 딕셔너리 형식으로 변환\n",
    "            orgStr = [err['orgStr'] for err in data['errInfo']] #오류가 담긴 errinfo에서 고쳐야 되는 단어 리스트로 추출 \n",
    "            correct = [err['candWord'] for err in data['errInfo']] #고쳐진 단어도 리스트로 추출\n",
    "            splited = sent[i] \n",
    "\n",
    "            '''여러 개로 고쳐졌을 때 맨 처음 단어만 선택'''\n",
    "            for j in range(len(correct)):\n",
    "                if '|'in correct[j]: #여러 개로 고쳐질 경우 문자열이 '|'로 구분되어 있음\n",
    "                    com = re.compile('\\|')\n",
    "                    many = com.search(correct[j])\n",
    "                    correct[j]= correct [j][0:(many.span()[0])]\n",
    "                '''틀린 문장 고치기'''   \n",
    "                splited = splited.replace(orgStr[j], correct[j])\n",
    "\n",
    "        except:      \n",
    "            splited = sent[i]\n",
    "        correct_list.append(splited)\n",
    "        display.clear_output(wait=True) # 출력지우기"
   ]
  },
  {
   "cell_type": "code",
   "execution_count": 3,
   "metadata": {},
   "outputs": [
    {
     "name": "stdout",
     "output_type": "stream",
     "text": [
      "df2_1\n",
      "df2_2\n",
      "df2_3\n",
      "df2_4\n",
      "df2_5\n",
      "df2_6\n",
      "df2_7\n",
      "df2_8\n",
      "df2_9\n",
      "df2_10\n",
      "df2_11\n",
      "df2_12\n",
      "df2_13\n",
      "df2_14\n",
      "df2_15\n",
      "df2_16\n",
      "df2_17\n",
      "df2_18\n",
      "df2_19\n",
      "df2_20\n",
      "df2_21\n",
      "df2_22\n",
      "df2_23\n",
      "df2_24\n",
      "df2_25\n",
      "df2_26\n",
      "df2_27\n",
      "df2_28\n"
     ]
    }
   ],
   "source": [
    "# 데이터프레임을 5000개 단위로 나누기\n",
    "chunk_size = 5000\n",
    "num_chunks = len(df2) // chunk_size + 1  # 나머지가 있는 경우 추가적인 청크 필요\n",
    "\n",
    "dfs = {}\n",
    "for i in range(num_chunks):\n",
    "    start_idx = i * chunk_size\n",
    "    end_idx = (i + 1) * chunk_size\n",
    "    chunk_df = df2[start_idx:end_idx]\n",
    "    chunk_df.reset_index(drop=True, inplace=True)\n",
    "    dfs[f\"df2_{i+1}\"] = chunk_df\n",
    "\n",
    "# 생성된 데이터프레임들 확인\n",
    "for key, chunk_df in dfs.items():\n",
    "    print(key)"
   ]
  },
  {
   "cell_type": "code",
   "execution_count": null,
   "metadata": {},
   "outputs": [],
   "source": [
    "# ''' 분리된 문장 한 개를 한 row로 '''\n",
    "# df_s = pd.DataFrame(columns = ['split_str', 'org_idx', 'correct_str']) # 새로운 데이터프레임 제작\n",
    "\n",
    "# ''' 문장 데이터 프레임 저장 '''\n",
    "# df_s.to_csv('./산림복지/2019산림복지_본문_맞춤법검사.csv', index=False, encoding='UTF-8')"
   ]
  },
  {
   "cell_type": "code",
   "execution_count": 4,
   "metadata": {},
   "outputs": [
    {
     "data": {
      "text/html": [
       "<div>\n",
       "<style scoped>\n",
       "    .dataframe tbody tr th:only-of-type {\n",
       "        vertical-align: middle;\n",
       "    }\n",
       "\n",
       "    .dataframe tbody tr th {\n",
       "        vertical-align: top;\n",
       "    }\n",
       "\n",
       "    .dataframe thead th {\n",
       "        text-align: right;\n",
       "    }\n",
       "</style>\n",
       "<table border=\"1\" class=\"dataframe\">\n",
       "  <thead>\n",
       "    <tr style=\"text-align: right;\">\n",
       "      <th></th>\n",
       "      <th>split_str</th>\n",
       "      <th>org_idx</th>\n",
       "      <th>correct_str</th>\n",
       "    </tr>\n",
       "  </thead>\n",
       "  <tbody>\n",
       "    <tr>\n",
       "      <th>0</th>\n",
       "      <td>블로그 momo 5개의 글 momo 목록열기 영어명언 모음입니다</td>\n",
       "      <td>0</td>\n",
       "      <td>블로그 mom 5개의 글 mom 목록 열기 영어 명언 모음입니다.</td>\n",
       "    </tr>\n",
       "    <tr>\n",
       "      <th>1</th>\n",
       "      <td>momo 2018 12 31 19 52 https blog naver com omj...</td>\n",
       "      <td>0</td>\n",
       "      <td>mom 2018, 12, 31, 19, 52 https blog NAVER com ...</td>\n",
       "    </tr>\n",
       "    <tr>\n",
       "      <th>2</th>\n",
       "      <td>An enemy generally says and believes what he w...</td>\n",
       "      <td>0</td>\n",
       "      <td>An enemy generally says and believes what he w...</td>\n",
       "    </tr>\n",
       "    <tr>\n",
       "      <th>3</th>\n",
       "      <td>True love is the joy of life 진실한 사랑은 인생의 환희다</td>\n",
       "      <td>0</td>\n",
       "      <td>True love is the joy of life 진실한 사랑은 인생의 환희다</td>\n",
       "    </tr>\n",
       "    <tr>\n",
       "      <th>4</th>\n",
       "      <td>Carpe diem 현재를 즐겨라</td>\n",
       "      <td>0</td>\n",
       "      <td>Crape idem 현재를 즐겨라.</td>\n",
       "    </tr>\n",
       "    <tr>\n",
       "      <th>...</th>\n",
       "      <td>...</td>\n",
       "      <td>...</td>\n",
       "      <td>...</td>\n",
       "    </tr>\n",
       "    <tr>\n",
       "      <th>39995</th>\n",
       "      <td>국회 농림축산식품해양수산위원회 소속 박완주 의원 더불어민주당 충남 천안을 이 국정감...</td>\n",
       "      <td>1526</td>\n",
       "      <td>국회 농림축산식품해양수산위원회 소속 박완주 의원 더불어민주당 충남 천안을, 이 국정...</td>\n",
       "    </tr>\n",
       "    <tr>\n",
       "      <th>39996</th>\n",
       "      <td>표1 하지만 이 중 국내재는 484만 톤으로 목재자급률이 16 4 에 불과하다</td>\n",
       "      <td>1526</td>\n",
       "      <td>표1 하지만 이 중 국내 재는 484만 톤으로 목재 자급률이 16 4 에 불과하다</td>\n",
       "    </tr>\n",
       "    <tr>\n",
       "      <th>39997</th>\n",
       "      <td>10년 전인 2008년 자급률 11 9 와 비교하면 다소 높아진 수준이지만 아직도 ...</td>\n",
       "      <td>1526</td>\n",
       "      <td>10년 전인 2008년 자급률 11, 9 와 비교하면 다소 높아진 수준이지만 아직도...</td>\n",
       "    </tr>\n",
       "    <tr>\n",
       "      <th>39998</th>\n",
       "      <td>나무는 계속해서 성장하고 있고 자원을 활용할 수 있는 여건도 제대로 갖춰져 있지 않...</td>\n",
       "      <td>1526</td>\n",
       "      <td>나무는 계속해서 성장하고 있고 자원을 활용할 수 있는 여건도 제대로 갖춰져 있지 않...</td>\n",
       "    </tr>\n",
       "    <tr>\n",
       "      <th>39999</th>\n",
       "      <td>한국농촌경제연구원이 지난해 10월 발간한 산림경영의 수익성 개선을 위한 정책과제 보...</td>\n",
       "      <td>1526</td>\n",
       "      <td>한국농촌경제연구원이 지난해 10월 발간한 산림경영의 수익성 개선을 위한 정책과제 보...</td>\n",
       "    </tr>\n",
       "  </tbody>\n",
       "</table>\n",
       "<p>40000 rows × 3 columns</p>\n",
       "</div>"
      ],
      "text/plain": [
       "                                               split_str  org_idx  \\\n",
       "0                    블로그 momo 5개의 글 momo 목록열기 영어명언 모음입니다        0   \n",
       "1      momo 2018 12 31 19 52 https blog naver com omj...        0   \n",
       "2      An enemy generally says and believes what he w...        0   \n",
       "3           True love is the joy of life 진실한 사랑은 인생의 환희다        0   \n",
       "4                                     Carpe diem 현재를 즐겨라        0   \n",
       "...                                                  ...      ...   \n",
       "39995  국회 농림축산식품해양수산위원회 소속 박완주 의원 더불어민주당 충남 천안을 이 국정감...     1526   \n",
       "39996        표1 하지만 이 중 국내재는 484만 톤으로 목재자급률이 16 4 에 불과하다     1526   \n",
       "39997  10년 전인 2008년 자급률 11 9 와 비교하면 다소 높아진 수준이지만 아직도 ...     1526   \n",
       "39998  나무는 계속해서 성장하고 있고 자원을 활용할 수 있는 여건도 제대로 갖춰져 있지 않...     1526   \n",
       "39999  한국농촌경제연구원이 지난해 10월 발간한 산림경영의 수익성 개선을 위한 정책과제 보...     1526   \n",
       "\n",
       "                                             correct_str  \n",
       "0                   블로그 mom 5개의 글 mom 목록 열기 영어 명언 모음입니다.  \n",
       "1      mom 2018, 12, 31, 19, 52 https blog NAVER com ...  \n",
       "2      An enemy generally says and believes what he w...  \n",
       "3           True love is the joy of life 진실한 사랑은 인생의 환희다  \n",
       "4                                    Crape idem 현재를 즐겨라.  \n",
       "...                                                  ...  \n",
       "39995  국회 농림축산식품해양수산위원회 소속 박완주 의원 더불어민주당 충남 천안을, 이 국정...  \n",
       "39996      표1 하지만 이 중 국내 재는 484만 톤으로 목재 자급률이 16 4 에 불과하다  \n",
       "39997  10년 전인 2008년 자급률 11, 9 와 비교하면 다소 높아진 수준이지만 아직도...  \n",
       "39998  나무는 계속해서 성장하고 있고 자원을 활용할 수 있는 여건도 제대로 갖춰져 있지 않...  \n",
       "39999  한국농촌경제연구원이 지난해 10월 발간한 산림경영의 수익성 개선을 위한 정책과제 보...  \n",
       "\n",
       "[40000 rows x 3 columns]"
      ]
     },
     "execution_count": 4,
     "metadata": {},
     "output_type": "execute_result"
    }
   ],
   "source": [
    "df_s = pd.read_csv(\"./산림복지/2018산림복지_본문_맞춤법검사.csv\", encoding='UTF-8')\n",
    "df_s"
   ]
  },
  {
   "cell_type": "code",
   "execution_count": 5,
   "metadata": {},
   "outputs": [
    {
     "name": "stdout",
     "output_type": "stream",
     "text": [
      "14\n"
     ]
    }
   ],
   "source": [
    "'''맞춤법 검사하기''' \n",
    "a = int(len(df_s)/5000) + 1\n",
    "while a < 38:\n",
    "    ko_grammar(dfs[\"df2_%s\"%a]['split_str'])\n",
    "    dfs[\"df2_%s\"%a]['correct_str'] = correct_list\n",
    "    df_s = pd.concat([df_s,dfs[\"df2_%s\"%a]])\n",
    "    df_s.to_csv('./산림복지/2018산림복지_본문_맞춤법검사.csv', index=False, encoding='UTF-8')\n",
    "    a += 1"
   ]
  },
  {
   "cell_type": "code",
   "execution_count": 13,
   "metadata": {},
   "outputs": [],
   "source": [
    "df_s.to_csv('./산림복지/2018산림복지_본문_맞춤법검사.csv', encoding='UTF-8')"
   ]
  }
 ],
 "metadata": {
  "kernelspec": {
   "display_name": "Python 3.8.0 ('NIFS')",
   "language": "python",
   "name": "python3"
  },
  "language_info": {
   "codemirror_mode": {
    "name": "ipython",
    "version": 3
   },
   "file_extension": ".py",
   "mimetype": "text/x-python",
   "name": "python",
   "nbconvert_exporter": "python",
   "pygments_lexer": "ipython3",
   "version": "3.8.0"
  },
  "orig_nbformat": 4,
  "vscode": {
   "interpreter": {
    "hash": "ef870b4feb386425c661b7ebcadef1c9affb03996f900964fa02bf03ee560957"
   }
  }
 },
 "nbformat": 4,
 "nbformat_minor": 2
}
