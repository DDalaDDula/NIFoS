{
 "cells": [
  {
   "cell_type": "code",
   "execution_count": 1,
   "metadata": {},
   "outputs": [
    {
     "data": {
      "application/vnd.jupyter.widget-view+json": {
       "model_id": "f404ddd91ade425f9b53e65f1d5636f6",
       "version_major": 2,
       "version_minor": 0
      },
      "text/plain": [
       "Output()"
      ]
     },
     "metadata": {},
     "output_type": "display_data"
    }
   ],
   "source": [
    "#- 패키지 임포트\n",
    "import pandas as pd\n",
    "import numpy as np\n",
    "#import emoji # 이모지 제거용\n",
    "import re\n",
    "from soynlp.normalizer import * #반복되는 자음 제거\n",
    "import time\n",
    "from tqdm import tqdm #for문 진행률 \n",
    "from time import sleep #for문 진행 시간 \n",
    "from kiwipiepy import Kiwi #문장 분리2\n",
    "\n",
    "from IPython.display import clear_output\n",
    "from IPython import display # 램효율을 늘리기 위해 아웃풋 display를 지워줄 것.\n",
    "from ipywidgets import Output\n",
    "\n",
    "out = Output()\n",
    "display.display(out)\n"
   ]
  },
  {
   "cell_type": "code",
   "execution_count": 13,
   "metadata": {},
   "outputs": [],
   "source": [
    "''' 파일 불러오기 '''\n",
    "df = pd.read_csv(\"second_classification_data_pos.csv\", encoding='UTF-8')\n",
    "# print(df.shape, type(df)) # 파일 구조 및 컬럼명 확인용\n",
    "df['org_idx']= df.index # 인덱스 column 만들기: 문장 분리할 때 사용함\n",
    "post_list = list(df['sentence']) #자연어 전처리를 위해 본문을 리스트 형태로"
   ]
  },
  {
   "cell_type": "code",
   "execution_count": 14,
   "metadata": {},
   "outputs": [
    {
     "name": "stderr",
     "output_type": "stream",
     "text": [
      "100%|██████████| 19863/19863 [00:00<00:00, 69031.82it/s]\n"
     ]
    }
   ],
   "source": [
    "''' 불용어 제거 '''\n",
    "# post_list 양이 많을 경우 불용어 제거 중에 오류 나면 다시 리스트로 만드는 데 오래 걸려서 카피하는 것임. 안 하고 post_list로 진행해도 됨.\n",
    "post_list2 = post_list.copy()\n",
    "for i in tqdm(range(len(post_list2))):\n",
    "    post_list2[i] = re.sub('\\n', ' ', string=str(post_list2[i])) # 줄바꿈을 띄어쓰기 하나로\n",
    "    post_list2[i] = re.compile('[^|ㄱ-ㅎ|ㅏ-ㅣ|A-Z|a-z|0-9|가-힣]+').sub(' ',post_list2[i])\n",
    "    post_list2[i] = repeat_normalize(post_list2[i], num_repeats=1)\n",
    "\t# ↑ ㅋㅋㅋ, ㅎㅎㅎ 등의 의미 없는 자음 삭제. num_repeats가 1이면 반복 글자 중 1개만 남기고 2면 2개만 남김.\n",
    "    post_list2[i] = re.sub(r\"^\\s+|\\s+$\", \"\", post_list2[i]) # 문서 앞뒤 공백 제거\n",
    "    post_list2[i] = post_list2[i].split() # 문서 내 공백(1개 이상) 기준으로 자르기\n",
    "    post_list2[i] = ' '.join(post_list2[i]) # 공백 기준으로 나뉜 문서를 다시 1개의 공백을 두고 붙임.\n",
    "\t# ↑ 문서 내 다중 공백을 지우기 위함.]\n",
    "\n",
    "df['cleaning'] = pd.DataFrame(post_list2) #불용어 제거된 본문을 데이터 프레임으로"
   ]
  },
  {
   "cell_type": "code",
   "execution_count": 15,
   "metadata": {},
   "outputs": [
    {
     "data": {
      "text/html": [
       "<div>\n",
       "<style scoped>\n",
       "    .dataframe tbody tr th:only-of-type {\n",
       "        vertical-align: middle;\n",
       "    }\n",
       "\n",
       "    .dataframe tbody tr th {\n",
       "        vertical-align: top;\n",
       "    }\n",
       "\n",
       "    .dataframe thead th {\n",
       "        text-align: right;\n",
       "    }\n",
       "</style>\n",
       "<table border=\"1\" class=\"dataframe\">\n",
       "  <thead>\n",
       "    <tr style=\"text-align: right;\">\n",
       "      <th></th>\n",
       "      <th>sentence</th>\n",
       "      <th>sentiment</th>\n",
       "      <th>org_idx</th>\n",
       "      <th>cleaning</th>\n",
       "    </tr>\n",
       "  </thead>\n",
       "  <tbody>\n",
       "    <tr>\n",
       "      <th>0</th>\n",
       "      <td>퇴사한 지 얼마 안 됐지만 천천히 직장을 구해보려고.</td>\n",
       "      <td>기쁨</td>\n",
       "      <td>0</td>\n",
       "      <td>퇴사한 지 얼마 안 됐지만 천천히 직장을 구해보려고</td>\n",
       "    </tr>\n",
       "    <tr>\n",
       "      <th>1</th>\n",
       "      <td>요즘 직장생활이 너무 편하고 좋은 것 같아!</td>\n",
       "      <td>기쁨</td>\n",
       "      <td>1</td>\n",
       "      <td>요즘 직장생활이 너무 편하고 좋은 것 같아</td>\n",
       "    </tr>\n",
       "    <tr>\n",
       "      <th>2</th>\n",
       "      <td>취업해야 할 나이인데 취업하고 싶지가 않아.</td>\n",
       "      <td>기쁨</td>\n",
       "      <td>2</td>\n",
       "      <td>취업해야 할 나이인데 취업하고 싶지가 않아</td>\n",
       "    </tr>\n",
       "    <tr>\n",
       "      <th>3</th>\n",
       "      <td>우리 회사는 정말 사내 분위기가 좋아.</td>\n",
       "      <td>기쁨</td>\n",
       "      <td>3</td>\n",
       "      <td>우리 회사는 정말 사내 분위기가 좋아</td>\n",
       "    </tr>\n",
       "    <tr>\n",
       "      <th>4</th>\n",
       "      <td>오늘 내가 다니는 회사가 참 좋은 직장이라는 생각이 들었어.</td>\n",
       "      <td>기쁨</td>\n",
       "      <td>4</td>\n",
       "      <td>오늘 내가 다니는 회사가 참 좋은 직장이라는 생각이 들었어</td>\n",
       "    </tr>\n",
       "    <tr>\n",
       "      <th>...</th>\n",
       "      <td>...</td>\n",
       "      <td>...</td>\n",
       "      <td>...</td>\n",
       "      <td>...</td>\n",
       "    </tr>\n",
       "    <tr>\n",
       "      <th>19858</th>\n",
       "      <td>없던 거를 나타나게 했어 가족들 미소 짓게 했어</td>\n",
       "      <td>열정</td>\n",
       "      <td>19858</td>\n",
       "      <td>없던 거를 나타나게 했어 가족들 미소 짓게 했어</td>\n",
       "    </tr>\n",
       "    <tr>\n",
       "      <th>19859</th>\n",
       "      <td>그럼 나름대로 한 편으로 나는 성공했어</td>\n",
       "      <td>열정</td>\n",
       "      <td>19859</td>\n",
       "      <td>그럼 나름대로 한 편으로 나는 성공했어</td>\n",
       "    </tr>\n",
       "    <tr>\n",
       "      <th>19860</th>\n",
       "      <td>난 성공했어</td>\n",
       "      <td>열정</td>\n",
       "      <td>19860</td>\n",
       "      <td>난 성공했어</td>\n",
       "    </tr>\n",
       "    <tr>\n",
       "      <th>19861</th>\n",
       "      <td>갈 길은 아직 멀었지만</td>\n",
       "      <td>열정</td>\n",
       "      <td>19861</td>\n",
       "      <td>갈 길은 아직 멀었지만</td>\n",
       "    </tr>\n",
       "    <tr>\n",
       "      <th>19862</th>\n",
       "      <td>여기까지는 내 두 발로 걸었지 난 WE DID IT</td>\n",
       "      <td>열정</td>\n",
       "      <td>19862</td>\n",
       "      <td>여기까지는 내 두 발로 걸었지 난 WE DID IT</td>\n",
       "    </tr>\n",
       "  </tbody>\n",
       "</table>\n",
       "<p>19863 rows × 4 columns</p>\n",
       "</div>"
      ],
      "text/plain": [
       "                                sentence sentiment  org_idx  \\\n",
       "0          퇴사한 지 얼마 안 됐지만 천천히 직장을 구해보려고.        기쁨        0   \n",
       "1               요즘 직장생활이 너무 편하고 좋은 것 같아!        기쁨        1   \n",
       "2               취업해야 할 나이인데 취업하고 싶지가 않아.        기쁨        2   \n",
       "3                  우리 회사는 정말 사내 분위기가 좋아.        기쁨        3   \n",
       "4      오늘 내가 다니는 회사가 참 좋은 직장이라는 생각이 들었어.        기쁨        4   \n",
       "...                                  ...       ...      ...   \n",
       "19858         없던 거를 나타나게 했어 가족들 미소 짓게 했어        열정    19858   \n",
       "19859             그럼 나름대로 한 편으로 나는 성공했어         열정    19859   \n",
       "19860                             난 성공했어        열정    19860   \n",
       "19861                       갈 길은 아직 멀었지만        열정    19861   \n",
       "19862       여기까지는 내 두 발로 걸었지 난 WE DID IT        열정    19862   \n",
       "\n",
       "                               cleaning  \n",
       "0          퇴사한 지 얼마 안 됐지만 천천히 직장을 구해보려고  \n",
       "1               요즘 직장생활이 너무 편하고 좋은 것 같아  \n",
       "2               취업해야 할 나이인데 취업하고 싶지가 않아  \n",
       "3                  우리 회사는 정말 사내 분위기가 좋아  \n",
       "4      오늘 내가 다니는 회사가 참 좋은 직장이라는 생각이 들었어  \n",
       "...                                 ...  \n",
       "19858        없던 거를 나타나게 했어 가족들 미소 짓게 했어  \n",
       "19859             그럼 나름대로 한 편으로 나는 성공했어  \n",
       "19860                            난 성공했어  \n",
       "19861                      갈 길은 아직 멀었지만  \n",
       "19862      여기까지는 내 두 발로 걸었지 난 WE DID IT  \n",
       "\n",
       "[19863 rows x 4 columns]"
      ]
     },
     "execution_count": 15,
     "metadata": {},
     "output_type": "execute_result"
    }
   ],
   "source": [
    "df"
   ]
  },
  {
   "cell_type": "code",
   "execution_count": 16,
   "metadata": {},
   "outputs": [],
   "source": [
    "df2 = df[[\"cleaning\",\"sentiment\"]]"
   ]
  },
  {
   "cell_type": "code",
   "execution_count": 17,
   "metadata": {},
   "outputs": [
    {
     "name": "stderr",
     "output_type": "stream",
     "text": [
      "c:\\Users\\user\\anaconda3\\envs\\NIFOS\\lib\\site-packages\\pandas\\core\\frame.py:5047: SettingWithCopyWarning: \n",
      "A value is trying to be set on a copy of a slice from a DataFrame\n",
      "\n",
      "See the caveats in the documentation: https://pandas.pydata.org/pandas-docs/stable/user_guide/indexing.html#returning-a-view-versus-a-copy\n",
      "  errors=errors,\n"
     ]
    }
   ],
   "source": [
    "df2.rename(columns={'cleaning': 'sentence'}, inplace=True)"
   ]
  },
  {
   "cell_type": "code",
   "execution_count": 18,
   "metadata": {},
   "outputs": [
    {
     "data": {
      "text/html": [
       "<div>\n",
       "<style scoped>\n",
       "    .dataframe tbody tr th:only-of-type {\n",
       "        vertical-align: middle;\n",
       "    }\n",
       "\n",
       "    .dataframe tbody tr th {\n",
       "        vertical-align: top;\n",
       "    }\n",
       "\n",
       "    .dataframe thead th {\n",
       "        text-align: right;\n",
       "    }\n",
       "</style>\n",
       "<table border=\"1\" class=\"dataframe\">\n",
       "  <thead>\n",
       "    <tr style=\"text-align: right;\">\n",
       "      <th></th>\n",
       "      <th>sentence</th>\n",
       "      <th>sentiment</th>\n",
       "    </tr>\n",
       "  </thead>\n",
       "  <tbody>\n",
       "    <tr>\n",
       "      <th>0</th>\n",
       "      <td>퇴사한 지 얼마 안 됐지만 천천히 직장을 구해보려고</td>\n",
       "      <td>기쁨</td>\n",
       "    </tr>\n",
       "    <tr>\n",
       "      <th>1</th>\n",
       "      <td>요즘 직장생활이 너무 편하고 좋은 것 같아</td>\n",
       "      <td>기쁨</td>\n",
       "    </tr>\n",
       "    <tr>\n",
       "      <th>2</th>\n",
       "      <td>취업해야 할 나이인데 취업하고 싶지가 않아</td>\n",
       "      <td>기쁨</td>\n",
       "    </tr>\n",
       "    <tr>\n",
       "      <th>3</th>\n",
       "      <td>우리 회사는 정말 사내 분위기가 좋아</td>\n",
       "      <td>기쁨</td>\n",
       "    </tr>\n",
       "    <tr>\n",
       "      <th>4</th>\n",
       "      <td>오늘 내가 다니는 회사가 참 좋은 직장이라는 생각이 들었어</td>\n",
       "      <td>기쁨</td>\n",
       "    </tr>\n",
       "    <tr>\n",
       "      <th>...</th>\n",
       "      <td>...</td>\n",
       "      <td>...</td>\n",
       "    </tr>\n",
       "    <tr>\n",
       "      <th>19858</th>\n",
       "      <td>없던 거를 나타나게 했어 가족들 미소 짓게 했어</td>\n",
       "      <td>열정</td>\n",
       "    </tr>\n",
       "    <tr>\n",
       "      <th>19859</th>\n",
       "      <td>그럼 나름대로 한 편으로 나는 성공했어</td>\n",
       "      <td>열정</td>\n",
       "    </tr>\n",
       "    <tr>\n",
       "      <th>19860</th>\n",
       "      <td>난 성공했어</td>\n",
       "      <td>열정</td>\n",
       "    </tr>\n",
       "    <tr>\n",
       "      <th>19861</th>\n",
       "      <td>갈 길은 아직 멀었지만</td>\n",
       "      <td>열정</td>\n",
       "    </tr>\n",
       "    <tr>\n",
       "      <th>19862</th>\n",
       "      <td>여기까지는 내 두 발로 걸었지 난 WE DID IT</td>\n",
       "      <td>열정</td>\n",
       "    </tr>\n",
       "  </tbody>\n",
       "</table>\n",
       "<p>19863 rows × 2 columns</p>\n",
       "</div>"
      ],
      "text/plain": [
       "                               sentence sentiment\n",
       "0          퇴사한 지 얼마 안 됐지만 천천히 직장을 구해보려고        기쁨\n",
       "1               요즘 직장생활이 너무 편하고 좋은 것 같아        기쁨\n",
       "2               취업해야 할 나이인데 취업하고 싶지가 않아        기쁨\n",
       "3                  우리 회사는 정말 사내 분위기가 좋아        기쁨\n",
       "4      오늘 내가 다니는 회사가 참 좋은 직장이라는 생각이 들었어        기쁨\n",
       "...                                 ...       ...\n",
       "19858        없던 거를 나타나게 했어 가족들 미소 짓게 했어        열정\n",
       "19859             그럼 나름대로 한 편으로 나는 성공했어        열정\n",
       "19860                            난 성공했어        열정\n",
       "19861                      갈 길은 아직 멀었지만        열정\n",
       "19862      여기까지는 내 두 발로 걸었지 난 WE DID IT        열정\n",
       "\n",
       "[19863 rows x 2 columns]"
      ]
     },
     "execution_count": 18,
     "metadata": {},
     "output_type": "execute_result"
    }
   ],
   "source": [
    "df2"
   ]
  },
  {
   "cell_type": "code",
   "execution_count": 19,
   "metadata": {},
   "outputs": [
    {
     "data": {
      "text/plain": [
       "sentence     0\n",
       "sentiment    0\n",
       "dtype: int64"
      ]
     },
     "execution_count": 19,
     "metadata": {},
     "output_type": "execute_result"
    }
   ],
   "source": [
    "df2.isnull().sum()"
   ]
  },
  {
   "cell_type": "code",
   "execution_count": 20,
   "metadata": {},
   "outputs": [
    {
     "name": "stderr",
     "output_type": "stream",
     "text": [
      "c:\\Users\\user\\anaconda3\\envs\\NIFOS\\lib\\site-packages\\pandas\\util\\_decorators.py:311: SettingWithCopyWarning: \n",
      "A value is trying to be set on a copy of a slice from a DataFrame\n",
      "\n",
      "See the caveats in the documentation: https://pandas.pydata.org/pandas-docs/stable/user_guide/indexing.html#returning-a-view-versus-a-copy\n",
      "  return func(*args, **kwargs)\n"
     ]
    }
   ],
   "source": [
    "df2.dropna(axis=0, inplace=True)\n",
    "df2.reset_index(drop=True, inplace=True)\n",
    "df2.to_csv(\"second_classification_data_pos_spell_check.csv\", index=False, encoding='UTF-8')"
   ]
  }
 ],
 "metadata": {
  "kernelspec": {
   "display_name": "NIFOS",
   "language": "python",
   "name": "python3"
  },
  "language_info": {
   "codemirror_mode": {
    "name": "ipython",
    "version": 3
   },
   "file_extension": ".py",
   "mimetype": "text/x-python",
   "name": "python",
   "nbconvert_exporter": "python",
   "pygments_lexer": "ipython3",
   "version": "3.7.16"
  },
  "orig_nbformat": 4
 },
 "nbformat": 4,
 "nbformat_minor": 2
}
