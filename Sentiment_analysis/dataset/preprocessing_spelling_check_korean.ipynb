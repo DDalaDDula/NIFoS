{
 "cells": [
  {
   "cell_type": "code",
   "execution_count": 1,
   "metadata": {},
   "outputs": [
    {
     "data": {
      "application/vnd.jupyter.widget-view+json": {
       "model_id": "bca5c8369fdb4cc19b14103f2ab2d9c9",
       "version_major": 2,
       "version_minor": 0
      },
      "text/plain": [
       "Output()"
      ]
     },
     "metadata": {},
     "output_type": "display_data"
    }
   ],
   "source": [
    "#- 패키지 임포트\n",
    "import pandas as pd\n",
    "import numpy as np\n",
    "#import emoji # 이모지 제거용\n",
    "import re\n",
    "from soynlp.normalizer import * #반복되는 자음 제거\n",
    "import time\n",
    "from tqdm import tqdm #for문 진행률 \n",
    "from time import sleep #for문 진행 시간 \n",
    "from kiwipiepy import Kiwi #문장 분리2\n",
    "\n",
    "from IPython.display import clear_output\n",
    "from IPython import display # 램효율을 늘리기 위해 아웃풋 display를 지워줄 것.\n",
    "from ipywidgets import Output\n",
    "\n",
    "out = Output()\n",
    "display.display(out)\n"
   ]
  },
  {
   "cell_type": "code",
   "execution_count": 2,
   "metadata": {},
   "outputs": [],
   "source": [
    "''' 파일 불러오기 '''\n",
    "df = pd.read_csv(\"Ternary_classification_data.csv\", encoding='UTF-8')\n",
    "# print(df.shape, type(df)) # 파일 구조 및 컬럼명 확인용\n",
    "df['org_idx']= df.index # 인덱스 column 만들기: 문장 분리할 때 사용함\n",
    "post_list = list(df['sentence']) #자연어 전처리를 위해 본문을 리스트 형태로"
   ]
  },
  {
   "cell_type": "code",
   "execution_count": 3,
   "metadata": {},
   "outputs": [
    {
     "name": "stderr",
     "output_type": "stream",
     "text": [
      "100%|██████████| 616892/616892 [00:10<00:00, 59598.11it/s]\n"
     ]
    }
   ],
   "source": [
    "''' 불용어 제거 '''\n",
    "# post_list 양이 많을 경우 불용어 제거 중에 오류 나면 다시 리스트로 만드는 데 오래 걸려서 카피하는 것임. 안 하고 post_list로 진행해도 됨.\n",
    "post_list2 = post_list.copy()\n",
    "for i in tqdm(range(len(post_list2))):\n",
    "    post_list2[i] = re.sub('\\n', ' ', string=str(post_list2[i])) # 줄바꿈을 띄어쓰기 하나로\n",
    "    post_list2[i] = re.compile('[^|ㄱ-ㅎ|ㅏ-ㅣ|A-Z|a-z|0-9|가-힣]+').sub(' ',post_list2[i])\n",
    "    post_list2[i] = repeat_normalize(post_list2[i], num_repeats=1)\n",
    "\t# ↑ ㅋㅋㅋ, ㅎㅎㅎ 등의 의미 없는 자음 삭제. num_repeats가 1이면 반복 글자 중 1개만 남기고 2면 2개만 남김.\n",
    "    post_list2[i] = re.sub(r\"^\\s+|\\s+$\", \"\", post_list2[i]) # 문서 앞뒤 공백 제거\n",
    "    post_list2[i] = post_list2[i].split() # 문서 내 공백(1개 이상) 기준으로 자르기\n",
    "    post_list2[i] = ' '.join(post_list2[i]) # 공백 기준으로 나뉜 문서를 다시 1개의 공백을 두고 붙임.\n",
    "\t# ↑ 문서 내 다중 공백을 지우기 위함.]\n",
    "\n",
    "df['cleaning'] = pd.DataFrame(post_list2) #불용어 제거된 본문을 데이터 프레임으로"
   ]
  },
  {
   "cell_type": "code",
   "execution_count": 4,
   "metadata": {},
   "outputs": [
    {
     "data": {
      "text/html": [
       "<div>\n",
       "<style scoped>\n",
       "    .dataframe tbody tr th:only-of-type {\n",
       "        vertical-align: middle;\n",
       "    }\n",
       "\n",
       "    .dataframe tbody tr th {\n",
       "        vertical-align: top;\n",
       "    }\n",
       "\n",
       "    .dataframe thead th {\n",
       "        text-align: right;\n",
       "    }\n",
       "</style>\n",
       "<table border=\"1\" class=\"dataframe\">\n",
       "  <thead>\n",
       "    <tr style=\"text-align: right;\">\n",
       "      <th></th>\n",
       "      <th>sentence</th>\n",
       "      <th>sentiment</th>\n",
       "      <th>org_idx</th>\n",
       "      <th>cleaning</th>\n",
       "    </tr>\n",
       "  </thead>\n",
       "  <tbody>\n",
       "    <tr>\n",
       "      <th>0</th>\n",
       "      <td>언니 동생으로 부르는게 맞는 일인가요..??</td>\n",
       "      <td>부정</td>\n",
       "      <td>0</td>\n",
       "      <td>언니 동생으로 부르는게 맞는 일인가요</td>\n",
       "    </tr>\n",
       "    <tr>\n",
       "      <th>1</th>\n",
       "      <td>그냥 내 느낌일뿐겠지?</td>\n",
       "      <td>부정</td>\n",
       "      <td>1</td>\n",
       "      <td>그냥 내 느낌일뿐겠지</td>\n",
       "    </tr>\n",
       "    <tr>\n",
       "      <th>2</th>\n",
       "      <td>아직너무초기라서 그런거죠?</td>\n",
       "      <td>부정</td>\n",
       "      <td>2</td>\n",
       "      <td>아직너무초기라서 그런거죠</td>\n",
       "    </tr>\n",
       "    <tr>\n",
       "      <th>3</th>\n",
       "      <td>유치원버스 사고 낫다던데</td>\n",
       "      <td>부정</td>\n",
       "      <td>3</td>\n",
       "      <td>유치원버스 사고 낫다던데</td>\n",
       "    </tr>\n",
       "    <tr>\n",
       "      <th>4</th>\n",
       "      <td>근데 원래이런거맞나요</td>\n",
       "      <td>부정</td>\n",
       "      <td>4</td>\n",
       "      <td>근데 원래이런거맞나요</td>\n",
       "    </tr>\n",
       "    <tr>\n",
       "      <th>...</th>\n",
       "      <td>...</td>\n",
       "      <td>...</td>\n",
       "      <td>...</td>\n",
       "      <td>...</td>\n",
       "    </tr>\n",
       "    <tr>\n",
       "      <th>616887</th>\n",
       "      <td>솔직히 예보 제대로 못하는 데 세금이라도 아끼게 그냥 폐지해라..</td>\n",
       "      <td>부정</td>\n",
       "      <td>616887</td>\n",
       "      <td>솔직히 예보 제대로 못하는 데 세금이라도 아끼게 그냥 폐지해라</td>\n",
       "    </tr>\n",
       "    <tr>\n",
       "      <th>616888</th>\n",
       "      <td>재미가 없으니 망하지</td>\n",
       "      <td>부정</td>\n",
       "      <td>616888</td>\n",
       "      <td>재미가 없으니 망하지</td>\n",
       "    </tr>\n",
       "    <tr>\n",
       "      <th>616889</th>\n",
       "      <td>공장 도시락 비우생적임 아르바이트했는데 화장실가성 손도 않씯고 재료 담고 바닥 떨어...</td>\n",
       "      <td>부정</td>\n",
       "      <td>616889</td>\n",
       "      <td>공장 도시락 비우생적임 아르바이트했는데 화장실가성 손도 않씯고 재료 담고 바닥 떨어...</td>\n",
       "    </tr>\n",
       "    <tr>\n",
       "      <th>616890</th>\n",
       "      <td>코딱지 만한 나라에서 지들끼리 피터지게 싸우는 센징 클래스 ㅉㅉㅉ</td>\n",
       "      <td>부정</td>\n",
       "      <td>616890</td>\n",
       "      <td>코딱지 만한 나라에서 지들끼리 피터지게 싸우는 센징 클래스 ㅉㅉㅉ</td>\n",
       "    </tr>\n",
       "    <tr>\n",
       "      <th>616891</th>\n",
       "      <td>와이프도 그렇고 댓글 다 볼텐데 이휘재 좀 하차 하라고 전해주세요</td>\n",
       "      <td>부정</td>\n",
       "      <td>616891</td>\n",
       "      <td>와이프도 그렇고 댓글 다 볼텐데 이휘재 좀 하차 하라고 전해주세요</td>\n",
       "    </tr>\n",
       "  </tbody>\n",
       "</table>\n",
       "<p>616892 rows × 4 columns</p>\n",
       "</div>"
      ],
      "text/plain": [
       "                                                 sentence sentiment  org_idx  \\\n",
       "0                                언니 동생으로 부르는게 맞는 일인가요..??        부정        0   \n",
       "1                                            그냥 내 느낌일뿐겠지?        부정        1   \n",
       "2                                          아직너무초기라서 그런거죠?        부정        2   \n",
       "3                                           유치원버스 사고 낫다던데        부정        3   \n",
       "4                                             근데 원래이런거맞나요        부정        4   \n",
       "...                                                   ...       ...      ...   \n",
       "616887               솔직히 예보 제대로 못하는 데 세금이라도 아끼게 그냥 폐지해라..        부정   616887   \n",
       "616888                                        재미가 없으니 망하지        부정   616888   \n",
       "616889  공장 도시락 비우생적임 아르바이트했는데 화장실가성 손도 않씯고 재료 담고 바닥 떨어...        부정   616889   \n",
       "616890               코딱지 만한 나라에서 지들끼리 피터지게 싸우는 센징 클래스 ㅉㅉㅉ        부정   616890   \n",
       "616891               와이프도 그렇고 댓글 다 볼텐데 이휘재 좀 하차 하라고 전해주세요        부정   616891   \n",
       "\n",
       "                                                 cleaning  \n",
       "0                                    언니 동생으로 부르는게 맞는 일인가요  \n",
       "1                                             그냥 내 느낌일뿐겠지  \n",
       "2                                           아직너무초기라서 그런거죠  \n",
       "3                                           유치원버스 사고 낫다던데  \n",
       "4                                             근데 원래이런거맞나요  \n",
       "...                                                   ...  \n",
       "616887                 솔직히 예보 제대로 못하는 데 세금이라도 아끼게 그냥 폐지해라  \n",
       "616888                                        재미가 없으니 망하지  \n",
       "616889  공장 도시락 비우생적임 아르바이트했는데 화장실가성 손도 않씯고 재료 담고 바닥 떨어...  \n",
       "616890               코딱지 만한 나라에서 지들끼리 피터지게 싸우는 센징 클래스 ㅉㅉㅉ  \n",
       "616891               와이프도 그렇고 댓글 다 볼텐데 이휘재 좀 하차 하라고 전해주세요  \n",
       "\n",
       "[616892 rows x 4 columns]"
      ]
     },
     "execution_count": 4,
     "metadata": {},
     "output_type": "execute_result"
    }
   ],
   "source": [
    "df"
   ]
  },
  {
   "cell_type": "code",
   "execution_count": 5,
   "metadata": {},
   "outputs": [],
   "source": [
    "df2 = df[[\"cleaning\",\"sentiment\"]]"
   ]
  },
  {
   "cell_type": "code",
   "execution_count": 6,
   "metadata": {},
   "outputs": [
    {
     "name": "stderr",
     "output_type": "stream",
     "text": [
      "c:\\Users\\user\\anaconda3\\envs\\NIFOS\\lib\\site-packages\\pandas\\core\\frame.py:5047: SettingWithCopyWarning: \n",
      "A value is trying to be set on a copy of a slice from a DataFrame\n",
      "\n",
      "See the caveats in the documentation: https://pandas.pydata.org/pandas-docs/stable/user_guide/indexing.html#returning-a-view-versus-a-copy\n",
      "  errors=errors,\n"
     ]
    }
   ],
   "source": [
    "df2.rename(columns={'cleaning': 'sentence'}, inplace=True)"
   ]
  },
  {
   "cell_type": "code",
   "execution_count": 7,
   "metadata": {},
   "outputs": [
    {
     "data": {
      "text/html": [
       "<div>\n",
       "<style scoped>\n",
       "    .dataframe tbody tr th:only-of-type {\n",
       "        vertical-align: middle;\n",
       "    }\n",
       "\n",
       "    .dataframe tbody tr th {\n",
       "        vertical-align: top;\n",
       "    }\n",
       "\n",
       "    .dataframe thead th {\n",
       "        text-align: right;\n",
       "    }\n",
       "</style>\n",
       "<table border=\"1\" class=\"dataframe\">\n",
       "  <thead>\n",
       "    <tr style=\"text-align: right;\">\n",
       "      <th></th>\n",
       "      <th>sentence</th>\n",
       "      <th>sentiment</th>\n",
       "    </tr>\n",
       "  </thead>\n",
       "  <tbody>\n",
       "    <tr>\n",
       "      <th>0</th>\n",
       "      <td>언니 동생으로 부르는게 맞는 일인가요</td>\n",
       "      <td>부정</td>\n",
       "    </tr>\n",
       "    <tr>\n",
       "      <th>1</th>\n",
       "      <td>그냥 내 느낌일뿐겠지</td>\n",
       "      <td>부정</td>\n",
       "    </tr>\n",
       "    <tr>\n",
       "      <th>2</th>\n",
       "      <td>아직너무초기라서 그런거죠</td>\n",
       "      <td>부정</td>\n",
       "    </tr>\n",
       "    <tr>\n",
       "      <th>3</th>\n",
       "      <td>유치원버스 사고 낫다던데</td>\n",
       "      <td>부정</td>\n",
       "    </tr>\n",
       "    <tr>\n",
       "      <th>4</th>\n",
       "      <td>근데 원래이런거맞나요</td>\n",
       "      <td>부정</td>\n",
       "    </tr>\n",
       "    <tr>\n",
       "      <th>...</th>\n",
       "      <td>...</td>\n",
       "      <td>...</td>\n",
       "    </tr>\n",
       "    <tr>\n",
       "      <th>616887</th>\n",
       "      <td>솔직히 예보 제대로 못하는 데 세금이라도 아끼게 그냥 폐지해라</td>\n",
       "      <td>부정</td>\n",
       "    </tr>\n",
       "    <tr>\n",
       "      <th>616888</th>\n",
       "      <td>재미가 없으니 망하지</td>\n",
       "      <td>부정</td>\n",
       "    </tr>\n",
       "    <tr>\n",
       "      <th>616889</th>\n",
       "      <td>공장 도시락 비우생적임 아르바이트했는데 화장실가성 손도 않씯고 재료 담고 바닥 떨어...</td>\n",
       "      <td>부정</td>\n",
       "    </tr>\n",
       "    <tr>\n",
       "      <th>616890</th>\n",
       "      <td>코딱지 만한 나라에서 지들끼리 피터지게 싸우는 센징 클래스 ㅉㅉㅉ</td>\n",
       "      <td>부정</td>\n",
       "    </tr>\n",
       "    <tr>\n",
       "      <th>616891</th>\n",
       "      <td>와이프도 그렇고 댓글 다 볼텐데 이휘재 좀 하차 하라고 전해주세요</td>\n",
       "      <td>부정</td>\n",
       "    </tr>\n",
       "  </tbody>\n",
       "</table>\n",
       "<p>616892 rows × 2 columns</p>\n",
       "</div>"
      ],
      "text/plain": [
       "                                                 sentence sentiment\n",
       "0                                    언니 동생으로 부르는게 맞는 일인가요        부정\n",
       "1                                             그냥 내 느낌일뿐겠지        부정\n",
       "2                                           아직너무초기라서 그런거죠        부정\n",
       "3                                           유치원버스 사고 낫다던데        부정\n",
       "4                                             근데 원래이런거맞나요        부정\n",
       "...                                                   ...       ...\n",
       "616887                 솔직히 예보 제대로 못하는 데 세금이라도 아끼게 그냥 폐지해라        부정\n",
       "616888                                        재미가 없으니 망하지        부정\n",
       "616889  공장 도시락 비우생적임 아르바이트했는데 화장실가성 손도 않씯고 재료 담고 바닥 떨어...        부정\n",
       "616890               코딱지 만한 나라에서 지들끼리 피터지게 싸우는 센징 클래스 ㅉㅉㅉ        부정\n",
       "616891               와이프도 그렇고 댓글 다 볼텐데 이휘재 좀 하차 하라고 전해주세요        부정\n",
       "\n",
       "[616892 rows x 2 columns]"
      ]
     },
     "execution_count": 7,
     "metadata": {},
     "output_type": "execute_result"
    }
   ],
   "source": [
    "df2"
   ]
  },
  {
   "cell_type": "code",
   "execution_count": 8,
   "metadata": {},
   "outputs": [
    {
     "data": {
      "text/plain": [
       "sentence     0\n",
       "sentiment    0\n",
       "dtype: int64"
      ]
     },
     "execution_count": 8,
     "metadata": {},
     "output_type": "execute_result"
    }
   ],
   "source": [
    "df2.isnull().sum()"
   ]
  },
  {
   "cell_type": "code",
   "execution_count": 9,
   "metadata": {},
   "outputs": [
    {
     "name": "stderr",
     "output_type": "stream",
     "text": [
      "c:\\Users\\user\\anaconda3\\envs\\NIFOS\\lib\\site-packages\\pandas\\util\\_decorators.py:311: SettingWithCopyWarning: \n",
      "A value is trying to be set on a copy of a slice from a DataFrame\n",
      "\n",
      "See the caveats in the documentation: https://pandas.pydata.org/pandas-docs/stable/user_guide/indexing.html#returning-a-view-versus-a-copy\n",
      "  return func(*args, **kwargs)\n"
     ]
    }
   ],
   "source": [
    "df2.dropna(axis=0, inplace=True)\n",
    "df2.reset_index(drop=True, inplace=True)\n",
    "df2.to_csv(\"Ternary_classification_data_spellcheck.csv\", index=False, encoding='UTF-8')"
   ]
  }
 ],
 "metadata": {
  "kernelspec": {
   "display_name": "NIFOS",
   "language": "python",
   "name": "python3"
  },
  "language_info": {
   "codemirror_mode": {
    "name": "ipython",
    "version": 3
   },
   "file_extension": ".py",
   "mimetype": "text/x-python",
   "name": "python",
   "nbconvert_exporter": "python",
   "pygments_lexer": "ipython3",
   "version": "3.7.16"
  },
  "orig_nbformat": 4
 },
 "nbformat": 4,
 "nbformat_minor": 2
}
