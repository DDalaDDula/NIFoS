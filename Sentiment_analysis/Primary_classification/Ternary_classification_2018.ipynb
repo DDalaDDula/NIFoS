{
 "cells": [
  {
   "cell_type": "code",
   "execution_count": 1,
   "metadata": {},
   "outputs": [],
   "source": [
    "import torch\n",
    "import torch.nn as nn\n",
    "from transformers import ElectraTokenizer, ElectraForSequenceClassification\n",
    "from torch.utils.data import DataLoader, Dataset\n",
    "from sklearn.model_selection import train_test_split\n",
    "import pandas as pd\n",
    "import numpy as np\n",
    "from tqdm import tqdm "
   ]
  },
  {
   "cell_type": "code",
   "execution_count": 2,
   "metadata": {},
   "outputs": [],
   "source": [
    "# koELECTRA 토크나이저 불러오기\n",
    "tokenizer = ElectraTokenizer.from_pretrained(\"koelectra-base-v3-discriminator\")"
   ]
  },
  {
   "cell_type": "code",
   "execution_count": 3,
   "metadata": {},
   "outputs": [
    {
     "name": "stderr",
     "output_type": "stream",
     "text": [
      "Some weights of the model checkpoint at koelectra-base-v3-discriminator were not used when initializing ElectraForSequenceClassification: ['discriminator_predictions.dense_prediction.weight', 'discriminator_predictions.dense.weight', 'discriminator_predictions.dense_prediction.bias', 'discriminator_predictions.dense.bias']\n",
      "- This IS expected if you are initializing ElectraForSequenceClassification from the checkpoint of a model trained on another task or with another architecture (e.g. initializing a BertForSequenceClassification model from a BertForPreTraining model).\n",
      "- This IS NOT expected if you are initializing ElectraForSequenceClassification from the checkpoint of a model that you expect to be exactly identical (initializing a BertForSequenceClassification model from a BertForSequenceClassification model).\n",
      "Some weights of ElectraForSequenceClassification were not initialized from the model checkpoint at koelectra-base-v3-discriminator and are newly initialized: ['classifier.out_proj.bias', 'classifier.out_proj.weight', 'classifier.dense.bias', 'classifier.dense.weight']\n",
      "You should probably TRAIN this model on a down-stream task to be able to use it for predictions and inference.\n"
     ]
    }
   ],
   "source": [
    "''' 모델가중치를 불러오거나 체크포인트를 불러올 때 실행 '''\n",
    "\n",
    "# 모델의 상태 딕셔너리를 로드합니다.\n",
    "model_state_dict = torch.load(\"Ternary_model_state_dict_epoch_15.pt\")\n",
    "\n",
    "# 모델을 생성하고 상태를 로드합니다.\n",
    "model = ElectraForSequenceClassification.from_pretrained(\"koelectra-base-v3-discriminator\", num_labels=3)\n",
    "model.load_state_dict(model_state_dict)\n",
    "\n",
    "# 옵티마이저의 상태 딕셔너리를 로드합니다.\n",
    "optimizer_state_dict = torch.load(\"Ternary_optimizer_state_dict_epoch_15.pt\")"
   ]
  },
  {
   "cell_type": "code",
   "execution_count": 4,
   "metadata": {},
   "outputs": [],
   "source": [
    "# 변경하고자 하는 Dropout 비율\n",
    "new_dropout_rate = 0.2\n",
    "\n",
    "# 모든 Dropout 레이어의 비율 변경\n",
    "for name, module in model.named_modules():\n",
    "    if isinstance(module, torch.nn.Dropout):\n",
    "        module.p = new_dropout_rate\n"
   ]
  },
  {
   "cell_type": "code",
   "execution_count": null,
   "metadata": {},
   "outputs": [],
   "source": [
    "# 모델 구조 확인\n",
    "print(model)"
   ]
  },
  {
   "cell_type": "code",
   "execution_count": null,
   "metadata": {},
   "outputs": [],
   "source": [
    "# 장치 설정 (GPU 사용을 위해)\n",
    "device = torch.device('cuda' if torch.cuda.is_available() else 'cpu')\n",
    "model.to(device)"
   ]
  },
  {
   "attachments": {},
   "cell_type": "markdown",
   "metadata": {},
   "source": [
    "## 실제로 예측해보기"
   ]
  },
  {
   "cell_type": "code",
   "execution_count": 6,
   "metadata": {},
   "outputs": [],
   "source": [
    "# 한국어 문장을 입력으로 받아서 예측 라벨을 출력하는 함수\n",
    "def predict_label(sentence, model, tokenizer, device):\n",
    "    model.eval()\n",
    "    with torch.no_grad():\n",
    "        inputs = tokenizer(sentence, return_tensors='pt', truncation=True, padding=True)\n",
    "        inputs = {k: v.to(device) for k, v in inputs.items()}\n",
    "        outputs = model(**inputs)\n",
    "        logits = outputs.logits\n",
    "        predicted_label = torch.argmax(logits, dim=1).item()\n",
    "        return predicted_label"
   ]
  },
  {
   "cell_type": "code",
   "execution_count": 7,
   "metadata": {},
   "outputs": [],
   "source": [
    "import pandas as pd"
   ]
  },
  {
   "cell_type": "code",
   "execution_count": 8,
   "metadata": {},
   "outputs": [
    {
     "data": {
      "text/html": [
       "<div>\n",
       "<style scoped>\n",
       "    .dataframe tbody tr th:only-of-type {\n",
       "        vertical-align: middle;\n",
       "    }\n",
       "\n",
       "    .dataframe tbody tr th {\n",
       "        vertical-align: top;\n",
       "    }\n",
       "\n",
       "    .dataframe thead th {\n",
       "        text-align: right;\n",
       "    }\n",
       "</style>\n",
       "<table border=\"1\" class=\"dataframe\">\n",
       "  <thead>\n",
       "    <tr style=\"text-align: right;\">\n",
       "      <th></th>\n",
       "      <th>Unnamed: 0</th>\n",
       "      <th>split_str</th>\n",
       "      <th>org_idx</th>\n",
       "      <th>correct_str</th>\n",
       "    </tr>\n",
       "  </thead>\n",
       "  <tbody>\n",
       "    <tr>\n",
       "      <th>0</th>\n",
       "      <td>0</td>\n",
       "      <td>블로그 momo 5개의 글 momo 목록열기 영어명언 모음입니다</td>\n",
       "      <td>0</td>\n",
       "      <td>블로그 mom 5개의 글 mom 목록 열기 영어 명언 모음입니다.</td>\n",
       "    </tr>\n",
       "    <tr>\n",
       "      <th>1</th>\n",
       "      <td>1</td>\n",
       "      <td>momo 2018 12 31 19 52 https blog naver com omj...</td>\n",
       "      <td>0</td>\n",
       "      <td>mom 2018, 12, 31, 19, 52 https blog NAVER com ...</td>\n",
       "    </tr>\n",
       "    <tr>\n",
       "      <th>2</th>\n",
       "      <td>2</td>\n",
       "      <td>An enemy generally says and believes what he w...</td>\n",
       "      <td>0</td>\n",
       "      <td>An enemy generally says and believes what he w...</td>\n",
       "    </tr>\n",
       "    <tr>\n",
       "      <th>3</th>\n",
       "      <td>3</td>\n",
       "      <td>True love is the joy of life 진실한 사랑은 인생의 환희다</td>\n",
       "      <td>0</td>\n",
       "      <td>True love is the joy of life 진실한 사랑은 인생의 환희다</td>\n",
       "    </tr>\n",
       "    <tr>\n",
       "      <th>4</th>\n",
       "      <td>4</td>\n",
       "      <td>Carpe diem 현재를 즐겨라</td>\n",
       "      <td>0</td>\n",
       "      <td>Crape idem 현재를 즐겨라.</td>\n",
       "    </tr>\n",
       "    <tr>\n",
       "      <th>...</th>\n",
       "      <td>...</td>\n",
       "      <td>...</td>\n",
       "      <td>...</td>\n",
       "      <td>...</td>\n",
       "    </tr>\n",
       "    <tr>\n",
       "      <th>135819</th>\n",
       "      <td>135819</td>\n",
       "      <td>한편 경계의 의미로 이 사자성어를 추천한 이들도 눈에 띈다</td>\n",
       "      <td>5170</td>\n",
       "      <td>한편 경계의 의미로 이 사자성어를 추천한 이들도 눈에 띈다.</td>\n",
       "    </tr>\n",
       "    <tr>\n",
       "      <th>135820</th>\n",
       "      <td>135820</td>\n",
       "      <td>조은영 원광대 교수 미술과 는 2017년을 종합하기에는 수락석출 외의 단어들이 지나...</td>\n",
       "      <td>5170</td>\n",
       "      <td>조은영 원광대 교수 미술과는 2017년을 종합하기에는 수락 석출 외의 단어들이 지나...</td>\n",
       "    </tr>\n",
       "    <tr>\n",
       "      <th>135821</th>\n",
       "      <td>135821</td>\n",
       "      <td>올해의 사자성어는 3위부터 5위까지는 약 16 대의 고른 분포를 보인 것이 특징이다</td>\n",
       "      <td>5170</td>\n",
       "      <td>올해의 사자성어는 3위부터 5위까지는 약 16대의 고른 분포를 보인 것이 특징이다.</td>\n",
       "    </tr>\n",
       "    <tr>\n",
       "      <th>135822</th>\n",
       "      <td>135822</td>\n",
       "      <td>4위는 16 5위는 15 1 였다</td>\n",
       "      <td>5170</td>\n",
       "      <td>4위는 16, 5위는 15, 1 쳤다</td>\n",
       "    </tr>\n",
       "    <tr>\n",
       "      <th>135823</th>\n",
       "      <td>135823</td>\n",
       "      <td>공감 0 이 글에 공감한 블로거 열고 닫기 댓글 쓰기 이 글에 댓글 단 블로거 열고...</td>\n",
       "      <td>5170</td>\n",
       "      <td>공감 0 이 글에 공감한 블로거 여닫기 댓글 쓰기 이 글에 댓글 단 블로거 여닫기 ...</td>\n",
       "    </tr>\n",
       "  </tbody>\n",
       "</table>\n",
       "<p>135824 rows × 4 columns</p>\n",
       "</div>"
      ],
      "text/plain": [
       "        Unnamed: 0                                          split_str  \\\n",
       "0                0                블로그 momo 5개의 글 momo 목록열기 영어명언 모음입니다   \n",
       "1                1  momo 2018 12 31 19 52 https blog naver com omj...   \n",
       "2                2  An enemy generally says and believes what he w...   \n",
       "3                3       True love is the joy of life 진실한 사랑은 인생의 환희다   \n",
       "4                4                                 Carpe diem 현재를 즐겨라   \n",
       "...            ...                                                ...   \n",
       "135819      135819                   한편 경계의 의미로 이 사자성어를 추천한 이들도 눈에 띈다   \n",
       "135820      135820  조은영 원광대 교수 미술과 는 2017년을 종합하기에는 수락석출 외의 단어들이 지나...   \n",
       "135821      135821     올해의 사자성어는 3위부터 5위까지는 약 16 대의 고른 분포를 보인 것이 특징이다   \n",
       "135822      135822                                 4위는 16 5위는 15 1 였다   \n",
       "135823      135823  공감 0 이 글에 공감한 블로거 열고 닫기 댓글 쓰기 이 글에 댓글 단 블로거 열고...   \n",
       "\n",
       "        org_idx                                        correct_str  \n",
       "0             0               블로그 mom 5개의 글 mom 목록 열기 영어 명언 모음입니다.  \n",
       "1             0  mom 2018, 12, 31, 19, 52 https blog NAVER com ...  \n",
       "2             0  An enemy generally says and believes what he w...  \n",
       "3             0       True love is the joy of life 진실한 사랑은 인생의 환희다  \n",
       "4             0                                Crape idem 현재를 즐겨라.  \n",
       "...         ...                                                ...  \n",
       "135819     5170                  한편 경계의 의미로 이 사자성어를 추천한 이들도 눈에 띈다.  \n",
       "135820     5170  조은영 원광대 교수 미술과는 2017년을 종합하기에는 수락 석출 외의 단어들이 지나...  \n",
       "135821     5170     올해의 사자성어는 3위부터 5위까지는 약 16대의 고른 분포를 보인 것이 특징이다.  \n",
       "135822     5170                               4위는 16, 5위는 15, 1 쳤다  \n",
       "135823     5170  공감 0 이 글에 공감한 블로거 여닫기 댓글 쓰기 이 글에 댓글 단 블로거 여닫기 ...  \n",
       "\n",
       "[135824 rows x 4 columns]"
      ]
     },
     "execution_count": 8,
     "metadata": {},
     "output_type": "execute_result"
    }
   ],
   "source": [
    "df = pd.read_csv(\"../dataset/2018산림복지_본문_맞춤법검사.txt\", encoding='UTF-8')\n",
    "df"
   ]
  },
  {
   "cell_type": "code",
   "execution_count": 9,
   "metadata": {},
   "outputs": [
    {
     "name": "stderr",
     "output_type": "stream",
     "text": [
      "100%|██████████| 135824/135824 [1:33:04<00:00, 24.32it/s] \n"
     ]
    }
   ],
   "source": [
    "# 한국어 문장 입력 받기\n",
    "korean_sentences = df['correct_str'].tolist()\n",
    "\n",
    "# 예측 라벨 출력\n",
    "emotion_labels = {0:'부정', 1:'중립', 2:'긍정'}\n",
    "predicted_label = [emotion_labels[predict_label(korean_sentence, model, tokenizer, device)] for korean_sentence in tqdm(korean_sentences)]\n",
    "df['label'] = predicted_label"
   ]
  },
  {
   "cell_type": "code",
   "execution_count": 10,
   "metadata": {},
   "outputs": [
    {
     "data": {
      "text/html": [
       "<div>\n",
       "<style scoped>\n",
       "    .dataframe tbody tr th:only-of-type {\n",
       "        vertical-align: middle;\n",
       "    }\n",
       "\n",
       "    .dataframe tbody tr th {\n",
       "        vertical-align: top;\n",
       "    }\n",
       "\n",
       "    .dataframe thead th {\n",
       "        text-align: right;\n",
       "    }\n",
       "</style>\n",
       "<table border=\"1\" class=\"dataframe\">\n",
       "  <thead>\n",
       "    <tr style=\"text-align: right;\">\n",
       "      <th></th>\n",
       "      <th>correct_str</th>\n",
       "      <th>label</th>\n",
       "      <th>org_idx</th>\n",
       "    </tr>\n",
       "  </thead>\n",
       "  <tbody>\n",
       "    <tr>\n",
       "      <th>0</th>\n",
       "      <td>블로그 mom 5개의 글 mom 목록 열기 영어 명언 모음입니다.</td>\n",
       "      <td>긍정</td>\n",
       "      <td>0</td>\n",
       "    </tr>\n",
       "    <tr>\n",
       "      <th>1</th>\n",
       "      <td>mom 2018, 12, 31, 19, 52 https blog NAVER com ...</td>\n",
       "      <td>긍정</td>\n",
       "      <td>0</td>\n",
       "    </tr>\n",
       "    <tr>\n",
       "      <th>2</th>\n",
       "      <td>An enemy generally says and believes what he w...</td>\n",
       "      <td>부정</td>\n",
       "      <td>0</td>\n",
       "    </tr>\n",
       "    <tr>\n",
       "      <th>3</th>\n",
       "      <td>True love is the joy of life 진실한 사랑은 인생의 환희다</td>\n",
       "      <td>긍정</td>\n",
       "      <td>0</td>\n",
       "    </tr>\n",
       "    <tr>\n",
       "      <th>4</th>\n",
       "      <td>Crape idem 현재를 즐겨라.</td>\n",
       "      <td>긍정</td>\n",
       "      <td>0</td>\n",
       "    </tr>\n",
       "    <tr>\n",
       "      <th>...</th>\n",
       "      <td>...</td>\n",
       "      <td>...</td>\n",
       "      <td>...</td>\n",
       "    </tr>\n",
       "    <tr>\n",
       "      <th>135819</th>\n",
       "      <td>한편 경계의 의미로 이 사자성어를 추천한 이들도 눈에 띈다.</td>\n",
       "      <td>부정</td>\n",
       "      <td>5170</td>\n",
       "    </tr>\n",
       "    <tr>\n",
       "      <th>135820</th>\n",
       "      <td>조은영 원광대 교수 미술과는 2017년을 종합하기에는 수락 석출 외의 단어들이 지나...</td>\n",
       "      <td>부정</td>\n",
       "      <td>5170</td>\n",
       "    </tr>\n",
       "    <tr>\n",
       "      <th>135821</th>\n",
       "      <td>올해의 사자성어는 3위부터 5위까지는 약 16대의 고른 분포를 보인 것이 특징이다.</td>\n",
       "      <td>긍정</td>\n",
       "      <td>5170</td>\n",
       "    </tr>\n",
       "    <tr>\n",
       "      <th>135822</th>\n",
       "      <td>4위는 16, 5위는 15, 1 쳤다</td>\n",
       "      <td>부정</td>\n",
       "      <td>5170</td>\n",
       "    </tr>\n",
       "    <tr>\n",
       "      <th>135823</th>\n",
       "      <td>공감 0 이 글에 공감한 블로거 여닫기 댓글 쓰기 이 글에 댓글 단 블로거 여닫기 ...</td>\n",
       "      <td>부정</td>\n",
       "      <td>5170</td>\n",
       "    </tr>\n",
       "  </tbody>\n",
       "</table>\n",
       "<p>135824 rows × 3 columns</p>\n",
       "</div>"
      ],
      "text/plain": [
       "                                              correct_str label  org_idx\n",
       "0                    블로그 mom 5개의 글 mom 목록 열기 영어 명언 모음입니다.    긍정        0\n",
       "1       mom 2018, 12, 31, 19, 52 https blog NAVER com ...    긍정        0\n",
       "2       An enemy generally says and believes what he w...    부정        0\n",
       "3            True love is the joy of life 진실한 사랑은 인생의 환희다    긍정        0\n",
       "4                                     Crape idem 현재를 즐겨라.    긍정        0\n",
       "...                                                   ...   ...      ...\n",
       "135819                  한편 경계의 의미로 이 사자성어를 추천한 이들도 눈에 띈다.    부정     5170\n",
       "135820  조은영 원광대 교수 미술과는 2017년을 종합하기에는 수락 석출 외의 단어들이 지나...    부정     5170\n",
       "135821     올해의 사자성어는 3위부터 5위까지는 약 16대의 고른 분포를 보인 것이 특징이다.    긍정     5170\n",
       "135822                               4위는 16, 5위는 15, 1 쳤다    부정     5170\n",
       "135823  공감 0 이 글에 공감한 블로거 여닫기 댓글 쓰기 이 글에 댓글 단 블로거 여닫기 ...    부정     5170\n",
       "\n",
       "[135824 rows x 3 columns]"
      ]
     },
     "execution_count": 10,
     "metadata": {},
     "output_type": "execute_result"
    }
   ],
   "source": [
    "ddff = df[['correct_str','label','org_idx']]\n",
    "ddff"
   ]
  },
  {
   "cell_type": "code",
   "execution_count": 11,
   "metadata": {},
   "outputs": [
    {
     "data": {
      "text/plain": [
       "긍정    94869\n",
       "부정    32320\n",
       "중립     8635\n",
       "Name: label, dtype: int64"
      ]
     },
     "execution_count": 11,
     "metadata": {},
     "output_type": "execute_result"
    }
   ],
   "source": [
    "ddff['label'].value_counts()"
   ]
  },
  {
   "cell_type": "code",
   "execution_count": 12,
   "metadata": {},
   "outputs": [
    {
     "data": {
      "text/html": [
       "<div>\n",
       "<style scoped>\n",
       "    .dataframe tbody tr th:only-of-type {\n",
       "        vertical-align: middle;\n",
       "    }\n",
       "\n",
       "    .dataframe tbody tr th {\n",
       "        vertical-align: top;\n",
       "    }\n",
       "\n",
       "    .dataframe thead th {\n",
       "        text-align: right;\n",
       "    }\n",
       "</style>\n",
       "<table border=\"1\" class=\"dataframe\">\n",
       "  <thead>\n",
       "    <tr style=\"text-align: right;\">\n",
       "      <th></th>\n",
       "      <th>correct_str</th>\n",
       "      <th>label</th>\n",
       "      <th>org_idx</th>\n",
       "    </tr>\n",
       "  </thead>\n",
       "  <tbody>\n",
       "    <tr>\n",
       "      <th>6</th>\n",
       "      <td>어떠세요.</td>\n",
       "      <td>중립</td>\n",
       "      <td>0</td>\n",
       "    </tr>\n",
       "    <tr>\n",
       "      <th>24</th>\n",
       "      <td>WHO 비교할 LED 달라 만들기 기기 전문 이바지할 계절 최근 3 phosphor...</td>\n",
       "      <td>중립</td>\n",
       "      <td>0</td>\n",
       "    </tr>\n",
       "    <tr>\n",
       "      <th>37</th>\n",
       "      <td>제안하세요.</td>\n",
       "      <td>중립</td>\n",
       "      <td>0</td>\n",
       "    </tr>\n",
       "    <tr>\n",
       "      <th>62</th>\n",
       "      <td>속에 있는 얘기 남겨주세요.</td>\n",
       "      <td>중립</td>\n",
       "      <td>1</td>\n",
       "    </tr>\n",
       "    <tr>\n",
       "      <th>64</th>\n",
       "      <td>속에 있는 얘기 남겨주세요.</td>\n",
       "      <td>중립</td>\n",
       "      <td>1</td>\n",
       "    </tr>\n",
       "    <tr>\n",
       "      <th>...</th>\n",
       "      <td>...</td>\n",
       "      <td>...</td>\n",
       "      <td>...</td>\n",
       "    </tr>\n",
       "    <tr>\n",
       "      <th>135712</th>\n",
       "      <td>새해 복 많이 받으세요.</td>\n",
       "      <td>중립</td>\n",
       "      <td>5164</td>\n",
       "    </tr>\n",
       "    <tr>\n",
       "      <th>135724</th>\n",
       "      <td>편의점 한의원 약국 학원 부동산 운동센터 치과 패스트푸드점 병원 등등 고민하다 늦지...</td>\n",
       "      <td>중립</td>\n",
       "      <td>5165</td>\n",
       "    </tr>\n",
       "    <tr>\n",
       "      <th>135793</th>\n",
       "      <td>아무리 추이를 따르더라도 하실 일은 하셔야지요.</td>\n",
       "      <td>중립</td>\n",
       "      <td>5170</td>\n",
       "    </tr>\n",
       "    <tr>\n",
       "      <th>135795</th>\n",
       "      <td>소는 밭을소는 밭을 갈고 말은 사람이 타는 법이지요.</td>\n",
       "      <td>중립</td>\n",
       "      <td>5170</td>\n",
       "    </tr>\n",
       "    <tr>\n",
       "      <th>135813</th>\n",
       "      <td>진실을 가려 바른 나라를 세워야 한다.</td>\n",
       "      <td>중립</td>\n",
       "      <td>5170</td>\n",
       "    </tr>\n",
       "  </tbody>\n",
       "</table>\n",
       "<p>8635 rows × 3 columns</p>\n",
       "</div>"
      ],
      "text/plain": [
       "                                              correct_str label  org_idx\n",
       "6                                                   어떠세요.    중립        0\n",
       "24      WHO 비교할 LED 달라 만들기 기기 전문 이바지할 계절 최근 3 phosphor...    중립        0\n",
       "37                                                 제안하세요.    중립        0\n",
       "62                                        속에 있는 얘기 남겨주세요.    중립        1\n",
       "64                                        속에 있는 얘기 남겨주세요.    중립        1\n",
       "...                                                   ...   ...      ...\n",
       "135712                                      새해 복 많이 받으세요.    중립     5164\n",
       "135724  편의점 한의원 약국 학원 부동산 운동센터 치과 패스트푸드점 병원 등등 고민하다 늦지...    중립     5165\n",
       "135793                         아무리 추이를 따르더라도 하실 일은 하셔야지요.    중립     5170\n",
       "135795                      소는 밭을소는 밭을 갈고 말은 사람이 타는 법이지요.    중립     5170\n",
       "135813                              진실을 가려 바른 나라를 세워야 한다.    중립     5170\n",
       "\n",
       "[8635 rows x 3 columns]"
      ]
     },
     "execution_count": 12,
     "metadata": {},
     "output_type": "execute_result"
    }
   ],
   "source": [
    "ddff[ddff['label'] == '중립']"
   ]
  },
  {
   "cell_type": "code",
   "execution_count": 13,
   "metadata": {},
   "outputs": [
    {
     "name": "stderr",
     "output_type": "stream",
     "text": [
      "c:\\Users\\user\\anaconda3\\envs\\NIFOS\\lib\\site-packages\\pandas\\core\\frame.py:5047: SettingWithCopyWarning: \n",
      "A value is trying to be set on a copy of a slice from a DataFrame\n",
      "\n",
      "See the caveats in the documentation: https://pandas.pydata.org/pandas-docs/stable/user_guide/indexing.html#returning-a-view-versus-a-copy\n",
      "  errors=errors,\n"
     ]
    }
   ],
   "source": [
    "ddff.rename(columns={'correct_str': 'sentence'}, inplace=True)\n",
    "ddff.rename(columns={'label': 'predicted_sentiment'}, inplace=True)\n",
    "ddff.to_csv(\"./Ternary_classification_2018.csv\", index=False, encoding='UTF-8')"
   ]
  }
 ],
 "metadata": {
  "kernelspec": {
   "display_name": "NIFOS",
   "language": "python",
   "name": "python3"
  },
  "language_info": {
   "codemirror_mode": {
    "name": "ipython",
    "version": 3
   },
   "file_extension": ".py",
   "mimetype": "text/x-python",
   "name": "python",
   "nbconvert_exporter": "python",
   "pygments_lexer": "ipython3",
   "version": "3.7.16"
  },
  "orig_nbformat": 4
 },
 "nbformat": 4,
 "nbformat_minor": 2
}
