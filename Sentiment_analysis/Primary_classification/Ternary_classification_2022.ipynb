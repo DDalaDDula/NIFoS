{
 "cells": [
  {
   "cell_type": "code",
   "execution_count": 1,
   "metadata": {},
   "outputs": [],
   "source": [
    "import torch\n",
    "import torch.nn as nn\n",
    "from transformers import ElectraTokenizer, ElectraForSequenceClassification\n",
    "import pandas as pd\n",
    "from tqdm import tqdm "
   ]
  },
  {
   "cell_type": "code",
   "execution_count": 2,
   "metadata": {},
   "outputs": [],
   "source": [
    "# koELECTRA 토크나이저 불러오기\n",
    "tokenizer = ElectraTokenizer.from_pretrained(\"koelectra-base-v3-discriminator\")"
   ]
  },
  {
   "cell_type": "code",
   "execution_count": 3,
   "metadata": {},
   "outputs": [
    {
     "name": "stderr",
     "output_type": "stream",
     "text": [
      "Some weights of the model checkpoint at koelectra-base-v3-discriminator were not used when initializing ElectraForSequenceClassification: ['discriminator_predictions.dense.bias', 'discriminator_predictions.dense.weight', 'discriminator_predictions.dense_prediction.bias', 'discriminator_predictions.dense_prediction.weight']\n",
      "- This IS expected if you are initializing ElectraForSequenceClassification from the checkpoint of a model trained on another task or with another architecture (e.g. initializing a BertForSequenceClassification model from a BertForPreTraining model).\n",
      "- This IS NOT expected if you are initializing ElectraForSequenceClassification from the checkpoint of a model that you expect to be exactly identical (initializing a BertForSequenceClassification model from a BertForSequenceClassification model).\n",
      "Some weights of ElectraForSequenceClassification were not initialized from the model checkpoint at koelectra-base-v3-discriminator and are newly initialized: ['classifier.dense.bias', 'classifier.out_proj.weight', 'classifier.out_proj.bias', 'classifier.dense.weight']\n",
      "You should probably TRAIN this model on a down-stream task to be able to use it for predictions and inference.\n"
     ]
    }
   ],
   "source": [
    "''' 모델가중치를 불러오거나 체크포인트를 불러올 때 실행 '''\n",
    "\n",
    "# 모델의 상태 딕셔너리를 로드합니다.\n",
    "model_state_dict = torch.load(\"Ternary_model_state_dict_learning_New_epoch_15.pt\")\n",
    "\n",
    "# 모델을 생성하고 상태를 로드합니다.\n",
    "model = ElectraForSequenceClassification.from_pretrained(\"koelectra-base-v3-discriminator\", num_labels=3)\n",
    "model.load_state_dict(model_state_dict)\n",
    "\n",
    "# 옵티마이저의 상태 딕셔너리를 로드합니다.\n",
    "optimizer_state_dict = torch.load(\"Ternary_optimizer_state_learning_dict_New_epoch_15.pt\")"
   ]
  },
  {
   "cell_type": "code",
   "execution_count": 4,
   "metadata": {},
   "outputs": [],
   "source": [
    "# 변경하고자 하는 Dropout 비율\n",
    "new_dropout_rate = 0.2\n",
    "\n",
    "# 모든 Dropout 레이어의 비율 변경\n",
    "for name, module in model.named_modules():\n",
    "    if isinstance(module, torch.nn.Dropout):\n",
    "        module.p = new_dropout_rate\n"
   ]
  },
  {
   "cell_type": "code",
   "execution_count": null,
   "metadata": {},
   "outputs": [],
   "source": [
    "# 모델 구조 확인\n",
    "print(model)"
   ]
  },
  {
   "cell_type": "code",
   "execution_count": null,
   "metadata": {},
   "outputs": [],
   "source": [
    "# 장치 설정 (GPU 사용을 위해)\n",
    "device = torch.device('cuda' if torch.cuda.is_available() else 'cpu')\n",
    "model.to(device)"
   ]
  },
  {
   "attachments": {},
   "cell_type": "markdown",
   "metadata": {},
   "source": [
    "## 실제로 예측해보기"
   ]
  },
  {
   "cell_type": "code",
   "execution_count": 6,
   "metadata": {},
   "outputs": [],
   "source": [
    "# 한국어 문장을 입력으로 받아서 예측 라벨을 출력하는 함수\n",
    "def predict_label(sentence, model, tokenizer, device):\n",
    "    model.eval()\n",
    "    with torch.no_grad():\n",
    "        inputs = tokenizer(sentence, return_tensors='pt', truncation=True, padding=True)\n",
    "        inputs = {k: v.to(device) for k, v in inputs.items()}\n",
    "        outputs = model(**inputs)\n",
    "        logits = outputs.logits\n",
    "        predicted_label = torch.argmax(logits, dim=1).item()\n",
    "        return predicted_label"
   ]
  },
  {
   "cell_type": "code",
   "execution_count": 7,
   "metadata": {},
   "outputs": [
    {
     "data": {
      "text/html": [
       "<div>\n",
       "<style scoped>\n",
       "    .dataframe tbody tr th:only-of-type {\n",
       "        vertical-align: middle;\n",
       "    }\n",
       "\n",
       "    .dataframe tbody tr th {\n",
       "        vertical-align: top;\n",
       "    }\n",
       "\n",
       "    .dataframe thead th {\n",
       "        text-align: right;\n",
       "    }\n",
       "</style>\n",
       "<table border=\"1\" class=\"dataframe\">\n",
       "  <thead>\n",
       "    <tr style=\"text-align: right;\">\n",
       "      <th></th>\n",
       "      <th>split_str</th>\n",
       "      <th>org_idx</th>\n",
       "      <th>correct_str</th>\n",
       "    </tr>\n",
       "  </thead>\n",
       "  <tbody>\n",
       "    <tr>\n",
       "      <th>0</th>\n",
       "      <td>치유나무숲아웃도어연구회 산림치유지도사1급 산림치유 미래유망자격 산림치유지도사2급 산...</td>\n",
       "      <td>0</td>\n",
       "      <td>치유 나무숲 야외 연구회 산림치유지도사 1급 산림치유 미래 유망자격 산림치유지도사 ...</td>\n",
       "    </tr>\n",
       "    <tr>\n",
       "      <th>1</th>\n",
       "      <td>치유나무숲 회원님들 중에서도 이번 시험에 응시하시는 몇 분이 계십니다</td>\n",
       "      <td>0</td>\n",
       "      <td>치유 나무숲 회원님들 중에서도 이번 시험에 응시하시는 몇 분이 계십니다</td>\n",
       "    </tr>\n",
       "    <tr>\n",
       "      <th>2</th>\n",
       "      <td>회원님들 응원과 격려를 위해 그리고 치유나무숲아웃도어연구회 홍보 그리고 1급 기출문...</td>\n",
       "      <td>0</td>\n",
       "      <td>회원님들 응원과 격려를 위해 그리고 치유 나무숲 야외 연구회 홍보 그리고 1급 기출...</td>\n",
       "    </tr>\n",
       "    <tr>\n",
       "      <th>3</th>\n",
       "      <td>2024년 2월 평가시험에 응시하시는 수험생 및 관련 선생님들은 잠시 치유나무숲 부...</td>\n",
       "      <td>0</td>\n",
       "      <td>2024년 2월 평가시험에 응시하시는 수험생 및 관련 선생님들은 잠시 치유 나무숲 ...</td>\n",
       "    </tr>\n",
       "    <tr>\n",
       "      <th>4</th>\n",
       "      <td>출처 https license fowi or kr board selectNotice...</td>\n",
       "      <td>0</td>\n",
       "      <td>출처 https license  or kr board select noticeboa...</td>\n",
       "    </tr>\n",
       "    <tr>\n",
       "      <th>...</th>\n",
       "      <td>...</td>\n",
       "      <td>...</td>\n",
       "      <td>...</td>\n",
       "    </tr>\n",
       "    <tr>\n",
       "      <th>262303</th>\n",
       "      <td>예를 들어 현재 전북 전남 경남 3개 도에 걸쳐 있는 지리산 1915m 부근을 비우...</td>\n",
       "      <td>9974</td>\n",
       "      <td>예를 들어 현재 전북 전남 경남 3개 도에 걸쳐 있는 지리산 1,915m 부근을 비...</td>\n",
       "    </tr>\n",
       "    <tr>\n",
       "      <th>262304</th>\n",
       "      <td>지리산이 걸쳐 있는 8개 행정구역 가운데 진주를 제외하면 모두 인구 소멸 우려지역이...</td>\n",
       "      <td>9974</td>\n",
       "      <td>지리산이 걸쳐 있는 8개 행정구역 가운데 진주를 제외하면 모두 인구 소멸 우려지역이...</td>\n",
       "    </tr>\n",
       "    <tr>\n",
       "      <th>262305</th>\n",
       "      <td>지역을 비워두는 것도 한 전략이라는 말이다 그리 되면 캘리포니아 시에라네바다산맥 너...</td>\n",
       "      <td>9974</td>\n",
       "      <td>지역을 비워두는 것도 한 전략이라는 말이다. 그리되면 캘리포니아 시에라네바다산맥 너...</td>\n",
       "    </tr>\n",
       "    <tr>\n",
       "      <th>262306</th>\n",
       "      <td>문제는 내 지역구 소멸 을 반대하는 지역 정치인들과 토호세력들인데 국민 저변의 사회...</td>\n",
       "      <td>9974</td>\n",
       "      <td>문제는 내 지역구 소멸을 반대하는 지역 정치인들과 토호 세력들인데 국민 저변의 사회...</td>\n",
       "    </tr>\n",
       "    <tr>\n",
       "      <th>262307</th>\n",
       "      <td>이제 지방 소멸 은 새로운 개념의 지역의 탄생 과 자연의 귀환 으로 접근해야 한다 ...</td>\n",
       "      <td>9974</td>\n",
       "      <td>이제 지방 소멸은 새로운 개념의 지역의 탄생과 자연의 귀환으로 접근해야 한다. 논설실장</td>\n",
       "    </tr>\n",
       "  </tbody>\n",
       "</table>\n",
       "<p>262308 rows × 3 columns</p>\n",
       "</div>"
      ],
      "text/plain": [
       "                                                split_str  org_idx  \\\n",
       "0       치유나무숲아웃도어연구회 산림치유지도사1급 산림치유 미래유망자격 산림치유지도사2급 산...        0   \n",
       "1                  치유나무숲 회원님들 중에서도 이번 시험에 응시하시는 몇 분이 계십니다        0   \n",
       "2       회원님들 응원과 격려를 위해 그리고 치유나무숲아웃도어연구회 홍보 그리고 1급 기출문...        0   \n",
       "3       2024년 2월 평가시험에 응시하시는 수험생 및 관련 선생님들은 잠시 치유나무숲 부...        0   \n",
       "4       출처 https license fowi or kr board selectNotice...        0   \n",
       "...                                                   ...      ...   \n",
       "262303  예를 들어 현재 전북 전남 경남 3개 도에 걸쳐 있는 지리산 1915m 부근을 비우...     9974   \n",
       "262304  지리산이 걸쳐 있는 8개 행정구역 가운데 진주를 제외하면 모두 인구 소멸 우려지역이...     9974   \n",
       "262305  지역을 비워두는 것도 한 전략이라는 말이다 그리 되면 캘리포니아 시에라네바다산맥 너...     9974   \n",
       "262306  문제는 내 지역구 소멸 을 반대하는 지역 정치인들과 토호세력들인데 국민 저변의 사회...     9974   \n",
       "262307  이제 지방 소멸 은 새로운 개념의 지역의 탄생 과 자연의 귀환 으로 접근해야 한다 ...     9974   \n",
       "\n",
       "                                              correct_str  \n",
       "0       치유 나무숲 야외 연구회 산림치유지도사 1급 산림치유 미래 유망자격 산림치유지도사 ...  \n",
       "1                 치유 나무숲 회원님들 중에서도 이번 시험에 응시하시는 몇 분이 계십니다  \n",
       "2       회원님들 응원과 격려를 위해 그리고 치유 나무숲 야외 연구회 홍보 그리고 1급 기출...  \n",
       "3       2024년 2월 평가시험에 응시하시는 수험생 및 관련 선생님들은 잠시 치유 나무숲 ...  \n",
       "4       출처 https license  or kr board select noticeboa...  \n",
       "...                                                   ...  \n",
       "262303  예를 들어 현재 전북 전남 경남 3개 도에 걸쳐 있는 지리산 1,915m 부근을 비...  \n",
       "262304  지리산이 걸쳐 있는 8개 행정구역 가운데 진주를 제외하면 모두 인구 소멸 우려지역이...  \n",
       "262305  지역을 비워두는 것도 한 전략이라는 말이다. 그리되면 캘리포니아 시에라네바다산맥 너...  \n",
       "262306  문제는 내 지역구 소멸을 반대하는 지역 정치인들과 토호 세력들인데 국민 저변의 사회...  \n",
       "262307   이제 지방 소멸은 새로운 개념의 지역의 탄생과 자연의 귀환으로 접근해야 한다. 논설실장  \n",
       "\n",
       "[262308 rows x 3 columns]"
      ]
     },
     "execution_count": 7,
     "metadata": {},
     "output_type": "execute_result"
    }
   ],
   "source": [
    "df = pd.read_csv(\"../dataset/2022산림복지_본문_맞춤법검사.txt\", sep=\"\\t\", encoding='UTF-8')\n",
    "df"
   ]
  },
  {
   "cell_type": "code",
   "execution_count": 8,
   "metadata": {},
   "outputs": [
    {
     "name": "stderr",
     "output_type": "stream",
     "text": [
      "100%|██████████| 262308/262308 [2:44:51<00:00, 26.52it/s]  \n"
     ]
    }
   ],
   "source": [
    "# 한국어 문장 입력 받기\n",
    "korean_sentences = df['correct_str'].tolist()\n",
    "\n",
    "# 예측 라벨 출력\n",
    "emotion_labels = {0:'부정', 1:'중립', 2:'긍정'}\n",
    "predicted_label = [emotion_labels[predict_label(korean_sentence, model, tokenizer, device)] for korean_sentence in tqdm(korean_sentences)]\n",
    "df['label'] = predicted_label"
   ]
  },
  {
   "cell_type": "code",
   "execution_count": 9,
   "metadata": {},
   "outputs": [
    {
     "data": {
      "text/html": [
       "<div>\n",
       "<style scoped>\n",
       "    .dataframe tbody tr th:only-of-type {\n",
       "        vertical-align: middle;\n",
       "    }\n",
       "\n",
       "    .dataframe tbody tr th {\n",
       "        vertical-align: top;\n",
       "    }\n",
       "\n",
       "    .dataframe thead th {\n",
       "        text-align: right;\n",
       "    }\n",
       "</style>\n",
       "<table border=\"1\" class=\"dataframe\">\n",
       "  <thead>\n",
       "    <tr style=\"text-align: right;\">\n",
       "      <th></th>\n",
       "      <th>correct_str</th>\n",
       "      <th>label</th>\n",
       "      <th>org_idx</th>\n",
       "    </tr>\n",
       "  </thead>\n",
       "  <tbody>\n",
       "    <tr>\n",
       "      <th>0</th>\n",
       "      <td>치유 나무숲 야외 연구회 산림치유지도사 1급 산림치유 미래 유망자격 산림치유지도사 ...</td>\n",
       "      <td>긍정</td>\n",
       "      <td>0</td>\n",
       "    </tr>\n",
       "    <tr>\n",
       "      <th>1</th>\n",
       "      <td>치유 나무숲 회원님들 중에서도 이번 시험에 응시하시는 몇 분이 계십니다</td>\n",
       "      <td>부정</td>\n",
       "      <td>0</td>\n",
       "    </tr>\n",
       "    <tr>\n",
       "      <th>2</th>\n",
       "      <td>회원님들 응원과 격려를 위해 그리고 치유 나무숲 야외 연구회 홍보 그리고 1급 기출...</td>\n",
       "      <td>긍정</td>\n",
       "      <td>0</td>\n",
       "    </tr>\n",
       "    <tr>\n",
       "      <th>3</th>\n",
       "      <td>2024년 2월 평가시험에 응시하시는 수험생 및 관련 선생님들은 잠시 치유 나무숲 ...</td>\n",
       "      <td>긍정</td>\n",
       "      <td>0</td>\n",
       "    </tr>\n",
       "    <tr>\n",
       "      <th>4</th>\n",
       "      <td>출처 https license  or kr board select noticeboa...</td>\n",
       "      <td>부정</td>\n",
       "      <td>0</td>\n",
       "    </tr>\n",
       "    <tr>\n",
       "      <th>...</th>\n",
       "      <td>...</td>\n",
       "      <td>...</td>\n",
       "      <td>...</td>\n",
       "    </tr>\n",
       "    <tr>\n",
       "      <th>262303</th>\n",
       "      <td>예를 들어 현재 전북 전남 경남 3개 도에 걸쳐 있는 지리산 1,915m 부근을 비...</td>\n",
       "      <td>긍정</td>\n",
       "      <td>9974</td>\n",
       "    </tr>\n",
       "    <tr>\n",
       "      <th>262304</th>\n",
       "      <td>지리산이 걸쳐 있는 8개 행정구역 가운데 진주를 제외하면 모두 인구 소멸 우려지역이...</td>\n",
       "      <td>부정</td>\n",
       "      <td>9974</td>\n",
       "    </tr>\n",
       "    <tr>\n",
       "      <th>262305</th>\n",
       "      <td>지역을 비워두는 것도 한 전략이라는 말이다. 그리되면 캘리포니아 시에라네바다산맥 너...</td>\n",
       "      <td>긍정</td>\n",
       "      <td>9974</td>\n",
       "    </tr>\n",
       "    <tr>\n",
       "      <th>262306</th>\n",
       "      <td>문제는 내 지역구 소멸을 반대하는 지역 정치인들과 토호 세력들인데 국민 저변의 사회...</td>\n",
       "      <td>부정</td>\n",
       "      <td>9974</td>\n",
       "    </tr>\n",
       "    <tr>\n",
       "      <th>262307</th>\n",
       "      <td>이제 지방 소멸은 새로운 개념의 지역의 탄생과 자연의 귀환으로 접근해야 한다. 논설실장</td>\n",
       "      <td>긍정</td>\n",
       "      <td>9974</td>\n",
       "    </tr>\n",
       "  </tbody>\n",
       "</table>\n",
       "<p>262308 rows × 3 columns</p>\n",
       "</div>"
      ],
      "text/plain": [
       "                                              correct_str label  org_idx\n",
       "0       치유 나무숲 야외 연구회 산림치유지도사 1급 산림치유 미래 유망자격 산림치유지도사 ...    긍정        0\n",
       "1                 치유 나무숲 회원님들 중에서도 이번 시험에 응시하시는 몇 분이 계십니다    부정        0\n",
       "2       회원님들 응원과 격려를 위해 그리고 치유 나무숲 야외 연구회 홍보 그리고 1급 기출...    긍정        0\n",
       "3       2024년 2월 평가시험에 응시하시는 수험생 및 관련 선생님들은 잠시 치유 나무숲 ...    긍정        0\n",
       "4       출처 https license  or kr board select noticeboa...    부정        0\n",
       "...                                                   ...   ...      ...\n",
       "262303  예를 들어 현재 전북 전남 경남 3개 도에 걸쳐 있는 지리산 1,915m 부근을 비...    긍정     9974\n",
       "262304  지리산이 걸쳐 있는 8개 행정구역 가운데 진주를 제외하면 모두 인구 소멸 우려지역이...    부정     9974\n",
       "262305  지역을 비워두는 것도 한 전략이라는 말이다. 그리되면 캘리포니아 시에라네바다산맥 너...    긍정     9974\n",
       "262306  문제는 내 지역구 소멸을 반대하는 지역 정치인들과 토호 세력들인데 국민 저변의 사회...    부정     9974\n",
       "262307   이제 지방 소멸은 새로운 개념의 지역의 탄생과 자연의 귀환으로 접근해야 한다. 논설실장    긍정     9974\n",
       "\n",
       "[262308 rows x 3 columns]"
      ]
     },
     "execution_count": 9,
     "metadata": {},
     "output_type": "execute_result"
    }
   ],
   "source": [
    "ddff = df[['correct_str','label','org_idx']]\n",
    "ddff"
   ]
  },
  {
   "cell_type": "code",
   "execution_count": 10,
   "metadata": {},
   "outputs": [
    {
     "data": {
      "text/plain": [
       "긍정    211903\n",
       "부정     50238\n",
       "중립       167\n",
       "Name: label, dtype: int64"
      ]
     },
     "execution_count": 10,
     "metadata": {},
     "output_type": "execute_result"
    }
   ],
   "source": [
    "ddff['label'].value_counts()"
   ]
  },
  {
   "cell_type": "code",
   "execution_count": 11,
   "metadata": {},
   "outputs": [
    {
     "name": "stderr",
     "output_type": "stream",
     "text": [
      "c:\\Users\\user\\anaconda3\\envs\\NIFOS\\lib\\site-packages\\pandas\\core\\frame.py:5047: SettingWithCopyWarning: \n",
      "A value is trying to be set on a copy of a slice from a DataFrame\n",
      "\n",
      "See the caveats in the documentation: https://pandas.pydata.org/pandas-docs/stable/user_guide/indexing.html#returning-a-view-versus-a-copy\n",
      "  errors=errors,\n"
     ]
    }
   ],
   "source": [
    "ddff.rename(columns={'correct_str': 'sentence'}, inplace=True)\n",
    "ddff.rename(columns={'label': 'predicted_sentiment'}, inplace=True)\n",
    "ddff.to_csv(\"./Ternary_classification_2022.csv\", index=False, encoding='UTF-8')"
   ]
  }
 ],
 "metadata": {
  "kernelspec": {
   "display_name": "NIFOS",
   "language": "python",
   "name": "python3"
  },
  "language_info": {
   "codemirror_mode": {
    "name": "ipython",
    "version": 3
   },
   "file_extension": ".py",
   "mimetype": "text/x-python",
   "name": "python",
   "nbconvert_exporter": "python",
   "pygments_lexer": "ipython3",
   "version": "3.7.16"
  },
  "orig_nbformat": 4
 },
 "nbformat": 4,
 "nbformat_minor": 2
}
