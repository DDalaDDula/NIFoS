{
 "cells": [
  {
   "cell_type": "code",
   "execution_count": 1,
   "metadata": {},
   "outputs": [],
   "source": [
    "import torch\n",
    "import torch.nn as nn\n",
    "from transformers import ElectraTokenizer, ElectraForSequenceClassification\n",
    "import pandas as pd\n",
    "from tqdm import tqdm "
   ]
  },
  {
   "cell_type": "code",
   "execution_count": 2,
   "metadata": {},
   "outputs": [],
   "source": [
    "# koELECTRA 토크나이저 불러오기\n",
    "tokenizer = ElectraTokenizer.from_pretrained(\"koelectra-base-v3-discriminator\")"
   ]
  },
  {
   "cell_type": "code",
   "execution_count": 3,
   "metadata": {},
   "outputs": [
    {
     "name": "stderr",
     "output_type": "stream",
     "text": [
      "Some weights of the model checkpoint at koelectra-base-v3-discriminator were not used when initializing ElectraForSequenceClassification: ['discriminator_predictions.dense_prediction.bias', 'discriminator_predictions.dense.weight', 'discriminator_predictions.dense_prediction.weight', 'discriminator_predictions.dense.bias']\n",
      "- This IS expected if you are initializing ElectraForSequenceClassification from the checkpoint of a model trained on another task or with another architecture (e.g. initializing a BertForSequenceClassification model from a BertForPreTraining model).\n",
      "- This IS NOT expected if you are initializing ElectraForSequenceClassification from the checkpoint of a model that you expect to be exactly identical (initializing a BertForSequenceClassification model from a BertForSequenceClassification model).\n",
      "Some weights of ElectraForSequenceClassification were not initialized from the model checkpoint at koelectra-base-v3-discriminator and are newly initialized: ['classifier.out_proj.bias', 'classifier.dense.weight', 'classifier.out_proj.weight', 'classifier.dense.bias']\n",
      "You should probably TRAIN this model on a down-stream task to be able to use it for predictions and inference.\n"
     ]
    }
   ],
   "source": [
    "''' 모델가중치를 불러오거나 체크포인트를 불러올 때 실행 '''\n",
    "\n",
    "# 모델의 상태 딕셔너리를 로드합니다.\n",
    "model_state_dict = torch.load(\"Ternary_model_state_dict_epoch_15.pt\")\n",
    "\n",
    "# 모델을 생성하고 상태를 로드합니다.\n",
    "model = ElectraForSequenceClassification.from_pretrained(\"koelectra-base-v3-discriminator\", num_labels=3)\n",
    "model.load_state_dict(model_state_dict)\n",
    "\n",
    "# 옵티마이저의 상태 딕셔너리를 로드합니다.\n",
    "optimizer_state_dict = torch.load(\"Ternary_optimizer_state_dict_epoch_15.pt\")"
   ]
  },
  {
   "cell_type": "code",
   "execution_count": 4,
   "metadata": {},
   "outputs": [],
   "source": [
    "# 변경하고자 하는 Dropout 비율\n",
    "new_dropout_rate = 0.2\n",
    "\n",
    "# 모든 Dropout 레이어의 비율 변경\n",
    "for name, module in model.named_modules():\n",
    "    if isinstance(module, torch.nn.Dropout):\n",
    "        module.p = new_dropout_rate\n"
   ]
  },
  {
   "cell_type": "code",
   "execution_count": null,
   "metadata": {},
   "outputs": [],
   "source": [
    "# 모델 구조 확인\n",
    "print(model)"
   ]
  },
  {
   "cell_type": "code",
   "execution_count": null,
   "metadata": {},
   "outputs": [],
   "source": [
    "# 장치 설정 (GPU 사용을 위해)\n",
    "device = torch.device('cuda' if torch.cuda.is_available() else 'cpu')\n",
    "model.to(device)"
   ]
  },
  {
   "attachments": {},
   "cell_type": "markdown",
   "metadata": {},
   "source": [
    "## 실제로 예측해보기"
   ]
  },
  {
   "cell_type": "code",
   "execution_count": 6,
   "metadata": {},
   "outputs": [],
   "source": [
    "# 한국어 문장을 입력으로 받아서 예측 라벨을 출력하는 함수\n",
    "def predict_label(sentence, model, tokenizer, device):\n",
    "    model.eval()\n",
    "    with torch.no_grad():\n",
    "        inputs = tokenizer(sentence, return_tensors='pt', truncation=True, padding=True)\n",
    "        inputs = {k: v.to(device) for k, v in inputs.items()}\n",
    "        outputs = model(**inputs)\n",
    "        logits = outputs.logits\n",
    "        predicted_label = torch.argmax(logits, dim=1).item()\n",
    "        return predicted_label"
   ]
  },
  {
   "cell_type": "code",
   "execution_count": 7,
   "metadata": {},
   "outputs": [
    {
     "data": {
      "text/html": [
       "<div>\n",
       "<style scoped>\n",
       "    .dataframe tbody tr th:only-of-type {\n",
       "        vertical-align: middle;\n",
       "    }\n",
       "\n",
       "    .dataframe tbody tr th {\n",
       "        vertical-align: top;\n",
       "    }\n",
       "\n",
       "    .dataframe thead th {\n",
       "        text-align: right;\n",
       "    }\n",
       "</style>\n",
       "<table border=\"1\" class=\"dataframe\">\n",
       "  <thead>\n",
       "    <tr style=\"text-align: right;\">\n",
       "      <th></th>\n",
       "      <th>Unnamed: 0</th>\n",
       "      <th>split_str</th>\n",
       "      <th>org_idx</th>\n",
       "      <th>correct_str</th>\n",
       "    </tr>\n",
       "  </thead>\n",
       "  <tbody>\n",
       "    <tr>\n",
       "      <th>0</th>\n",
       "      <td>0</td>\n",
       "      <td>코리아투데이뉴스 상주시 상주시 2020년 상반기 정기인사 이동조서 2020 1 1 ...</td>\n",
       "      <td>0</td>\n",
       "      <td>코리아투데이뉴스 상주시 상주시 2020년 상반기 정기인사 이동조서 2020 1 1 ...</td>\n",
       "    </tr>\n",
       "    <tr>\n",
       "      <th>1</th>\n",
       "      <td>1</td>\n",
       "      <td>이소영 남혜진 박소영 상하수도사업소 김인화 서원상 김주헌 윤원해 평생학습원 이세인 ...</td>\n",
       "      <td>0</td>\n",
       "      <td>이소영 남혜진 박소영 상하수도사업소 김인화 서원상 김주헌 윤 원해 평생학습원 이세인...</td>\n",
       "    </tr>\n",
       "    <tr>\n",
       "      <th>2</th>\n",
       "      <td>2</td>\n",
       "      <td>안녕하세요 메리썽입니다</td>\n",
       "      <td>1</td>\n",
       "      <td>안녕하세요. 메리 성입니다</td>\n",
       "    </tr>\n",
       "    <tr>\n",
       "      <th>3</th>\n",
       "      <td>3</td>\n",
       "      <td>혁신도시에 대해서는 많이들 들어보셨을거라고 생각이 드는데요</td>\n",
       "      <td>1</td>\n",
       "      <td>혁신도시에 대해서는 많이들 들어보셨을 거라고 생각이 드는데요</td>\n",
       "    </tr>\n",
       "    <tr>\n",
       "      <th>4</th>\n",
       "      <td>4</td>\n",
       "      <td>현재 혁신도시 시즌2가 지속적으로 진행되고 있는 만큼 지금 시기에 이에 대해 이야기...</td>\n",
       "      <td>1</td>\n",
       "      <td>현재 혁신도시 시즌2가 지속해 진행되고 있는 만큼 지금 시기에 이에 대해 이야기해보...</td>\n",
       "    </tr>\n",
       "    <tr>\n",
       "      <th>...</th>\n",
       "      <td>...</td>\n",
       "      <td>...</td>\n",
       "      <td>...</td>\n",
       "      <td>...</td>\n",
       "    </tr>\n",
       "    <tr>\n",
       "      <th>164722</th>\n",
       "      <td>164722</td>\n",
       "      <td>의 건립비로 지출하는 기부금 9 중소기업협동조합법 에 따른 중소기업중앙회에 중소기업...</td>\n",
       "      <td>6126</td>\n",
       "      <td>의 건립비로 지출하는 기부금 9 중소기업협동조합법에 따른 중소기업중앙회에 중소기업의...</td>\n",
       "    </tr>\n",
       "    <tr>\n",
       "      <th>164723</th>\n",
       "      <td>164723</td>\n",
       "      <td>이하 이 호에서 같다 가 추천하는 자에게 지출하거나 대한체육회에 운동선수양성 단체경...</td>\n",
       "      <td>6126</td>\n",
       "      <td>이하 이 호에서 같다가 추천하는 자에게 지출하거나 대한체육회에 운동선수양성 단체경기...</td>\n",
       "    </tr>\n",
       "    <tr>\n",
       "      <th>164724</th>\n",
       "      <td>164724</td>\n",
       "      <td>21 근로자직업능력 개발법 시행령 제2조에 따른 공공단체에 근로자훈련사업비로 지출하...</td>\n",
       "      <td>6126</td>\n",
       "      <td>21 근로자직업능력 개발법 시행령 제2조에 따른 공공단체에 근로자훈련사업비로 지출하...</td>\n",
       "    </tr>\n",
       "    <tr>\n",
       "      <th>164725</th>\n",
       "      <td>164725</td>\n",
       "      <td>한국국제학교 22 천진한국국제학교 23 테헤란한국학교 ㅇ 법정기부금단체 중 전문모금...</td>\n",
       "      <td>6126</td>\n",
       "      <td>한국국제학교 22 천진 한국국제학교 23 테헤란 한국학교 ㅇ 법정기부금 단체 중 전...</td>\n",
       "    </tr>\n",
       "    <tr>\n",
       "      <th>164726</th>\n",
       "      <td>164726</td>\n",
       "      <td>다만 시행일 이전에 지출한 기부금도 시행일이 속하는 연도에 지출한 경우에는 법인세법...</td>\n",
       "      <td>6126</td>\n",
       "      <td>다만 시행일 이전에 지출한 기부금도 시행일이 속하는 연도에 지출한 경우에는 법인세법...</td>\n",
       "    </tr>\n",
       "  </tbody>\n",
       "</table>\n",
       "<p>164727 rows × 4 columns</p>\n",
       "</div>"
      ],
      "text/plain": [
       "        Unnamed: 0                                          split_str  \\\n",
       "0                0  코리아투데이뉴스 상주시 상주시 2020년 상반기 정기인사 이동조서 2020 1 1 ...   \n",
       "1                1  이소영 남혜진 박소영 상하수도사업소 김인화 서원상 김주헌 윤원해 평생학습원 이세인 ...   \n",
       "2                2                                       안녕하세요 메리썽입니다   \n",
       "3                3                   혁신도시에 대해서는 많이들 들어보셨을거라고 생각이 드는데요   \n",
       "4                4  현재 혁신도시 시즌2가 지속적으로 진행되고 있는 만큼 지금 시기에 이에 대해 이야기...   \n",
       "...            ...                                                ...   \n",
       "164722      164722  의 건립비로 지출하는 기부금 9 중소기업협동조합법 에 따른 중소기업중앙회에 중소기업...   \n",
       "164723      164723  이하 이 호에서 같다 가 추천하는 자에게 지출하거나 대한체육회에 운동선수양성 단체경...   \n",
       "164724      164724  21 근로자직업능력 개발법 시행령 제2조에 따른 공공단체에 근로자훈련사업비로 지출하...   \n",
       "164725      164725  한국국제학교 22 천진한국국제학교 23 테헤란한국학교 ㅇ 법정기부금단체 중 전문모금...   \n",
       "164726      164726  다만 시행일 이전에 지출한 기부금도 시행일이 속하는 연도에 지출한 경우에는 법인세법...   \n",
       "\n",
       "        org_idx                                        correct_str  \n",
       "0             0  코리아투데이뉴스 상주시 상주시 2020년 상반기 정기인사 이동조서 2020 1 1 ...  \n",
       "1             0  이소영 남혜진 박소영 상하수도사업소 김인화 서원상 김주헌 윤 원해 평생학습원 이세인...  \n",
       "2             1                                     안녕하세요. 메리 성입니다  \n",
       "3             1                  혁신도시에 대해서는 많이들 들어보셨을 거라고 생각이 드는데요  \n",
       "4             1  현재 혁신도시 시즌2가 지속해 진행되고 있는 만큼 지금 시기에 이에 대해 이야기해보...  \n",
       "...         ...                                                ...  \n",
       "164722     6126  의 건립비로 지출하는 기부금 9 중소기업협동조합법에 따른 중소기업중앙회에 중소기업의...  \n",
       "164723     6126  이하 이 호에서 같다가 추천하는 자에게 지출하거나 대한체육회에 운동선수양성 단체경기...  \n",
       "164724     6126  21 근로자직업능력 개발법 시행령 제2조에 따른 공공단체에 근로자훈련사업비로 지출하...  \n",
       "164725     6126  한국국제학교 22 천진 한국국제학교 23 테헤란 한국학교 ㅇ 법정기부금 단체 중 전...  \n",
       "164726     6126  다만 시행일 이전에 지출한 기부금도 시행일이 속하는 연도에 지출한 경우에는 법인세법...  \n",
       "\n",
       "[164727 rows x 4 columns]"
      ]
     },
     "execution_count": 7,
     "metadata": {},
     "output_type": "execute_result"
    }
   ],
   "source": [
    "df = pd.read_csv(\"../dataset/2019산림복지_본문_맞춤법검사.txt\", encoding='UTF-8')\n",
    "df"
   ]
  },
  {
   "cell_type": "code",
   "execution_count": 8,
   "metadata": {},
   "outputs": [
    {
     "name": "stderr",
     "output_type": "stream",
     "text": [
      " 96%|█████████▌| 158275/164727 [1:44:56<03:49, 28.11it/s]  "
     ]
    }
   ],
   "source": [
    "# 한국어 문장 입력 받기\n",
    "korean_sentences = df['correct_str'].tolist()\n",
    "\n",
    "# 예측 라벨 출력\n",
    "emotion_labels = {0:'부정', 1:'중립', 2:'긍정'}\n",
    "predicted_label = [emotion_labels[predict_label(korean_sentence, model, tokenizer, device)] for korean_sentence in tqdm(korean_sentences)]\n",
    "df['label'] = predicted_label"
   ]
  },
  {
   "cell_type": "code",
   "execution_count": null,
   "metadata": {},
   "outputs": [
    {
     "data": {
      "text/html": [
       "<div>\n",
       "<style scoped>\n",
       "    .dataframe tbody tr th:only-of-type {\n",
       "        vertical-align: middle;\n",
       "    }\n",
       "\n",
       "    .dataframe tbody tr th {\n",
       "        vertical-align: top;\n",
       "    }\n",
       "\n",
       "    .dataframe thead th {\n",
       "        text-align: right;\n",
       "    }\n",
       "</style>\n",
       "<table border=\"1\" class=\"dataframe\">\n",
       "  <thead>\n",
       "    <tr style=\"text-align: right;\">\n",
       "      <th></th>\n",
       "      <th>correct_str</th>\n",
       "      <th>label</th>\n",
       "    </tr>\n",
       "  </thead>\n",
       "  <tbody>\n",
       "    <tr>\n",
       "      <th>0</th>\n",
       "      <td>코리아투데이뉴스 상주시 상주시 2020년 상반기 정기인사 이동조서 2020 1 1 ...</td>\n",
       "      <td>긍정</td>\n",
       "    </tr>\n",
       "    <tr>\n",
       "      <th>1</th>\n",
       "      <td>이소영 남혜진 박소영 상하수도사업소 김인화 서원상 김주헌 윤 원해 평생학습원 이세인...</td>\n",
       "      <td>긍정</td>\n",
       "    </tr>\n",
       "    <tr>\n",
       "      <th>2</th>\n",
       "      <td>안녕하세요. 메리 성입니다</td>\n",
       "      <td>긍정</td>\n",
       "    </tr>\n",
       "    <tr>\n",
       "      <th>3</th>\n",
       "      <td>혁신도시에 대해서는 많이들 들어보셨을 거라고 생각이 드는데요</td>\n",
       "      <td>부정</td>\n",
       "    </tr>\n",
       "    <tr>\n",
       "      <th>4</th>\n",
       "      <td>현재 혁신도시 시즌2가 지속해 진행되고 있는 만큼 지금 시기에 이에 대해 이야기해보...</td>\n",
       "      <td>긍정</td>\n",
       "    </tr>\n",
       "    <tr>\n",
       "      <th>...</th>\n",
       "      <td>...</td>\n",
       "      <td>...</td>\n",
       "    </tr>\n",
       "    <tr>\n",
       "      <th>164722</th>\n",
       "      <td>의 건립비로 지출하는 기부금 9 중소기업협동조합법에 따른 중소기업중앙회에 중소기업의...</td>\n",
       "      <td>긍정</td>\n",
       "    </tr>\n",
       "    <tr>\n",
       "      <th>164723</th>\n",
       "      <td>이하 이 호에서 같다가 추천하는 자에게 지출하거나 대한체육회에 운동선수양성 단체경기...</td>\n",
       "      <td>부정</td>\n",
       "    </tr>\n",
       "    <tr>\n",
       "      <th>164724</th>\n",
       "      <td>21 근로자직업능력 개발법 시행령 제2조에 따른 공공단체에 근로자훈련사업비로 지출하...</td>\n",
       "      <td>긍정</td>\n",
       "    </tr>\n",
       "    <tr>\n",
       "      <th>164725</th>\n",
       "      <td>한국국제학교 22 천진 한국국제학교 23 테헤란 한국학교 ㅇ 법정기부금 단체 중 전...</td>\n",
       "      <td>긍정</td>\n",
       "    </tr>\n",
       "    <tr>\n",
       "      <th>164726</th>\n",
       "      <td>다만 시행일 이전에 지출한 기부금도 시행일이 속하는 연도에 지출한 경우에는 법인세법...</td>\n",
       "      <td>중립</td>\n",
       "    </tr>\n",
       "  </tbody>\n",
       "</table>\n",
       "<p>164727 rows × 2 columns</p>\n",
       "</div>"
      ],
      "text/plain": [
       "                                              correct_str label\n",
       "0       코리아투데이뉴스 상주시 상주시 2020년 상반기 정기인사 이동조서 2020 1 1 ...    긍정\n",
       "1       이소영 남혜진 박소영 상하수도사업소 김인화 서원상 김주헌 윤 원해 평생학습원 이세인...    긍정\n",
       "2                                          안녕하세요. 메리 성입니다    긍정\n",
       "3                       혁신도시에 대해서는 많이들 들어보셨을 거라고 생각이 드는데요    부정\n",
       "4       현재 혁신도시 시즌2가 지속해 진행되고 있는 만큼 지금 시기에 이에 대해 이야기해보...    긍정\n",
       "...                                                   ...   ...\n",
       "164722  의 건립비로 지출하는 기부금 9 중소기업협동조합법에 따른 중소기업중앙회에 중소기업의...    긍정\n",
       "164723  이하 이 호에서 같다가 추천하는 자에게 지출하거나 대한체육회에 운동선수양성 단체경기...    부정\n",
       "164724  21 근로자직업능력 개발법 시행령 제2조에 따른 공공단체에 근로자훈련사업비로 지출하...    긍정\n",
       "164725  한국국제학교 22 천진 한국국제학교 23 테헤란 한국학교 ㅇ 법정기부금 단체 중 전...    긍정\n",
       "164726  다만 시행일 이전에 지출한 기부금도 시행일이 속하는 연도에 지출한 경우에는 법인세법...    중립\n",
       "\n",
       "[164727 rows x 2 columns]"
      ]
     },
     "execution_count": 14,
     "metadata": {},
     "output_type": "execute_result"
    }
   ],
   "source": [
    "ddff = df[['correct_str','label','org_idx']]\n",
    "ddff"
   ]
  },
  {
   "cell_type": "code",
   "execution_count": 15,
   "metadata": {},
   "outputs": [
    {
     "data": {
      "text/plain": [
       "긍정    116803\n",
       "부정     37528\n",
       "중립     10396\n",
       "Name: label, dtype: int64"
      ]
     },
     "execution_count": 15,
     "metadata": {},
     "output_type": "execute_result"
    }
   ],
   "source": [
    "ddff['label'].value_counts()"
   ]
  },
  {
   "cell_type": "code",
   "execution_count": 16,
   "metadata": {},
   "outputs": [
    {
     "data": {
      "text/html": [
       "<div>\n",
       "<style scoped>\n",
       "    .dataframe tbody tr th:only-of-type {\n",
       "        vertical-align: middle;\n",
       "    }\n",
       "\n",
       "    .dataframe tbody tr th {\n",
       "        vertical-align: top;\n",
       "    }\n",
       "\n",
       "    .dataframe thead th {\n",
       "        text-align: right;\n",
       "    }\n",
       "</style>\n",
       "<table border=\"1\" class=\"dataframe\">\n",
       "  <thead>\n",
       "    <tr style=\"text-align: right;\">\n",
       "      <th></th>\n",
       "      <th>correct_str</th>\n",
       "      <th>label</th>\n",
       "    </tr>\n",
       "  </thead>\n",
       "  <tbody>\n",
       "    <tr>\n",
       "      <th>5</th>\n",
       "      <td>여기서 중요한 키워드는 공공기관 지방 이전과 미래형 도시가 되겠는데요</td>\n",
       "      <td>중립</td>\n",
       "    </tr>\n",
       "    <tr>\n",
       "      <th>8</th>\n",
       "      <td>경제 문화 산업 인구 등등 수도권의 영향을 받지 않는 것들이 없지요.</td>\n",
       "      <td>중립</td>\n",
       "    </tr>\n",
       "    <tr>\n",
       "      <th>9</th>\n",
       "      <td>공공기관 또한 예외가 아닐 수 없어요.</td>\n",
       "      <td>중립</td>\n",
       "    </tr>\n",
       "    <tr>\n",
       "      <th>10</th>\n",
       "      <td>수도권 과밀 해소와 자립형 지방화를 이룰 수 있는 것이 바로 공공기관 지방 이전이 ...</td>\n",
       "      <td>중립</td>\n",
       "    </tr>\n",
       "    <tr>\n",
       "      <th>11</th>\n",
       "      <td>이를 위해서는 적극적인 수도권 발전정책과 지방육성 정책이 필요한데요. 공공기관 지방...</td>\n",
       "      <td>중립</td>\n",
       "    </tr>\n",
       "    <tr>\n",
       "      <th>...</th>\n",
       "      <td>...</td>\n",
       "      <td>...</td>\n",
       "    </tr>\n",
       "    <tr>\n",
       "      <th>164556</th>\n",
       "      <td>이에 따라 중앙행정기관이나 지자체가 해양 이용 개발 계획을 세우거나 지구 구역을 지...</td>\n",
       "      <td>중립</td>\n",
       "    </tr>\n",
       "    <tr>\n",
       "      <th>164558</th>\n",
       "      <td>이에 따라 태양광 발전시설을 목적으로 산지를 사용한 뒤에는 나무를 심고 원상태로 복...</td>\n",
       "      <td>중립</td>\n",
       "    </tr>\n",
       "    <tr>\n",
       "      <th>164573</th>\n",
       "      <td>2019년 한 해 잘 시작하셨나요.</td>\n",
       "      <td>중립</td>\n",
       "    </tr>\n",
       "    <tr>\n",
       "      <th>164668</th>\n",
       "      <td>다만 국 공유재산의 평가는 사업 승인이 있는 날의 다음 날을 기준으로 평가하되 용도...</td>\n",
       "      <td>중립</td>\n",
       "    </tr>\n",
       "    <tr>\n",
       "      <th>164726</th>\n",
       "      <td>다만 시행일 이전에 지출한 기부금도 시행일이 속하는 연도에 지출한 경우에는 법인세법...</td>\n",
       "      <td>중립</td>\n",
       "    </tr>\n",
       "  </tbody>\n",
       "</table>\n",
       "<p>10396 rows × 2 columns</p>\n",
       "</div>"
      ],
      "text/plain": [
       "                                              correct_str label\n",
       "5                  여기서 중요한 키워드는 공공기관 지방 이전과 미래형 도시가 되겠는데요    중립\n",
       "8                  경제 문화 산업 인구 등등 수도권의 영향을 받지 않는 것들이 없지요.    중립\n",
       "9                                   공공기관 또한 예외가 아닐 수 없어요.    중립\n",
       "10      수도권 과밀 해소와 자립형 지방화를 이룰 수 있는 것이 바로 공공기관 지방 이전이 ...    중립\n",
       "11      이를 위해서는 적극적인 수도권 발전정책과 지방육성 정책이 필요한데요. 공공기관 지방...    중립\n",
       "...                                                   ...   ...\n",
       "164556  이에 따라 중앙행정기관이나 지자체가 해양 이용 개발 계획을 세우거나 지구 구역을 지...    중립\n",
       "164558  이에 따라 태양광 발전시설을 목적으로 산지를 사용한 뒤에는 나무를 심고 원상태로 복...    중립\n",
       "164573                                2019년 한 해 잘 시작하셨나요.    중립\n",
       "164668  다만 국 공유재산의 평가는 사업 승인이 있는 날의 다음 날을 기준으로 평가하되 용도...    중립\n",
       "164726  다만 시행일 이전에 지출한 기부금도 시행일이 속하는 연도에 지출한 경우에는 법인세법...    중립\n",
       "\n",
       "[10396 rows x 2 columns]"
      ]
     },
     "execution_count": 16,
     "metadata": {},
     "output_type": "execute_result"
    }
   ],
   "source": [
    "ddff[ddff['label'] == '중립']"
   ]
  },
  {
   "cell_type": "code",
   "execution_count": null,
   "metadata": {},
   "outputs": [
    {
     "name": "stderr",
     "output_type": "stream",
     "text": [
      "c:\\Users\\user\\anaconda3\\envs\\NIFOS\\lib\\site-packages\\pandas\\core\\frame.py:5047: SettingWithCopyWarning: \n",
      "A value is trying to be set on a copy of a slice from a DataFrame\n",
      "\n",
      "See the caveats in the documentation: https://pandas.pydata.org/pandas-docs/stable/user_guide/indexing.html#returning-a-view-versus-a-copy\n",
      "  errors=errors,\n"
     ]
    }
   ],
   "source": [
    "ddff.rename(columns={'correct_str': 'sentence'}, inplace=True)\n",
    "ddff.rename(columns={'label': 'predicted_sentiment'}, inplace=True)\n",
    "ddff.to_csv(\"./Ternary_classification_2019.csv\", index=False, encoding='UTF-8')"
   ]
  }
 ],
 "metadata": {
  "kernelspec": {
   "display_name": "NIFOS",
   "language": "python",
   "name": "python3"
  },
  "language_info": {
   "codemirror_mode": {
    "name": "ipython",
    "version": 3
   },
   "file_extension": ".py",
   "mimetype": "text/x-python",
   "name": "python",
   "nbconvert_exporter": "python",
   "pygments_lexer": "ipython3",
   "version": "3.7.16"
  },
  "orig_nbformat": 4
 },
 "nbformat": 4,
 "nbformat_minor": 2
}
