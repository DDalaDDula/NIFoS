{
 "cells": [
  {
   "cell_type": "code",
   "execution_count": 1,
   "metadata": {},
   "outputs": [],
   "source": [
    "import torch\n",
    "import torch.nn as nn\n",
    "from transformers import ElectraTokenizer, ElectraForSequenceClassification\n",
    "import pandas as pd\n",
    "from tqdm import tqdm "
   ]
  },
  {
   "cell_type": "code",
   "execution_count": 2,
   "metadata": {},
   "outputs": [],
   "source": [
    "# koELECTRA 토크나이저 불러오기\n",
    "tokenizer = ElectraTokenizer.from_pretrained(\"koelectra-base-v3-discriminator\")"
   ]
  },
  {
   "cell_type": "code",
   "execution_count": 3,
   "metadata": {},
   "outputs": [
    {
     "name": "stderr",
     "output_type": "stream",
     "text": [
      "Some weights of the model checkpoint at koelectra-base-v3-discriminator were not used when initializing ElectraForSequenceClassification: ['discriminator_predictions.dense_prediction.weight', 'discriminator_predictions.dense.bias', 'discriminator_predictions.dense_prediction.bias', 'discriminator_predictions.dense.weight']\n",
      "- This IS expected if you are initializing ElectraForSequenceClassification from the checkpoint of a model trained on another task or with another architecture (e.g. initializing a BertForSequenceClassification model from a BertForPreTraining model).\n",
      "- This IS NOT expected if you are initializing ElectraForSequenceClassification from the checkpoint of a model that you expect to be exactly identical (initializing a BertForSequenceClassification model from a BertForSequenceClassification model).\n",
      "Some weights of ElectraForSequenceClassification were not initialized from the model checkpoint at koelectra-base-v3-discriminator and are newly initialized: ['classifier.dense.weight', 'classifier.out_proj.weight', 'classifier.out_proj.bias', 'classifier.dense.bias']\n",
      "You should probably TRAIN this model on a down-stream task to be able to use it for predictions and inference.\n"
     ]
    }
   ],
   "source": [
    "''' 모델가중치를 불러오거나 체크포인트를 불러올 때 실행 '''\n",
    "\n",
    "# 모델의 상태 딕셔너리를 로드합니다.\n",
    "model_state_dict = torch.load(\"Ternary_model_state_dict_learning_New_epoch_15.pt\")\n",
    "\n",
    "# 모델을 생성하고 상태를 로드합니다.\n",
    "model = ElectraForSequenceClassification.from_pretrained(\"koelectra-base-v3-discriminator\", num_labels=3)\n",
    "model.load_state_dict(model_state_dict)\n",
    "\n",
    "# 옵티마이저의 상태 딕셔너리를 로드합니다.\n",
    "optimizer_state_dict = torch.load(\"Ternary_optimizer_state_learning_dict_New_epoch_15.pt\")"
   ]
  },
  {
   "cell_type": "code",
   "execution_count": 4,
   "metadata": {},
   "outputs": [],
   "source": [
    "# 변경하고자 하는 Dropout 비율\n",
    "new_dropout_rate = 0.2\n",
    "\n",
    "# 모든 Dropout 레이어의 비율 변경\n",
    "for name, module in model.named_modules():\n",
    "    if isinstance(module, torch.nn.Dropout):\n",
    "        module.p = new_dropout_rate\n"
   ]
  },
  {
   "cell_type": "code",
   "execution_count": null,
   "metadata": {},
   "outputs": [],
   "source": [
    "# 모델 구조 확인\n",
    "print(model)"
   ]
  },
  {
   "cell_type": "code",
   "execution_count": null,
   "metadata": {},
   "outputs": [],
   "source": [
    "# 장치 설정 (GPU 사용을 위해)\n",
    "device = torch.device('cuda' if torch.cuda.is_available() else 'cpu')\n",
    "model.to(device)"
   ]
  },
  {
   "attachments": {},
   "cell_type": "markdown",
   "metadata": {},
   "source": [
    "## 실제로 예측해보기"
   ]
  },
  {
   "cell_type": "code",
   "execution_count": 6,
   "metadata": {},
   "outputs": [],
   "source": [
    "# 한국어 문장을 입력으로 받아서 예측 라벨을 출력하는 함수\n",
    "def predict_label(sentence, model, tokenizer, device):\n",
    "    model.eval()\n",
    "    with torch.no_grad():\n",
    "        inputs = tokenizer(sentence, return_tensors='pt', truncation=True, padding=True)\n",
    "        inputs = {k: v.to(device) for k, v in inputs.items()}\n",
    "        outputs = model(**inputs)\n",
    "        logits = outputs.logits\n",
    "        predicted_label = torch.argmax(logits, dim=1).item()\n",
    "        return predicted_label"
   ]
  },
  {
   "cell_type": "code",
   "execution_count": 7,
   "metadata": {},
   "outputs": [
    {
     "data": {
      "text/html": [
       "<div>\n",
       "<style scoped>\n",
       "    .dataframe tbody tr th:only-of-type {\n",
       "        vertical-align: middle;\n",
       "    }\n",
       "\n",
       "    .dataframe tbody tr th {\n",
       "        vertical-align: top;\n",
       "    }\n",
       "\n",
       "    .dataframe thead th {\n",
       "        text-align: right;\n",
       "    }\n",
       "</style>\n",
       "<table border=\"1\" class=\"dataframe\">\n",
       "  <thead>\n",
       "    <tr style=\"text-align: right;\">\n",
       "      <th></th>\n",
       "      <th>split_str</th>\n",
       "      <th>org_idx</th>\n",
       "      <th>correct_str</th>\n",
       "    </tr>\n",
       "  </thead>\n",
       "  <tbody>\n",
       "    <tr>\n",
       "      <th>0</th>\n",
       "      <td>세종시청 홈페이지 공공근로 알바 세종시 고용센터 일자리지원센터 교차로 구인구직 사진...</td>\n",
       "      <td>0</td>\n",
       "      <td>세종시청 홈페이지 공공근로 알바 세종시 고용센터 일자리 지원센터 교차로 구인·구직 ...</td>\n",
       "    </tr>\n",
       "    <tr>\n",
       "      <th>1</th>\n",
       "      <td>최근에는 스마트시티 미래차 모빌리티 바이오헬스 스마트 그린 융합부품 소재산업 등 세...</td>\n",
       "      <td>0</td>\n",
       "      <td>최근에는 스마트시티 미래 차 모빌리티 생명 건강 스마트 그린 융합부품 소재산업 등 ...</td>\n",
       "    </tr>\n",
       "    <tr>\n",
       "      <th>2</th>\n",
       "      <td>사진출처 세종시청 홈페이지 전반적으로 고용률은 높아지고 있지만 어르신 장애인 경력단...</td>\n",
       "      <td>0</td>\n",
       "      <td>사진 출처 세종시청 홈페이지 전반적으로 고용률은 높아지고 있지만 어르신 장애인 경력...</td>\n",
       "    </tr>\n",
       "    <tr>\n",
       "      <th>3</th>\n",
       "      <td>사진출처 세종시 교차로 구인구직 세종재가노인지원센터 세종시니어클럽 세종재가노인지원센...</td>\n",
       "      <td>0</td>\n",
       "      <td>사진 출처 세종시 교차로 구인·구직 세종 재가 노인지원센터 세종시니어클럽 세종 재가...</td>\n",
       "    </tr>\n",
       "    <tr>\n",
       "      <th>4</th>\n",
       "      <td>세종시청 홈페이지 공공근로등 공공일자리 사업 참여자 모집 공고 확인 및 참여방법 세...</td>\n",
       "      <td>0</td>\n",
       "      <td>세종시청 홈페이지 공공근로 등 공공일자리 사업 참여자 모집 공고 확인 및 참여 방법...</td>\n",
       "    </tr>\n",
       "    <tr>\n",
       "      <th>...</th>\n",
       "      <td>...</td>\n",
       "      <td>...</td>\n",
       "      <td>...</td>\n",
       "    </tr>\n",
       "    <tr>\n",
       "      <th>222284</th>\n",
       "      <td>이날 전달한 목제품은 편백나무로 만든 도마와 소나무로 만든 칼꽂이다</td>\n",
       "      <td>8431</td>\n",
       "      <td>이날 전달한 목제품은 편백나무로 만든 도마와 소나무로 만든 칼 꽂히다</td>\n",
       "    </tr>\n",
       "    <tr>\n",
       "      <th>222285</th>\n",
       "      <td>제작에 사용된 재료는 관내에서 생산한 목재를 활용했다</td>\n",
       "      <td>8431</td>\n",
       "      <td>제작에 사용된 재료는 관내에서 생산한 목재를 활용했다</td>\n",
       "    </tr>\n",
       "    <tr>\n",
       "      <th>222286</th>\n",
       "      <td>한편 시 관계자는 풍부한 산림자원을 활용해 실용성 높은 목제품을 만들고 어려운 이웃...</td>\n",
       "      <td>8431</td>\n",
       "      <td>한편 시 관계자는 풍부한 산림자원을 활용해 실용성 높은 목제품을 만들고 어려운 이웃...</td>\n",
       "    </tr>\n",
       "    <tr>\n",
       "      <th>222287</th>\n",
       "      <td>며 앞으로 더욱 다양한 목공활동을 통해 시민들이 목제품에 더욱 친근하게 다가설 수 ...</td>\n",
       "      <td>8431</td>\n",
       "      <td>며 앞으로 더욱 다양한 목공활동을 통해 시민들이 목제품에 더욱 친근하게 다가설 수 ...</td>\n",
       "    </tr>\n",
       "    <tr>\n",
       "      <th>222288</th>\n",
       "      <td>광교저널 광교저널 광교지역 인터넷신문 인터넷뉴스 인터넷뉴스신문 www kmknews...</td>\n",
       "      <td>8431</td>\n",
       "      <td>광교 저널 광교 저널 광교지역 인터넷신문 인터넷뉴스 인터넷뉴스신문 www kmkne...</td>\n",
       "    </tr>\n",
       "  </tbody>\n",
       "</table>\n",
       "<p>222289 rows × 3 columns</p>\n",
       "</div>"
      ],
      "text/plain": [
       "                                                split_str  org_idx  \\\n",
       "0       세종시청 홈페이지 공공근로 알바 세종시 고용센터 일자리지원센터 교차로 구인구직 사진...        0   \n",
       "1       최근에는 스마트시티 미래차 모빌리티 바이오헬스 스마트 그린 융합부품 소재산업 등 세...        0   \n",
       "2       사진출처 세종시청 홈페이지 전반적으로 고용률은 높아지고 있지만 어르신 장애인 경력단...        0   \n",
       "3       사진출처 세종시 교차로 구인구직 세종재가노인지원센터 세종시니어클럽 세종재가노인지원센...        0   \n",
       "4       세종시청 홈페이지 공공근로등 공공일자리 사업 참여자 모집 공고 확인 및 참여방법 세...        0   \n",
       "...                                                   ...      ...   \n",
       "222284              이날 전달한 목제품은 편백나무로 만든 도마와 소나무로 만든 칼꽂이다     8431   \n",
       "222285                      제작에 사용된 재료는 관내에서 생산한 목재를 활용했다     8431   \n",
       "222286  한편 시 관계자는 풍부한 산림자원을 활용해 실용성 높은 목제품을 만들고 어려운 이웃...     8431   \n",
       "222287  며 앞으로 더욱 다양한 목공활동을 통해 시민들이 목제품에 더욱 친근하게 다가설 수 ...     8431   \n",
       "222288  광교저널 광교저널 광교지역 인터넷신문 인터넷뉴스 인터넷뉴스신문 www kmknews...     8431   \n",
       "\n",
       "                                              correct_str  \n",
       "0       세종시청 홈페이지 공공근로 알바 세종시 고용센터 일자리 지원센터 교차로 구인·구직 ...  \n",
       "1       최근에는 스마트시티 미래 차 모빌리티 생명 건강 스마트 그린 융합부품 소재산업 등 ...  \n",
       "2       사진 출처 세종시청 홈페이지 전반적으로 고용률은 높아지고 있지만 어르신 장애인 경력...  \n",
       "3       사진 출처 세종시 교차로 구인·구직 세종 재가 노인지원센터 세종시니어클럽 세종 재가...  \n",
       "4       세종시청 홈페이지 공공근로 등 공공일자리 사업 참여자 모집 공고 확인 및 참여 방법...  \n",
       "...                                                   ...  \n",
       "222284             이날 전달한 목제품은 편백나무로 만든 도마와 소나무로 만든 칼 꽂히다  \n",
       "222285                      제작에 사용된 재료는 관내에서 생산한 목재를 활용했다  \n",
       "222286  한편 시 관계자는 풍부한 산림자원을 활용해 실용성 높은 목제품을 만들고 어려운 이웃...  \n",
       "222287  며 앞으로 더욱 다양한 목공활동을 통해 시민들이 목제품에 더욱 친근하게 다가설 수 ...  \n",
       "222288  광교 저널 광교 저널 광교지역 인터넷신문 인터넷뉴스 인터넷뉴스신문 www kmkne...  \n",
       "\n",
       "[222289 rows x 3 columns]"
      ]
     },
     "execution_count": 7,
     "metadata": {},
     "output_type": "execute_result"
    }
   ],
   "source": [
    "df = pd.read_csv(\"../dataset/2021산림복지_본문_맞춤법검사.txt\", sep=\"\\t\", encoding='UTF-8')\n",
    "df"
   ]
  },
  {
   "cell_type": "code",
   "execution_count": 8,
   "metadata": {},
   "outputs": [
    {
     "name": "stderr",
     "output_type": "stream",
     "text": [
      "100%|██████████| 222289/222289 [2:57:22<00:00, 20.89it/s]  \n"
     ]
    }
   ],
   "source": [
    "# 한국어 문장 입력 받기\n",
    "korean_sentences = df['correct_str'].tolist()\n",
    "\n",
    "# 예측 라벨 출력\n",
    "emotion_labels = {0:'부정', 1:'중립', 2:'긍정'}\n",
    "predicted_label = [emotion_labels[predict_label(korean_sentence, model, tokenizer, device)] for korean_sentence in tqdm(korean_sentences)]\n",
    "df['label'] = predicted_label"
   ]
  },
  {
   "cell_type": "code",
   "execution_count": 9,
   "metadata": {},
   "outputs": [
    {
     "data": {
      "text/html": [
       "<div>\n",
       "<style scoped>\n",
       "    .dataframe tbody tr th:only-of-type {\n",
       "        vertical-align: middle;\n",
       "    }\n",
       "\n",
       "    .dataframe tbody tr th {\n",
       "        vertical-align: top;\n",
       "    }\n",
       "\n",
       "    .dataframe thead th {\n",
       "        text-align: right;\n",
       "    }\n",
       "</style>\n",
       "<table border=\"1\" class=\"dataframe\">\n",
       "  <thead>\n",
       "    <tr style=\"text-align: right;\">\n",
       "      <th></th>\n",
       "      <th>correct_str</th>\n",
       "      <th>label</th>\n",
       "      <th>org_idx</th>\n",
       "    </tr>\n",
       "  </thead>\n",
       "  <tbody>\n",
       "    <tr>\n",
       "      <th>0</th>\n",
       "      <td>세종시청 홈페이지 공공근로 알바 세종시 고용센터 일자리 지원센터 교차로 구인·구직 ...</td>\n",
       "      <td>긍정</td>\n",
       "      <td>0</td>\n",
       "    </tr>\n",
       "    <tr>\n",
       "      <th>1</th>\n",
       "      <td>최근에는 스마트시티 미래 차 모빌리티 생명 건강 스마트 그린 융합부품 소재산업 등 ...</td>\n",
       "      <td>긍정</td>\n",
       "      <td>0</td>\n",
       "    </tr>\n",
       "    <tr>\n",
       "      <th>2</th>\n",
       "      <td>사진 출처 세종시청 홈페이지 전반적으로 고용률은 높아지고 있지만 어르신 장애인 경력...</td>\n",
       "      <td>긍정</td>\n",
       "      <td>0</td>\n",
       "    </tr>\n",
       "    <tr>\n",
       "      <th>3</th>\n",
       "      <td>사진 출처 세종시 교차로 구인·구직 세종 재가 노인지원센터 세종시니어클럽 세종 재가...</td>\n",
       "      <td>긍정</td>\n",
       "      <td>0</td>\n",
       "    </tr>\n",
       "    <tr>\n",
       "      <th>4</th>\n",
       "      <td>세종시청 홈페이지 공공근로 등 공공일자리 사업 참여자 모집 공고 확인 및 참여 방법...</td>\n",
       "      <td>긍정</td>\n",
       "      <td>0</td>\n",
       "    </tr>\n",
       "    <tr>\n",
       "      <th>...</th>\n",
       "      <td>...</td>\n",
       "      <td>...</td>\n",
       "      <td>...</td>\n",
       "    </tr>\n",
       "    <tr>\n",
       "      <th>222284</th>\n",
       "      <td>이날 전달한 목제품은 편백나무로 만든 도마와 소나무로 만든 칼 꽂히다</td>\n",
       "      <td>부정</td>\n",
       "      <td>8431</td>\n",
       "    </tr>\n",
       "    <tr>\n",
       "      <th>222285</th>\n",
       "      <td>제작에 사용된 재료는 관내에서 생산한 목재를 활용했다</td>\n",
       "      <td>긍정</td>\n",
       "      <td>8431</td>\n",
       "    </tr>\n",
       "    <tr>\n",
       "      <th>222286</th>\n",
       "      <td>한편 시 관계자는 풍부한 산림자원을 활용해 실용성 높은 목제품을 만들고 어려운 이웃...</td>\n",
       "      <td>긍정</td>\n",
       "      <td>8431</td>\n",
       "    </tr>\n",
       "    <tr>\n",
       "      <th>222287</th>\n",
       "      <td>며 앞으로 더욱 다양한 목공활동을 통해 시민들이 목제품에 더욱 친근하게 다가설 수 ...</td>\n",
       "      <td>긍정</td>\n",
       "      <td>8431</td>\n",
       "    </tr>\n",
       "    <tr>\n",
       "      <th>222288</th>\n",
       "      <td>광교 저널 광교 저널 광교지역 인터넷신문 인터넷뉴스 인터넷뉴스신문 www kmkne...</td>\n",
       "      <td>긍정</td>\n",
       "      <td>8431</td>\n",
       "    </tr>\n",
       "  </tbody>\n",
       "</table>\n",
       "<p>222289 rows × 3 columns</p>\n",
       "</div>"
      ],
      "text/plain": [
       "                                              correct_str label  org_idx\n",
       "0       세종시청 홈페이지 공공근로 알바 세종시 고용센터 일자리 지원센터 교차로 구인·구직 ...    긍정        0\n",
       "1       최근에는 스마트시티 미래 차 모빌리티 생명 건강 스마트 그린 융합부품 소재산업 등 ...    긍정        0\n",
       "2       사진 출처 세종시청 홈페이지 전반적으로 고용률은 높아지고 있지만 어르신 장애인 경력...    긍정        0\n",
       "3       사진 출처 세종시 교차로 구인·구직 세종 재가 노인지원센터 세종시니어클럽 세종 재가...    긍정        0\n",
       "4       세종시청 홈페이지 공공근로 등 공공일자리 사업 참여자 모집 공고 확인 및 참여 방법...    긍정        0\n",
       "...                                                   ...   ...      ...\n",
       "222284             이날 전달한 목제품은 편백나무로 만든 도마와 소나무로 만든 칼 꽂히다    부정     8431\n",
       "222285                      제작에 사용된 재료는 관내에서 생산한 목재를 활용했다    긍정     8431\n",
       "222286  한편 시 관계자는 풍부한 산림자원을 활용해 실용성 높은 목제품을 만들고 어려운 이웃...    긍정     8431\n",
       "222287  며 앞으로 더욱 다양한 목공활동을 통해 시민들이 목제품에 더욱 친근하게 다가설 수 ...    긍정     8431\n",
       "222288  광교 저널 광교 저널 광교지역 인터넷신문 인터넷뉴스 인터넷뉴스신문 www kmkne...    긍정     8431\n",
       "\n",
       "[222289 rows x 3 columns]"
      ]
     },
     "execution_count": 9,
     "metadata": {},
     "output_type": "execute_result"
    }
   ],
   "source": [
    "ddff = df[['correct_str','label','org_idx']]\n",
    "ddff"
   ]
  },
  {
   "cell_type": "code",
   "execution_count": 10,
   "metadata": {},
   "outputs": [
    {
     "data": {
      "text/plain": [
       "긍정    181662\n",
       "부정     40439\n",
       "중립       188\n",
       "Name: label, dtype: int64"
      ]
     },
     "execution_count": 10,
     "metadata": {},
     "output_type": "execute_result"
    }
   ],
   "source": [
    "ddff['label'].value_counts()"
   ]
  },
  {
   "cell_type": "code",
   "execution_count": 11,
   "metadata": {},
   "outputs": [
    {
     "name": "stderr",
     "output_type": "stream",
     "text": [
      "c:\\Users\\user\\anaconda3\\envs\\NIFOS\\lib\\site-packages\\pandas\\core\\frame.py:5047: SettingWithCopyWarning: \n",
      "A value is trying to be set on a copy of a slice from a DataFrame\n",
      "\n",
      "See the caveats in the documentation: https://pandas.pydata.org/pandas-docs/stable/user_guide/indexing.html#returning-a-view-versus-a-copy\n",
      "  errors=errors,\n"
     ]
    }
   ],
   "source": [
    "ddff.rename(columns={'correct_str': 'sentence'}, inplace=True)\n",
    "ddff.rename(columns={'label': 'predicted_sentiment'}, inplace=True)\n",
    "ddff.to_csv(\"./Ternary_classification_2021.csv\", index=False, encoding='UTF-8')"
   ]
  }
 ],
 "metadata": {
  "kernelspec": {
   "display_name": "NIFOS",
   "language": "python",
   "name": "python3"
  },
  "language_info": {
   "codemirror_mode": {
    "name": "ipython",
    "version": 3
   },
   "file_extension": ".py",
   "mimetype": "text/x-python",
   "name": "python",
   "nbconvert_exporter": "python",
   "pygments_lexer": "ipython3",
   "version": "3.7.16"
  },
  "orig_nbformat": 4
 },
 "nbformat": 4,
 "nbformat_minor": 2
}
