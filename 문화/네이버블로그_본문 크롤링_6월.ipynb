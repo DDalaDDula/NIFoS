{
 "cells": [
  {
   "cell_type": "markdown",
   "id": "db7b5304",
   "metadata": {},
   "source": [
    "# 본문 스크래핑"
   ]
  },
  {
   "cell_type": "code",
   "execution_count": null,
   "id": "88f269e2",
   "metadata": {},
   "outputs": [],
   "source": [
    "import pandas as pd\n",
    "import numpy as np\n",
    "import time\n",
    "from tqdm.notebook import tqdm\n",
    "import random\n",
    "import urllib.request\n",
    "from selenium.common.exceptions import NoSuchElementException, UnexpectedAlertPresentException, TimeoutException\n",
    "from selenium import webdriver\n",
    "from selenium.webdriver.common.by import By\n",
    "# import chromedriver_auto\n",
    "\n",
    "\n",
    "# 웹드라이버 설정\n",
    "options = webdriver.ChromeOptions()\n",
    "options.add_experimental_option(\"excludeSwitches\", [\"enable-automation\"])\n",
    "options.add_experimental_option(\"useAutomationExtension\", False)\n",
    "# options.add_argument('headless') # 창 숨기기\n"
   ]
  },
  {
   "cell_type": "code",
   "execution_count": 2,
   "id": "990973ce",
   "metadata": {},
   "outputs": [],
   "source": [
    "from user_agent import generate_user_agent, generate_navigator\n",
    "\n",
    "print(generate_user_agent(device_type='desktop'))\n",
    "print(generate_user_agent(os='win', device_type='desktop'))\n",
    "\n",
    "navigator = generate_navigator()\n",
    "\n",
    "random_user = generate_user_agent(os='win', device_type='desktop')\n",
    "print(random_user)"
   ]
  },
  {
   "cell_type": "code",
   "execution_count": 2,
   "id": "36c7dea6",
   "metadata": {},
   "outputs": [],
   "source": [
    "from selenium.webdriver.chrome.options import Options\n",
    "\n",
    "# chrome_options = Options()\n",
    "# chrome_options.add_argument(random_user)\n",
    "driver = webdriver.Chrome(executable_path ='./chromedriver_win32/chromedriver.exe',options = options)\n",
    "\n",
    "driver.maximize_window()\n",
    "driver.get(\"https://www.naver.com/\")\n",
    "driver.implicitly_wait(10)\n"
   ]
  },
  {
   "cell_type": "code",
   "execution_count": 3,
   "id": "e4e6f57e",
   "metadata": {},
   "outputs": [
    {
     "name": "stdout",
     "output_type": "stream",
     "text": [
      "(11727, 3) Index(['url', 'title', 'date'], dtype='object')\n"
     ]
    },
    {
     "data": {
      "text/html": [
       "<div>\n",
       "<style scoped>\n",
       "    .dataframe tbody tr th:only-of-type {\n",
       "        vertical-align: middle;\n",
       "    }\n",
       "\n",
       "    .dataframe tbody tr th {\n",
       "        vertical-align: top;\n",
       "    }\n",
       "\n",
       "    .dataframe thead th {\n",
       "        text-align: right;\n",
       "    }\n",
       "</style>\n",
       "<table border=\"1\" class=\"dataframe\">\n",
       "  <thead>\n",
       "    <tr style=\"text-align: right;\">\n",
       "      <th></th>\n",
       "      <th>url</th>\n",
       "      <th>title</th>\n",
       "      <th>date</th>\n",
       "    </tr>\n",
       "  </thead>\n",
       "  <tbody>\n",
       "    <tr>\n",
       "      <th>0</th>\n",
       "      <td>https://blog.naver.com/yeojuhangul/222017304299</td>\n",
       "      <td>여주 힐링 여행지 2곳 소개합니다(여주 여행코스)</td>\n",
       "      <td>2020.06.30.</td>\n",
       "    </tr>\n",
       "    <tr>\n",
       "      <th>1</th>\n",
       "      <td>https://blog.naver.com/sy990520/222017303058</td>\n",
       "      <td>대중가요는 시대를 담았다 [국립한글박물관 기자단] 기획특별전...</td>\n",
       "      <td>2020.06.30.</td>\n",
       "    </tr>\n",
       "    <tr>\n",
       "      <th>2</th>\n",
       "      <td>https://blog.naver.com/guryesns/222017303062</td>\n",
       "      <td>구례 백두대간 생태교육장 체험 프로그램 누려~~</td>\n",
       "      <td>2020.06.30.</td>\n",
       "    </tr>\n",
       "    <tr>\n",
       "      <th>3</th>\n",
       "      <td>https://blog.naver.com/shirayuki_111/222017303214</td>\n",
       "      <td>신비아파트 더블X: 6개의 예언 귀신 정리</td>\n",
       "      <td>2020.06.30.</td>\n",
       "    </tr>\n",
       "    <tr>\n",
       "      <th>4</th>\n",
       "      <td>https://blog.naver.com/jsshopholic/222017301970</td>\n",
       "      <td>인사동 브런치 한식 레스토랑 @ 스페이스오</td>\n",
       "      <td>2020.06.30.</td>\n",
       "    </tr>\n",
       "    <tr>\n",
       "      <th>...</th>\n",
       "      <td>...</td>\n",
       "      <td>...</td>\n",
       "      <td>...</td>\n",
       "    </tr>\n",
       "    <tr>\n",
       "      <th>11722</th>\n",
       "      <td>https://blog.naver.com/dlagustnkh/221986773931</td>\n",
       "      <td>[후불제상조] 올바른상조 믿을 수 있는 후불제상조 함께 하세요</td>\n",
       "      <td>2020.06.01.</td>\n",
       "    </tr>\n",
       "    <tr>\n",
       "      <th>11723</th>\n",
       "      <td>https://blog.naver.com/aa13245/221986771937</td>\n",
       "      <td>2020년 6월 1일 아웃풋</td>\n",
       "      <td>2020.06.01.</td>\n",
       "    </tr>\n",
       "    <tr>\n",
       "      <th>11724</th>\n",
       "      <td>https://blog.naver.com/saidsong/221986773077</td>\n",
       "      <td>생명연습 - 문학동네 한국문학전집 001</td>\n",
       "      <td>2020.06.01.</td>\n",
       "    </tr>\n",
       "    <tr>\n",
       "      <th>11725</th>\n",
       "      <td>https://blog.naver.com/lcwlimkong/221986770764</td>\n",
       "      <td>힐링을 주는 녹지공간, 숲세권의 가치 증가</td>\n",
       "      <td>2020.06.01.</td>\n",
       "    </tr>\n",
       "    <tr>\n",
       "      <th>11726</th>\n",
       "      <td>https://blog.naver.com/amlee74/221986764942</td>\n",
       "      <td>남양주 물의정원 양귀비 6월1일 개화상황 및 주차정보</td>\n",
       "      <td>2020.06.01.</td>\n",
       "    </tr>\n",
       "  </tbody>\n",
       "</table>\n",
       "<p>11727 rows × 3 columns</p>\n",
       "</div>"
      ],
      "text/plain": [
       "                                                     url  \\\n",
       "0        https://blog.naver.com/yeojuhangul/222017304299   \n",
       "1           https://blog.naver.com/sy990520/222017303058   \n",
       "2           https://blog.naver.com/guryesns/222017303062   \n",
       "3      https://blog.naver.com/shirayuki_111/222017303214   \n",
       "4        https://blog.naver.com/jsshopholic/222017301970   \n",
       "...                                                  ...   \n",
       "11722     https://blog.naver.com/dlagustnkh/221986773931   \n",
       "11723        https://blog.naver.com/aa13245/221986771937   \n",
       "11724       https://blog.naver.com/saidsong/221986773077   \n",
       "11725     https://blog.naver.com/lcwlimkong/221986770764   \n",
       "11726        https://blog.naver.com/amlee74/221986764942   \n",
       "\n",
       "                                      title         date  \n",
       "0               여주 힐링 여행지 2곳 소개합니다(여주 여행코스)  2020.06.30.  \n",
       "1      대중가요는 시대를 담았다 [국립한글박물관 기자단] 기획특별전...  2020.06.30.  \n",
       "2                구례 백두대간 생태교육장 체험 프로그램 누려~~  2020.06.30.  \n",
       "3                   신비아파트 더블X: 6개의 예언 귀신 정리  2020.06.30.  \n",
       "4                   인사동 브런치 한식 레스토랑 @ 스페이스오  2020.06.30.  \n",
       "...                                     ...          ...  \n",
       "11722    [후불제상조] 올바른상조 믿을 수 있는 후불제상조 함께 하세요  2020.06.01.  \n",
       "11723                       2020년 6월 1일 아웃풋  2020.06.01.  \n",
       "11724                생명연습 - 문학동네 한국문학전집 001  2020.06.01.  \n",
       "11725               힐링을 주는 녹지공간, 숲세권의 가치 증가  2020.06.01.  \n",
       "11726         남양주 물의정원 양귀비 6월1일 개화상황 및 주차정보  2020.06.01.  \n",
       "\n",
       "[11727 rows x 3 columns]"
      ]
     },
     "execution_count": 3,
     "metadata": {},
     "output_type": "execute_result"
    }
   ],
   "source": [
    "url_df = pd.read_csv(\"./나무문화/2020/나무문화_링크_2020_6월.csv\", encoding='UTF-8')\n",
    "print(url_df.shape, url_df.columns)\n",
    "url_df\n"
   ]
  },
  {
   "cell_type": "code",
   "execution_count": 4,
   "id": "892b0519",
   "metadata": {},
   "outputs": [
    {
     "name": "stdout",
     "output_type": "stream",
     "text": [
      "11727\n"
     ]
    }
   ],
   "source": [
    "blog_links = url_df['url'].to_list()\n",
    "print(len(blog_links))\n"
   ]
  },
  {
   "cell_type": "code",
   "execution_count": 6,
   "id": "865be6f4",
   "metadata": {},
   "outputs": [],
   "source": [
    "# df = pd.DataFrame(columns = {'url','본문'})\n",
    "# df.to_csv(\"./나무문화/2020/나무문화_본문_2020_6월.csv\", index=False, encoding='UTF-8')\n",
    "# df.to_excel(\"./나무문화/2020/나무문화_본문_2020_6월.xlsx\", index=False, encoding='UTF-8')"
   ]
  },
  {
   "cell_type": "code",
   "execution_count": 5,
   "id": "8f51c942",
   "metadata": {},
   "outputs": [
    {
     "data": {
      "text/html": [
       "<div>\n",
       "<style scoped>\n",
       "    .dataframe tbody tr th:only-of-type {\n",
       "        vertical-align: middle;\n",
       "    }\n",
       "\n",
       "    .dataframe tbody tr th {\n",
       "        vertical-align: top;\n",
       "    }\n",
       "\n",
       "    .dataframe thead th {\n",
       "        text-align: right;\n",
       "    }\n",
       "</style>\n",
       "<table border=\"1\" class=\"dataframe\">\n",
       "  <thead>\n",
       "    <tr style=\"text-align: right;\">\n",
       "      <th></th>\n",
       "      <th>본문</th>\n",
       "      <th>url</th>\n",
       "    </tr>\n",
       "  </thead>\n",
       "  <tbody>\n",
       "    <tr>\n",
       "      <th>0</th>\n",
       "      <td>여주 힐링 여행지 2곳 (여주 여행코스)\\n1. 황학산수목원\\n세종대왕의 영릉과 명...</td>\n",
       "      <td>https://blog.naver.com/yeojuhangul/222017304299</td>\n",
       "    </tr>\n",
       "    <tr>\n",
       "      <th>1</th>\n",
       "      <td>안녕하세요 국립한글박물관 기자단 5기 조수연입니다.\\n저번달에 이어 국립한글박물관 ...</td>\n",
       "      <td>https://blog.naver.com/sy990520/222017303058</td>\n",
       "    </tr>\n",
       "    <tr>\n",
       "      <th>2</th>\n",
       "      <td>안녕하세요 여러분\\n기운돋는 이름, 여기는 구례랍니다\\n삶이 힘들고 지칠때\\n구례지...</td>\n",
       "      <td>https://blog.naver.com/guryesns/222017303062</td>\n",
       "    </tr>\n",
       "    <tr>\n",
       "      <th>3</th>\n",
       "      <td>*오리지널 귀신 제외\\n신비아파트 고스트볼X의 비밀 신화 속 귀신 정리\\n&lt;신비아파...</td>\n",
       "      <td>https://blog.naver.com/shirayuki_111/222017303214</td>\n",
       "    </tr>\n",
       "    <tr>\n",
       "      <th>4</th>\n",
       "      <td>50m\\n© NAVER Corp.\\n스페이스오\\n서울특별시 종로구 인사동길 49 1...</td>\n",
       "      <td>https://blog.naver.com/jsshopholic/222017301970</td>\n",
       "    </tr>\n",
       "    <tr>\n",
       "      <th>...</th>\n",
       "      <td>...</td>\n",
       "      <td>...</td>\n",
       "    </tr>\n",
       "    <tr>\n",
       "      <th>10622</th>\n",
       "      <td>[문학]\\n존재하지 않는 이미지입니다.\\n시절과 기분\\n《여름, 스피드》로 많은 독...</td>\n",
       "      <td>https://blog.naver.com/readersguide/221991301449</td>\n",
       "    </tr>\n",
       "    <tr>\n",
       "      <th>10623</th>\n",
       "      <td>요즘 코로나 19 재확산으로\\n궁이나 능 혹은 전시장 박물관이\\n임시 휴관이더라구요...</td>\n",
       "      <td>https://blog.naver.com/ksjae0207/221991298644</td>\n",
       "    </tr>\n",
       "    <tr>\n",
       "      <th>10624</th>\n",
       "      <td>안옥란이야기\\n안옥란이야기 5,175개의 글\\n안옥란이야기\\n목록열기\\n광교산 광교...</td>\n",
       "      <td>https://blog.naver.com/ooang40/221991293186</td>\n",
       "    </tr>\n",
       "    <tr>\n",
       "      <th>10625</th>\n",
       "      <td>세계를 바꾸는 착한마을 이야기\\n저자\\n박소명\\n출판\\n북멘토\\n발매\\n2014.0...</td>\n",
       "      <td>https://blog.naver.com/young_bong/221949817876</td>\n",
       "    </tr>\n",
       "    <tr>\n",
       "      <th>10626</th>\n",
       "      <td>지엔느 인테리어 클래스!!\\n5월 온라인 인테리어클래스!!\\n이게 왠말이냐고요?ㅠ\\...</td>\n",
       "      <td>https://blog.naver.com/wnsgurcoals/221991288873</td>\n",
       "    </tr>\n",
       "  </tbody>\n",
       "</table>\n",
       "<p>10627 rows × 2 columns</p>\n",
       "</div>"
      ],
      "text/plain": [
       "                                                      본문  \\\n",
       "0      여주 힐링 여행지 2곳 (여주 여행코스)\\n1. 황학산수목원\\n세종대왕의 영릉과 명...   \n",
       "1      안녕하세요 국립한글박물관 기자단 5기 조수연입니다.\\n저번달에 이어 국립한글박물관 ...   \n",
       "2      안녕하세요 여러분\\n기운돋는 이름, 여기는 구례랍니다\\n삶이 힘들고 지칠때\\n구례지...   \n",
       "3      *오리지널 귀신 제외\\n신비아파트 고스트볼X의 비밀 신화 속 귀신 정리\\n<신비아파...   \n",
       "4      50m\\n© NAVER Corp.\\n스페이스오\\n서울특별시 종로구 인사동길 49 1...   \n",
       "...                                                  ...   \n",
       "10622  [문학]\\n존재하지 않는 이미지입니다.\\n시절과 기분\\n《여름, 스피드》로 많은 독...   \n",
       "10623  요즘 코로나 19 재확산으로\\n궁이나 능 혹은 전시장 박물관이\\n임시 휴관이더라구요...   \n",
       "10624  안옥란이야기\\n안옥란이야기 5,175개의 글\\n안옥란이야기\\n목록열기\\n광교산 광교...   \n",
       "10625  세계를 바꾸는 착한마을 이야기\\n저자\\n박소명\\n출판\\n북멘토\\n발매\\n2014.0...   \n",
       "10626  지엔느 인테리어 클래스!!\\n5월 온라인 인테리어클래스!!\\n이게 왠말이냐고요?ㅠ\\...   \n",
       "\n",
       "                                                     url  \n",
       "0        https://blog.naver.com/yeojuhangul/222017304299  \n",
       "1           https://blog.naver.com/sy990520/222017303058  \n",
       "2           https://blog.naver.com/guryesns/222017303062  \n",
       "3      https://blog.naver.com/shirayuki_111/222017303214  \n",
       "4        https://blog.naver.com/jsshopholic/222017301970  \n",
       "...                                                  ...  \n",
       "10622   https://blog.naver.com/readersguide/221991301449  \n",
       "10623      https://blog.naver.com/ksjae0207/221991298644  \n",
       "10624        https://blog.naver.com/ooang40/221991293186  \n",
       "10625     https://blog.naver.com/young_bong/221949817876  \n",
       "10626    https://blog.naver.com/wnsgurcoals/221991288873  \n",
       "\n",
       "[10627 rows x 2 columns]"
      ]
     },
     "execution_count": 5,
     "metadata": {},
     "output_type": "execute_result"
    }
   ],
   "source": [
    "df = pd.read_csv(\"./나무문화/2020/나무문화_본문_2020_6월.csv\", encoding='UTF-8')\n",
    "df"
   ]
  },
  {
   "cell_type": "code",
   "execution_count": 6,
   "id": "0504acf1",
   "metadata": {},
   "outputs": [
    {
     "data": {
      "text/plain": [
       "10627"
      ]
     },
     "execution_count": 6,
     "metadata": {},
     "output_type": "execute_result"
    }
   ],
   "source": [
    "len(df)"
   ]
  },
  {
   "cell_type": "code",
   "execution_count": 16,
   "id": "7009d198",
   "metadata": {},
   "outputs": [
    {
     "data": {
      "text/plain": [
       "url      https://blog.naver.com/rpreview/221991286665\n",
       "title                 Royce da 5'9\" [The Allegory] 리뷰\n",
       "date                                      2020.06.05.\n",
       "Name: 10627, dtype: object"
      ]
     },
     "execution_count": 16,
     "metadata": {},
     "output_type": "execute_result"
    }
   ],
   "source": [
    "url_df.iloc[10627]"
   ]
  },
  {
   "cell_type": "code",
   "execution_count": 10,
   "id": "48ecfa11",
   "metadata": {},
   "outputs": [
    {
     "data": {
      "text/plain": [
       "본문     2\n",
       "url    0\n",
       "dtype: int64"
      ]
     },
     "execution_count": 10,
     "metadata": {},
     "output_type": "execute_result"
    }
   ],
   "source": [
    "df.isnull().sum()"
   ]
  },
  {
   "cell_type": "code",
   "execution_count": 17,
   "id": "3d3aad2b",
   "metadata": {},
   "outputs": [
    {
     "name": "stderr",
     "output_type": "stream",
     "text": [
      "C:\\Users\\user\\AppData\\Local\\Temp\\ipykernel_1436\\238471668.py:4: FutureWarning: The frame.append method is deprecated and will be removed from pandas in a future version. Use pandas.concat instead.\n",
      "  df = df.append(additional_df, ignore_index = True)\n"
     ]
    }
   ],
   "source": [
    "# 이건 필요할때 쓰면 됨. 블로그가 닫혔거나 삭제되었을때 빈 본문을 가진 데이터프레임 추가.\n",
    "# content_dic = {'url' : [\"https://blog.naver.com/rpreview/221991286665\"], '본문' : [None]}\n",
    "# additional_df = pd.DataFrame(content_dic)\n",
    "# df = df.append(additional_df, ignore_index = True)"
   ]
  },
  {
   "cell_type": "code",
   "execution_count": null,
   "id": "7bfeb2ec",
   "metadata": {
    "scrolled": true
   },
   "outputs": [],
   "source": [
    "#### 삭제/비공개 링크 인덱스도 매번 바꿔줄 것!!! ###\n",
    "# contents = []\n",
    "# old_blogs = []\n",
    "hide_link = []\n",
    "waitsec = random.uniform(4,4.5)\n",
    "\n",
    "from IPython.display import clear_output\n",
    "from IPython import display # 램효율을 늘리기 위해 아웃풋 display를 지워줄 것.\n",
    "from ipywidgets import Output\n",
    "\n",
    "out = Output()\n",
    "display.display(out)\n",
    "\n",
    "for i in tqdm(blog_links[len(df):]):\n",
    "    content_dic = {'url' : [], '본문' : []}\n",
    "    content_dic['url'].append(i)\n",
    "    time.sleep(waitsec)\n",
    "    driver.get(i)\n",
    "    driver.implicitly_wait(10)\n",
    "    time.sleep(waitsec)\n",
    "    try:\n",
    "        driver.switch_to.frame(\"mainFrame\")\n",
    "    except TimeoutException as e:\n",
    "        print('시간 초과 오류 : ', e)\n",
    "        content_dic['본문'].append('수집불가능')\n",
    "    except UnexpectedAlertPresentException as e:\n",
    "    ### 이 오류 해결함. 에러 코드 파일에서 직접 임포트하면 된다!\n",
    "        print(e)\n",
    "                                                                            # 여기도 바꿔야 함\n",
    "        print('{}번째 게시글은 비공개로 전환되었거나 게시판이 바뀜.'.format(blog_links.index(i)))\n",
    "        hide_link.append(i)\n",
    "        time.sleep(1.5)\n",
    "        driver.switch_to.frame('mainFrame')\n",
    "    try:\n",
    "        a = driver.find_element(By.CSS_SELECTOR,'div.se-main-container').text\n",
    "        content_dic['본문'].append(a)\n",
    "    # NoSuchElement 오류시 예외처리(구버전 블로그에 적용)\n",
    "    except NoSuchElementException:\n",
    "        a = driver.find_element(By.CSS_SELECTOR,'div#content-area').text\n",
    "        content_dic['본문'].append(a)\n",
    "        #old_blogs.append(i)\n",
    "    additional_df = pd.DataFrame(content_dic)\n",
    "    df = df.append(additional_df, ignore_index = True)\n",
    "    df.to_csv(\"./나무문화/2020/나무문화_본문_2020_6월.csv\", index=False, encoding='UTF-8')\n",
    "    #df.to_excel(\"./나무문화/2020/나무문화_본문_2020_6월.xlsx\", index=False, encoding='UTF-8')\n",
    "    print(blog_links.index(i), df['본문'].tolist().index(a))\n",
    "    \n",
    "    display.clear_output(wait=True) # 출력지우기\n",
    "    # if blog_links.index(i) != df['본문'].tolist().index(a):\n",
    "    #     break\n"
   ]
  },
  {
   "cell_type": "code",
   "execution_count": null,
   "id": "febb389f",
   "metadata": {},
   "outputs": [],
   "source": [
    "df"
   ]
  },
  {
   "cell_type": "code",
   "execution_count": null,
   "id": "e35b9068",
   "metadata": {},
   "outputs": [],
   "source": [
    "print(len(contents))\n",
    "#print(len(old_blogs))\n",
    "print(len(hide_link))\n"
   ]
  }
 ],
 "metadata": {
  "kernelspec": {
   "display_name": "Python 3.8.0 ('NIFS')",
   "language": "python",
   "name": "python3"
  },
  "language_info": {
   "codemirror_mode": {
    "name": "ipython",
    "version": 3
   },
   "file_extension": ".py",
   "mimetype": "text/x-python",
   "name": "python",
   "nbconvert_exporter": "python",
   "pygments_lexer": "ipython3",
   "version": "3.8.0"
  },
  "vscode": {
   "interpreter": {
    "hash": "ef870b4feb386425c661b7ebcadef1c9affb03996f900964fa02bf03ee560957"
   }
  }
 },
 "nbformat": 4,
 "nbformat_minor": 5
}
