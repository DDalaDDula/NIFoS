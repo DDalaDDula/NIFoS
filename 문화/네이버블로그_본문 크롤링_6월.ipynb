{
 "cells": [
  {
   "cell_type": "markdown",
   "id": "db7b5304",
   "metadata": {},
   "source": [
    "# 본문 스크래핑"
   ]
  },
  {
   "cell_type": "code",
   "execution_count": 1,
   "id": "88f269e2",
   "metadata": {},
   "outputs": [],
   "source": [
    "import pandas as pd\n",
    "import numpy as np\n",
    "import time\n",
    "from tqdm.notebook import tqdm\n",
    "import random\n",
    "import urllib.request\n",
    "from selenium.common.exceptions import NoSuchElementException, UnexpectedAlertPresentException, TimeoutException\n",
    "from selenium import webdriver\n",
    "from selenium.webdriver.common.by import By\n",
    "# import chromedriver_auto\n",
    "\n",
    "\n",
    "# 웹드라이버 설정\n",
    "options = webdriver.ChromeOptions()\n",
    "options.add_experimental_option(\"excludeSwitches\", [\"enable-automation\"])\n",
    "options.add_experimental_option(\"useAutomationExtension\", False)\n",
    "options.add_argument('headless') # 창 숨기기\n"
   ]
  },
  {
   "cell_type": "code",
   "execution_count": 2,
   "id": "990973ce",
   "metadata": {},
   "outputs": [],
   "source": [
    "# from user_agent import generate_user_agent, generate_navigator\n",
    "\n",
    "# print(generate_user_agent(device_type='desktop'))\n",
    "# print(generate_user_agent(os='win', device_type='desktop'))\n",
    "\n",
    "# navigator = generate_navigator()\n",
    "\n",
    "# random_user = generate_user_agent(os='win', device_type='desktop')\n",
    "# print(random_user)"
   ]
  },
  {
   "cell_type": "code",
   "execution_count": 3,
   "id": "36c7dea6",
   "metadata": {},
   "outputs": [],
   "source": [
    "from selenium.webdriver.chrome.options import Options\n",
    "\n",
    "# chrome_options = Options()\n",
    "# chrome_options.add_argument(random_user)\n",
    "driver = webdriver.Chrome(executable_path ='./chromedriver_win32/chromedriver.exe',options = options)\n",
    "\n",
    "driver.maximize_window()\n",
    "driver.get(\"https://www.naver.com/\")\n",
    "driver.implicitly_wait(10)\n"
   ]
  },
  {
   "cell_type": "code",
   "execution_count": 4,
   "id": "e4e6f57e",
   "metadata": {},
   "outputs": [
    {
     "name": "stdout",
     "output_type": "stream",
     "text": [
      "(11967, 3) Index(['url', 'title', 'date'], dtype='object')\n"
     ]
    },
    {
     "data": {
      "text/html": [
       "<div>\n",
       "<style scoped>\n",
       "    .dataframe tbody tr th:only-of-type {\n",
       "        vertical-align: middle;\n",
       "    }\n",
       "\n",
       "    .dataframe tbody tr th {\n",
       "        vertical-align: top;\n",
       "    }\n",
       "\n",
       "    .dataframe thead th {\n",
       "        text-align: right;\n",
       "    }\n",
       "</style>\n",
       "<table border=\"1\" class=\"dataframe\">\n",
       "  <thead>\n",
       "    <tr style=\"text-align: right;\">\n",
       "      <th></th>\n",
       "      <th>url</th>\n",
       "      <th>title</th>\n",
       "      <th>date</th>\n",
       "    </tr>\n",
       "  </thead>\n",
       "  <tbody>\n",
       "    <tr>\n",
       "      <th>0</th>\n",
       "      <td>https://blog.naver.com/ccalvados/222795576909</td>\n",
       "      <td>7월 개봉 예정 영화 10편! 신작 영화 추천</td>\n",
       "      <td>2022.06.30.</td>\n",
       "    </tr>\n",
       "    <tr>\n",
       "      <th>1</th>\n",
       "      <td>https://blog.naver.com/stepan5844/222795577522</td>\n",
       "      <td>[파니의 주간일기 #4] 6월 20일 ~ 6월 30일 / 캐논카메라 안녕!...</td>\n",
       "      <td>2022.06.30.</td>\n",
       "    </tr>\n",
       "    <tr>\n",
       "      <th>2</th>\n",
       "      <td>https://blog.naver.com/i_ipossible/222795577237</td>\n",
       "      <td>파주 출판도시 숙소 지지향에서 책에 둘러쌓인 북스테이 했어요</td>\n",
       "      <td>2022.06.30.</td>\n",
       "    </tr>\n",
       "    <tr>\n",
       "      <th>3</th>\n",
       "      <td>https://blog.naver.com/hyhan2028/222795577392</td>\n",
       "      <td>하남원데이미술 카페이볼브 아크릴화 체험권+음료</td>\n",
       "      <td>2022.06.30.</td>\n",
       "    </tr>\n",
       "    <tr>\n",
       "      <th>4</th>\n",
       "      <td>https://blog.naver.com/charnnant/222795577621</td>\n",
       "      <td>[마곡/발산] 비가 와도 가족/연인/친구와 같이 가면 좋은 실내...</td>\n",
       "      <td>2022.06.30.</td>\n",
       "    </tr>\n",
       "    <tr>\n",
       "      <th>...</th>\n",
       "      <td>...</td>\n",
       "      <td>...</td>\n",
       "      <td>...</td>\n",
       "    </tr>\n",
       "    <tr>\n",
       "      <th>11962</th>\n",
       "      <td>https://blog.naver.com/hsook0417/222754273924</td>\n",
       "      <td>신영복 평전</td>\n",
       "      <td>2022.06.01.</td>\n",
       "    </tr>\n",
       "    <tr>\n",
       "      <th>11963</th>\n",
       "      <td>https://blog.naver.com/flower_daltuium/2227542...</td>\n",
       "      <td>작은 화병 속의 틔움 숲 테라리움</td>\n",
       "      <td>2022.06.01.</td>\n",
       "    </tr>\n",
       "    <tr>\n",
       "      <th>11964</th>\n",
       "      <td>https://blog.naver.com/sohee10723/222754236890</td>\n",
       "      <td>춘천여행 : 당일치기 데이트코스, 반나절만에 춘천 한바퀴...</td>\n",
       "      <td>2022.06.01.</td>\n",
       "    </tr>\n",
       "    <tr>\n",
       "      <th>11965</th>\n",
       "      <td>https://blog.naver.com/poyang84/222754272099</td>\n",
       "      <td>열세 번째 세계유산 영주 부석사를 가다</td>\n",
       "      <td>2022.06.01.</td>\n",
       "    </tr>\n",
       "    <tr>\n",
       "      <th>11966</th>\n",
       "      <td>https://blog.naver.com/sheshow/222699446696</td>\n",
       "      <td>동아시아로의 이주(6)-석기대신 대나무를 사용한 동아시아인들</td>\n",
       "      <td>2022.06.01.</td>\n",
       "    </tr>\n",
       "  </tbody>\n",
       "</table>\n",
       "<p>11967 rows × 3 columns</p>\n",
       "</div>"
      ],
      "text/plain": [
       "                                                     url  \\\n",
       "0          https://blog.naver.com/ccalvados/222795576909   \n",
       "1         https://blog.naver.com/stepan5844/222795577522   \n",
       "2        https://blog.naver.com/i_ipossible/222795577237   \n",
       "3          https://blog.naver.com/hyhan2028/222795577392   \n",
       "4          https://blog.naver.com/charnnant/222795577621   \n",
       "...                                                  ...   \n",
       "11962      https://blog.naver.com/hsook0417/222754273924   \n",
       "11963  https://blog.naver.com/flower_daltuium/2227542...   \n",
       "11964     https://blog.naver.com/sohee10723/222754236890   \n",
       "11965       https://blog.naver.com/poyang84/222754272099   \n",
       "11966        https://blog.naver.com/sheshow/222699446696   \n",
       "\n",
       "                                              title         date  \n",
       "0                         7월 개봉 예정 영화 10편! 신작 영화 추천  2022.06.30.  \n",
       "1      [파니의 주간일기 #4] 6월 20일 ~ 6월 30일 / 캐논카메라 안녕!...  2022.06.30.  \n",
       "2                 파주 출판도시 숙소 지지향에서 책에 둘러쌓인 북스테이 했어요  2022.06.30.  \n",
       "3                         하남원데이미술 카페이볼브 아크릴화 체험권+음료  2022.06.30.  \n",
       "4            [마곡/발산] 비가 와도 가족/연인/친구와 같이 가면 좋은 실내...  2022.06.30.  \n",
       "...                                             ...          ...  \n",
       "11962                                        신영복 평전  2022.06.01.  \n",
       "11963                            작은 화병 속의 틔움 숲 테라리움  2022.06.01.  \n",
       "11964            춘천여행 : 당일치기 데이트코스, 반나절만에 춘천 한바퀴...  2022.06.01.  \n",
       "11965                         열세 번째 세계유산 영주 부석사를 가다  2022.06.01.  \n",
       "11966             동아시아로의 이주(6)-석기대신 대나무를 사용한 동아시아인들  2022.06.01.  \n",
       "\n",
       "[11967 rows x 3 columns]"
      ]
     },
     "execution_count": 4,
     "metadata": {},
     "output_type": "execute_result"
    }
   ],
   "source": [
    "url_df = pd.read_csv(\"./나무문화/2022/나무문화_링크_2022_6월.csv\", encoding='UTF-8')\n",
    "print(url_df.shape, url_df.columns)\n",
    "url_df\n"
   ]
  },
  {
   "cell_type": "code",
   "execution_count": 5,
   "id": "892b0519",
   "metadata": {},
   "outputs": [
    {
     "name": "stdout",
     "output_type": "stream",
     "text": [
      "11967\n"
     ]
    }
   ],
   "source": [
    "blog_links = url_df['url'].to_list()\n",
    "print(len(blog_links))\n"
   ]
  },
  {
   "cell_type": "code",
   "execution_count": 6,
   "id": "865be6f4",
   "metadata": {},
   "outputs": [],
   "source": [
    "# df = pd.DataFrame(columns = ['url','본문'])\n",
    "# df.to_csv(\"./나무문화/2022/나무문화_본문_2022_6월.csv\", index=False, encoding='UTF-8')\n",
    "# #df.to_excel(\"./나무문화/2020/나무문화_본문_2020_6월.xlsx\", index=False, encoding='UTF-8')"
   ]
  },
  {
   "cell_type": "code",
   "execution_count": 7,
   "id": "8f51c942",
   "metadata": {},
   "outputs": [
    {
     "data": {
      "text/html": [
       "<div>\n",
       "<style scoped>\n",
       "    .dataframe tbody tr th:only-of-type {\n",
       "        vertical-align: middle;\n",
       "    }\n",
       "\n",
       "    .dataframe tbody tr th {\n",
       "        vertical-align: top;\n",
       "    }\n",
       "\n",
       "    .dataframe thead th {\n",
       "        text-align: right;\n",
       "    }\n",
       "</style>\n",
       "<table border=\"1\" class=\"dataframe\">\n",
       "  <thead>\n",
       "    <tr style=\"text-align: right;\">\n",
       "      <th></th>\n",
       "      <th>url</th>\n",
       "      <th>본문</th>\n",
       "    </tr>\n",
       "  </thead>\n",
       "  <tbody>\n",
       "    <tr>\n",
       "      <th>0</th>\n",
       "      <td>https://blog.naver.com/ccalvados/222795576909</td>\n",
       "      <td>7월 개봉 예정 영화, 신작 영화추천\\n신작 영화 추천! 극장 개봉 예정 영화 7월...</td>\n",
       "    </tr>\n",
       "    <tr>\n",
       "      <th>1</th>\n",
       "      <td>https://blog.naver.com/stepan5844/222795577522</td>\n",
       "      <td>6월 20일\\n지인이 파니를 위해\\n카메라를 닦고 닦고 또 닦아\\n완전 새거처럼 만...</td>\n",
       "    </tr>\n",
       "    <tr>\n",
       "      <th>2</th>\n",
       "      <td>https://blog.naver.com/i_ipossible/222795577237</td>\n",
       "      <td>2박 3일 파주여행을 하고 온 담담!\\n이번 여행은 혼자 떠나기도했고\\n요즘 바쁘다...</td>\n",
       "    </tr>\n",
       "    <tr>\n",
       "      <th>3</th>\n",
       "      <td>https://blog.naver.com/hyhan2028/222795577392</td>\n",
       "      <td>안녕하세요 연쓰입니다. 오늘은 좀 특별한 이색카페를 다녀왔어요.\\n연쓰는 평소에 집...</td>\n",
       "    </tr>\n",
       "    <tr>\n",
       "      <th>4</th>\n",
       "      <td>https://blog.naver.com/charnnant/222795577621</td>\n",
       "      <td>⏰ 9:30 ~ 18:00\\n🚘 주차 가능\\n안녕하세요! 챠넷입니다 :D\\n장마가 ...</td>\n",
       "    </tr>\n",
       "    <tr>\n",
       "      <th>...</th>\n",
       "      <td>...</td>\n",
       "      <td>...</td>\n",
       "    </tr>\n",
       "    <tr>\n",
       "      <th>8354</th>\n",
       "      <td>https://blog.naver.com/dlrwnsaka/222777788993</td>\n",
       "      <td>요즘 핫한 강남역 디저트 맛집을 가야하는데 신분당선이 개통이 되어서 편하게 갈수가 ...</td>\n",
       "    </tr>\n",
       "    <tr>\n",
       "      <th>8355</th>\n",
       "      <td>https://blog.naver.com/ruda371/222777787379</td>\n",
       "      <td>성남을 떠나기 전\\n성남에서 기억할 것\\n성남 토박이인데 서울만 갔지\\n성남 탄천을...</td>\n",
       "    </tr>\n",
       "    <tr>\n",
       "      <th>8356</th>\n",
       "      <td>https://blog.naver.com/h_barun/222777785583</td>\n",
       "      <td>안녕하세요 바른 미술학원 고등관입니다.\\n오늘은 초현실주의 작가이자 팝아트 작가로 ...</td>\n",
       "    </tr>\n",
       "    <tr>\n",
       "      <th>8357</th>\n",
       "      <td>https://blog.naver.com/mare326/222777781385</td>\n",
       "      <td>6월 둘째 주 주간 기록\\n6월 11일 토요일 정말 여름인가 보다! 32도를 찍었다...</td>\n",
       "    </tr>\n",
       "    <tr>\n",
       "      <th>8358</th>\n",
       "      <td>https://blog.naver.com/gown9593/222777779348</td>\n",
       "      <td>일시: 6. 17\\n날씨: 덥다. 약간 후덥지근하게.\\n나의 오늘은 어떤 날인가?\\...</td>\n",
       "    </tr>\n",
       "  </tbody>\n",
       "</table>\n",
       "<p>8359 rows × 2 columns</p>\n",
       "</div>"
      ],
      "text/plain": [
       "                                                  url  \\\n",
       "0       https://blog.naver.com/ccalvados/222795576909   \n",
       "1      https://blog.naver.com/stepan5844/222795577522   \n",
       "2     https://blog.naver.com/i_ipossible/222795577237   \n",
       "3       https://blog.naver.com/hyhan2028/222795577392   \n",
       "4       https://blog.naver.com/charnnant/222795577621   \n",
       "...                                               ...   \n",
       "8354    https://blog.naver.com/dlrwnsaka/222777788993   \n",
       "8355      https://blog.naver.com/ruda371/222777787379   \n",
       "8356      https://blog.naver.com/h_barun/222777785583   \n",
       "8357      https://blog.naver.com/mare326/222777781385   \n",
       "8358     https://blog.naver.com/gown9593/222777779348   \n",
       "\n",
       "                                                     본문  \n",
       "0     7월 개봉 예정 영화, 신작 영화추천\\n신작 영화 추천! 극장 개봉 예정 영화 7월...  \n",
       "1     6월 20일\\n지인이 파니를 위해\\n카메라를 닦고 닦고 또 닦아\\n완전 새거처럼 만...  \n",
       "2     2박 3일 파주여행을 하고 온 담담!\\n이번 여행은 혼자 떠나기도했고\\n요즘 바쁘다...  \n",
       "3     안녕하세요 연쓰입니다. 오늘은 좀 특별한 이색카페를 다녀왔어요.\\n연쓰는 평소에 집...  \n",
       "4     ⏰ 9:30 ~ 18:00\\n🚘 주차 가능\\n안녕하세요! 챠넷입니다 :D\\n장마가 ...  \n",
       "...                                                 ...  \n",
       "8354  요즘 핫한 강남역 디저트 맛집을 가야하는데 신분당선이 개통이 되어서 편하게 갈수가 ...  \n",
       "8355  성남을 떠나기 전\\n성남에서 기억할 것\\n성남 토박이인데 서울만 갔지\\n성남 탄천을...  \n",
       "8356  안녕하세요 바른 미술학원 고등관입니다.\\n오늘은 초현실주의 작가이자 팝아트 작가로 ...  \n",
       "8357  6월 둘째 주 주간 기록\\n6월 11일 토요일 정말 여름인가 보다! 32도를 찍었다...  \n",
       "8358  일시: 6. 17\\n날씨: 덥다. 약간 후덥지근하게.\\n나의 오늘은 어떤 날인가?\\...  \n",
       "\n",
       "[8359 rows x 2 columns]"
      ]
     },
     "execution_count": 7,
     "metadata": {},
     "output_type": "execute_result"
    }
   ],
   "source": [
    "df = pd.read_csv(\"./나무문화/2022/나무문화_본문_2022_6월.csv\", encoding='UTF-8')\n",
    "df"
   ]
  },
  {
   "cell_type": "code",
   "execution_count": 8,
   "id": "0504acf1",
   "metadata": {},
   "outputs": [
    {
     "data": {
      "text/plain": [
       "8359"
      ]
     },
     "execution_count": 8,
     "metadata": {},
     "output_type": "execute_result"
    }
   ],
   "source": [
    "len(df)"
   ]
  },
  {
   "cell_type": "code",
   "execution_count": 9,
   "id": "7009d198",
   "metadata": {},
   "outputs": [],
   "source": [
    "# url_df.iloc[5866]"
   ]
  },
  {
   "cell_type": "code",
   "execution_count": 10,
   "id": "48ecfa11",
   "metadata": {},
   "outputs": [
    {
     "data": {
      "text/plain": [
       "url    0\n",
       "본문     3\n",
       "dtype: int64"
      ]
     },
     "execution_count": 10,
     "metadata": {},
     "output_type": "execute_result"
    }
   ],
   "source": [
    "df.isnull().sum()"
   ]
  },
  {
   "cell_type": "code",
   "execution_count": 11,
   "id": "3d3aad2b",
   "metadata": {},
   "outputs": [],
   "source": [
    "# # 이건 필요할때 쓰면 됨. 블로그가 닫혔거나 삭제되었을때 빈 본문을 가진 데이터프레임 추가.\n",
    "# content_dic = {'url' : [\"https://blog.naver.com/pony8253/222783289591\"], '본문' : [None]}\n",
    "# additional_df = pd.DataFrame(content_dic)\n",
    "# df = df.append(additional_df, ignore_index = True)"
   ]
  },
  {
   "cell_type": "code",
   "execution_count": 15,
   "id": "7bfeb2ec",
   "metadata": {
    "scrolled": true
   },
   "outputs": [
    {
     "ename": "KeyboardInterrupt",
     "evalue": "",
     "output_type": "error",
     "traceback": [
      "\u001b[1;31m---------------------------------------------------------------------------\u001b[0m",
      "\u001b[1;31mKeyboardInterrupt\u001b[0m                         Traceback (most recent call last)",
      "Cell \u001b[1;32mIn[15], line 20\u001b[0m\n\u001b[0;32m     18\u001b[0m driver\u001b[39m.\u001b[39mget(i)\n\u001b[0;32m     19\u001b[0m driver\u001b[39m.\u001b[39mimplicitly_wait(\u001b[39m10\u001b[39m)\n\u001b[1;32m---> 20\u001b[0m time\u001b[39m.\u001b[39;49msleep(waitsec)\n\u001b[0;32m     21\u001b[0m \u001b[39mtry\u001b[39;00m:\n\u001b[0;32m     22\u001b[0m     driver\u001b[39m.\u001b[39mswitch_to\u001b[39m.\u001b[39mframe(\u001b[39m\"\u001b[39m\u001b[39mmainFrame\u001b[39m\u001b[39m\"\u001b[39m)\n",
      "\u001b[1;31mKeyboardInterrupt\u001b[0m: "
     ]
    }
   ],
   "source": [
    "#### 삭제/비공개 링크 인덱스도 매번 바꿔줄 것!!! ###\n",
    "# contents = []\n",
    "# old_blogs = []\n",
    "hide_link = []\n",
    "waitsec = random.uniform(4,4.5)\n",
    "\n",
    "from IPython.display import clear_output\n",
    "from IPython import display # 램효율을 늘리기 위해 아웃풋 display를 지워줄 것.\n",
    "from ipywidgets import Output\n",
    "\n",
    "out = Output()\n",
    "display.display(out)\n",
    "\n",
    "for i in tqdm(blog_links[len(df):]):\n",
    "    content_dic = {'url' : [], '본문' : []}\n",
    "    content_dic['url'].append(i)\n",
    "    time.sleep(waitsec)\n",
    "    driver.get(i)\n",
    "    driver.implicitly_wait(10)\n",
    "    time.sleep(waitsec)\n",
    "    try:\n",
    "        driver.switch_to.frame(\"mainFrame\")\n",
    "    except TimeoutException as e:\n",
    "        print('시간 초과 오류 : ', e)\n",
    "        content_dic['본문'].append('수집불가능')\n",
    "    except UnexpectedAlertPresentException as e:\n",
    "    ### 이 오류 해결함. 에러 코드 파일에서 직접 임포트하면 된다!\n",
    "        print(e)\n",
    "                                                                            # 여기도 바꿔야 함\n",
    "        print('{}번째 게시글은 비공개로 전환되었거나 게시판이 바뀜.'.format(blog_links.index(i)))\n",
    "        hide_link.append(i)\n",
    "        time.sleep(1.5)\n",
    "        driver.switch_to.frame('mainFrame')\n",
    "    try:\n",
    "        a = driver.find_element(By.CSS_SELECTOR,'div.se-main-container').text\n",
    "        content_dic['본문'].append(a)\n",
    "    # NoSuchElement 오류시 예외처리(구버전 블로그에 적용)\n",
    "    except NoSuchElementException:\n",
    "        a = driver.find_element(By.CSS_SELECTOR,'div#content-area').text\n",
    "        content_dic['본문'].append(a)\n",
    "        #old_blogs.append(i)\n",
    "    additional_df = pd.DataFrame(content_dic)\n",
    "    df = pd.concat([df,additional_df])\n",
    "    df.reset_index(drop=True, inplace=True)\n",
    "    #df.to_excel(\"./나무문화/2020/나무문화_본문_2020_6월.xlsx\", index=False, encoding='UTF-8')\n",
    "    print(blog_links.index(i), df['본문'].tolist().index(a))\n",
    "    \n",
    "    display.clear_output(wait=True) # 출력지우기\n",
    "    # if blog_links.index(i) != df['본문'].tolist().index(a):\n",
    "    #     break\n"
   ]
  },
  {
   "cell_type": "code",
   "execution_count": 16,
   "id": "febb389f",
   "metadata": {},
   "outputs": [
    {
     "data": {
      "text/html": [
       "<div>\n",
       "<style scoped>\n",
       "    .dataframe tbody tr th:only-of-type {\n",
       "        vertical-align: middle;\n",
       "    }\n",
       "\n",
       "    .dataframe tbody tr th {\n",
       "        vertical-align: top;\n",
       "    }\n",
       "\n",
       "    .dataframe thead th {\n",
       "        text-align: right;\n",
       "    }\n",
       "</style>\n",
       "<table border=\"1\" class=\"dataframe\">\n",
       "  <thead>\n",
       "    <tr style=\"text-align: right;\">\n",
       "      <th></th>\n",
       "      <th>url</th>\n",
       "      <th>본문</th>\n",
       "    </tr>\n",
       "  </thead>\n",
       "  <tbody>\n",
       "    <tr>\n",
       "      <th>0</th>\n",
       "      <td>https://blog.naver.com/ccalvados/222795576909</td>\n",
       "      <td>7월 개봉 예정 영화, 신작 영화추천\\n신작 영화 추천! 극장 개봉 예정 영화 7월...</td>\n",
       "    </tr>\n",
       "    <tr>\n",
       "      <th>1</th>\n",
       "      <td>https://blog.naver.com/stepan5844/222795577522</td>\n",
       "      <td>6월 20일\\n지인이 파니를 위해\\n카메라를 닦고 닦고 또 닦아\\n완전 새거처럼 만...</td>\n",
       "    </tr>\n",
       "    <tr>\n",
       "      <th>2</th>\n",
       "      <td>https://blog.naver.com/i_ipossible/222795577237</td>\n",
       "      <td>2박 3일 파주여행을 하고 온 담담!\\n이번 여행은 혼자 떠나기도했고\\n요즘 바쁘다...</td>\n",
       "    </tr>\n",
       "    <tr>\n",
       "      <th>3</th>\n",
       "      <td>https://blog.naver.com/hyhan2028/222795577392</td>\n",
       "      <td>안녕하세요 연쓰입니다. 오늘은 좀 특별한 이색카페를 다녀왔어요.\\n연쓰는 평소에 집...</td>\n",
       "    </tr>\n",
       "    <tr>\n",
       "      <th>4</th>\n",
       "      <td>https://blog.naver.com/charnnant/222795577621</td>\n",
       "      <td>⏰ 9:30 ~ 18:00\\n🚘 주차 가능\\n안녕하세요! 챠넷입니다 :D\\n장마가 ...</td>\n",
       "    </tr>\n",
       "    <tr>\n",
       "      <th>...</th>\n",
       "      <td>...</td>\n",
       "      <td>...</td>\n",
       "    </tr>\n",
       "    <tr>\n",
       "      <th>8612</th>\n",
       "      <td>https://blog.naver.com/cwopenspace/222776774654</td>\n",
       "      <td>경남수학문화관 어드벤처관\\n『 자유관람 체험 』\\n&lt;경남수학문화관&gt;은 초등학생을 키...</td>\n",
       "    </tr>\n",
       "    <tr>\n",
       "      <th>8613</th>\n",
       "      <td>https://blog.naver.com/aflo2023/222777188143</td>\n",
       "      <td>안녕하세요! Aflo 15기 이상은입니다.\\n저번 글에서는 “멕시콜라”가 인기를 끄...</td>\n",
       "    </tr>\n",
       "    <tr>\n",
       "      <th>8614</th>\n",
       "      <td>https://blog.naver.com/yeepi01/222777184237</td>\n",
       "      <td>미리 떠나는 자전거 여름휴가는 올해도 운좋게\\n강릉 라카이로 가게 되었어요~^^\\n...</td>\n",
       "    </tr>\n",
       "    <tr>\n",
       "      <th>8615</th>\n",
       "      <td>https://blog.naver.com/pljh01/222777183377</td>\n",
       "      <td>블로그\\n=아 2,924개의 글\\n=아\\n목록열기\\n우크라이나 전쟁과 식량 문제(성...</td>\n",
       "    </tr>\n",
       "    <tr>\n",
       "      <th>8616</th>\n",
       "      <td>https://blog.naver.com/lucky0520/222777178922</td>\n",
       "      <td>얼마 전 신문에 난 모집 공고를 보고 바로 전화로 신청을 하고\\n2022 내 인생을...</td>\n",
       "    </tr>\n",
       "  </tbody>\n",
       "</table>\n",
       "<p>8617 rows × 2 columns</p>\n",
       "</div>"
      ],
      "text/plain": [
       "                                                  url  \\\n",
       "0       https://blog.naver.com/ccalvados/222795576909   \n",
       "1      https://blog.naver.com/stepan5844/222795577522   \n",
       "2     https://blog.naver.com/i_ipossible/222795577237   \n",
       "3       https://blog.naver.com/hyhan2028/222795577392   \n",
       "4       https://blog.naver.com/charnnant/222795577621   \n",
       "...                                               ...   \n",
       "8612  https://blog.naver.com/cwopenspace/222776774654   \n",
       "8613     https://blog.naver.com/aflo2023/222777188143   \n",
       "8614      https://blog.naver.com/yeepi01/222777184237   \n",
       "8615       https://blog.naver.com/pljh01/222777183377   \n",
       "8616    https://blog.naver.com/lucky0520/222777178922   \n",
       "\n",
       "                                                     본문  \n",
       "0     7월 개봉 예정 영화, 신작 영화추천\\n신작 영화 추천! 극장 개봉 예정 영화 7월...  \n",
       "1     6월 20일\\n지인이 파니를 위해\\n카메라를 닦고 닦고 또 닦아\\n완전 새거처럼 만...  \n",
       "2     2박 3일 파주여행을 하고 온 담담!\\n이번 여행은 혼자 떠나기도했고\\n요즘 바쁘다...  \n",
       "3     안녕하세요 연쓰입니다. 오늘은 좀 특별한 이색카페를 다녀왔어요.\\n연쓰는 평소에 집...  \n",
       "4     ⏰ 9:30 ~ 18:00\\n🚘 주차 가능\\n안녕하세요! 챠넷입니다 :D\\n장마가 ...  \n",
       "...                                                 ...  \n",
       "8612  경남수학문화관 어드벤처관\\n『 자유관람 체험 』\\n<경남수학문화관>은 초등학생을 키...  \n",
       "8613  안녕하세요! Aflo 15기 이상은입니다.\\n저번 글에서는 “멕시콜라”가 인기를 끄...  \n",
       "8614  미리 떠나는 자전거 여름휴가는 올해도 운좋게\\n강릉 라카이로 가게 되었어요~^^\\n...  \n",
       "8615  블로그\\n=아 2,924개의 글\\n=아\\n목록열기\\n우크라이나 전쟁과 식량 문제(성...  \n",
       "8616  얼마 전 신문에 난 모집 공고를 보고 바로 전화로 신청을 하고\\n2022 내 인생을...  \n",
       "\n",
       "[8617 rows x 2 columns]"
      ]
     },
     "execution_count": 16,
     "metadata": {},
     "output_type": "execute_result"
    }
   ],
   "source": [
    "df"
   ]
  },
  {
   "cell_type": "code",
   "execution_count": 17,
   "id": "e7d9a417",
   "metadata": {},
   "outputs": [],
   "source": [
    "df.to_csv(\"./나무문화/2022/나무문화_본문_2022_6월.csv\", index=False, encoding='UTF-8')"
   ]
  }
 ],
 "metadata": {
  "kernelspec": {
   "display_name": "Python 3.8.0 ('NIFS')",
   "language": "python",
   "name": "python3"
  },
  "language_info": {
   "codemirror_mode": {
    "name": "ipython",
    "version": 3
   },
   "file_extension": ".py",
   "mimetype": "text/x-python",
   "name": "python",
   "nbconvert_exporter": "python",
   "pygments_lexer": "ipython3",
   "version": "3.8.0"
  },
  "vscode": {
   "interpreter": {
    "hash": "ef870b4feb386425c661b7ebcadef1c9affb03996f900964fa02bf03ee560957"
   }
  }
 },
 "nbformat": 4,
 "nbformat_minor": 5
}
