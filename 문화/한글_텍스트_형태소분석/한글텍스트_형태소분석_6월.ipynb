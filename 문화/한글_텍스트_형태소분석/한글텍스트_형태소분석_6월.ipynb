{
 "cells": [
  {
   "attachments": {},
   "cell_type": "markdown",
   "metadata": {},
   "source": [
    "#"
   ]
  },
  {
   "cell_type": "code",
   "execution_count": 1,
   "metadata": {},
   "outputs": [
    {
     "data": {
      "application/vnd.jupyter.widget-view+json": {
       "model_id": "cffd0255dc604eb392cd89a828765b1e",
       "version_major": 2,
       "version_minor": 0
      },
      "text/plain": [
       "Output()"
      ]
     },
     "metadata": {},
     "output_type": "display_data"
    }
   ],
   "source": [
    "#- 패키지 임포트\n",
    "import pandas as pd\n",
    "from tqdm import tqdm\n",
    "import re\n",
    "from konlpy.tag import Okt\n",
    "okt = Okt()\n",
    "from collections import Counter # 형태소별 빈도 구할 때 사용\n",
    "from IPython.display import clear_output\n",
    "from IPython import display # 램효율을 늘리기 위해 아웃풋 display를 지워줄 것.\n",
    "from ipywidgets import Output\n",
    "\n",
    "out = Output()\n",
    "display.display(out)"
   ]
  },
  {
   "cell_type": "code",
   "execution_count": 2,
   "metadata": {},
   "outputs": [
    {
     "name": "stdout",
     "output_type": "stream",
     "text": [
      "(548091, 2) Index(['split_str', 'org_idx'], dtype='object')\n",
      "548091\n"
     ]
    }
   ],
   "source": [
    "''' 파일 불러오기 '''\n",
    "df = pd.read_csv(\"../dataset/2022/본문_전처리/나무문화_본문_6월_전처리.txt\", encoding='UTF-8')\n",
    "df.dropna(inplace=True)\n",
    "print(df.shape, df.columns)\n",
    "corpus = df['split_str'].to_list() # 문장(X문서X)으로 가져와서 실행.\n",
    "# ↑ 추후에 다른 분석 시도할 때 문장 별 형태소가 필요할 때도 있음. 문장별 형태소와 이를 문서로 합친 게 있으면 편하기 때문에 문장별로 형태소 분석 실행.\n",
    "print(len(corpus))"
   ]
  },
  {
   "cell_type": "code",
   "execution_count": 3,
   "metadata": {},
   "outputs": [
    {
     "data": {
      "text/plain": [
       "split_str    0\n",
       "org_idx      0\n",
       "dtype: int64"
      ]
     },
     "execution_count": 3,
     "metadata": {},
     "output_type": "execute_result"
    }
   ],
   "source": [
    "df.isnull().sum()"
   ]
  },
  {
   "cell_type": "code",
   "execution_count": 5,
   "metadata": {},
   "outputs": [],
   "source": [
    "''' 형태소 분석 '''\n",
    "nouns = []\n",
    "verbs = []\n",
    "adjs = []\n",
    "josas = [] # 불용어 목록에 조사 사용하기 위함.\n",
    "morphs = [] # 품사 태깅 없이 형태소만 추출. 추후 TF-IDF, N-gram등 텍스트 분석은 이 데이터로 진행함.\n",
    "pos_list = [] # 감성분석할 때 필요."
   ]
  },
  {
   "cell_type": "code",
   "execution_count": 6,
   "metadata": {},
   "outputs": [
    {
     "name": "stderr",
     "output_type": "stream",
     "text": [
      "100%|██████████| 548091/548091 [6:16:01<00:00, 24.29it/s]    \n"
     ]
    }
   ],
   "source": [
    "for i in tqdm(range(len(corpus))):\n",
    "    # 답변에서 형태소/품사 추출\n",
    "    try:\n",
    "        a = okt.pos(corpus[i], norm=True, stem=True) # 단어의 정규화와 어간 추출을 실행(True).\n",
    "        m = okt.morphs(corpus[i], norm=True, stem=False)\n",
    "        if a and m:\n",
    "            morphs.append(m) # 형태소 추가\n",
    "            pos_list.append(a) # 형태소/품사 추가\n",
    "            for x, y in a:\n",
    "                # 품사가 명사면 명사 리스트에 단어 추가\n",
    "                if y == 'Noun':\n",
    "                    nouns.append(x)\n",
    "                # 품사가 동사면 동사 리스트에 단어 추가\n",
    "                elif y == 'Verb':\n",
    "                    verbs.append(x)\n",
    "                # 품사가 형용사면 형용사 리스트에 단어 추가\n",
    "                elif y == 'Adjective':\n",
    "                    adjs.append(x)\n",
    "                # 품사가 조사면 조사 리스트에 단어 추가.\n",
    "                elif y == 'Josa':\n",
    "                    josas.append(x)\n",
    "        else:\n",
    "            morphs.append(None) # 형태소 추가\n",
    "            pos_list.append(None) # 형태소/품사 추가\n",
    "    except:\n",
    "        pass"
   ]
  },
  {
   "cell_type": "code",
   "execution_count": 7,
   "metadata": {},
   "outputs": [
    {
     "data": {
      "text/plain": [
       "548091"
      ]
     },
     "execution_count": 7,
     "metadata": {},
     "output_type": "execute_result"
    }
   ],
   "source": [
    "len(morphs)"
   ]
  },
  {
   "cell_type": "code",
   "execution_count": 8,
   "metadata": {},
   "outputs": [
    {
     "data": {
      "text/plain": [
       "548091"
      ]
     },
     "execution_count": 8,
     "metadata": {},
     "output_type": "execute_result"
    }
   ],
   "source": [
    "len(pos_list)"
   ]
  },
  {
   "cell_type": "code",
   "execution_count": 9,
   "metadata": {},
   "outputs": [
    {
     "name": "stdout",
     "output_type": "stream",
     "text": [
      "['개봉', '예정', '영화', '신작', '영화', '추천', '신작', '영화', '추천', '극장']\n",
      "['잡다', '적다', '섞다', '주다', '어리다', '불다', '느끼다', '적다', '크다', '안기다']\n",
      "['어느덧다', '거대하다', '신비하다', '있다', '진하다', '반갑다', '기대하다', '촉촉하다', '어지간하다', '재밌다']\n",
      "['가', '에', '는', '의', '가', '의', '와', '을', '죠', '의']\n"
     ]
    }
   ],
   "source": [
    "# 명사, 동사, 형용사 리스트에서 10개 단어씩 출력해서 확인\n",
    "print(nouns[0:10])\n",
    "print(verbs[0:10])\n",
    "print(adjs[0:10])\n",
    "print(josas[0:10])"
   ]
  },
  {
   "cell_type": "code",
   "execution_count": 10,
   "metadata": {},
   "outputs": [
    {
     "name": "stdout",
     "output_type": "stream",
     "text": [
      "119334\n"
     ]
    },
    {
     "data": {
      "text/html": [
       "<div>\n",
       "<style scoped>\n",
       "    .dataframe tbody tr th:only-of-type {\n",
       "        vertical-align: middle;\n",
       "    }\n",
       "\n",
       "    .dataframe tbody tr th {\n",
       "        vertical-align: top;\n",
       "    }\n",
       "\n",
       "    .dataframe thead th {\n",
       "        text-align: right;\n",
       "    }\n",
       "</style>\n",
       "<table border=\"1\" class=\"dataframe\">\n",
       "  <thead>\n",
       "    <tr style=\"text-align: right;\">\n",
       "      <th></th>\n",
       "      <th>명사</th>\n",
       "      <th>명사빈도</th>\n",
       "    </tr>\n",
       "  </thead>\n",
       "  <tbody>\n",
       "    <tr>\n",
       "      <th>0</th>\n",
       "      <td>것</td>\n",
       "      <td>113633</td>\n",
       "    </tr>\n",
       "    <tr>\n",
       "      <th>1</th>\n",
       "      <td>수</td>\n",
       "      <td>73383</td>\n",
       "    </tr>\n",
       "    <tr>\n",
       "      <th>2</th>\n",
       "      <td>그</td>\n",
       "      <td>60142</td>\n",
       "    </tr>\n",
       "    <tr>\n",
       "      <th>3</th>\n",
       "      <td>이</td>\n",
       "      <td>54410</td>\n",
       "    </tr>\n",
       "    <tr>\n",
       "      <th>4</th>\n",
       "      <td>곳</td>\n",
       "      <td>42515</td>\n",
       "    </tr>\n",
       "    <tr>\n",
       "      <th>...</th>\n",
       "      <td>...</td>\n",
       "      <td>...</td>\n",
       "    </tr>\n",
       "    <tr>\n",
       "      <th>119329</th>\n",
       "      <td>금섬</td>\n",
       "      <td>1</td>\n",
       "    </tr>\n",
       "    <tr>\n",
       "      <th>119330</th>\n",
       "      <td>몬테베르데</td>\n",
       "      <td>1</td>\n",
       "    </tr>\n",
       "    <tr>\n",
       "      <th>119331</th>\n",
       "      <td>올도완</td>\n",
       "      <td>1</td>\n",
       "    </tr>\n",
       "    <tr>\n",
       "      <th>119332</th>\n",
       "      <td>세석기</td>\n",
       "      <td>1</td>\n",
       "    </tr>\n",
       "    <tr>\n",
       "      <th>119333</th>\n",
       "      <td>카밍</td>\n",
       "      <td>1</td>\n",
       "    </tr>\n",
       "  </tbody>\n",
       "</table>\n",
       "<p>119334 rows × 2 columns</p>\n",
       "</div>"
      ],
      "text/plain": [
       "           명사    명사빈도\n",
       "0           것  113633\n",
       "1           수   73383\n",
       "2           그   60142\n",
       "3           이   54410\n",
       "4           곳   42515\n",
       "...       ...     ...\n",
       "119329     금섬       1\n",
       "119330  몬테베르데       1\n",
       "119331    올도완       1\n",
       "119332    세석기       1\n",
       "119333     카밍       1\n",
       "\n",
       "[119334 rows x 2 columns]"
      ]
     },
     "execution_count": 10,
     "metadata": {},
     "output_type": "execute_result"
    }
   ],
   "source": [
    "''' 명사, 동사, 형용사, 조사 똑같이 아래 코드 반복 '''\n",
    "# 명사 리스트에서 명사 빈도 리스트 생성\n",
    "print(len(Counter(nouns))) # 이 값을 밑에 most_common 안에 넣으면 됨.\n",
    "noun_cnt = Counter(nouns).most_common()\n",
    "\n",
    "명사 = []\n",
    "명사빈도 = []\n",
    "for a, b in noun_cnt:\n",
    "    명사.append(a)\n",
    "    명사빈도.append(b)\n",
    "\n",
    "# 단어와 빈도를 가지고 판다스 데이터프레임(엑셀 표와 비슷) 생성\n",
    "noun_df = pd.DataFrame({'명사':명사, '명사빈도':명사빈도})\n",
    "# 명사 데이터프레임을 파일로 저장. .xlsx, .csv, .txt 등 가능.\n",
    "noun_df.to_csv(\"../dataset/2022/본문_형태소분석/6월/나무문화_6월_형태소분석(명사).csv\", index=False, encoding='UTF-8')\n",
    "noun_df"
   ]
  },
  {
   "cell_type": "code",
   "execution_count": 11,
   "metadata": {},
   "outputs": [
    {
     "name": "stdout",
     "output_type": "stream",
     "text": [
      "1777\n"
     ]
    },
    {
     "data": {
      "text/html": [
       "<div>\n",
       "<style scoped>\n",
       "    .dataframe tbody tr th:only-of-type {\n",
       "        vertical-align: middle;\n",
       "    }\n",
       "\n",
       "    .dataframe tbody tr th {\n",
       "        vertical-align: top;\n",
       "    }\n",
       "\n",
       "    .dataframe thead th {\n",
       "        text-align: right;\n",
       "    }\n",
       "</style>\n",
       "<table border=\"1\" class=\"dataframe\">\n",
       "  <thead>\n",
       "    <tr style=\"text-align: right;\">\n",
       "      <th></th>\n",
       "      <th>동사</th>\n",
       "      <th>동사빈도</th>\n",
       "    </tr>\n",
       "  </thead>\n",
       "  <tbody>\n",
       "    <tr>\n",
       "      <th>0</th>\n",
       "      <td>하다</td>\n",
       "      <td>512247</td>\n",
       "    </tr>\n",
       "    <tr>\n",
       "      <th>1</th>\n",
       "      <td>되다</td>\n",
       "      <td>105342</td>\n",
       "    </tr>\n",
       "    <tr>\n",
       "      <th>2</th>\n",
       "      <td>보다</td>\n",
       "      <td>62954</td>\n",
       "    </tr>\n",
       "    <tr>\n",
       "      <th>3</th>\n",
       "      <td>않다</td>\n",
       "      <td>47485</td>\n",
       "    </tr>\n",
       "    <tr>\n",
       "      <th>4</th>\n",
       "      <td>되어다</td>\n",
       "      <td>44222</td>\n",
       "    </tr>\n",
       "    <tr>\n",
       "      <th>...</th>\n",
       "      <td>...</td>\n",
       "      <td>...</td>\n",
       "    </tr>\n",
       "    <tr>\n",
       "      <th>1772</th>\n",
       "      <td>잘근거리다</td>\n",
       "      <td>1</td>\n",
       "    </tr>\n",
       "    <tr>\n",
       "      <th>1773</th>\n",
       "      <td>씨부리다</td>\n",
       "      <td>1</td>\n",
       "    </tr>\n",
       "    <tr>\n",
       "      <th>1774</th>\n",
       "      <td>짤깍거리다</td>\n",
       "      <td>1</td>\n",
       "    </tr>\n",
       "    <tr>\n",
       "      <th>1775</th>\n",
       "      <td>나불대다</td>\n",
       "      <td>1</td>\n",
       "    </tr>\n",
       "    <tr>\n",
       "      <th>1776</th>\n",
       "      <td>추적거리다</td>\n",
       "      <td>1</td>\n",
       "    </tr>\n",
       "  </tbody>\n",
       "</table>\n",
       "<p>1777 rows × 2 columns</p>\n",
       "</div>"
      ],
      "text/plain": [
       "         동사    동사빈도\n",
       "0        하다  512247\n",
       "1        되다  105342\n",
       "2        보다   62954\n",
       "3        않다   47485\n",
       "4       되어다   44222\n",
       "...     ...     ...\n",
       "1772  잘근거리다       1\n",
       "1773   씨부리다       1\n",
       "1774  짤깍거리다       1\n",
       "1775   나불대다       1\n",
       "1776  추적거리다       1\n",
       "\n",
       "[1777 rows x 2 columns]"
      ]
     },
     "execution_count": 11,
     "metadata": {},
     "output_type": "execute_result"
    }
   ],
   "source": [
    "''' 명사, 동사, 형용사, 조사 똑같이 아래 코드 반복 '''\n",
    "# 명사 리스트에서 명사 빈도 리스트 생성\n",
    "print(len(Counter(verbs))) # 이 값을 밑에 most_common 안에 넣으면 됨.\n",
    "verb_cnt = Counter(verbs).most_common()\n",
    "\n",
    "동사 = []\n",
    "동사빈도 = []\n",
    "for a, b in verb_cnt:\n",
    "    동사.append(a)\n",
    "    동사빈도.append(b)\n",
    "\n",
    "# 단어와 빈도를 가지고 판다스 데이터프레임(엑셀 표와 비슷) 생성\n",
    "verb_df = pd.DataFrame({'동사':동사, '동사빈도':동사빈도})\n",
    "# 명사 데이터프레임을 파일로 저장. .xlsx, .csv, .txt 등 가능.\n",
    "verb_df.to_csv(\"../dataset/2022/본문_형태소분석/6월/나무문화_6월_형태소분석(동사).csv\", index=False, encoding='UTF-8')\n",
    "verb_df"
   ]
  },
  {
   "cell_type": "code",
   "execution_count": 12,
   "metadata": {},
   "outputs": [
    {
     "name": "stdout",
     "output_type": "stream",
     "text": [
      "1782\n"
     ]
    },
    {
     "data": {
      "text/html": [
       "<div>\n",
       "<style scoped>\n",
       "    .dataframe tbody tr th:only-of-type {\n",
       "        vertical-align: middle;\n",
       "    }\n",
       "\n",
       "    .dataframe tbody tr th {\n",
       "        vertical-align: top;\n",
       "    }\n",
       "\n",
       "    .dataframe thead th {\n",
       "        text-align: right;\n",
       "    }\n",
       "</style>\n",
       "<table border=\"1\" class=\"dataframe\">\n",
       "  <thead>\n",
       "    <tr style=\"text-align: right;\">\n",
       "      <th></th>\n",
       "      <th>형용사</th>\n",
       "      <th>형용사빈도</th>\n",
       "    </tr>\n",
       "  </thead>\n",
       "  <tbody>\n",
       "    <tr>\n",
       "      <th>0</th>\n",
       "      <td>있다</td>\n",
       "      <td>238681</td>\n",
       "    </tr>\n",
       "    <tr>\n",
       "      <th>1</th>\n",
       "      <td>없다</td>\n",
       "      <td>44349</td>\n",
       "    </tr>\n",
       "    <tr>\n",
       "      <th>2</th>\n",
       "      <td>좋다</td>\n",
       "      <td>43390</td>\n",
       "    </tr>\n",
       "    <tr>\n",
       "      <th>3</th>\n",
       "      <td>같다</td>\n",
       "      <td>38599</td>\n",
       "    </tr>\n",
       "    <tr>\n",
       "      <th>4</th>\n",
       "      <td>이다</td>\n",
       "      <td>31650</td>\n",
       "    </tr>\n",
       "    <tr>\n",
       "      <th>...</th>\n",
       "      <td>...</td>\n",
       "      <td>...</td>\n",
       "    </tr>\n",
       "    <tr>\n",
       "      <th>1777</th>\n",
       "      <td>차근차근하다</td>\n",
       "      <td>1</td>\n",
       "    </tr>\n",
       "    <tr>\n",
       "      <th>1778</th>\n",
       "      <td>살다</td>\n",
       "      <td>1</td>\n",
       "    </tr>\n",
       "    <tr>\n",
       "      <th>1779</th>\n",
       "      <td>섬려하다</td>\n",
       "      <td>1</td>\n",
       "    </tr>\n",
       "    <tr>\n",
       "      <th>1780</th>\n",
       "      <td>들큼하다</td>\n",
       "      <td>1</td>\n",
       "    </tr>\n",
       "    <tr>\n",
       "      <th>1781</th>\n",
       "      <td>푹하다</td>\n",
       "      <td>1</td>\n",
       "    </tr>\n",
       "  </tbody>\n",
       "</table>\n",
       "<p>1782 rows × 2 columns</p>\n",
       "</div>"
      ],
      "text/plain": [
       "         형용사   형용사빈도\n",
       "0         있다  238681\n",
       "1         없다   44349\n",
       "2         좋다   43390\n",
       "3         같다   38599\n",
       "4         이다   31650\n",
       "...      ...     ...\n",
       "1777  차근차근하다       1\n",
       "1778      살다       1\n",
       "1779    섬려하다       1\n",
       "1780    들큼하다       1\n",
       "1781     푹하다       1\n",
       "\n",
       "[1782 rows x 2 columns]"
      ]
     },
     "execution_count": 12,
     "metadata": {},
     "output_type": "execute_result"
    }
   ],
   "source": [
    "''' 명사, 동사, 형용사, 조사 똑같이 아래 코드 반복 '''\n",
    "# 명사 리스트에서 명사 빈도 리스트 생성\n",
    "print(len(Counter(adjs))) # 이 값을 밑에 most_common 안에 넣으면 됨.\n",
    "adj_cnt = Counter(adjs).most_common()\n",
    "\n",
    "형용사 = []\n",
    "형용사빈도 = []\n",
    "for a, b in adj_cnt:\n",
    "    형용사.append(a)\n",
    "    형용사빈도.append(b)\n",
    "\n",
    "# 단어와 빈도를 가지고 판다스 데이터프레임(엑셀 표와 비슷) 생성\n",
    "adj_df = pd.DataFrame({'형용사':형용사, '형용사빈도':형용사빈도})\n",
    "# 명사 데이터프레임을 파일로 저장. .xlsx, .csv, .txt 등 가능.\n",
    "adj_df.to_csv(\"../dataset/2022/본문_형태소분석/6월/나무문화_6월_형태소분석(형용사).csv\", index=False, encoding='UTF-8')\n",
    "adj_df"
   ]
  },
  {
   "cell_type": "code",
   "execution_count": 13,
   "metadata": {},
   "outputs": [
    {
     "name": "stdout",
     "output_type": "stream",
     "text": [
      "379\n"
     ]
    },
    {
     "data": {
      "text/html": [
       "<div>\n",
       "<style scoped>\n",
       "    .dataframe tbody tr th:only-of-type {\n",
       "        vertical-align: middle;\n",
       "    }\n",
       "\n",
       "    .dataframe tbody tr th {\n",
       "        vertical-align: top;\n",
       "    }\n",
       "\n",
       "    .dataframe thead th {\n",
       "        text-align: right;\n",
       "    }\n",
       "</style>\n",
       "<table border=\"1\" class=\"dataframe\">\n",
       "  <thead>\n",
       "    <tr style=\"text-align: right;\">\n",
       "      <th></th>\n",
       "      <th>조사</th>\n",
       "      <th>조사빈도</th>\n",
       "    </tr>\n",
       "  </thead>\n",
       "  <tbody>\n",
       "    <tr>\n",
       "      <th>0</th>\n",
       "      <td>을</td>\n",
       "      <td>410997</td>\n",
       "    </tr>\n",
       "    <tr>\n",
       "      <th>1</th>\n",
       "      <td>의</td>\n",
       "      <td>329384</td>\n",
       "    </tr>\n",
       "    <tr>\n",
       "      <th>2</th>\n",
       "      <td>이</td>\n",
       "      <td>317004</td>\n",
       "    </tr>\n",
       "    <tr>\n",
       "      <th>3</th>\n",
       "      <td>에</td>\n",
       "      <td>302504</td>\n",
       "    </tr>\n",
       "    <tr>\n",
       "      <th>4</th>\n",
       "      <td>를</td>\n",
       "      <td>202736</td>\n",
       "    </tr>\n",
       "    <tr>\n",
       "      <th>...</th>\n",
       "      <td>...</td>\n",
       "      <td>...</td>\n",
       "    </tr>\n",
       "    <tr>\n",
       "      <th>374</th>\n",
       "      <td>까지만은</td>\n",
       "      <td>1</td>\n",
       "    </tr>\n",
       "    <tr>\n",
       "      <th>375</th>\n",
       "      <td>에게서가</td>\n",
       "      <td>1</td>\n",
       "    </tr>\n",
       "    <tr>\n",
       "      <th>376</th>\n",
       "      <td>께옵서</td>\n",
       "      <td>1</td>\n",
       "    </tr>\n",
       "    <tr>\n",
       "      <th>377</th>\n",
       "      <td>로서나</td>\n",
       "      <td>1</td>\n",
       "    </tr>\n",
       "    <tr>\n",
       "      <th>378</th>\n",
       "      <td>에게서라도</td>\n",
       "      <td>1</td>\n",
       "    </tr>\n",
       "  </tbody>\n",
       "</table>\n",
       "<p>379 rows × 2 columns</p>\n",
       "</div>"
      ],
      "text/plain": [
       "        조사    조사빈도\n",
       "0        을  410997\n",
       "1        의  329384\n",
       "2        이  317004\n",
       "3        에  302504\n",
       "4        를  202736\n",
       "..     ...     ...\n",
       "374   까지만은       1\n",
       "375   에게서가       1\n",
       "376    께옵서       1\n",
       "377    로서나       1\n",
       "378  에게서라도       1\n",
       "\n",
       "[379 rows x 2 columns]"
      ]
     },
     "execution_count": 13,
     "metadata": {},
     "output_type": "execute_result"
    }
   ],
   "source": [
    "''' 명사, 동사, 형용사, 조사 똑같이 아래 코드 반복 '''\n",
    "# 명사 리스트에서 명사 빈도 리스트 생성\n",
    "print(len(Counter(josas))) # 이 값을 밑에 most_common 안에 넣으면 됨.\n",
    "josa_cnt = Counter(josas).most_common()\n",
    "\n",
    "조사 = []\n",
    "조사빈도 = []\n",
    "for a, b in josa_cnt:\n",
    "    조사.append(a)\n",
    "    조사빈도.append(b)\n",
    "\n",
    "# 단어와 빈도를 가지고 판다스 데이터프레임(엑셀 표와 비슷) 생성\n",
    "josa_df = pd.DataFrame({'조사':조사, '조사빈도':조사빈도})\n",
    "# 명사 데이터프레임을 파일로 저장. .xlsx, .csv, .txt 등 가능.\n",
    "josa_df.to_csv(\"../dataset/2022/본문_형태소분석/6월/나무문화_6월_형태소분석(조사).csv\", index=False, encoding='UTF-8')\n",
    "josa_df"
   ]
  },
  {
   "cell_type": "code",
   "execution_count": 14,
   "metadata": {},
   "outputs": [],
   "source": [
    "df_concat = pd.concat([noun_df,verb_df,adj_df],axis=1)\n",
    "df_concat.to_csv(\"../dataset/2022/본문_형태소분석/나무문화_6월_단어종합.txt\", index=False, encoding='UTF-8')"
   ]
  },
  {
   "cell_type": "code",
   "execution_count": 15,
   "metadata": {},
   "outputs": [
    {
     "data": {
      "text/html": [
       "<div>\n",
       "<style scoped>\n",
       "    .dataframe tbody tr th:only-of-type {\n",
       "        vertical-align: middle;\n",
       "    }\n",
       "\n",
       "    .dataframe tbody tr th {\n",
       "        vertical-align: top;\n",
       "    }\n",
       "\n",
       "    .dataframe thead th {\n",
       "        text-align: right;\n",
       "    }\n",
       "</style>\n",
       "<table border=\"1\" class=\"dataframe\">\n",
       "  <thead>\n",
       "    <tr style=\"text-align: right;\">\n",
       "      <th></th>\n",
       "      <th>split_str</th>\n",
       "      <th>org_idx</th>\n",
       "      <th>morphs</th>\n",
       "      <th>pos_tag</th>\n",
       "    </tr>\n",
       "  </thead>\n",
       "  <tbody>\n",
       "    <tr>\n",
       "      <th>0</th>\n",
       "      <td>7월 개봉 예정 영화 신작 영화추천 신작 영화 추천 극장 개봉 예정 영화 7월 리부...</td>\n",
       "      <td>0</td>\n",
       "      <td>[7월, 개봉, 예정, 영화, 신작, 영화, 추천, 신작, 영화, 추천, 극장, 개...</td>\n",
       "      <td>[(7월, Number), (개봉, Noun), (예정, Noun), (영화, No...</td>\n",
       "    </tr>\n",
       "    <tr>\n",
       "      <th>1</th>\n",
       "      <td>문제는 쥬라기 월드 탑건 신비한 동물사전 레전드 영화의 리부트가 연일 관객들의 기대...</td>\n",
       "      <td>0</td>\n",
       "      <td>[문제, 는, 쥬라기, 월드, 탑건, 신비한, 동물, 사전, 레전드, 영화, 의, ...</td>\n",
       "      <td>[(문제, Noun), (는, Josa), (쥬라기, Noun), (월드, Noun...</td>\n",
       "    </tr>\n",
       "    <tr>\n",
       "      <th>2</th>\n",
       "      <td>어린 시절의 향수를 진하게 불러주는 오마주는 반갑지만 그때 느꼈던 감동과 재미는 다...</td>\n",
       "      <td>0</td>\n",
       "      <td>[어린, 시절, 의, 향수, 를, 진하게, 불러주는, 오마주, 는, 반갑지만, 그때...</td>\n",
       "      <td>[(어리다, Verb), (시절, Noun), (의, Josa), (향수, Noun...</td>\n",
       "    </tr>\n",
       "    <tr>\n",
       "      <th>3</th>\n",
       "      <td>저야 극장에서 보는 어지간한 영화는 재밌게 보고 나오는 편입니다만 그래서 극장 관람...</td>\n",
       "      <td>0</td>\n",
       "      <td>[저, 야, 극장, 에서, 보는, 어지간한, 영화, 는, 재밌게, 보고, 나오는, ...</td>\n",
       "      <td>[(저, Noun), (야, Josa), (극장, Noun), (에서, Josa),...</td>\n",
       "    </tr>\n",
       "    <tr>\n",
       "      <th>4</th>\n",
       "      <td>그래서 2차 3차 가공해서 영화를 해석하고 추천하는 글을 쓰는 데는 생각이 참 많아...</td>\n",
       "      <td>0</td>\n",
       "      <td>[그래서, 2, 차, 3, 차, 가공, 해서, 영화, 를, 해석, 하고, 추천, 하...</td>\n",
       "      <td>[(그래서, Adverb), (2, Number), (차, Noun), (3, Nu...</td>\n",
       "    </tr>\n",
       "    <tr>\n",
       "      <th>...</th>\n",
       "      <td>...</td>\n",
       "      <td>...</td>\n",
       "      <td>...</td>\n",
       "      <td>...</td>\n",
       "    </tr>\n",
       "    <tr>\n",
       "      <th>548089</th>\n",
       "      <td>이런 의문들은 또다시 석기를 그 지역의 환경적 맥락에서 떼어 놓고 보기 때문에 생겨...</td>\n",
       "      <td>11966</td>\n",
       "      <td>[이런, 의문, 들, 은, 또다시, 석기, 를, 그, 지역, 의, 환경, 적, 맥락...</td>\n",
       "      <td>[(이렇다, Adjective), (의문, Noun), (들, Suffix), (은...</td>\n",
       "    </tr>\n",
       "    <tr>\n",
       "      <th>548090</th>\n",
       "      <td>어떤 종이든 간에 대나무가 사방에 깔린 열대우림 지역에서는 대나무를 이용하는 것이 ...</td>\n",
       "      <td>11966</td>\n",
       "      <td>[어떤, 종이, 든, 간, 에, 대나무, 가, 사방, 에, 깔린, 열대우림, 지역,...</td>\n",
       "      <td>[(어떻다, Adjective), (종이, Noun), (든, Josa), (간, ...</td>\n",
       "    </tr>\n",
       "    <tr>\n",
       "      <th>548091</th>\n",
       "      <td>그렇다면 왜 3만 년 전부터 도구가 변하기 시작하는 것일까 만약 도구를 만든 사람 ...</td>\n",
       "      <td>11966</td>\n",
       "      <td>[그렇다면, 왜, 3만, 년, 전, 부터, 도구, 가, 변하기, 시작, 하는, 것,...</td>\n",
       "      <td>[(그렇다, Adjective), (왜, Noun), (3만, Number), (년...</td>\n",
       "    </tr>\n",
       "    <tr>\n",
       "      <th>548092</th>\n",
       "      <td>바로 이때부터 진짜로 정교한 현대 호모 사피엔스의 도구가 발명되기 시작한다</td>\n",
       "      <td>11966</td>\n",
       "      <td>[바로, 이, 때, 부터, 진짜, 로, 정교한, 현대, 호모, 사피, 엔, 스, 의...</td>\n",
       "      <td>[(바로, Noun), (이, Determiner), (때, Noun), (부터, ...</td>\n",
       "    </tr>\n",
       "    <tr>\n",
       "      <th>548093</th>\n",
       "      <td>이들은 기후 변화에 적응하기 위한 수단으로 새로운 도구를 만들어 내기 시작한 것이다...</td>\n",
       "      <td>11966</td>\n",
       "      <td>[이, 들, 은, 기후, 변화, 에, 적응하기, 위, 한, 수단, 으로, 새로운, ...</td>\n",
       "      <td>[(이, Noun), (들, Suffix), (은, Josa), (기후, Noun)...</td>\n",
       "    </tr>\n",
       "  </tbody>\n",
       "</table>\n",
       "<p>548091 rows × 4 columns</p>\n",
       "</div>"
      ],
      "text/plain": [
       "                                                split_str  org_idx  \\\n",
       "0       7월 개봉 예정 영화 신작 영화추천 신작 영화 추천 극장 개봉 예정 영화 7월 리부...        0   \n",
       "1       문제는 쥬라기 월드 탑건 신비한 동물사전 레전드 영화의 리부트가 연일 관객들의 기대...        0   \n",
       "2       어린 시절의 향수를 진하게 불러주는 오마주는 반갑지만 그때 느꼈던 감동과 재미는 다...        0   \n",
       "3       저야 극장에서 보는 어지간한 영화는 재밌게 보고 나오는 편입니다만 그래서 극장 관람...        0   \n",
       "4       그래서 2차 3차 가공해서 영화를 해석하고 추천하는 글을 쓰는 데는 생각이 참 많아...        0   \n",
       "...                                                   ...      ...   \n",
       "548089  이런 의문들은 또다시 석기를 그 지역의 환경적 맥락에서 떼어 놓고 보기 때문에 생겨...    11966   \n",
       "548090  어떤 종이든 간에 대나무가 사방에 깔린 열대우림 지역에서는 대나무를 이용하는 것이 ...    11966   \n",
       "548091  그렇다면 왜 3만 년 전부터 도구가 변하기 시작하는 것일까 만약 도구를 만든 사람 ...    11966   \n",
       "548092          바로 이때부터 진짜로 정교한 현대 호모 사피엔스의 도구가 발명되기 시작한다    11966   \n",
       "548093  이들은 기후 변화에 적응하기 위한 수단으로 새로운 도구를 만들어 내기 시작한 것이다...    11966   \n",
       "\n",
       "                                                   morphs  \\\n",
       "0       [7월, 개봉, 예정, 영화, 신작, 영화, 추천, 신작, 영화, 추천, 극장, 개...   \n",
       "1       [문제, 는, 쥬라기, 월드, 탑건, 신비한, 동물, 사전, 레전드, 영화, 의, ...   \n",
       "2       [어린, 시절, 의, 향수, 를, 진하게, 불러주는, 오마주, 는, 반갑지만, 그때...   \n",
       "3       [저, 야, 극장, 에서, 보는, 어지간한, 영화, 는, 재밌게, 보고, 나오는, ...   \n",
       "4       [그래서, 2, 차, 3, 차, 가공, 해서, 영화, 를, 해석, 하고, 추천, 하...   \n",
       "...                                                   ...   \n",
       "548089  [이런, 의문, 들, 은, 또다시, 석기, 를, 그, 지역, 의, 환경, 적, 맥락...   \n",
       "548090  [어떤, 종이, 든, 간, 에, 대나무, 가, 사방, 에, 깔린, 열대우림, 지역,...   \n",
       "548091  [그렇다면, 왜, 3만, 년, 전, 부터, 도구, 가, 변하기, 시작, 하는, 것,...   \n",
       "548092  [바로, 이, 때, 부터, 진짜, 로, 정교한, 현대, 호모, 사피, 엔, 스, 의...   \n",
       "548093  [이, 들, 은, 기후, 변화, 에, 적응하기, 위, 한, 수단, 으로, 새로운, ...   \n",
       "\n",
       "                                                  pos_tag  \n",
       "0       [(7월, Number), (개봉, Noun), (예정, Noun), (영화, No...  \n",
       "1       [(문제, Noun), (는, Josa), (쥬라기, Noun), (월드, Noun...  \n",
       "2       [(어리다, Verb), (시절, Noun), (의, Josa), (향수, Noun...  \n",
       "3       [(저, Noun), (야, Josa), (극장, Noun), (에서, Josa),...  \n",
       "4       [(그래서, Adverb), (2, Number), (차, Noun), (3, Nu...  \n",
       "...                                                   ...  \n",
       "548089  [(이렇다, Adjective), (의문, Noun), (들, Suffix), (은...  \n",
       "548090  [(어떻다, Adjective), (종이, Noun), (든, Josa), (간, ...  \n",
       "548091  [(그렇다, Adjective), (왜, Noun), (3만, Number), (년...  \n",
       "548092  [(바로, Noun), (이, Determiner), (때, Noun), (부터, ...  \n",
       "548093  [(이, Noun), (들, Suffix), (은, Josa), (기후, Noun)...  \n",
       "\n",
       "[548091 rows x 4 columns]"
      ]
     },
     "execution_count": 15,
     "metadata": {},
     "output_type": "execute_result"
    }
   ],
   "source": [
    "df[\"morphs\"] = morphs\n",
    "df[\"pos_tag\"] = pos_list\n",
    "df"
   ]
  },
  {
   "cell_type": "code",
   "execution_count": 16,
   "metadata": {},
   "outputs": [],
   "source": [
    "df.to_csv(\"../dataset/2022/본문_형태소분석/나무문화_본문_6월_형태소분석.txt\", index=False, encoding='UTF-8')"
   ]
  }
 ],
 "metadata": {
  "kernelspec": {
   "display_name": "Python 3.8.0 ('NIFS')",
   "language": "python",
   "name": "python3"
  },
  "language_info": {
   "codemirror_mode": {
    "name": "ipython",
    "version": 3
   },
   "file_extension": ".py",
   "mimetype": "text/x-python",
   "name": "python",
   "nbconvert_exporter": "python",
   "pygments_lexer": "ipython3",
   "version": "3.7.16"
  },
  "orig_nbformat": 4,
  "vscode": {
   "interpreter": {
    "hash": "ef870b4feb386425c661b7ebcadef1c9affb03996f900964fa02bf03ee560957"
   }
  }
 },
 "nbformat": 4,
 "nbformat_minor": 2
}
