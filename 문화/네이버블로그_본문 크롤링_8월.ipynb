{
 "cells": [
  {
   "cell_type": "markdown",
   "id": "db7b5304",
   "metadata": {},
   "source": [
    "# 본문 스크래핑"
   ]
  },
  {
   "cell_type": "code",
   "execution_count": 1,
   "id": "88f269e2",
   "metadata": {},
   "outputs": [],
   "source": [
    "import pandas as pd\n",
    "import numpy as np\n",
    "import time\n",
    "from tqdm.notebook import tqdm\n",
    "import random\n",
    "import urllib.request\n",
    "from selenium.common.exceptions import NoSuchElementException, UnexpectedAlertPresentException, TimeoutException\n",
    "from selenium import webdriver\n",
    "from selenium.webdriver.common.by import By\n",
    "# import chromedriver_auto\n",
    "\n",
    "\n",
    "# 웹드라이버 설정\n",
    "options = webdriver.ChromeOptions()\n",
    "options.add_experimental_option(\"excludeSwitches\", [\"enable-automation\"])\n",
    "options.add_experimental_option(\"useAutomationExtension\", False)\n",
    "options.add_argument('headless') # 창 숨기기\n"
   ]
  },
  {
   "cell_type": "code",
   "execution_count": 2,
   "id": "990973ce",
   "metadata": {},
   "outputs": [],
   "source": [
    "# from user_agent import generate_user_agent, generate_navigator\n",
    "\n",
    "# print(generate_user_agent(device_type='desktop'))\n",
    "# print(generate_user_agent(os='win', device_type='desktop'))\n",
    "\n",
    "# navigator = generate_navigator()\n",
    "\n",
    "# random_user = generate_user_agent(os='win', device_type='desktop')\n",
    "# print(random_user)"
   ]
  },
  {
   "cell_type": "code",
   "execution_count": 3,
   "id": "36c7dea6",
   "metadata": {},
   "outputs": [],
   "source": [
    "from selenium.webdriver.chrome.options import Options\n",
    "\n",
    "# chrome_options = Options()\n",
    "# chrome_options.add_argument(random_user)\n",
    "driver = webdriver.Chrome(executable_path ='./chromedriver_win32/chromedriver.exe',options = options)\n",
    "\n",
    "driver.maximize_window()\n",
    "driver.get(\"https://www.naver.com/\")\n",
    "driver.implicitly_wait(10)\n"
   ]
  },
  {
   "cell_type": "code",
   "execution_count": 4,
   "id": "e4e6f57e",
   "metadata": {},
   "outputs": [
    {
     "name": "stdout",
     "output_type": "stream",
     "text": [
      "(20814, 3) Index(['url', 'title', 'date'], dtype='object')\n"
     ]
    },
    {
     "data": {
      "text/html": [
       "<div>\n",
       "<style scoped>\n",
       "    .dataframe tbody tr th:only-of-type {\n",
       "        vertical-align: middle;\n",
       "    }\n",
       "\n",
       "    .dataframe tbody tr th {\n",
       "        vertical-align: top;\n",
       "    }\n",
       "\n",
       "    .dataframe thead th {\n",
       "        text-align: right;\n",
       "    }\n",
       "</style>\n",
       "<table border=\"1\" class=\"dataframe\">\n",
       "  <thead>\n",
       "    <tr style=\"text-align: right;\">\n",
       "      <th></th>\n",
       "      <th>url</th>\n",
       "      <th>title</th>\n",
       "      <th>date</th>\n",
       "    </tr>\n",
       "  </thead>\n",
       "  <tbody>\n",
       "    <tr>\n",
       "      <th>0</th>\n",
       "      <td>https://blog.naver.com/smileseosin/222863511415</td>\n",
       "      <td>불편한 편의점2 김호연 작가 특강이 송천도서관 문화가 있는 날...</td>\n",
       "      <td>2022.08.31.</td>\n",
       "    </tr>\n",
       "    <tr>\n",
       "      <th>1</th>\n",
       "      <td>https://blog.naver.com/bluex/222863510213</td>\n",
       "      <td>추석 그림책 명절 독서 활동 달님에게 소원 편지쓰기 색칠하기</td>\n",
       "      <td>2022.08.31.</td>\n",
       "    </tr>\n",
       "    <tr>\n",
       "      <th>2</th>\n",
       "      <td>https://blog.naver.com/cmdsc809/222863508877</td>\n",
       "      <td>[미국 여행] 0419-0502세 달 살이 마무리, 사랑하는 친구들...</td>\n",
       "      <td>2022.08.31.</td>\n",
       "    </tr>\n",
       "    <tr>\n",
       "      <th>3</th>\n",
       "      <td>https://blog.naver.com/san1917/222863508568</td>\n",
       "      <td>[오스트리아] 멜크수도원</td>\n",
       "      <td>2022.08.31.</td>\n",
       "    </tr>\n",
       "    <tr>\n",
       "      <th>4</th>\n",
       "      <td>https://blog.naver.com/hnmh2332/222863508119</td>\n",
       "      <td>추석연휴 놀러 갈만한곳 강원도 여행 평창 청옥산 육백마지기</td>\n",
       "      <td>2022.08.31.</td>\n",
       "    </tr>\n",
       "    <tr>\n",
       "      <th>...</th>\n",
       "      <td>...</td>\n",
       "      <td>...</td>\n",
       "      <td>...</td>\n",
       "    </tr>\n",
       "    <tr>\n",
       "      <th>20809</th>\n",
       "      <td>https://blog.naver.com/show656/222835904038</td>\n",
       "      <td>내가 찾던 그 맛 바로 여기 라멘맛집에서 발견 : 광주 동명동...</td>\n",
       "      <td>2022.08.01.</td>\n",
       "    </tr>\n",
       "    <tr>\n",
       "      <th>20810</th>\n",
       "      <td>https://blog.naver.com/sonia30/222835904165</td>\n",
       "      <td>강릉 여행::오죽헌 입장료 및 주차장 (feat.시립박물관)</td>\n",
       "      <td>2022.08.01.</td>\n",
       "    </tr>\n",
       "    <tr>\n",
       "      <th>20811</th>\n",
       "      <td>https://blog.naver.com/october2nd_/222835901895</td>\n",
       "      <td>[대전궁동맛집] 회쳐모여 | 대전유성횟집 추천 | 가성비좋은...</td>\n",
       "      <td>2022.08.01.</td>\n",
       "    </tr>\n",
       "    <tr>\n",
       "      <th>20812</th>\n",
       "      <td>https://blog.naver.com/moviemagazine/222835583839</td>\n",
       "      <td>[스포영화소개] 앎에서 오는 공포 &lt;미드소마&gt;</td>\n",
       "      <td>2022.08.01.</td>\n",
       "    </tr>\n",
       "    <tr>\n",
       "      <th>20813</th>\n",
       "      <td>https://blog.naver.com/winehyoung/222835676057</td>\n",
       "      <td>2022 바캉스와 한 여름에 어울리는 낭만 와인들</td>\n",
       "      <td>2022.08.01.</td>\n",
       "    </tr>\n",
       "  </tbody>\n",
       "</table>\n",
       "<p>20814 rows × 3 columns</p>\n",
       "</div>"
      ],
      "text/plain": [
       "                                                     url  \\\n",
       "0        https://blog.naver.com/smileseosin/222863511415   \n",
       "1              https://blog.naver.com/bluex/222863510213   \n",
       "2           https://blog.naver.com/cmdsc809/222863508877   \n",
       "3            https://blog.naver.com/san1917/222863508568   \n",
       "4           https://blog.naver.com/hnmh2332/222863508119   \n",
       "...                                                  ...   \n",
       "20809        https://blog.naver.com/show656/222835904038   \n",
       "20810        https://blog.naver.com/sonia30/222835904165   \n",
       "20811    https://blog.naver.com/october2nd_/222835901895   \n",
       "20812  https://blog.naver.com/moviemagazine/222835583839   \n",
       "20813     https://blog.naver.com/winehyoung/222835676057   \n",
       "\n",
       "                                          title         date  \n",
       "0         불편한 편의점2 김호연 작가 특강이 송천도서관 문화가 있는 날...  2022.08.31.  \n",
       "1             추석 그림책 명절 독서 활동 달님에게 소원 편지쓰기 색칠하기  2022.08.31.  \n",
       "2      [미국 여행] 0419-0502세 달 살이 마무리, 사랑하는 친구들...  2022.08.31.  \n",
       "3                                 [오스트리아] 멜크수도원  2022.08.31.  \n",
       "4              추석연휴 놀러 갈만한곳 강원도 여행 평창 청옥산 육백마지기  2022.08.31.  \n",
       "...                                         ...          ...  \n",
       "20809     내가 찾던 그 맛 바로 여기 라멘맛집에서 발견 : 광주 동명동...  2022.08.01.  \n",
       "20810         강릉 여행::오죽헌 입장료 및 주차장 (feat.시립박물관)  2022.08.01.  \n",
       "20811      [대전궁동맛집] 회쳐모여 | 대전유성횟집 추천 | 가성비좋은...  2022.08.01.  \n",
       "20812                 [스포영화소개] 앎에서 오는 공포 <미드소마>  2022.08.01.  \n",
       "20813               2022 바캉스와 한 여름에 어울리는 낭만 와인들  2022.08.01.  \n",
       "\n",
       "[20814 rows x 3 columns]"
      ]
     },
     "execution_count": 4,
     "metadata": {},
     "output_type": "execute_result"
    }
   ],
   "source": [
    "url_df = pd.read_csv(\"./나무문화/2022/나무문화_링크_2022_8월.csv\", encoding='UTF-8')\n",
    "print(url_df.shape, url_df.columns)\n",
    "url_df\n"
   ]
  },
  {
   "cell_type": "code",
   "execution_count": 5,
   "id": "892b0519",
   "metadata": {},
   "outputs": [
    {
     "name": "stdout",
     "output_type": "stream",
     "text": [
      "20814\n"
     ]
    }
   ],
   "source": [
    "blog_links = url_df['url'].to_list()\n",
    "print(len(blog_links))\n"
   ]
  },
  {
   "cell_type": "code",
   "execution_count": 6,
   "id": "865be6f4",
   "metadata": {},
   "outputs": [],
   "source": [
    "# df = pd.DataFrame(columns = ['url','본문'])\n",
    "# df.to_csv(\"./나무문화/2022/나무문화_본문_2022_8월.csv\", index=False, encoding='UTF-8')\n",
    "# df.to_excel(\"./나무문화/2022/나무문화_본문_2022_8월.xlsx\", index=False, encoding='UTF-8')"
   ]
  },
  {
   "cell_type": "code",
   "execution_count": 7,
   "id": "79031cb7",
   "metadata": {},
   "outputs": [
    {
     "data": {
      "text/html": [
       "<div>\n",
       "<style scoped>\n",
       "    .dataframe tbody tr th:only-of-type {\n",
       "        vertical-align: middle;\n",
       "    }\n",
       "\n",
       "    .dataframe tbody tr th {\n",
       "        vertical-align: top;\n",
       "    }\n",
       "\n",
       "    .dataframe thead th {\n",
       "        text-align: right;\n",
       "    }\n",
       "</style>\n",
       "<table border=\"1\" class=\"dataframe\">\n",
       "  <thead>\n",
       "    <tr style=\"text-align: right;\">\n",
       "      <th></th>\n",
       "      <th>url</th>\n",
       "      <th>본문</th>\n",
       "    </tr>\n",
       "  </thead>\n",
       "  <tbody>\n",
       "    <tr>\n",
       "      <th>0</th>\n",
       "      <td>https://blog.naver.com/smileseosin/222863511415</td>\n",
       "      <td>50m\\n© NAVER Corp.\\n송천도서관\\n전라북도 전주시 덕진구 솔내로 21...</td>\n",
       "    </tr>\n",
       "    <tr>\n",
       "      <th>1</th>\n",
       "      <td>https://blog.naver.com/bluex/222863510213</td>\n",
       "      <td>즐거운 책 놀이터\\n독서교육 강사 이숙영입니다.\\n어느 새 무더운 여름이 지나고\\n...</td>\n",
       "    </tr>\n",
       "    <tr>\n",
       "      <th>2</th>\n",
       "      <td>https://blog.naver.com/cmdsc809/222863508877</td>\n",
       "      <td>다시 짧은 시간이 지났고,\\n바람이 불었고,\\n그렇게 앉아있는 동안\\n나는 내가 이...</td>\n",
       "    </tr>\n",
       "    <tr>\n",
       "      <th>3</th>\n",
       "      <td>https://blog.naver.com/san1917/222863508568</td>\n",
       "      <td>멜크수도원\\n멜크수도원\\n2014년 4월 22일~2014년 5월2일\\n베네룩스 3국...</td>\n",
       "    </tr>\n",
       "    <tr>\n",
       "      <th>4</th>\n",
       "      <td>https://blog.naver.com/hnmh2332/222863508119</td>\n",
       "      <td>추석연휴 놀러 갈만한곳 강원도 여행 평창 청옥산 육백마지기\\n글&amp;사진 : 초록바다 ...</td>\n",
       "    </tr>\n",
       "    <tr>\n",
       "      <th>...</th>\n",
       "      <td>...</td>\n",
       "      <td>...</td>\n",
       "    </tr>\n",
       "    <tr>\n",
       "      <th>4266</th>\n",
       "      <td>https://blog.naver.com/0211bomb/222857846392</td>\n",
       "      <td>안녕하세요. 디자인뚝딱입니다.\\n전원주택의 좋은 점은 정원이나 테라스 등을 마음껏 ...</td>\n",
       "    </tr>\n",
       "    <tr>\n",
       "      <th>4267</th>\n",
       "      <td>https://blog.naver.com/echangs7/222857845974</td>\n",
       "      <td>최 성 균 (崔 聖 均)\\n이창식(李昌植)을 알고 지낸 지 어언 30여 년이 되었다...</td>\n",
       "    </tr>\n",
       "    <tr>\n",
       "      <th>4268</th>\n",
       "      <td>https://blog.naver.com/okay4444/222857844930</td>\n",
       "      <td>광주 북구 중외공원 문화벨트 안에는 박물관과 전시장이 많이 있는데요. 저는 어딜 가...</td>\n",
       "    </tr>\n",
       "    <tr>\n",
       "      <th>4269</th>\n",
       "      <td>https://blog.naver.com/alexj1005/222857840578</td>\n",
       "      <td>오!\\n난 프로폴리스를 굉장히 좋아하기도 하고 오래 전부터 우리 가족도 프로폴리스를...</td>\n",
       "    </tr>\n",
       "    <tr>\n",
       "      <th>4270</th>\n",
       "      <td>https://blog.naver.com/jjangdoi2/222857839892</td>\n",
       "      <td>비가 간간이 뿌리는 날\\n기울어진 나무에 핀 무궁화꽃 한 송이\\n고잔역 앞\\n은행 ...</td>\n",
       "    </tr>\n",
       "  </tbody>\n",
       "</table>\n",
       "<p>4271 rows × 2 columns</p>\n",
       "</div>"
      ],
      "text/plain": [
       "                                                  url  \\\n",
       "0     https://blog.naver.com/smileseosin/222863511415   \n",
       "1           https://blog.naver.com/bluex/222863510213   \n",
       "2        https://blog.naver.com/cmdsc809/222863508877   \n",
       "3         https://blog.naver.com/san1917/222863508568   \n",
       "4        https://blog.naver.com/hnmh2332/222863508119   \n",
       "...                                               ...   \n",
       "4266     https://blog.naver.com/0211bomb/222857846392   \n",
       "4267     https://blog.naver.com/echangs7/222857845974   \n",
       "4268     https://blog.naver.com/okay4444/222857844930   \n",
       "4269    https://blog.naver.com/alexj1005/222857840578   \n",
       "4270    https://blog.naver.com/jjangdoi2/222857839892   \n",
       "\n",
       "                                                     본문  \n",
       "0     50m\\n© NAVER Corp.\\n송천도서관\\n전라북도 전주시 덕진구 솔내로 21...  \n",
       "1     즐거운 책 놀이터\\n독서교육 강사 이숙영입니다.\\n어느 새 무더운 여름이 지나고\\n...  \n",
       "2     다시 짧은 시간이 지났고,\\n바람이 불었고,\\n그렇게 앉아있는 동안\\n나는 내가 이...  \n",
       "3     멜크수도원\\n멜크수도원\\n2014년 4월 22일~2014년 5월2일\\n베네룩스 3국...  \n",
       "4     추석연휴 놀러 갈만한곳 강원도 여행 평창 청옥산 육백마지기\\n글&사진 : 초록바다 ...  \n",
       "...                                                 ...  \n",
       "4266  안녕하세요. 디자인뚝딱입니다.\\n전원주택의 좋은 점은 정원이나 테라스 등을 마음껏 ...  \n",
       "4267  최 성 균 (崔 聖 均)\\n이창식(李昌植)을 알고 지낸 지 어언 30여 년이 되었다...  \n",
       "4268  광주 북구 중외공원 문화벨트 안에는 박물관과 전시장이 많이 있는데요. 저는 어딜 가...  \n",
       "4269  오!\\n난 프로폴리스를 굉장히 좋아하기도 하고 오래 전부터 우리 가족도 프로폴리스를...  \n",
       "4270  비가 간간이 뿌리는 날\\n기울어진 나무에 핀 무궁화꽃 한 송이\\n고잔역 앞\\n은행 ...  \n",
       "\n",
       "[4271 rows x 2 columns]"
      ]
     },
     "execution_count": 7,
     "metadata": {},
     "output_type": "execute_result"
    }
   ],
   "source": [
    "df = pd.read_csv(\"./나무문화/2022/나무문화_본문_2022_8월.csv\", encoding='UTF-8')\n",
    "df"
   ]
  },
  {
   "cell_type": "code",
   "execution_count": 8,
   "id": "0504acf1",
   "metadata": {},
   "outputs": [
    {
     "data": {
      "text/plain": [
       "4271"
      ]
     },
     "execution_count": 8,
     "metadata": {},
     "output_type": "execute_result"
    }
   ],
   "source": [
    "len(df)"
   ]
  },
  {
   "cell_type": "code",
   "execution_count": 9,
   "id": "7009d198",
   "metadata": {},
   "outputs": [],
   "source": [
    "#url_df.iloc[11265]"
   ]
  },
  {
   "cell_type": "code",
   "execution_count": 10,
   "id": "48ecfa11",
   "metadata": {},
   "outputs": [
    {
     "data": {
      "text/plain": [
       "url    0\n",
       "본문     0\n",
       "dtype: int64"
      ]
     },
     "execution_count": 10,
     "metadata": {},
     "output_type": "execute_result"
    }
   ],
   "source": [
    "df.isnull().sum()"
   ]
  },
  {
   "cell_type": "code",
   "execution_count": 11,
   "id": "3d3aad2b",
   "metadata": {},
   "outputs": [],
   "source": [
    "# 이건 필요할때 쓰면 됨. 블로그가 닫혔거나 삭제되었을때 빈 본문을 가진 데이터프레임 추가.\n",
    "# content_dic = {'url' : [\"https://blog.naver.com/silhouette_04/222060553502\"], '본문' : [None]}\n",
    "# additional_df = pd.DataFrame(content_dic)\n",
    "# df = df.append(additional_df, ignore_index = True)"
   ]
  },
  {
   "cell_type": "code",
   "execution_count": 12,
   "id": "7bfeb2ec",
   "metadata": {
    "scrolled": true
   },
   "outputs": [
    {
     "name": "stderr",
     "output_type": "stream",
     "text": [
      "C:\\Users\\user\\AppData\\Local\\Temp\\ipykernel_6724\\1214473795.py:42: FutureWarning: The frame.append method is deprecated and will be removed from pandas in a future version. Use pandas.concat instead.\n",
      "  df = df.append(additional_df, ignore_index = True)\n"
     ]
    },
    {
     "ename": "KeyboardInterrupt",
     "evalue": "",
     "output_type": "error",
     "traceback": [
      "\u001b[1;31m---------------------------------------------------------------------------\u001b[0m",
      "\u001b[1;31mKeyboardInterrupt\u001b[0m                         Traceback (most recent call last)",
      "Cell \u001b[1;32mIn[12], line 43\u001b[0m\n\u001b[0;32m     41\u001b[0m additional_df \u001b[39m=\u001b[39m pd\u001b[39m.\u001b[39mDataFrame(content_dic)\n\u001b[0;32m     42\u001b[0m df \u001b[39m=\u001b[39m df\u001b[39m.\u001b[39mappend(additional_df, ignore_index \u001b[39m=\u001b[39m \u001b[39mTrue\u001b[39;00m)\n\u001b[1;32m---> 43\u001b[0m df\u001b[39m.\u001b[39;49mto_csv(\u001b[39m\"\u001b[39;49m\u001b[39m./나무문화/2022/나무문화_본문_2022_8월.csv\u001b[39;49m\u001b[39m\"\u001b[39;49m, index\u001b[39m=\u001b[39;49m\u001b[39mFalse\u001b[39;49;00m, encoding\u001b[39m=\u001b[39;49m\u001b[39m'\u001b[39;49m\u001b[39mUTF-8\u001b[39;49m\u001b[39m'\u001b[39;49m)\n\u001b[0;32m     44\u001b[0m \u001b[39m#df.to_excel(\"./나무문화/2020/나무문화_본문_2020_8월.xlsx\", index=False, encoding='UTF-8')\u001b[39;00m\n\u001b[0;32m     45\u001b[0m \u001b[39mprint\u001b[39m(blog_links\u001b[39m.\u001b[39mindex(i), df[\u001b[39m'\u001b[39m\u001b[39m본문\u001b[39m\u001b[39m'\u001b[39m]\u001b[39m.\u001b[39mtolist()\u001b[39m.\u001b[39mindex(a))\n",
      "File \u001b[1;32mc:\\Users\\user\\anaconda3\\envs\\NIFS\\lib\\site-packages\\pandas\\util\\_decorators.py:211\u001b[0m, in \u001b[0;36mdeprecate_kwarg.<locals>._deprecate_kwarg.<locals>.wrapper\u001b[1;34m(*args, **kwargs)\u001b[0m\n\u001b[0;32m    209\u001b[0m     \u001b[39melse\u001b[39;00m:\n\u001b[0;32m    210\u001b[0m         kwargs[new_arg_name] \u001b[39m=\u001b[39m new_arg_value\n\u001b[1;32m--> 211\u001b[0m \u001b[39mreturn\u001b[39;00m func(\u001b[39m*\u001b[39;49margs, \u001b[39m*\u001b[39;49m\u001b[39m*\u001b[39;49mkwargs)\n",
      "File \u001b[1;32mc:\\Users\\user\\anaconda3\\envs\\NIFS\\lib\\site-packages\\pandas\\core\\generic.py:3720\u001b[0m, in \u001b[0;36mNDFrame.to_csv\u001b[1;34m(self, path_or_buf, sep, na_rep, float_format, columns, header, index, index_label, mode, encoding, compression, quoting, quotechar, lineterminator, chunksize, date_format, doublequote, escapechar, decimal, errors, storage_options)\u001b[0m\n\u001b[0;32m   3709\u001b[0m df \u001b[39m=\u001b[39m \u001b[39mself\u001b[39m \u001b[39mif\u001b[39;00m \u001b[39misinstance\u001b[39m(\u001b[39mself\u001b[39m, ABCDataFrame) \u001b[39melse\u001b[39;00m \u001b[39mself\u001b[39m\u001b[39m.\u001b[39mto_frame()\n\u001b[0;32m   3711\u001b[0m formatter \u001b[39m=\u001b[39m DataFrameFormatter(\n\u001b[0;32m   3712\u001b[0m     frame\u001b[39m=\u001b[39mdf,\n\u001b[0;32m   3713\u001b[0m     header\u001b[39m=\u001b[39mheader,\n\u001b[1;32m   (...)\u001b[0m\n\u001b[0;32m   3717\u001b[0m     decimal\u001b[39m=\u001b[39mdecimal,\n\u001b[0;32m   3718\u001b[0m )\n\u001b[1;32m-> 3720\u001b[0m \u001b[39mreturn\u001b[39;00m DataFrameRenderer(formatter)\u001b[39m.\u001b[39;49mto_csv(\n\u001b[0;32m   3721\u001b[0m     path_or_buf,\n\u001b[0;32m   3722\u001b[0m     lineterminator\u001b[39m=\u001b[39;49mlineterminator,\n\u001b[0;32m   3723\u001b[0m     sep\u001b[39m=\u001b[39;49msep,\n\u001b[0;32m   3724\u001b[0m     encoding\u001b[39m=\u001b[39;49mencoding,\n\u001b[0;32m   3725\u001b[0m     errors\u001b[39m=\u001b[39;49merrors,\n\u001b[0;32m   3726\u001b[0m     compression\u001b[39m=\u001b[39;49mcompression,\n\u001b[0;32m   3727\u001b[0m     quoting\u001b[39m=\u001b[39;49mquoting,\n\u001b[0;32m   3728\u001b[0m     columns\u001b[39m=\u001b[39;49mcolumns,\n\u001b[0;32m   3729\u001b[0m     index_label\u001b[39m=\u001b[39;49mindex_label,\n\u001b[0;32m   3730\u001b[0m     mode\u001b[39m=\u001b[39;49mmode,\n\u001b[0;32m   3731\u001b[0m     chunksize\u001b[39m=\u001b[39;49mchunksize,\n\u001b[0;32m   3732\u001b[0m     quotechar\u001b[39m=\u001b[39;49mquotechar,\n\u001b[0;32m   3733\u001b[0m     date_format\u001b[39m=\u001b[39;49mdate_format,\n\u001b[0;32m   3734\u001b[0m     doublequote\u001b[39m=\u001b[39;49mdoublequote,\n\u001b[0;32m   3735\u001b[0m     escapechar\u001b[39m=\u001b[39;49mescapechar,\n\u001b[0;32m   3736\u001b[0m     storage_options\u001b[39m=\u001b[39;49mstorage_options,\n\u001b[0;32m   3737\u001b[0m )\n",
      "File \u001b[1;32mc:\\Users\\user\\anaconda3\\envs\\NIFS\\lib\\site-packages\\pandas\\util\\_decorators.py:211\u001b[0m, in \u001b[0;36mdeprecate_kwarg.<locals>._deprecate_kwarg.<locals>.wrapper\u001b[1;34m(*args, **kwargs)\u001b[0m\n\u001b[0;32m    209\u001b[0m     \u001b[39melse\u001b[39;00m:\n\u001b[0;32m    210\u001b[0m         kwargs[new_arg_name] \u001b[39m=\u001b[39m new_arg_value\n\u001b[1;32m--> 211\u001b[0m \u001b[39mreturn\u001b[39;00m func(\u001b[39m*\u001b[39;49margs, \u001b[39m*\u001b[39;49m\u001b[39m*\u001b[39;49mkwargs)\n",
      "File \u001b[1;32mc:\\Users\\user\\anaconda3\\envs\\NIFS\\lib\\site-packages\\pandas\\io\\formats\\format.py:1189\u001b[0m, in \u001b[0;36mDataFrameRenderer.to_csv\u001b[1;34m(self, path_or_buf, encoding, sep, columns, index_label, mode, compression, quoting, quotechar, lineterminator, chunksize, date_format, doublequote, escapechar, errors, storage_options)\u001b[0m\n\u001b[0;32m   1168\u001b[0m     created_buffer \u001b[39m=\u001b[39m \u001b[39mFalse\u001b[39;00m\n\u001b[0;32m   1170\u001b[0m csv_formatter \u001b[39m=\u001b[39m CSVFormatter(\n\u001b[0;32m   1171\u001b[0m     path_or_buf\u001b[39m=\u001b[39mpath_or_buf,\n\u001b[0;32m   1172\u001b[0m     lineterminator\u001b[39m=\u001b[39mlineterminator,\n\u001b[1;32m   (...)\u001b[0m\n\u001b[0;32m   1187\u001b[0m     formatter\u001b[39m=\u001b[39m\u001b[39mself\u001b[39m\u001b[39m.\u001b[39mfmt,\n\u001b[0;32m   1188\u001b[0m )\n\u001b[1;32m-> 1189\u001b[0m csv_formatter\u001b[39m.\u001b[39;49msave()\n\u001b[0;32m   1191\u001b[0m \u001b[39mif\u001b[39;00m created_buffer:\n\u001b[0;32m   1192\u001b[0m     \u001b[39massert\u001b[39;00m \u001b[39misinstance\u001b[39m(path_or_buf, StringIO)\n",
      "File \u001b[1;32mc:\\Users\\user\\anaconda3\\envs\\NIFS\\lib\\site-packages\\pandas\\io\\formats\\csvs.py:261\u001b[0m, in \u001b[0;36mCSVFormatter.save\u001b[1;34m(self)\u001b[0m\n\u001b[0;32m    241\u001b[0m \u001b[39mwith\u001b[39;00m get_handle(\n\u001b[0;32m    242\u001b[0m     \u001b[39mself\u001b[39m\u001b[39m.\u001b[39mfilepath_or_buffer,\n\u001b[0;32m    243\u001b[0m     \u001b[39mself\u001b[39m\u001b[39m.\u001b[39mmode,\n\u001b[1;32m   (...)\u001b[0m\n\u001b[0;32m    249\u001b[0m \n\u001b[0;32m    250\u001b[0m     \u001b[39m# Note: self.encoding is irrelevant here\u001b[39;00m\n\u001b[0;32m    251\u001b[0m     \u001b[39mself\u001b[39m\u001b[39m.\u001b[39mwriter \u001b[39m=\u001b[39m csvlib\u001b[39m.\u001b[39mwriter(\n\u001b[0;32m    252\u001b[0m         handles\u001b[39m.\u001b[39mhandle,\n\u001b[0;32m    253\u001b[0m         lineterminator\u001b[39m=\u001b[39m\u001b[39mself\u001b[39m\u001b[39m.\u001b[39mlineterminator,\n\u001b[1;32m   (...)\u001b[0m\n\u001b[0;32m    258\u001b[0m         quotechar\u001b[39m=\u001b[39m\u001b[39mself\u001b[39m\u001b[39m.\u001b[39mquotechar,\n\u001b[0;32m    259\u001b[0m     )\n\u001b[1;32m--> 261\u001b[0m     \u001b[39mself\u001b[39;49m\u001b[39m.\u001b[39;49m_save()\n",
      "File \u001b[1;32mc:\\Users\\user\\anaconda3\\envs\\NIFS\\lib\\site-packages\\pandas\\io\\formats\\csvs.py:266\u001b[0m, in \u001b[0;36mCSVFormatter._save\u001b[1;34m(self)\u001b[0m\n\u001b[0;32m    264\u001b[0m \u001b[39mif\u001b[39;00m \u001b[39mself\u001b[39m\u001b[39m.\u001b[39m_need_to_save_header:\n\u001b[0;32m    265\u001b[0m     \u001b[39mself\u001b[39m\u001b[39m.\u001b[39m_save_header()\n\u001b[1;32m--> 266\u001b[0m \u001b[39mself\u001b[39;49m\u001b[39m.\u001b[39;49m_save_body()\n",
      "File \u001b[1;32mc:\\Users\\user\\anaconda3\\envs\\NIFS\\lib\\site-packages\\pandas\\io\\formats\\csvs.py:304\u001b[0m, in \u001b[0;36mCSVFormatter._save_body\u001b[1;34m(self)\u001b[0m\n\u001b[0;32m    302\u001b[0m \u001b[39mif\u001b[39;00m start_i \u001b[39m>\u001b[39m\u001b[39m=\u001b[39m end_i:\n\u001b[0;32m    303\u001b[0m     \u001b[39mbreak\u001b[39;00m\n\u001b[1;32m--> 304\u001b[0m \u001b[39mself\u001b[39;49m\u001b[39m.\u001b[39;49m_save_chunk(start_i, end_i)\n",
      "File \u001b[1;32mc:\\Users\\user\\anaconda3\\envs\\NIFS\\lib\\site-packages\\pandas\\io\\formats\\csvs.py:315\u001b[0m, in \u001b[0;36mCSVFormatter._save_chunk\u001b[1;34m(self, start_i, end_i)\u001b[0m\n\u001b[0;32m    312\u001b[0m data \u001b[39m=\u001b[39m [res\u001b[39m.\u001b[39miget_values(i) \u001b[39mfor\u001b[39;00m i \u001b[39min\u001b[39;00m \u001b[39mrange\u001b[39m(\u001b[39mlen\u001b[39m(res\u001b[39m.\u001b[39mitems))]\n\u001b[0;32m    314\u001b[0m ix \u001b[39m=\u001b[39m \u001b[39mself\u001b[39m\u001b[39m.\u001b[39mdata_index[slicer]\u001b[39m.\u001b[39m_format_native_types(\u001b[39m*\u001b[39m\u001b[39m*\u001b[39m\u001b[39mself\u001b[39m\u001b[39m.\u001b[39m_number_format)\n\u001b[1;32m--> 315\u001b[0m libwriters\u001b[39m.\u001b[39;49mwrite_csv_rows(\n\u001b[0;32m    316\u001b[0m     data,\n\u001b[0;32m    317\u001b[0m     ix,\n\u001b[0;32m    318\u001b[0m     \u001b[39mself\u001b[39;49m\u001b[39m.\u001b[39;49mnlevels,\n\u001b[0;32m    319\u001b[0m     \u001b[39mself\u001b[39;49m\u001b[39m.\u001b[39;49mcols,\n\u001b[0;32m    320\u001b[0m     \u001b[39mself\u001b[39;49m\u001b[39m.\u001b[39;49mwriter,\n\u001b[0;32m    321\u001b[0m )\n",
      "File \u001b[1;32mc:\\Users\\user\\anaconda3\\envs\\NIFS\\lib\\site-packages\\pandas\\_libs\\writers.pyx:72\u001b[0m, in \u001b[0;36mpandas._libs.writers.write_csv_rows\u001b[1;34m()\u001b[0m\n",
      "\u001b[1;31mKeyboardInterrupt\u001b[0m: "
     ]
    }
   ],
   "source": [
    "#### 삭제/비공개 링크 인덱스도 매번 바꿔줄 것!!! ###\n",
    "# contents = []\n",
    "# old_blogs = []\n",
    "hide_link = []\n",
    "waitsec = random.uniform(4,4.5)\n",
    "\n",
    "from IPython.display import clear_output\n",
    "from IPython import display # 램효율을 늘리기 위해 아웃풋 display를 지워줄 것.\n",
    "from ipywidgets import Output\n",
    "\n",
    "out = Output()\n",
    "display.display(out)\n",
    "\n",
    "for i in tqdm(blog_links[len(df):]):\n",
    "    content_dic = {'url' : [], '본문' : []}\n",
    "    content_dic['url'].append(i)\n",
    "    driver.get(i)\n",
    "    driver.implicitly_wait(10)\n",
    "    time.sleep(waitsec)\n",
    "    try:\n",
    "        driver.switch_to.frame(\"mainFrame\")\n",
    "    except TimeoutException as e:\n",
    "        print('시간 초과 오류 : ', e)\n",
    "        content_dic['본문'].append('수집불가능')\n",
    "    except UnexpectedAlertPresentException as e:\n",
    "    ### 이 오류 해결함. 에러 코드 파일에서 직접 임포트하면 된다!\n",
    "        print(e)\n",
    "                                                                            # 여기도 바꿔야 함\n",
    "        print('{}번째 게시글은 비공개로 전환되었거나 게시판이 바뀜.'.format(blog_links.index(i)))\n",
    "        hide_link.append(i)\n",
    "        time.sleep(1.5)\n",
    "        driver.switch_to.frame('mainFrame')\n",
    "    try:\n",
    "        a = driver.find_element(By.CSS_SELECTOR,'div.se-main-container').text\n",
    "        content_dic['본문'].append(a)\n",
    "    # NoSuchElement 오류시 예외처리(구버전 블로그에 적용)\n",
    "    except NoSuchElementException:\n",
    "        a = driver.find_element(By.CSS_SELECTOR,'div#content-area').text\n",
    "        content_dic['본문'].append(a)\n",
    "        #old_blogs.append(i)\n",
    "    additional_df = pd.DataFrame(content_dic)\n",
    "    df = df.append(additional_df, ignore_index = True)\n",
    "    df.to_csv(\"./나무문화/2022/나무문화_본문_2022_8월.csv\", index=False, encoding='UTF-8')\n",
    "    #df.to_excel(\"./나무문화/2020/나무문화_본문_2020_8월.xlsx\", index=False, encoding='UTF-8')\n",
    "    print(blog_links.index(i), df['본문'].tolist().index(a))\n",
    "    \n",
    "    display.clear_output(wait=True) # 출력지우기\n",
    "    # if blog_links.index(i) != df['본문'].tolist().index(a):\n",
    "    #     break\n"
   ]
  },
  {
   "cell_type": "code",
   "execution_count": null,
   "id": "10d9df7f",
   "metadata": {},
   "outputs": [
    {
     "data": {
      "text/html": [
       "<div>\n",
       "<style scoped>\n",
       "    .dataframe tbody tr th:only-of-type {\n",
       "        vertical-align: middle;\n",
       "    }\n",
       "\n",
       "    .dataframe tbody tr th {\n",
       "        vertical-align: top;\n",
       "    }\n",
       "\n",
       "    .dataframe thead th {\n",
       "        text-align: right;\n",
       "    }\n",
       "</style>\n",
       "<table border=\"1\" class=\"dataframe\">\n",
       "  <thead>\n",
       "    <tr style=\"text-align: right;\">\n",
       "      <th></th>\n",
       "      <th>url</th>\n",
       "      <th>본문</th>\n",
       "    </tr>\n",
       "  </thead>\n",
       "  <tbody>\n",
       "    <tr>\n",
       "      <th>0</th>\n",
       "      <td>https://blog.naver.com/ydk531/222060559090</td>\n",
       "      <td>존재하지 않는 이미지입니다.\\n[화보]뉴트로 성지 '소제동' 시간여행 속으로\\n소제...</td>\n",
       "    </tr>\n",
       "  </tbody>\n",
       "</table>\n",
       "</div>"
      ],
      "text/plain": [
       "                                          url  \\\n",
       "0  https://blog.naver.com/ydk531/222060559090   \n",
       "\n",
       "                                                  본문  \n",
       "0  존재하지 않는 이미지입니다.\\n[화보]뉴트로 성지 '소제동' 시간여행 속으로\\n소제...  "
      ]
     },
     "execution_count": 21,
     "metadata": {},
     "output_type": "execute_result"
    }
   ],
   "source": [
    "additional_df"
   ]
  },
  {
   "cell_type": "code",
   "execution_count": null,
   "id": "febb389f",
   "metadata": {},
   "outputs": [],
   "source": [
    "df"
   ]
  },
  {
   "cell_type": "code",
   "execution_count": null,
   "id": "e35b9068",
   "metadata": {},
   "outputs": [],
   "source": [
    "print(len(contents))\n",
    "#print(len(old_blogs))\n",
    "print(len(hide_link))\n"
   ]
  }
 ],
 "metadata": {
  "kernelspec": {
   "display_name": "Python 3.8.0 ('NIFS')",
   "language": "python",
   "name": "python3"
  },
  "language_info": {
   "codemirror_mode": {
    "name": "ipython",
    "version": 3
   },
   "file_extension": ".py",
   "mimetype": "text/x-python",
   "name": "python",
   "nbconvert_exporter": "python",
   "pygments_lexer": "ipython3",
   "version": "3.8.0"
  },
  "vscode": {
   "interpreter": {
    "hash": "ef870b4feb386425c661b7ebcadef1c9affb03996f900964fa02bf03ee560957"
   }
  }
 },
 "nbformat": 4,
 "nbformat_minor": 5
}
