{
 "cells": [
  {
   "cell_type": "markdown",
   "id": "db7b5304",
   "metadata": {},
   "source": [
    "# 본문 스크래핑"
   ]
  },
  {
   "cell_type": "code",
   "execution_count": 1,
   "id": "88f269e2",
   "metadata": {},
   "outputs": [],
   "source": [
    "import pandas as pd\n",
    "import numpy as np\n",
    "import time\n",
    "from tqdm.notebook import tqdm\n",
    "import random\n",
    "import urllib.request\n",
    "from selenium.common.exceptions import NoSuchElementException, UnexpectedAlertPresentException, TimeoutException\n",
    "from selenium import webdriver\n",
    "from selenium.webdriver.common.by import By\n",
    "# import chromedriver_auto\n",
    "\n",
    "\n",
    "# 웹드라이버 설정\n",
    "options = webdriver.ChromeOptions()\n",
    "options.add_experimental_option(\"excludeSwitches\", [\"enable-automation\"])\n",
    "options.add_experimental_option(\"useAutomationExtension\", False)\n",
    "options.add_argument('headless') # 창 숨기기\n"
   ]
  },
  {
   "cell_type": "code",
   "execution_count": 2,
   "id": "990973ce",
   "metadata": {},
   "outputs": [],
   "source": [
    "# from user_agent import generate_user_agent, generate_navigator\n",
    "\n",
    "# print(generate_user_agent(device_type='desktop'))\n",
    "# print(generate_user_agent(os='win', device_type='desktop'))\n",
    "\n",
    "# navigator = generate_navigator()\n",
    "\n",
    "# random_user = generate_user_agent(os='win', device_type='desktop')\n",
    "# print(random_user)"
   ]
  },
  {
   "cell_type": "code",
   "execution_count": 3,
   "id": "36c7dea6",
   "metadata": {},
   "outputs": [],
   "source": [
    "from selenium.webdriver.chrome.options import Options\n",
    "\n",
    "# chrome_options = Options()\n",
    "# chrome_options.add_argument(random_user)\n",
    "driver = webdriver.Chrome(executable_path ='./chromedriver_win32/chromedriver.exe',options = options)\n",
    "\n",
    "driver.maximize_window()\n",
    "driver.get(\"https://www.naver.com/\")\n",
    "driver.implicitly_wait(10)\n"
   ]
  },
  {
   "cell_type": "code",
   "execution_count": 4,
   "id": "e4e6f57e",
   "metadata": {},
   "outputs": [
    {
     "name": "stdout",
     "output_type": "stream",
     "text": [
      "(20814, 3) Index(['url', 'title', 'date'], dtype='object')\n"
     ]
    },
    {
     "data": {
      "text/html": [
       "<div>\n",
       "<style scoped>\n",
       "    .dataframe tbody tr th:only-of-type {\n",
       "        vertical-align: middle;\n",
       "    }\n",
       "\n",
       "    .dataframe tbody tr th {\n",
       "        vertical-align: top;\n",
       "    }\n",
       "\n",
       "    .dataframe thead th {\n",
       "        text-align: right;\n",
       "    }\n",
       "</style>\n",
       "<table border=\"1\" class=\"dataframe\">\n",
       "  <thead>\n",
       "    <tr style=\"text-align: right;\">\n",
       "      <th></th>\n",
       "      <th>url</th>\n",
       "      <th>title</th>\n",
       "      <th>date</th>\n",
       "    </tr>\n",
       "  </thead>\n",
       "  <tbody>\n",
       "    <tr>\n",
       "      <th>0</th>\n",
       "      <td>https://blog.naver.com/smileseosin/222863511415</td>\n",
       "      <td>불편한 편의점2 김호연 작가 특강이 송천도서관 문화가 있는 날...</td>\n",
       "      <td>2022.08.31.</td>\n",
       "    </tr>\n",
       "    <tr>\n",
       "      <th>1</th>\n",
       "      <td>https://blog.naver.com/bluex/222863510213</td>\n",
       "      <td>추석 그림책 명절 독서 활동 달님에게 소원 편지쓰기 색칠하기</td>\n",
       "      <td>2022.08.31.</td>\n",
       "    </tr>\n",
       "    <tr>\n",
       "      <th>2</th>\n",
       "      <td>https://blog.naver.com/cmdsc809/222863508877</td>\n",
       "      <td>[미국 여행] 0419-0502세 달 살이 마무리, 사랑하는 친구들...</td>\n",
       "      <td>2022.08.31.</td>\n",
       "    </tr>\n",
       "    <tr>\n",
       "      <th>3</th>\n",
       "      <td>https://blog.naver.com/san1917/222863508568</td>\n",
       "      <td>[오스트리아] 멜크수도원</td>\n",
       "      <td>2022.08.31.</td>\n",
       "    </tr>\n",
       "    <tr>\n",
       "      <th>4</th>\n",
       "      <td>https://blog.naver.com/hnmh2332/222863508119</td>\n",
       "      <td>추석연휴 놀러 갈만한곳 강원도 여행 평창 청옥산 육백마지기</td>\n",
       "      <td>2022.08.31.</td>\n",
       "    </tr>\n",
       "    <tr>\n",
       "      <th>...</th>\n",
       "      <td>...</td>\n",
       "      <td>...</td>\n",
       "      <td>...</td>\n",
       "    </tr>\n",
       "    <tr>\n",
       "      <th>20809</th>\n",
       "      <td>https://blog.naver.com/show656/222835904038</td>\n",
       "      <td>내가 찾던 그 맛 바로 여기 라멘맛집에서 발견 : 광주 동명동...</td>\n",
       "      <td>2022.08.01.</td>\n",
       "    </tr>\n",
       "    <tr>\n",
       "      <th>20810</th>\n",
       "      <td>https://blog.naver.com/sonia30/222835904165</td>\n",
       "      <td>강릉 여행::오죽헌 입장료 및 주차장 (feat.시립박물관)</td>\n",
       "      <td>2022.08.01.</td>\n",
       "    </tr>\n",
       "    <tr>\n",
       "      <th>20811</th>\n",
       "      <td>https://blog.naver.com/october2nd_/222835901895</td>\n",
       "      <td>[대전궁동맛집] 회쳐모여 | 대전유성횟집 추천 | 가성비좋은...</td>\n",
       "      <td>2022.08.01.</td>\n",
       "    </tr>\n",
       "    <tr>\n",
       "      <th>20812</th>\n",
       "      <td>https://blog.naver.com/moviemagazine/222835583839</td>\n",
       "      <td>[스포영화소개] 앎에서 오는 공포 &lt;미드소마&gt;</td>\n",
       "      <td>2022.08.01.</td>\n",
       "    </tr>\n",
       "    <tr>\n",
       "      <th>20813</th>\n",
       "      <td>https://blog.naver.com/winehyoung/222835676057</td>\n",
       "      <td>2022 바캉스와 한 여름에 어울리는 낭만 와인들</td>\n",
       "      <td>2022.08.01.</td>\n",
       "    </tr>\n",
       "  </tbody>\n",
       "</table>\n",
       "<p>20814 rows × 3 columns</p>\n",
       "</div>"
      ],
      "text/plain": [
       "                                                     url  \\\n",
       "0        https://blog.naver.com/smileseosin/222863511415   \n",
       "1              https://blog.naver.com/bluex/222863510213   \n",
       "2           https://blog.naver.com/cmdsc809/222863508877   \n",
       "3            https://blog.naver.com/san1917/222863508568   \n",
       "4           https://blog.naver.com/hnmh2332/222863508119   \n",
       "...                                                  ...   \n",
       "20809        https://blog.naver.com/show656/222835904038   \n",
       "20810        https://blog.naver.com/sonia30/222835904165   \n",
       "20811    https://blog.naver.com/october2nd_/222835901895   \n",
       "20812  https://blog.naver.com/moviemagazine/222835583839   \n",
       "20813     https://blog.naver.com/winehyoung/222835676057   \n",
       "\n",
       "                                          title         date  \n",
       "0         불편한 편의점2 김호연 작가 특강이 송천도서관 문화가 있는 날...  2022.08.31.  \n",
       "1             추석 그림책 명절 독서 활동 달님에게 소원 편지쓰기 색칠하기  2022.08.31.  \n",
       "2      [미국 여행] 0419-0502세 달 살이 마무리, 사랑하는 친구들...  2022.08.31.  \n",
       "3                                 [오스트리아] 멜크수도원  2022.08.31.  \n",
       "4              추석연휴 놀러 갈만한곳 강원도 여행 평창 청옥산 육백마지기  2022.08.31.  \n",
       "...                                         ...          ...  \n",
       "20809     내가 찾던 그 맛 바로 여기 라멘맛집에서 발견 : 광주 동명동...  2022.08.01.  \n",
       "20810         강릉 여행::오죽헌 입장료 및 주차장 (feat.시립박물관)  2022.08.01.  \n",
       "20811      [대전궁동맛집] 회쳐모여 | 대전유성횟집 추천 | 가성비좋은...  2022.08.01.  \n",
       "20812                 [스포영화소개] 앎에서 오는 공포 <미드소마>  2022.08.01.  \n",
       "20813               2022 바캉스와 한 여름에 어울리는 낭만 와인들  2022.08.01.  \n",
       "\n",
       "[20814 rows x 3 columns]"
      ]
     },
     "execution_count": 4,
     "metadata": {},
     "output_type": "execute_result"
    }
   ],
   "source": [
    "url_df = pd.read_csv(\"./나무문화/2022/나무문화_링크_2022_8월.csv\", encoding='UTF-8')\n",
    "print(url_df.shape, url_df.columns)\n",
    "url_df\n"
   ]
  },
  {
   "cell_type": "code",
   "execution_count": 5,
   "id": "892b0519",
   "metadata": {},
   "outputs": [
    {
     "name": "stdout",
     "output_type": "stream",
     "text": [
      "20814\n"
     ]
    }
   ],
   "source": [
    "blog_links = url_df['url'].to_list()\n",
    "print(len(blog_links))\n"
   ]
  },
  {
   "cell_type": "code",
   "execution_count": 6,
   "id": "865be6f4",
   "metadata": {},
   "outputs": [],
   "source": [
    "# df = pd.DataFrame(columns = ['url','본문'])\n",
    "# df.to_csv(\"./나무문화/2022/나무문화_본문_2022_8월.csv\", index=False, encoding='UTF-8')\n",
    "# df.to_excel(\"./나무문화/2022/나무문화_본문_2022_8월.xlsx\", index=False, encoding='UTF-8')"
   ]
  },
  {
   "cell_type": "code",
   "execution_count": 7,
   "id": "79031cb7",
   "metadata": {},
   "outputs": [
    {
     "data": {
      "text/html": [
       "<div>\n",
       "<style scoped>\n",
       "    .dataframe tbody tr th:only-of-type {\n",
       "        vertical-align: middle;\n",
       "    }\n",
       "\n",
       "    .dataframe tbody tr th {\n",
       "        vertical-align: top;\n",
       "    }\n",
       "\n",
       "    .dataframe thead th {\n",
       "        text-align: right;\n",
       "    }\n",
       "</style>\n",
       "<table border=\"1\" class=\"dataframe\">\n",
       "  <thead>\n",
       "    <tr style=\"text-align: right;\">\n",
       "      <th></th>\n",
       "      <th>url</th>\n",
       "      <th>본문</th>\n",
       "    </tr>\n",
       "  </thead>\n",
       "  <tbody>\n",
       "    <tr>\n",
       "      <th>0</th>\n",
       "      <td>https://blog.naver.com/smileseosin/222863511415</td>\n",
       "      <td>50m\\n© NAVER Corp.\\n송천도서관\\n전라북도 전주시 덕진구 솔내로 21...</td>\n",
       "    </tr>\n",
       "    <tr>\n",
       "      <th>1</th>\n",
       "      <td>https://blog.naver.com/bluex/222863510213</td>\n",
       "      <td>즐거운 책 놀이터\\n독서교육 강사 이숙영입니다.\\n어느 새 무더운 여름이 지나고\\n...</td>\n",
       "    </tr>\n",
       "    <tr>\n",
       "      <th>2</th>\n",
       "      <td>https://blog.naver.com/cmdsc809/222863508877</td>\n",
       "      <td>다시 짧은 시간이 지났고,\\n바람이 불었고,\\n그렇게 앉아있는 동안\\n나는 내가 이...</td>\n",
       "    </tr>\n",
       "    <tr>\n",
       "      <th>3</th>\n",
       "      <td>https://blog.naver.com/san1917/222863508568</td>\n",
       "      <td>멜크수도원\\n멜크수도원\\n2014년 4월 22일~2014년 5월2일\\n베네룩스 3국...</td>\n",
       "    </tr>\n",
       "    <tr>\n",
       "      <th>4</th>\n",
       "      <td>https://blog.naver.com/hnmh2332/222863508119</td>\n",
       "      <td>추석연휴 놀러 갈만한곳 강원도 여행 평창 청옥산 육백마지기\\n글&amp;사진 : 초록바다 ...</td>\n",
       "    </tr>\n",
       "    <tr>\n",
       "      <th>...</th>\n",
       "      <td>...</td>\n",
       "      <td>...</td>\n",
       "    </tr>\n",
       "    <tr>\n",
       "      <th>10003</th>\n",
       "      <td>https://blog.naver.com/harb/222850258072</td>\n",
       "      <td>블로그\\n운동해 257개의 글\\n운동해\\n목록열기\\n걷기 시작 운동해  \\n2022...</td>\n",
       "    </tr>\n",
       "    <tr>\n",
       "      <th>10004</th>\n",
       "      <td>https://blog.naver.com/jyunjyuni/222850256657</td>\n",
       "      <td>제주도에 왔는데 맛있는걸 다 먹어보고 가지 않으면 너무 아쉬울 것 같아, 우리는 아...</td>\n",
       "    </tr>\n",
       "    <tr>\n",
       "      <th>10005</th>\n",
       "      <td>https://blog.naver.com/yangaram1/222850257170</td>\n",
       "      <td>2022. 8. 3. 아산병원 장례식장에 문상을 다녀왔습니다. 잠실나루역에서 장례식...</td>\n",
       "    </tr>\n",
       "    <tr>\n",
       "      <th>10006</th>\n",
       "      <td>https://blog.naver.com/kusu6888/222850255842</td>\n",
       "      <td>안녕하세요, 제 68회 백제문화제 서포터즈 \"알밤막걸리\"입니다.\\n오늘 알려드릴 것...</td>\n",
       "    </tr>\n",
       "    <tr>\n",
       "      <th>10007</th>\n",
       "      <td>https://blog.naver.com/0462sunshine/222850254762</td>\n",
       "      <td>사소한 것에...\\n요즘 스포츠 예술 과학원에 특강을 나가고 있다.\\n카메라 촬영 ...</td>\n",
       "    </tr>\n",
       "  </tbody>\n",
       "</table>\n",
       "<p>10008 rows × 2 columns</p>\n",
       "</div>"
      ],
      "text/plain": [
       "                                                    url  \\\n",
       "0       https://blog.naver.com/smileseosin/222863511415   \n",
       "1             https://blog.naver.com/bluex/222863510213   \n",
       "2          https://blog.naver.com/cmdsc809/222863508877   \n",
       "3           https://blog.naver.com/san1917/222863508568   \n",
       "4          https://blog.naver.com/hnmh2332/222863508119   \n",
       "...                                                 ...   \n",
       "10003          https://blog.naver.com/harb/222850258072   \n",
       "10004     https://blog.naver.com/jyunjyuni/222850256657   \n",
       "10005     https://blog.naver.com/yangaram1/222850257170   \n",
       "10006      https://blog.naver.com/kusu6888/222850255842   \n",
       "10007  https://blog.naver.com/0462sunshine/222850254762   \n",
       "\n",
       "                                                      본문  \n",
       "0      50m\\n© NAVER Corp.\\n송천도서관\\n전라북도 전주시 덕진구 솔내로 21...  \n",
       "1      즐거운 책 놀이터\\n독서교육 강사 이숙영입니다.\\n어느 새 무더운 여름이 지나고\\n...  \n",
       "2      다시 짧은 시간이 지났고,\\n바람이 불었고,\\n그렇게 앉아있는 동안\\n나는 내가 이...  \n",
       "3      멜크수도원\\n멜크수도원\\n2014년 4월 22일~2014년 5월2일\\n베네룩스 3국...  \n",
       "4      추석연휴 놀러 갈만한곳 강원도 여행 평창 청옥산 육백마지기\\n글&사진 : 초록바다 ...  \n",
       "...                                                  ...  \n",
       "10003  블로그\\n운동해 257개의 글\\n운동해\\n목록열기\\n걷기 시작 운동해  \\n2022...  \n",
       "10004  제주도에 왔는데 맛있는걸 다 먹어보고 가지 않으면 너무 아쉬울 것 같아, 우리는 아...  \n",
       "10005  2022. 8. 3. 아산병원 장례식장에 문상을 다녀왔습니다. 잠실나루역에서 장례식...  \n",
       "10006  안녕하세요, 제 68회 백제문화제 서포터즈 \"알밤막걸리\"입니다.\\n오늘 알려드릴 것...  \n",
       "10007  사소한 것에...\\n요즘 스포츠 예술 과학원에 특강을 나가고 있다.\\n카메라 촬영 ...  \n",
       "\n",
       "[10008 rows x 2 columns]"
      ]
     },
     "execution_count": 7,
     "metadata": {},
     "output_type": "execute_result"
    }
   ],
   "source": [
    "df = pd.read_csv(\"./나무문화/2022/나무문화_본문_2022_8월.csv\", encoding='UTF-8')\n",
    "df"
   ]
  },
  {
   "cell_type": "code",
   "execution_count": 8,
   "id": "0504acf1",
   "metadata": {},
   "outputs": [
    {
     "data": {
      "text/plain": [
       "10008"
      ]
     },
     "execution_count": 8,
     "metadata": {},
     "output_type": "execute_result"
    }
   ],
   "source": [
    "len(df)"
   ]
  },
  {
   "cell_type": "code",
   "execution_count": 9,
   "id": "7009d198",
   "metadata": {},
   "outputs": [],
   "source": [
    "#url_df.iloc[11265]"
   ]
  },
  {
   "cell_type": "code",
   "execution_count": 10,
   "id": "48ecfa11",
   "metadata": {},
   "outputs": [
    {
     "data": {
      "text/plain": [
       "url    0\n",
       "본문     0\n",
       "dtype: int64"
      ]
     },
     "execution_count": 10,
     "metadata": {},
     "output_type": "execute_result"
    }
   ],
   "source": [
    "df.isnull().sum()"
   ]
  },
  {
   "cell_type": "code",
   "execution_count": 11,
   "id": "3d3aad2b",
   "metadata": {},
   "outputs": [],
   "source": [
    "# 이건 필요할때 쓰면 됨. 블로그가 닫혔거나 삭제되었을때 빈 본문을 가진 데이터프레임 추가.\n",
    "# content_dic = {'url' : [\"https://blog.naver.com/silhouette_04/222060553502\"], '본문' : [None]}\n",
    "# additional_df = pd.DataFrame(content_dic)\n",
    "# df = df.append(additional_df, ignore_index = True)"
   ]
  },
  {
   "cell_type": "code",
   "execution_count": 14,
   "id": "7bfeb2ec",
   "metadata": {
    "scrolled": true
   },
   "outputs": [
    {
     "ename": "KeyboardInterrupt",
     "evalue": "",
     "output_type": "error",
     "traceback": [
      "\u001b[1;31m---------------------------------------------------------------------------\u001b[0m",
      "\u001b[1;31mKeyboardInterrupt\u001b[0m                         Traceback (most recent call last)",
      "Cell \u001b[1;32mIn[14], line 19\u001b[0m\n\u001b[0;32m     17\u001b[0m driver\u001b[39m.\u001b[39mget(i)\n\u001b[0;32m     18\u001b[0m driver\u001b[39m.\u001b[39mimplicitly_wait(\u001b[39m10\u001b[39m)\n\u001b[1;32m---> 19\u001b[0m time\u001b[39m.\u001b[39;49msleep(waitsec)\n\u001b[0;32m     20\u001b[0m \u001b[39mtry\u001b[39;00m:\n\u001b[0;32m     21\u001b[0m     driver\u001b[39m.\u001b[39mswitch_to\u001b[39m.\u001b[39mframe(\u001b[39m\"\u001b[39m\u001b[39mmainFrame\u001b[39m\u001b[39m\"\u001b[39m)\n",
      "\u001b[1;31mKeyboardInterrupt\u001b[0m: "
     ]
    }
   ],
   "source": [
    "#### 삭제/비공개 링크 인덱스도 매번 바꿔줄 것!!! ###\n",
    "# contents = []\n",
    "# old_blogs = []\n",
    "hide_link = []\n",
    "waitsec = random.uniform(4,4.5)\n",
    "\n",
    "from IPython.display import clear_output\n",
    "from IPython import display # 램효율을 늘리기 위해 아웃풋 display를 지워줄 것.\n",
    "from ipywidgets import Output\n",
    "\n",
    "out = Output()\n",
    "display.display(out)\n",
    "\n",
    "for i in tqdm(blog_links[len(df):]):\n",
    "    content_dic = {'url' : [], '본문' : []}\n",
    "    content_dic['url'].append(i)\n",
    "    driver.get(i)\n",
    "    driver.implicitly_wait(10)\n",
    "    time.sleep(waitsec)\n",
    "    try:\n",
    "        driver.switch_to.frame(\"mainFrame\")\n",
    "    except TimeoutException as e:\n",
    "        print('시간 초과 오류 : ', e)\n",
    "        content_dic['본문'].append('수집불가능')\n",
    "    except UnexpectedAlertPresentException as e:\n",
    "    ### 이 오류 해결함. 에러 코드 파일에서 직접 임포트하면 된다!\n",
    "        print(e)\n",
    "                                                                            # 여기도 바꿔야 함\n",
    "        print('{}번째 게시글은 비공개로 전환되었거나 게시판이 바뀜.'.format(blog_links.index(i)))\n",
    "        hide_link.append(i)\n",
    "        time.sleep(1.5)\n",
    "        driver.switch_to.frame('mainFrame')\n",
    "    try:\n",
    "        a = driver.find_element(By.CSS_SELECTOR,'div.se-main-container').text\n",
    "        content_dic['본문'].append(a)\n",
    "    # NoSuchElement 오류시 예외처리(구버전 블로그에 적용)\n",
    "    except NoSuchElementException:\n",
    "        a = driver.find_element(By.CSS_SELECTOR,'div#content-area').text\n",
    "        content_dic['본문'].append(a)\n",
    "        #old_blogs.append(i)\n",
    "    additional_df = pd.DataFrame(content_dic)\n",
    "    df = pd.concat([df,additional_df])\n",
    "    df.reset_index(drop=True, inplace=True)\n",
    "    #df.to_excel(\"./나무문화/2020/나무문화_본문_2020_8월.xlsx\", index=False, encoding='UTF-8')\n",
    "    print(blog_links.index(i), df['본문'].tolist().index(a))\n",
    "    \n",
    "    display.clear_output(wait=True) # 출력지우기\n",
    "    # if blog_links.index(i) != df['본문'].tolist().index(a):\n",
    "    #     break\n"
   ]
  },
  {
   "cell_type": "code",
   "execution_count": 15,
   "id": "a09e0f21",
   "metadata": {},
   "outputs": [
    {
     "data": {
      "text/html": [
       "<div>\n",
       "<style scoped>\n",
       "    .dataframe tbody tr th:only-of-type {\n",
       "        vertical-align: middle;\n",
       "    }\n",
       "\n",
       "    .dataframe tbody tr th {\n",
       "        vertical-align: top;\n",
       "    }\n",
       "\n",
       "    .dataframe thead th {\n",
       "        text-align: right;\n",
       "    }\n",
       "</style>\n",
       "<table border=\"1\" class=\"dataframe\">\n",
       "  <thead>\n",
       "    <tr style=\"text-align: right;\">\n",
       "      <th></th>\n",
       "      <th>url</th>\n",
       "      <th>본문</th>\n",
       "    </tr>\n",
       "  </thead>\n",
       "  <tbody>\n",
       "    <tr>\n",
       "      <th>0</th>\n",
       "      <td>https://blog.naver.com/smileseosin/222863511415</td>\n",
       "      <td>50m\\n© NAVER Corp.\\n송천도서관\\n전라북도 전주시 덕진구 솔내로 21...</td>\n",
       "    </tr>\n",
       "    <tr>\n",
       "      <th>1</th>\n",
       "      <td>https://blog.naver.com/bluex/222863510213</td>\n",
       "      <td>즐거운 책 놀이터\\n독서교육 강사 이숙영입니다.\\n어느 새 무더운 여름이 지나고\\n...</td>\n",
       "    </tr>\n",
       "    <tr>\n",
       "      <th>2</th>\n",
       "      <td>https://blog.naver.com/cmdsc809/222863508877</td>\n",
       "      <td>다시 짧은 시간이 지났고,\\n바람이 불었고,\\n그렇게 앉아있는 동안\\n나는 내가 이...</td>\n",
       "    </tr>\n",
       "    <tr>\n",
       "      <th>3</th>\n",
       "      <td>https://blog.naver.com/san1917/222863508568</td>\n",
       "      <td>멜크수도원\\n멜크수도원\\n2014년 4월 22일~2014년 5월2일\\n베네룩스 3국...</td>\n",
       "    </tr>\n",
       "    <tr>\n",
       "      <th>4</th>\n",
       "      <td>https://blog.naver.com/hnmh2332/222863508119</td>\n",
       "      <td>추석연휴 놀러 갈만한곳 강원도 여행 평창 청옥산 육백마지기\\n글&amp;사진 : 초록바다 ...</td>\n",
       "    </tr>\n",
       "    <tr>\n",
       "      <th>...</th>\n",
       "      <td>...</td>\n",
       "      <td>...</td>\n",
       "    </tr>\n",
       "    <tr>\n",
       "      <th>10464</th>\n",
       "      <td>https://blog.naver.com/binbin803803/222849654041</td>\n",
       "      <td>전라도 보성으로 보성CC 1박2일골프 라운딩\\n안녕하세요. 오늘은 전라도 보성의 골...</td>\n",
       "    </tr>\n",
       "    <tr>\n",
       "      <th>10465</th>\n",
       "      <td>https://blog.naver.com/ljb200350/222840503784</td>\n",
       "      <td>- 더 발전하여 새롭게 시작하는 The ROUTE', 이번에 다룰 노선은 김포 90...</td>\n",
       "    </tr>\n",
       "    <tr>\n",
       "      <th>10466</th>\n",
       "      <td>https://blog.naver.com/hinesiodi34/222849650661</td>\n",
       "      <td>블로그\\n게시판 52개의 글\\n게시판\\n목록열기\\n게시판\\n밤의 좋은 영양성분들과 ...</td>\n",
       "    </tr>\n",
       "    <tr>\n",
       "      <th>10467</th>\n",
       "      <td>https://blog.naver.com/zerg567890/222849647869</td>\n",
       "      <td>© sommi, 출처 Unsplash\\n0. 랩틸리언 반론글에서 신화로\\n최근에 지...</td>\n",
       "    </tr>\n",
       "    <tr>\n",
       "      <th>10468</th>\n",
       "      <td>https://blog.naver.com/ujoahea/222849647351</td>\n",
       "      <td>안녕하세요, 책을 좋아하는 빛과소금이 마미 디아나입니다 :) 광복절 연휴 잘 보내셨...</td>\n",
       "    </tr>\n",
       "  </tbody>\n",
       "</table>\n",
       "<p>10469 rows × 2 columns</p>\n",
       "</div>"
      ],
      "text/plain": [
       "                                                    url  \\\n",
       "0       https://blog.naver.com/smileseosin/222863511415   \n",
       "1             https://blog.naver.com/bluex/222863510213   \n",
       "2          https://blog.naver.com/cmdsc809/222863508877   \n",
       "3           https://blog.naver.com/san1917/222863508568   \n",
       "4          https://blog.naver.com/hnmh2332/222863508119   \n",
       "...                                                 ...   \n",
       "10464  https://blog.naver.com/binbin803803/222849654041   \n",
       "10465     https://blog.naver.com/ljb200350/222840503784   \n",
       "10466   https://blog.naver.com/hinesiodi34/222849650661   \n",
       "10467    https://blog.naver.com/zerg567890/222849647869   \n",
       "10468       https://blog.naver.com/ujoahea/222849647351   \n",
       "\n",
       "                                                      본문  \n",
       "0      50m\\n© NAVER Corp.\\n송천도서관\\n전라북도 전주시 덕진구 솔내로 21...  \n",
       "1      즐거운 책 놀이터\\n독서교육 강사 이숙영입니다.\\n어느 새 무더운 여름이 지나고\\n...  \n",
       "2      다시 짧은 시간이 지났고,\\n바람이 불었고,\\n그렇게 앉아있는 동안\\n나는 내가 이...  \n",
       "3      멜크수도원\\n멜크수도원\\n2014년 4월 22일~2014년 5월2일\\n베네룩스 3국...  \n",
       "4      추석연휴 놀러 갈만한곳 강원도 여행 평창 청옥산 육백마지기\\n글&사진 : 초록바다 ...  \n",
       "...                                                  ...  \n",
       "10464  전라도 보성으로 보성CC 1박2일골프 라운딩\\n안녕하세요. 오늘은 전라도 보성의 골...  \n",
       "10465  - 더 발전하여 새롭게 시작하는 The ROUTE', 이번에 다룰 노선은 김포 90...  \n",
       "10466  블로그\\n게시판 52개의 글\\n게시판\\n목록열기\\n게시판\\n밤의 좋은 영양성분들과 ...  \n",
       "10467  © sommi, 출처 Unsplash\\n0. 랩틸리언 반론글에서 신화로\\n최근에 지...  \n",
       "10468  안녕하세요, 책을 좋아하는 빛과소금이 마미 디아나입니다 :) 광복절 연휴 잘 보내셨...  \n",
       "\n",
       "[10469 rows x 2 columns]"
      ]
     },
     "execution_count": 15,
     "metadata": {},
     "output_type": "execute_result"
    }
   ],
   "source": [
    "df"
   ]
  },
  {
   "cell_type": "code",
   "execution_count": 16,
   "id": "0eb26bf0",
   "metadata": {},
   "outputs": [],
   "source": [
    "df.to_csv(\"./나무문화/2022/나무문화_본문_2022_8월.csv\", index=False, encoding='UTF-8')"
   ]
  }
 ],
 "metadata": {
  "kernelspec": {
   "display_name": "Python 3.8.0 ('NIFS')",
   "language": "python",
   "name": "python3"
  },
  "language_info": {
   "codemirror_mode": {
    "name": "ipython",
    "version": 3
   },
   "file_extension": ".py",
   "mimetype": "text/x-python",
   "name": "python",
   "nbconvert_exporter": "python",
   "pygments_lexer": "ipython3",
   "version": "3.8.0"
  },
  "vscode": {
   "interpreter": {
    "hash": "ef870b4feb386425c661b7ebcadef1c9affb03996f900964fa02bf03ee560957"
   }
  }
 },
 "nbformat": 4,
 "nbformat_minor": 5
}
