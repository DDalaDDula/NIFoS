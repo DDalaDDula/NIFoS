{
 "cells": [
  {
   "cell_type": "markdown",
   "id": "db7b5304",
   "metadata": {},
   "source": [
    "# 본문 스크래핑"
   ]
  },
  {
   "cell_type": "code",
   "execution_count": 1,
   "id": "5aeccafe",
   "metadata": {},
   "outputs": [],
   "source": [
    "import pandas as pd\n",
    "import numpy as np\n",
    "import time\n",
    "from tqdm import tqdm\n",
    "import random\n",
    "import urllib.request\n",
    "from selenium.common.exceptions import NoSuchElementException, UnexpectedAlertPresentException, TimeoutException\n",
    "from selenium import webdriver\n",
    "from selenium.webdriver.common.by import By\n",
    "# import chromedriver_auto\n",
    "\n",
    "\n",
    "# 웹드라이버 설정\n",
    "options = webdriver.ChromeOptions()\n",
    "options.add_experimental_option(\"excludeSwitches\", [\"enable-automation\"])\n",
    "options.add_experimental_option(\"useAutomationExtension\", False)\n",
    "options.add_argument('headless') # 창 숨기기"
   ]
  },
  {
   "cell_type": "code",
   "execution_count": 11,
   "id": "990973ce",
   "metadata": {},
   "outputs": [],
   "source": [
    "# from user_agent import generate_user_agent, generate_navigator\n",
    "\n",
    "# print(generate_user_agent(device_type='desktop'))\n",
    "# print(generate_user_agent(os='win', device_type='desktop'))\n",
    "\n",
    "# navigator = generate_navigator()\n",
    "\n",
    "# random_user = generate_user_agent(os='win', device_type='desktop')\n",
    "# print(random_user)"
   ]
  },
  {
   "cell_type": "code",
   "execution_count": 2,
   "id": "36c7dea6",
   "metadata": {},
   "outputs": [],
   "source": [
    "from selenium.webdriver.chrome.options import Options\n",
    "\n",
    "# chrome_options = Options()\n",
    "# chrome_options.add_argument(random_user)\n",
    "driver = webdriver.Chrome(executable_path ='../chromedriver_win32/chromedriver.exe',options = options)\n",
    "\n",
    "#driver.maximize_window()\n",
    "driver.get(\"https://www.naver.com/\")\n",
    "driver.implicitly_wait(10)\n"
   ]
  },
  {
   "cell_type": "code",
   "execution_count": 3,
   "id": "e4e6f57e",
   "metadata": {},
   "outputs": [
    {
     "name": "stdout",
     "output_type": "stream",
     "text": [
      "(20028, 3) Index(['url', 'title', 'date'], dtype='object')\n"
     ]
    },
    {
     "data": {
      "text/html": [
       "<div>\n",
       "<style scoped>\n",
       "    .dataframe tbody tr th:only-of-type {\n",
       "        vertical-align: middle;\n",
       "    }\n",
       "\n",
       "    .dataframe tbody tr th {\n",
       "        vertical-align: top;\n",
       "    }\n",
       "\n",
       "    .dataframe thead th {\n",
       "        text-align: right;\n",
       "    }\n",
       "</style>\n",
       "<table border=\"1\" class=\"dataframe\">\n",
       "  <thead>\n",
       "    <tr style=\"text-align: right;\">\n",
       "      <th></th>\n",
       "      <th>url</th>\n",
       "      <th>title</th>\n",
       "      <th>date</th>\n",
       "    </tr>\n",
       "  </thead>\n",
       "  <tbody>\n",
       "    <tr>\n",
       "      <th>0</th>\n",
       "      <td>https://blog.naver.com/plumtreelee-/222888764192</td>\n",
       "      <td>2022 정조대왕 능행차 공동재현(서울 구간 축제소개/일정...</td>\n",
       "      <td>2022.09.30.</td>\n",
       "    </tr>\n",
       "    <tr>\n",
       "      <th>1</th>\n",
       "      <td>https://blog.naver.com/kimjihye525/222888763332</td>\n",
       "      <td>[전주야경] 덕진공원 &amp; 카페한올 - 가을밤 산책코스</td>\n",
       "      <td>2022.09.30.</td>\n",
       "    </tr>\n",
       "    <tr>\n",
       "      <th>2</th>\n",
       "      <td>https://blog.naver.com/iland2279/222888762836</td>\n",
       "      <td>가을의 문지기 9월의 아라반</td>\n",
       "      <td>2022.09.30.</td>\n",
       "    </tr>\n",
       "    <tr>\n",
       "      <th>3</th>\n",
       "      <td>https://blog.naver.com/aceyun88/222888760839</td>\n",
       "      <td>정남진 장흥 여행 특산물, 귀족호도박물관,귀족호도를 아시나요?</td>\n",
       "      <td>2022.09.30.</td>\n",
       "    </tr>\n",
       "    <tr>\n",
       "      <th>4</th>\n",
       "      <td>https://blog.naver.com/numain64/222888760244</td>\n",
       "      <td>살기 싫어질때 가는 여행, 순천으로 가세요 (시즌 2)</td>\n",
       "      <td>2022.09.30.</td>\n",
       "    </tr>\n",
       "    <tr>\n",
       "      <th>...</th>\n",
       "      <td>...</td>\n",
       "      <td>...</td>\n",
       "      <td>...</td>\n",
       "    </tr>\n",
       "    <tr>\n",
       "      <th>20023</th>\n",
       "      <td>https://blog.naver.com/white7987/222863513830</td>\n",
       "      <td>영월 갈만한 곳 | 영월 관광센터 | 미디어 전시 | 문화도시 영월</td>\n",
       "      <td>2022.09.01.</td>\n",
       "    </tr>\n",
       "    <tr>\n",
       "      <th>20024</th>\n",
       "      <td>https://blog.naver.com/educationstar/222863308779</td>\n",
       "      <td>에너지 절약하면서 돈도 벌 수 있는 에코마일리지와...</td>\n",
       "      <td>2022.09.01.</td>\n",
       "    </tr>\n",
       "    <tr>\n",
       "      <th>20025</th>\n",
       "      <td>https://blog.naver.com/jang5071/222836825788</td>\n",
       "      <td>마음속의 마음 7장 4절</td>\n",
       "      <td>2022.09.01.</td>\n",
       "    </tr>\n",
       "    <tr>\n",
       "      <th>20026</th>\n",
       "      <td>https://blog.naver.com/soyoonchun1002/22286025...</td>\n",
       "      <td>명절에 제사를 지내야할까?</td>\n",
       "      <td>2022.09.01.</td>\n",
       "    </tr>\n",
       "    <tr>\n",
       "      <th>20027</th>\n",
       "      <td>https://blog.naver.com/amyangela/222863464891</td>\n",
       "      <td>창덕궁 달빛기행 야간개장 하반기 1차 2차 예약방법 일정...</td>\n",
       "      <td>2022.09.01.</td>\n",
       "    </tr>\n",
       "  </tbody>\n",
       "</table>\n",
       "<p>20028 rows × 3 columns</p>\n",
       "</div>"
      ],
      "text/plain": [
       "                                                     url  \\\n",
       "0       https://blog.naver.com/plumtreelee-/222888764192   \n",
       "1        https://blog.naver.com/kimjihye525/222888763332   \n",
       "2          https://blog.naver.com/iland2279/222888762836   \n",
       "3           https://blog.naver.com/aceyun88/222888760839   \n",
       "4           https://blog.naver.com/numain64/222888760244   \n",
       "...                                                  ...   \n",
       "20023      https://blog.naver.com/white7987/222863513830   \n",
       "20024  https://blog.naver.com/educationstar/222863308779   \n",
       "20025       https://blog.naver.com/jang5071/222836825788   \n",
       "20026  https://blog.naver.com/soyoonchun1002/22286025...   \n",
       "20027      https://blog.naver.com/amyangela/222863464891   \n",
       "\n",
       "                                       title         date  \n",
       "0        2022 정조대왕 능행차 공동재현(서울 구간 축제소개/일정...  2022.09.30.  \n",
       "1              [전주야경] 덕진공원 & 카페한올 - 가을밤 산책코스  2022.09.30.  \n",
       "2                            가을의 문지기 9월의 아라반  2022.09.30.  \n",
       "3         정남진 장흥 여행 특산물, 귀족호도박물관,귀족호도를 아시나요?  2022.09.30.  \n",
       "4             살기 싫어질때 가는 여행, 순천으로 가세요 (시즌 2)  2022.09.30.  \n",
       "...                                      ...          ...  \n",
       "20023  영월 갈만한 곳 | 영월 관광센터 | 미디어 전시 | 문화도시 영월  2022.09.01.  \n",
       "20024         에너지 절약하면서 돈도 벌 수 있는 에코마일리지와...  2022.09.01.  \n",
       "20025                          마음속의 마음 7장 4절  2022.09.01.  \n",
       "20026                         명절에 제사를 지내야할까?  2022.09.01.  \n",
       "20027     창덕궁 달빛기행 야간개장 하반기 1차 2차 예약방법 일정...  2022.09.01.  \n",
       "\n",
       "[20028 rows x 3 columns]"
      ]
     },
     "execution_count": 3,
     "metadata": {},
     "output_type": "execute_result"
    }
   ],
   "source": [
    "url_df = pd.read_csv(\"../dataset/2022/링크_크롤링/나무문화_링크_2022_9월.csv\", encoding='UTF-8')\n",
    "print(url_df.shape, url_df.columns)\n",
    "url_df\n"
   ]
  },
  {
   "cell_type": "code",
   "execution_count": 4,
   "id": "892b0519",
   "metadata": {},
   "outputs": [
    {
     "name": "stdout",
     "output_type": "stream",
     "text": [
      "20028\n"
     ]
    }
   ],
   "source": [
    "blog_links = url_df['url'].to_list()\n",
    "print(len(blog_links))\n"
   ]
  },
  {
   "cell_type": "code",
   "execution_count": 8,
   "id": "865be6f4",
   "metadata": {},
   "outputs": [],
   "source": [
    "df = pd.DataFrame(columns = ['url','본문']) # 처음 만들때를 위한 코드라 주석처리 하였음.\n",
    "# df.to_csv(\"../dataset/2022/본문_크롤링/나무문화_본문_2022_9월.csv\", index=False, encoding='UTF-8')\n",
    "# df.to_excel(\"../나무문화/2022/나무문화_본문_2022_9월.xlsx\", index=False, encoding='UTF-8')"
   ]
  },
  {
   "cell_type": "code",
   "execution_count": 5,
   "id": "7e6127c6",
   "metadata": {},
   "outputs": [
    {
     "data": {
      "text/html": [
       "<div>\n",
       "<style scoped>\n",
       "    .dataframe tbody tr th:only-of-type {\n",
       "        vertical-align: middle;\n",
       "    }\n",
       "\n",
       "    .dataframe tbody tr th {\n",
       "        vertical-align: top;\n",
       "    }\n",
       "\n",
       "    .dataframe thead th {\n",
       "        text-align: right;\n",
       "    }\n",
       "</style>\n",
       "<table border=\"1\" class=\"dataframe\">\n",
       "  <thead>\n",
       "    <tr style=\"text-align: right;\">\n",
       "      <th></th>\n",
       "      <th>url</th>\n",
       "      <th>본문</th>\n",
       "    </tr>\n",
       "  </thead>\n",
       "  <tbody>\n",
       "    <tr>\n",
       "      <th>0</th>\n",
       "      <td>https://blog.naver.com/plumtreelee-/222888764192</td>\n",
       "      <td>#2022정조대왕능행차공동재현 #정조대왕능행차\\n2022 정조대왕 능행차 공동재현\\...</td>\n",
       "    </tr>\n",
       "    <tr>\n",
       "      <th>1</th>\n",
       "      <td>https://blog.naver.com/kimjihye525/222888763332</td>\n",
       "      <td>연꽃이 필때 와보고싶었지만\\n더위에 약한 나는 이제서야 ...\\n경기장튀김덕에 그래...</td>\n",
       "    </tr>\n",
       "    <tr>\n",
       "      <th>2</th>\n",
       "      <td>https://blog.naver.com/iland2279/222888762836</td>\n",
       "      <td>가을은 변화가 아름다울 수 있다는 것을\\n가르쳐주는 계절이라고 합니다.\\n여름의 뜨...</td>\n",
       "    </tr>\n",
       "    <tr>\n",
       "      <th>3</th>\n",
       "      <td>https://blog.naver.com/aceyun88/222888760839</td>\n",
       "      <td>🚩정남진 장흥 여행 특산물, 귀족호도박물관,귀족호도를 아시나요?\\n📌먼저 #정남진장...</td>\n",
       "    </tr>\n",
       "    <tr>\n",
       "      <th>4</th>\n",
       "      <td>https://blog.naver.com/numain64/222888760244</td>\n",
       "      <td>우린 보성녹차를 왔다...\\n드라마촬영지를 포기하고 여기를 왔다.\\n이번에는 자연을...</td>\n",
       "    </tr>\n",
       "    <tr>\n",
       "      <th>...</th>\n",
       "      <td>...</td>\n",
       "      <td>...</td>\n",
       "    </tr>\n",
       "    <tr>\n",
       "      <th>20023</th>\n",
       "      <td>https://blog.naver.com/white7987/222863513830</td>\n",
       "      <td>준이의 생일날. 아침에 미역국도 먹고 추카추카 후 행사를 진행했지만 유치원에 다녀온...</td>\n",
       "    </tr>\n",
       "    <tr>\n",
       "      <th>20024</th>\n",
       "      <td>https://blog.naver.com/educationstar/222863308779</td>\n",
       "      <td>안녕하세요. 행복한 재테크 라이프를 기록하는 잴라프입니다:) 이번 포스팅은 알아두면...</td>\n",
       "    </tr>\n",
       "    <tr>\n",
       "      <th>20025</th>\n",
       "      <td>https://blog.naver.com/jang5071/222836825788</td>\n",
       "      <td>눈앞에 펼쳐진 광경을 어떻게 말하면 잘 표현했다고 할 수 있을까?\\n눈앞에 펼쳐진 ...</td>\n",
       "    </tr>\n",
       "    <tr>\n",
       "      <th>20026</th>\n",
       "      <td>https://blog.naver.com/soyoonchun1002/22286025...</td>\n",
       "      <td>명절에 제사를 지내야 한다.\\n옛 시대부터 전세계에서는 조상(어버이 위로 대대의 어...</td>\n",
       "    </tr>\n",
       "    <tr>\n",
       "      <th>20027</th>\n",
       "      <td>https://blog.naver.com/amyangela/222863464891</td>\n",
       "      <td>안녕하세요 여행인플루언서 태운입니다!\\n드디어 오늘 9월1일 창덕궁 야간개장인 달빛...</td>\n",
       "    </tr>\n",
       "  </tbody>\n",
       "</table>\n",
       "<p>20028 rows × 2 columns</p>\n",
       "</div>"
      ],
      "text/plain": [
       "                                                     url  \\\n",
       "0       https://blog.naver.com/plumtreelee-/222888764192   \n",
       "1        https://blog.naver.com/kimjihye525/222888763332   \n",
       "2          https://blog.naver.com/iland2279/222888762836   \n",
       "3           https://blog.naver.com/aceyun88/222888760839   \n",
       "4           https://blog.naver.com/numain64/222888760244   \n",
       "...                                                  ...   \n",
       "20023      https://blog.naver.com/white7987/222863513830   \n",
       "20024  https://blog.naver.com/educationstar/222863308779   \n",
       "20025       https://blog.naver.com/jang5071/222836825788   \n",
       "20026  https://blog.naver.com/soyoonchun1002/22286025...   \n",
       "20027      https://blog.naver.com/amyangela/222863464891   \n",
       "\n",
       "                                                      본문  \n",
       "0      #2022정조대왕능행차공동재현 #정조대왕능행차\\n2022 정조대왕 능행차 공동재현\\...  \n",
       "1      연꽃이 필때 와보고싶었지만\\n더위에 약한 나는 이제서야 ...\\n경기장튀김덕에 그래...  \n",
       "2      가을은 변화가 아름다울 수 있다는 것을\\n가르쳐주는 계절이라고 합니다.\\n여름의 뜨...  \n",
       "3      🚩정남진 장흥 여행 특산물, 귀족호도박물관,귀족호도를 아시나요?\\n📌먼저 #정남진장...  \n",
       "4      우린 보성녹차를 왔다...\\n드라마촬영지를 포기하고 여기를 왔다.\\n이번에는 자연을...  \n",
       "...                                                  ...  \n",
       "20023  준이의 생일날. 아침에 미역국도 먹고 추카추카 후 행사를 진행했지만 유치원에 다녀온...  \n",
       "20024  안녕하세요. 행복한 재테크 라이프를 기록하는 잴라프입니다:) 이번 포스팅은 알아두면...  \n",
       "20025  눈앞에 펼쳐진 광경을 어떻게 말하면 잘 표현했다고 할 수 있을까?\\n눈앞에 펼쳐진 ...  \n",
       "20026  명절에 제사를 지내야 한다.\\n옛 시대부터 전세계에서는 조상(어버이 위로 대대의 어...  \n",
       "20027  안녕하세요 여행인플루언서 태운입니다!\\n드디어 오늘 9월1일 창덕궁 야간개장인 달빛...  \n",
       "\n",
       "[20028 rows x 2 columns]"
      ]
     },
     "execution_count": 5,
     "metadata": {},
     "output_type": "execute_result"
    }
   ],
   "source": [
    "import pandas as pd\n",
    "df = pd.read_csv(\"../dataset/2022/본문_크롤링/나무문화_본문_2022_9월.csv\", encoding='UTF-8')\n",
    "df"
   ]
  },
  {
   "cell_type": "code",
   "execution_count": 9,
   "id": "0504acf1",
   "metadata": {},
   "outputs": [
    {
     "data": {
      "text/plain": [
       "0"
      ]
     },
     "execution_count": 9,
     "metadata": {},
     "output_type": "execute_result"
    }
   ],
   "source": [
    "len(df)"
   ]
  },
  {
   "cell_type": "code",
   "execution_count": 9,
   "id": "7009d198",
   "metadata": {},
   "outputs": [
    {
     "data": {
      "text/plain": [
       "url        https://blog.naver.com/venice87/222874141271\n",
       "title    2023 아이테르 AITHER 전시 공모 (2022-09-14~2023-01-31)\n",
       "date                                        2022.09.14.\n",
       "Name: 11603, dtype: object"
      ]
     },
     "execution_count": 9,
     "metadata": {},
     "output_type": "execute_result"
    }
   ],
   "source": [
    "url_df.iloc[11603]"
   ]
  },
  {
   "cell_type": "code",
   "execution_count": 7,
   "id": "48ecfa11",
   "metadata": {},
   "outputs": [
    {
     "data": {
      "text/plain": [
       "url    0\n",
       "본문     1\n",
       "dtype: int64"
      ]
     },
     "execution_count": 7,
     "metadata": {},
     "output_type": "execute_result"
    }
   ],
   "source": [
    "df.isnull().sum()"
   ]
  },
  {
   "cell_type": "code",
   "execution_count": 16,
   "id": "3d3aad2b",
   "metadata": {},
   "outputs": [
    {
     "name": "stderr",
     "output_type": "stream",
     "text": [
      "C:\\Users\\user\\AppData\\Local\\Temp\\ipykernel_5876\\2516576624.py:4: FutureWarning: The frame.append method is deprecated and will be removed from pandas in a future version. Use pandas.concat instead.\n",
      "  df = df.append(additional_df, ignore_index = True)\n"
     ]
    }
   ],
   "source": [
    "# # 이건 필요할때 쓰면 됨. 블로그가 닫혔거나 삭제되었을때 빈 본문을 가진 데이터프레임 추가.\n",
    "# content_dic = {'url' : [\"https://blog.naver.com/fbi8864/221998085418\"], '본문' : [None]}\n",
    "# additional_df = pd.DataFrame(content_dic)\n",
    "# df = df.append(additional_df, ignore_index = True)"
   ]
  },
  {
   "cell_type": "code",
   "execution_count": 10,
   "id": "7bfeb2ec",
   "metadata": {
    "scrolled": true
   },
   "outputs": [
    {
     "name": "stderr",
     "output_type": "stream",
     "text": [
      "  0%|          | 0/20028 [00:00<?, ?it/s]C:\\Users\\user\\AppData\\Local\\Temp\\ipykernel_2948\\2113276634.py:35: FutureWarning: The frame.append method is deprecated and will be removed from pandas in a future version. Use pandas.concat instead.\n",
      "  df = df.append(additional_df, ignore_index = True)\n",
      "  0%|          | 1/20028 [00:05<32:13:29,  5.79s/it]C:\\Users\\user\\AppData\\Local\\Temp\\ipykernel_2948\\2113276634.py:35: FutureWarning: The frame.append method is deprecated and will be removed from pandas in a future version. Use pandas.concat instead.\n",
      "  df = df.append(additional_df, ignore_index = True)\n",
      "  0%|          | 2/20028 [00:10<30:16:46,  5.44s/it]C:\\Users\\user\\AppData\\Local\\Temp\\ipykernel_2948\\2113276634.py:35: FutureWarning: The frame.append method is deprecated and will be removed from pandas in a future version. Use pandas.concat instead.\n",
      "  df = df.append(additional_df, ignore_index = True)\n",
      "  0%|          | 3/20028 [00:20<38:48:38,  6.98s/it]\n"
     ]
    },
    {
     "ename": "KeyboardInterrupt",
     "evalue": "",
     "output_type": "error",
     "traceback": [
      "\u001b[1;31m---------------------------------------------------------------------------\u001b[0m",
      "\u001b[1;31mKeyboardInterrupt\u001b[0m                         Traceback (most recent call last)",
      "Cell \u001b[1;32mIn[10], line 12\u001b[0m\n\u001b[0;32m     10\u001b[0m driver\u001b[39m.\u001b[39mget(i)\n\u001b[0;32m     11\u001b[0m driver\u001b[39m.\u001b[39mimplicitly_wait(\u001b[39m10\u001b[39m)\n\u001b[1;32m---> 12\u001b[0m time\u001b[39m.\u001b[39;49msleep(waitsec)\n\u001b[0;32m     13\u001b[0m \u001b[39mtry\u001b[39;00m:\n\u001b[0;32m     14\u001b[0m     driver\u001b[39m.\u001b[39mswitch_to\u001b[39m.\u001b[39mframe(\u001b[39m\"\u001b[39m\u001b[39mmainFrame\u001b[39m\u001b[39m\"\u001b[39m)\n",
      "\u001b[1;31mKeyboardInterrupt\u001b[0m: "
     ]
    }
   ],
   "source": [
    "#### 삭제/비공개 링크 인덱스도 매번 바꿔줄 것!!! ###\n",
    "# contents = []\n",
    "# old_blogs = []\n",
    "hide_link = []\n",
    "waitsec = random.uniform(4,4.5)\n",
    "\n",
    "for i in tqdm(blog_links[len(df):]):\n",
    "    content_dic = {'url' : [], '본문' : []}\n",
    "    content_dic['url'].append(i)\n",
    "    driver.get(i)\n",
    "    driver.implicitly_wait(10)\n",
    "    time.sleep(waitsec)\n",
    "    try:\n",
    "        driver.switch_to.frame(\"mainFrame\")\n",
    "    except TimeoutException as e:\n",
    "        print('시간 초과 오류 : ', e)\n",
    "        content_dic['본문'].append('수집불가능')\n",
    "    except UnexpectedAlertPresentException as e:\n",
    "    ### 이 오류 해결함. 에러 코드 파일에서 직접 임포트하면 된다!\n",
    "        print(e)\n",
    "        # 여기도 바꿔야 함\n",
    "        print('{}번째 게시글은 비공개로 전환되었거나 게시판이 바뀜.'.format(blog_links.index(i)))\n",
    "        hide_link.append(i)\n",
    "        time.sleep(1.5)\n",
    "        driver.switch_to.frame('mainFrame')\n",
    "    try:\n",
    "        a = driver.find_element(By.CSS_SELECTOR,'div.se-main-container').text\n",
    "        content_dic['본문'].append(a)\n",
    "    # NoSuchElement 오류시 예외처리(구버전 블로그에 적용)\n",
    "    except NoSuchElementException:\n",
    "        a = driver.find_element(By.CSS_SELECTOR,'div#content-area').text\n",
    "        content_dic['본문'].append(a)\n",
    "        #old_blogs.append(i)\n",
    "    additional_df = pd.DataFrame(content_dic)\n",
    "    df = df.append(additional_df, ignore_index = True)\n",
    "    #df.to_csv(\"../dataset/2022/본문_크롤링/나무문화_본문_2022_9월.csv\", index=False, encoding='UTF-8')\n",
    "    #df.to_excel(\"./나무문화/2022/나무문화_본문_2022_9월.xlsx\", index=False, encoding='UTF-8')\n",
    "    # if blog_links.index(i) != df['본문'].tolist().index(a):\n",
    "    #     break\n"
   ]
  },
  {
   "cell_type": "code",
   "execution_count": 11,
   "id": "febb389f",
   "metadata": {},
   "outputs": [
    {
     "data": {
      "text/html": [
       "<div>\n",
       "<style scoped>\n",
       "    .dataframe tbody tr th:only-of-type {\n",
       "        vertical-align: middle;\n",
       "    }\n",
       "\n",
       "    .dataframe tbody tr th {\n",
       "        vertical-align: top;\n",
       "    }\n",
       "\n",
       "    .dataframe thead th {\n",
       "        text-align: right;\n",
       "    }\n",
       "</style>\n",
       "<table border=\"1\" class=\"dataframe\">\n",
       "  <thead>\n",
       "    <tr style=\"text-align: right;\">\n",
       "      <th></th>\n",
       "      <th>url</th>\n",
       "      <th>본문</th>\n",
       "    </tr>\n",
       "  </thead>\n",
       "  <tbody>\n",
       "    <tr>\n",
       "      <th>0</th>\n",
       "      <td>https://blog.naver.com/plumtreelee-/222888764192</td>\n",
       "      <td>#2022정조대왕능행차공동재현 #정조대왕능행차\\n2022 정조대왕 능행차 공동재현\\...</td>\n",
       "    </tr>\n",
       "    <tr>\n",
       "      <th>1</th>\n",
       "      <td>https://blog.naver.com/kimjihye525/222888763332</td>\n",
       "      <td>연꽃이 필때 와보고싶었지만\\n더위에 약한 나는 이제서야 ...\\n경기장튀김덕에 그래...</td>\n",
       "    </tr>\n",
       "    <tr>\n",
       "      <th>2</th>\n",
       "      <td>https://blog.naver.com/iland2279/222888762836</td>\n",
       "      <td>가을은 변화가 아름다울 수 있다는 것을\\n가르쳐주는 계절이라고 합니다.\\n여름의 뜨...</td>\n",
       "    </tr>\n",
       "  </tbody>\n",
       "</table>\n",
       "</div>"
      ],
      "text/plain": [
       "                                                url  \\\n",
       "0  https://blog.naver.com/plumtreelee-/222888764192   \n",
       "1   https://blog.naver.com/kimjihye525/222888763332   \n",
       "2     https://blog.naver.com/iland2279/222888762836   \n",
       "\n",
       "                                                  본문  \n",
       "0  #2022정조대왕능행차공동재현 #정조대왕능행차\\n2022 정조대왕 능행차 공동재현\\...  \n",
       "1  연꽃이 필때 와보고싶었지만\\n더위에 약한 나는 이제서야 ...\\n경기장튀김덕에 그래...  \n",
       "2  가을은 변화가 아름다울 수 있다는 것을\\n가르쳐주는 계절이라고 합니다.\\n여름의 뜨...  "
      ]
     },
     "execution_count": 11,
     "metadata": {},
     "output_type": "execute_result"
    }
   ],
   "source": [
    "df"
   ]
  }
 ],
 "metadata": {
  "kernelspec": {
   "display_name": "Python 3.8.0 ('NIFS')",
   "language": "python",
   "name": "python3"
  },
  "language_info": {
   "codemirror_mode": {
    "name": "ipython",
    "version": 3
   },
   "file_extension": ".py",
   "mimetype": "text/x-python",
   "name": "python",
   "nbconvert_exporter": "python",
   "pygments_lexer": "ipython3",
   "version": "3.8.0"
  },
  "vscode": {
   "interpreter": {
    "hash": "ef870b4feb386425c661b7ebcadef1c9affb03996f900964fa02bf03ee560957"
   }
  }
 },
 "nbformat": 4,
 "nbformat_minor": 5
}
