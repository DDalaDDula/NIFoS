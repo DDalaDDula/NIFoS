{
 "cells": [
  {
   "cell_type": "markdown",
   "id": "db7b5304",
   "metadata": {},
   "source": [
    "# 본문 스크래핑"
   ]
  },
  {
   "cell_type": "code",
   "execution_count": 1,
   "id": "88f269e2",
   "metadata": {},
   "outputs": [],
   "source": [
    "import pandas as pd\n",
    "import time\n",
    "from tqdm.notebook import tqdm\n",
    "import random\n",
    "from selenium.common.exceptions import NoSuchElementException, UnexpectedAlertPresentException, TimeoutException\n",
    "from selenium import webdriver\n",
    "from selenium.webdriver.common.by import By\n",
    "# import chromedriver_auto\n",
    "\n",
    "\n",
    "# 웹드라이버 설정\n",
    "options = webdriver.ChromeOptions()\n",
    "options.add_experimental_option(\"excludeSwitches\", [\"enable-automation\"])\n",
    "options.add_experimental_option(\"useAutomationExtension\", False)\n",
    "options.add_argument('headless') # 창 숨기기\n"
   ]
  },
  {
   "cell_type": "code",
   "execution_count": 2,
   "id": "990973ce",
   "metadata": {},
   "outputs": [],
   "source": [
    "# from user_agent import generate_user_agent, generate_navigator\n",
    "\n",
    "# print(generate_user_agent(device_type='desktop'))\n",
    "# print(generate_user_agent(os='win', device_type='desktop'))\n",
    "\n",
    "# navigator = generate_navigator()\n",
    "\n",
    "# random_user = generate_user_agent(os='win', device_type='desktop')\n",
    "# print(random_user)"
   ]
  },
  {
   "cell_type": "code",
   "execution_count": 3,
   "id": "36c7dea6",
   "metadata": {},
   "outputs": [],
   "source": [
    "from selenium.webdriver.chrome.options import Options\n",
    "\n",
    "# chrome_options = Options()\n",
    "# chrome_options.add_argument(random_user)\n",
    "driver = webdriver.Chrome(executable_path ='../chromedriver_win32/chromedriver.exe',options = options)\n",
    "\n",
    "driver.maximize_window()\n",
    "driver.get(\"https://www.naver.com/\")\n",
    "driver.implicitly_wait(10)\n"
   ]
  },
  {
   "cell_type": "code",
   "execution_count": 4,
   "id": "e4e6f57e",
   "metadata": {},
   "outputs": [
    {
     "name": "stdout",
     "output_type": "stream",
     "text": [
      "(11967, 3) Index(['url', 'title', 'date'], dtype='object')\n"
     ]
    },
    {
     "data": {
      "text/html": [
       "<div>\n",
       "<style scoped>\n",
       "    .dataframe tbody tr th:only-of-type {\n",
       "        vertical-align: middle;\n",
       "    }\n",
       "\n",
       "    .dataframe tbody tr th {\n",
       "        vertical-align: top;\n",
       "    }\n",
       "\n",
       "    .dataframe thead th {\n",
       "        text-align: right;\n",
       "    }\n",
       "</style>\n",
       "<table border=\"1\" class=\"dataframe\">\n",
       "  <thead>\n",
       "    <tr style=\"text-align: right;\">\n",
       "      <th></th>\n",
       "      <th>url</th>\n",
       "      <th>title</th>\n",
       "      <th>date</th>\n",
       "    </tr>\n",
       "  </thead>\n",
       "  <tbody>\n",
       "    <tr>\n",
       "      <th>0</th>\n",
       "      <td>https://blog.naver.com/ccalvados/222795576909</td>\n",
       "      <td>7월 개봉 예정 영화 10편! 신작 영화 추천</td>\n",
       "      <td>2022.06.30.</td>\n",
       "    </tr>\n",
       "    <tr>\n",
       "      <th>1</th>\n",
       "      <td>https://blog.naver.com/stepan5844/222795577522</td>\n",
       "      <td>[파니의 주간일기 #4] 6월 20일 ~ 6월 30일 / 캐논카메라 안녕!...</td>\n",
       "      <td>2022.06.30.</td>\n",
       "    </tr>\n",
       "    <tr>\n",
       "      <th>2</th>\n",
       "      <td>https://blog.naver.com/i_ipossible/222795577237</td>\n",
       "      <td>파주 출판도시 숙소 지지향에서 책에 둘러쌓인 북스테이 했어요</td>\n",
       "      <td>2022.06.30.</td>\n",
       "    </tr>\n",
       "    <tr>\n",
       "      <th>3</th>\n",
       "      <td>https://blog.naver.com/hyhan2028/222795577392</td>\n",
       "      <td>하남원데이미술 카페이볼브 아크릴화 체험권+음료</td>\n",
       "      <td>2022.06.30.</td>\n",
       "    </tr>\n",
       "    <tr>\n",
       "      <th>4</th>\n",
       "      <td>https://blog.naver.com/charnnant/222795577621</td>\n",
       "      <td>[마곡/발산] 비가 와도 가족/연인/친구와 같이 가면 좋은 실내...</td>\n",
       "      <td>2022.06.30.</td>\n",
       "    </tr>\n",
       "    <tr>\n",
       "      <th>...</th>\n",
       "      <td>...</td>\n",
       "      <td>...</td>\n",
       "      <td>...</td>\n",
       "    </tr>\n",
       "    <tr>\n",
       "      <th>11962</th>\n",
       "      <td>https://blog.naver.com/hsook0417/222754273924</td>\n",
       "      <td>신영복 평전</td>\n",
       "      <td>2022.06.01.</td>\n",
       "    </tr>\n",
       "    <tr>\n",
       "      <th>11963</th>\n",
       "      <td>https://blog.naver.com/flower_daltuium/2227542...</td>\n",
       "      <td>작은 화병 속의 틔움 숲 테라리움</td>\n",
       "      <td>2022.06.01.</td>\n",
       "    </tr>\n",
       "    <tr>\n",
       "      <th>11964</th>\n",
       "      <td>https://blog.naver.com/sohee10723/222754236890</td>\n",
       "      <td>춘천여행 : 당일치기 데이트코스, 반나절만에 춘천 한바퀴...</td>\n",
       "      <td>2022.06.01.</td>\n",
       "    </tr>\n",
       "    <tr>\n",
       "      <th>11965</th>\n",
       "      <td>https://blog.naver.com/poyang84/222754272099</td>\n",
       "      <td>열세 번째 세계유산 영주 부석사를 가다</td>\n",
       "      <td>2022.06.01.</td>\n",
       "    </tr>\n",
       "    <tr>\n",
       "      <th>11966</th>\n",
       "      <td>https://blog.naver.com/sheshow/222699446696</td>\n",
       "      <td>동아시아로의 이주(6)-석기대신 대나무를 사용한 동아시아인들</td>\n",
       "      <td>2022.06.01.</td>\n",
       "    </tr>\n",
       "  </tbody>\n",
       "</table>\n",
       "<p>11967 rows × 3 columns</p>\n",
       "</div>"
      ],
      "text/plain": [
       "                                                     url  \\\n",
       "0          https://blog.naver.com/ccalvados/222795576909   \n",
       "1         https://blog.naver.com/stepan5844/222795577522   \n",
       "2        https://blog.naver.com/i_ipossible/222795577237   \n",
       "3          https://blog.naver.com/hyhan2028/222795577392   \n",
       "4          https://blog.naver.com/charnnant/222795577621   \n",
       "...                                                  ...   \n",
       "11962      https://blog.naver.com/hsook0417/222754273924   \n",
       "11963  https://blog.naver.com/flower_daltuium/2227542...   \n",
       "11964     https://blog.naver.com/sohee10723/222754236890   \n",
       "11965       https://blog.naver.com/poyang84/222754272099   \n",
       "11966        https://blog.naver.com/sheshow/222699446696   \n",
       "\n",
       "                                              title         date  \n",
       "0                         7월 개봉 예정 영화 10편! 신작 영화 추천  2022.06.30.  \n",
       "1      [파니의 주간일기 #4] 6월 20일 ~ 6월 30일 / 캐논카메라 안녕!...  2022.06.30.  \n",
       "2                 파주 출판도시 숙소 지지향에서 책에 둘러쌓인 북스테이 했어요  2022.06.30.  \n",
       "3                         하남원데이미술 카페이볼브 아크릴화 체험권+음료  2022.06.30.  \n",
       "4            [마곡/발산] 비가 와도 가족/연인/친구와 같이 가면 좋은 실내...  2022.06.30.  \n",
       "...                                             ...          ...  \n",
       "11962                                        신영복 평전  2022.06.01.  \n",
       "11963                            작은 화병 속의 틔움 숲 테라리움  2022.06.01.  \n",
       "11964            춘천여행 : 당일치기 데이트코스, 반나절만에 춘천 한바퀴...  2022.06.01.  \n",
       "11965                         열세 번째 세계유산 영주 부석사를 가다  2022.06.01.  \n",
       "11966             동아시아로의 이주(6)-석기대신 대나무를 사용한 동아시아인들  2022.06.01.  \n",
       "\n",
       "[11967 rows x 3 columns]"
      ]
     },
     "execution_count": 4,
     "metadata": {},
     "output_type": "execute_result"
    }
   ],
   "source": [
    "url_df = pd.read_csv(\"../나무문화/2022/나무문화_링크_2022_6월.csv\", encoding='UTF-8')\n",
    "print(url_df.shape, url_df.columns)\n",
    "url_df\n"
   ]
  },
  {
   "cell_type": "code",
   "execution_count": 5,
   "id": "892b0519",
   "metadata": {},
   "outputs": [
    {
     "name": "stdout",
     "output_type": "stream",
     "text": [
      "11967\n"
     ]
    }
   ],
   "source": [
    "blog_links = url_df['url'].to_list()\n",
    "print(len(blog_links))\n"
   ]
  },
  {
   "cell_type": "code",
   "execution_count": 6,
   "id": "865be6f4",
   "metadata": {},
   "outputs": [],
   "source": [
    "# df = pd.DataFrame(columns = ['url','본문'])\n",
    "# df.to_csv(\"../나무문화/2022/나무문화_본문_2022_6월.csv\", index=False, encoding='UTF-8')\n",
    "# #df.to_excel(\"../나무문화/2020/나무문화_본문_2020_6월.xlsx\", index=False, encoding='UTF-8')"
   ]
  },
  {
   "cell_type": "code",
   "execution_count": 7,
   "id": "8f51c942",
   "metadata": {},
   "outputs": [
    {
     "data": {
      "text/html": [
       "<div>\n",
       "<style scoped>\n",
       "    .dataframe tbody tr th:only-of-type {\n",
       "        vertical-align: middle;\n",
       "    }\n",
       "\n",
       "    .dataframe tbody tr th {\n",
       "        vertical-align: top;\n",
       "    }\n",
       "\n",
       "    .dataframe thead th {\n",
       "        text-align: right;\n",
       "    }\n",
       "</style>\n",
       "<table border=\"1\" class=\"dataframe\">\n",
       "  <thead>\n",
       "    <tr style=\"text-align: right;\">\n",
       "      <th></th>\n",
       "      <th>url</th>\n",
       "      <th>본문</th>\n",
       "    </tr>\n",
       "  </thead>\n",
       "  <tbody>\n",
       "    <tr>\n",
       "      <th>0</th>\n",
       "      <td>https://blog.naver.com/ccalvados/222795576909</td>\n",
       "      <td>7월 개봉 예정 영화, 신작 영화추천\\n신작 영화 추천! 극장 개봉 예정 영화 7월...</td>\n",
       "    </tr>\n",
       "    <tr>\n",
       "      <th>1</th>\n",
       "      <td>https://blog.naver.com/stepan5844/222795577522</td>\n",
       "      <td>6월 20일\\n지인이 파니를 위해\\n카메라를 닦고 닦고 또 닦아\\n완전 새거처럼 만...</td>\n",
       "    </tr>\n",
       "    <tr>\n",
       "      <th>2</th>\n",
       "      <td>https://blog.naver.com/i_ipossible/222795577237</td>\n",
       "      <td>2박 3일 파주여행을 하고 온 담담!\\n이번 여행은 혼자 떠나기도했고\\n요즘 바쁘다...</td>\n",
       "    </tr>\n",
       "    <tr>\n",
       "      <th>3</th>\n",
       "      <td>https://blog.naver.com/hyhan2028/222795577392</td>\n",
       "      <td>안녕하세요 연쓰입니다. 오늘은 좀 특별한 이색카페를 다녀왔어요.\\n연쓰는 평소에 집...</td>\n",
       "    </tr>\n",
       "    <tr>\n",
       "      <th>4</th>\n",
       "      <td>https://blog.naver.com/charnnant/222795577621</td>\n",
       "      <td>⏰ 9:30 ~ 18:00\\n🚘 주차 가능\\n안녕하세요! 챠넷입니다 :D\\n장마가 ...</td>\n",
       "    </tr>\n",
       "    <tr>\n",
       "      <th>...</th>\n",
       "      <td>...</td>\n",
       "      <td>...</td>\n",
       "    </tr>\n",
       "    <tr>\n",
       "      <th>10557</th>\n",
       "      <td>https://blog.naver.com/honeytteok_/222769168536</td>\n",
       "      <td>블로그 오랜만이다👋\\n주간일기 쓰면서 다시 블로그 열심히해봐야겠다^^\\n(네이버포인...</td>\n",
       "    </tr>\n",
       "    <tr>\n",
       "      <th>10558</th>\n",
       "      <td>https://blog.naver.com/twistraight/222769165696</td>\n",
       "      <td>1\\n해가 떠 있는 시간에 집에 있었던 기념\\n어쩌다보니 1월에 근무부서를 옮기게 ...</td>\n",
       "    </tr>\n",
       "    <tr>\n",
       "      <th>10559</th>\n",
       "      <td>https://blog.naver.com/eozini/222769165867</td>\n",
       "      <td>2022. 6.6~6.11\\n남산 산책에 나섰다가 서울타워까지 성곽길 오르다보니 한...</td>\n",
       "    </tr>\n",
       "    <tr>\n",
       "      <th>10560</th>\n",
       "      <td>https://blog.naver.com/yoony700/222769166545</td>\n",
       "      <td>Wat Chalong\\n70 หมู่ที่ 6 Thanon Chao Fah Tawa...</td>\n",
       "    </tr>\n",
       "    <tr>\n",
       "      <th>10561</th>\n",
       "      <td>https://blog.naver.com/nnvo_ovnn/222768036482</td>\n",
       "      <td>보라 동해에 떠오르는 태양\\n누구의 앞길에서 훤히 비치나\\n찬란한 선조의 문화 속에...</td>\n",
       "    </tr>\n",
       "  </tbody>\n",
       "</table>\n",
       "<p>10562 rows × 2 columns</p>\n",
       "</div>"
      ],
      "text/plain": [
       "                                                   url  \\\n",
       "0        https://blog.naver.com/ccalvados/222795576909   \n",
       "1       https://blog.naver.com/stepan5844/222795577522   \n",
       "2      https://blog.naver.com/i_ipossible/222795577237   \n",
       "3        https://blog.naver.com/hyhan2028/222795577392   \n",
       "4        https://blog.naver.com/charnnant/222795577621   \n",
       "...                                                ...   \n",
       "10557  https://blog.naver.com/honeytteok_/222769168536   \n",
       "10558  https://blog.naver.com/twistraight/222769165696   \n",
       "10559       https://blog.naver.com/eozini/222769165867   \n",
       "10560     https://blog.naver.com/yoony700/222769166545   \n",
       "10561    https://blog.naver.com/nnvo_ovnn/222768036482   \n",
       "\n",
       "                                                      본문  \n",
       "0      7월 개봉 예정 영화, 신작 영화추천\\n신작 영화 추천! 극장 개봉 예정 영화 7월...  \n",
       "1      6월 20일\\n지인이 파니를 위해\\n카메라를 닦고 닦고 또 닦아\\n완전 새거처럼 만...  \n",
       "2      2박 3일 파주여행을 하고 온 담담!\\n이번 여행은 혼자 떠나기도했고\\n요즘 바쁘다...  \n",
       "3      안녕하세요 연쓰입니다. 오늘은 좀 특별한 이색카페를 다녀왔어요.\\n연쓰는 평소에 집...  \n",
       "4      ⏰ 9:30 ~ 18:00\\n🚘 주차 가능\\n안녕하세요! 챠넷입니다 :D\\n장마가 ...  \n",
       "...                                                  ...  \n",
       "10557  블로그 오랜만이다👋\\n주간일기 쓰면서 다시 블로그 열심히해봐야겠다^^\\n(네이버포인...  \n",
       "10558  1\\n해가 떠 있는 시간에 집에 있었던 기념\\n어쩌다보니 1월에 근무부서를 옮기게 ...  \n",
       "10559  2022. 6.6~6.11\\n남산 산책에 나섰다가 서울타워까지 성곽길 오르다보니 한...  \n",
       "10560  Wat Chalong\\n70 หมู่ที่ 6 Thanon Chao Fah Tawa...  \n",
       "10561  보라 동해에 떠오르는 태양\\n누구의 앞길에서 훤히 비치나\\n찬란한 선조의 문화 속에...  \n",
       "\n",
       "[10562 rows x 2 columns]"
      ]
     },
     "execution_count": 7,
     "metadata": {},
     "output_type": "execute_result"
    }
   ],
   "source": [
    "df = pd.read_csv(\"../나무문화/2022/나무문화_본문_2022_6월.csv\", encoding='UTF-8')\n",
    "df"
   ]
  },
  {
   "cell_type": "code",
   "execution_count": 8,
   "id": "0504acf1",
   "metadata": {},
   "outputs": [
    {
     "data": {
      "text/plain": [
       "10562"
      ]
     },
     "execution_count": 8,
     "metadata": {},
     "output_type": "execute_result"
    }
   ],
   "source": [
    "len(df)"
   ]
  },
  {
   "cell_type": "code",
   "execution_count": 9,
   "id": "7009d198",
   "metadata": {},
   "outputs": [],
   "source": [
    "# url_df.iloc[5866]"
   ]
  },
  {
   "cell_type": "code",
   "execution_count": 10,
   "id": "48ecfa11",
   "metadata": {},
   "outputs": [
    {
     "data": {
      "text/plain": [
       "url    0\n",
       "본문     3\n",
       "dtype: int64"
      ]
     },
     "execution_count": 10,
     "metadata": {},
     "output_type": "execute_result"
    }
   ],
   "source": [
    "df.isnull().sum()"
   ]
  },
  {
   "cell_type": "code",
   "execution_count": 11,
   "id": "3d3aad2b",
   "metadata": {},
   "outputs": [],
   "source": [
    "# # 이건 필요할때 쓰면 됨. 블로그가 닫혔거나 삭제되었을때 빈 본문을 가진 데이터프레임 추가.\n",
    "# content_dic = {'url' : [\"https://blog.naver.com/pony8253/222783289591\"], '본문' : [None]}\n",
    "# additional_df = pd.DataFrame(content_dic)\n",
    "# df = df.append(additional_df, ignore_index = True)"
   ]
  },
  {
   "cell_type": "code",
   "execution_count": 12,
   "id": "7bfeb2ec",
   "metadata": {
    "scrolled": true
   },
   "outputs": [
    {
     "name": "stdout",
     "output_type": "stream",
     "text": [
      "11966 11966\n"
     ]
    }
   ],
   "source": [
    "#### 삭제/비공개 링크 인덱스도 매번 바꿔줄 것!!! ###\n",
    "# contents = []\n",
    "# old_blogs = []\n",
    "hide_link = []\n",
    "waitsec = random.uniform(4,4.5)\n",
    "\n",
    "from IPython.display import clear_output\n",
    "from IPython import display # 램효율을 늘리기 위해 아웃풋 display를 지워줄 것.\n",
    "from ipywidgets import Output\n",
    "\n",
    "out = Output()\n",
    "display.display(out)\n",
    "\n",
    "for i in tqdm(blog_links[len(df):]):\n",
    "    content_dic = {'url' : [], '본문' : []}\n",
    "    content_dic['url'].append(i)\n",
    "    time.sleep(waitsec)\n",
    "    driver.get(i)\n",
    "    driver.implicitly_wait(10)\n",
    "    time.sleep(waitsec)\n",
    "    try:\n",
    "        driver.switch_to.frame(\"mainFrame\")\n",
    "    except TimeoutException as e:\n",
    "        print('시간 초과 오류 : ', e)\n",
    "        content_dic['본문'].append('수집불가능')\n",
    "    except UnexpectedAlertPresentException as e:\n",
    "    ### 이 오류 해결함. 에러 코드 파일에서 직접 임포트하면 된다!\n",
    "        print(e)\n",
    "                                                                            # 여기도 바꿔야 함\n",
    "        print('{}번째 게시글은 비공개로 전환되었거나 게시판이 바뀜.'.format(blog_links.index(i)))\n",
    "        hide_link.append(i)\n",
    "        time.sleep(1.5)\n",
    "        driver.switch_to.frame('mainFrame')\n",
    "    try:\n",
    "        a = driver.find_element(By.CSS_SELECTOR,'div.se-main-container').text\n",
    "        content_dic['본문'].append(a)\n",
    "    # NoSuchElement 오류시 예외처리(구버전 블로그에 적용)\n",
    "    except NoSuchElementException:\n",
    "        a = driver.find_element(By.CSS_SELECTOR,'div#content-area').text\n",
    "        content_dic['본문'].append(a)\n",
    "        #old_blogs.append(i)\n",
    "    additional_df = pd.DataFrame(content_dic)\n",
    "    df = pd.concat([df,additional_df])\n",
    "    df.reset_index(drop=True, inplace=True)\n",
    "    #df.to_excel(\"./나무문화/2020/나무문화_본문_2020_6월.xlsx\", index=False, encoding='UTF-8')\n",
    "    print(blog_links.index(i), df['본문'].tolist().index(a))\n",
    "    \n",
    "    display.clear_output(wait=True) # 출력지우기\n",
    "    # if blog_links.index(i) != df['본문'].tolist().index(a):\n",
    "    #     break\n"
   ]
  },
  {
   "cell_type": "code",
   "execution_count": 15,
   "id": "febb389f",
   "metadata": {},
   "outputs": [
    {
     "data": {
      "text/html": [
       "<div>\n",
       "<style scoped>\n",
       "    .dataframe tbody tr th:only-of-type {\n",
       "        vertical-align: middle;\n",
       "    }\n",
       "\n",
       "    .dataframe tbody tr th {\n",
       "        vertical-align: top;\n",
       "    }\n",
       "\n",
       "    .dataframe thead th {\n",
       "        text-align: right;\n",
       "    }\n",
       "</style>\n",
       "<table border=\"1\" class=\"dataframe\">\n",
       "  <thead>\n",
       "    <tr style=\"text-align: right;\">\n",
       "      <th></th>\n",
       "      <th>url</th>\n",
       "      <th>본문</th>\n",
       "    </tr>\n",
       "  </thead>\n",
       "  <tbody>\n",
       "    <tr>\n",
       "      <th>0</th>\n",
       "      <td>https://blog.naver.com/ccalvados/222795576909</td>\n",
       "      <td>7월 개봉 예정 영화, 신작 영화추천\\n신작 영화 추천! 극장 개봉 예정 영화 7월...</td>\n",
       "    </tr>\n",
       "    <tr>\n",
       "      <th>1</th>\n",
       "      <td>https://blog.naver.com/stepan5844/222795577522</td>\n",
       "      <td>6월 20일\\n지인이 파니를 위해\\n카메라를 닦고 닦고 또 닦아\\n완전 새거처럼 만...</td>\n",
       "    </tr>\n",
       "    <tr>\n",
       "      <th>2</th>\n",
       "      <td>https://blog.naver.com/i_ipossible/222795577237</td>\n",
       "      <td>2박 3일 파주여행을 하고 온 담담!\\n이번 여행은 혼자 떠나기도했고\\n요즘 바쁘다...</td>\n",
       "    </tr>\n",
       "    <tr>\n",
       "      <th>3</th>\n",
       "      <td>https://blog.naver.com/hyhan2028/222795577392</td>\n",
       "      <td>안녕하세요 연쓰입니다. 오늘은 좀 특별한 이색카페를 다녀왔어요.\\n연쓰는 평소에 집...</td>\n",
       "    </tr>\n",
       "    <tr>\n",
       "      <th>4</th>\n",
       "      <td>https://blog.naver.com/charnnant/222795577621</td>\n",
       "      <td>⏰ 9:30 ~ 18:00\\n🚘 주차 가능\\n안녕하세요! 챠넷입니다 :D\\n장마가 ...</td>\n",
       "    </tr>\n",
       "    <tr>\n",
       "      <th>...</th>\n",
       "      <td>...</td>\n",
       "      <td>...</td>\n",
       "    </tr>\n",
       "    <tr>\n",
       "      <th>11962</th>\n",
       "      <td>https://blog.naver.com/hsook0417/222754273924</td>\n",
       "      <td>#신영복 평전\\n1. 책소개\\n75년, 신영복의 삶을 정리하다!\\n돌아간 지 4년이...</td>\n",
       "    </tr>\n",
       "    <tr>\n",
       "      <th>11963</th>\n",
       "      <td>https://blog.naver.com/flower_daltuium/2227542...</td>\n",
       "      <td>안녕하세요 #달꽃틔움숲 이에요\\n현재 달꽃틔움숲에서는 다양한 커리큘럼의 클래스를 모...</td>\n",
       "    </tr>\n",
       "    <tr>\n",
       "      <th>11964</th>\n",
       "      <td>https://blog.naver.com/sohee10723/222754236890</td>\n",
       "      <td>춘천여행\\n레고랜드, 남이섬 말고\\n여기어때~??\\n강원도 춘천시 신동면 김유정로 ...</td>\n",
       "    </tr>\n",
       "    <tr>\n",
       "      <th>11965</th>\n",
       "      <td>https://blog.naver.com/poyang84/222754272099</td>\n",
       "      <td>오늘의 답사 코스\\n열세 번째 유네스코 세계유산 '한국의 산사' 영주 부석사를 답사...</td>\n",
       "    </tr>\n",
       "    <tr>\n",
       "      <th>11966</th>\n",
       "      <td>https://blog.naver.com/sheshow/222699446696</td>\n",
       "      <td>blog\\n인류의위대한여행 55개의 글\\n인류의위대한여행\\n목록닫기\\n인류의위대한여...</td>\n",
       "    </tr>\n",
       "  </tbody>\n",
       "</table>\n",
       "<p>11967 rows × 2 columns</p>\n",
       "</div>"
      ],
      "text/plain": [
       "                                                     url  \\\n",
       "0          https://blog.naver.com/ccalvados/222795576909   \n",
       "1         https://blog.naver.com/stepan5844/222795577522   \n",
       "2        https://blog.naver.com/i_ipossible/222795577237   \n",
       "3          https://blog.naver.com/hyhan2028/222795577392   \n",
       "4          https://blog.naver.com/charnnant/222795577621   \n",
       "...                                                  ...   \n",
       "11962      https://blog.naver.com/hsook0417/222754273924   \n",
       "11963  https://blog.naver.com/flower_daltuium/2227542...   \n",
       "11964     https://blog.naver.com/sohee10723/222754236890   \n",
       "11965       https://blog.naver.com/poyang84/222754272099   \n",
       "11966        https://blog.naver.com/sheshow/222699446696   \n",
       "\n",
       "                                                      본문  \n",
       "0      7월 개봉 예정 영화, 신작 영화추천\\n신작 영화 추천! 극장 개봉 예정 영화 7월...  \n",
       "1      6월 20일\\n지인이 파니를 위해\\n카메라를 닦고 닦고 또 닦아\\n완전 새거처럼 만...  \n",
       "2      2박 3일 파주여행을 하고 온 담담!\\n이번 여행은 혼자 떠나기도했고\\n요즘 바쁘다...  \n",
       "3      안녕하세요 연쓰입니다. 오늘은 좀 특별한 이색카페를 다녀왔어요.\\n연쓰는 평소에 집...  \n",
       "4      ⏰ 9:30 ~ 18:00\\n🚘 주차 가능\\n안녕하세요! 챠넷입니다 :D\\n장마가 ...  \n",
       "...                                                  ...  \n",
       "11962  #신영복 평전\\n1. 책소개\\n75년, 신영복의 삶을 정리하다!\\n돌아간 지 4년이...  \n",
       "11963  안녕하세요 #달꽃틔움숲 이에요\\n현재 달꽃틔움숲에서는 다양한 커리큘럼의 클래스를 모...  \n",
       "11964  춘천여행\\n레고랜드, 남이섬 말고\\n여기어때~??\\n강원도 춘천시 신동면 김유정로 ...  \n",
       "11965  오늘의 답사 코스\\n열세 번째 유네스코 세계유산 '한국의 산사' 영주 부석사를 답사...  \n",
       "11966  blog\\n인류의위대한여행 55개의 글\\n인류의위대한여행\\n목록닫기\\n인류의위대한여...  \n",
       "\n",
       "[11967 rows x 2 columns]"
      ]
     },
     "execution_count": 15,
     "metadata": {},
     "output_type": "execute_result"
    }
   ],
   "source": [
    "df"
   ]
  },
  {
   "cell_type": "code",
   "execution_count": 14,
   "id": "e7d9a417",
   "metadata": {},
   "outputs": [],
   "source": [
    "df.to_csv(\"../나무문화/2022/나무문화_본문_2022_6월.csv\", index=False, encoding='UTF-8')"
   ]
  }
 ],
 "metadata": {
  "kernelspec": {
   "display_name": "Python 3.8.0 ('NIFS')",
   "language": "python",
   "name": "python3"
  },
  "language_info": {
   "codemirror_mode": {
    "name": "ipython",
    "version": 3
   },
   "file_extension": ".py",
   "mimetype": "text/x-python",
   "name": "python",
   "nbconvert_exporter": "python",
   "pygments_lexer": "ipython3",
   "version": "3.8.0"
  },
  "vscode": {
   "interpreter": {
    "hash": "ef870b4feb386425c661b7ebcadef1c9affb03996f900964fa02bf03ee560957"
   }
  }
 },
 "nbformat": 4,
 "nbformat_minor": 5
}
