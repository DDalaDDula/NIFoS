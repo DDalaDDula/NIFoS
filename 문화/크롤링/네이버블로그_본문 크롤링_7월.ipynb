{
 "cells": [
  {
   "cell_type": "markdown",
   "id": "db7b5304",
   "metadata": {},
   "source": [
    "# 본문 스크래핑"
   ]
  },
  {
   "cell_type": "code",
   "execution_count": 1,
   "id": "88f269e2",
   "metadata": {},
   "outputs": [],
   "source": [
    "import pandas as pd\n",
    "import numpy as np\n",
    "import time\n",
    "from tqdm import tqdm\n",
    "import random\n",
    "import urllib.request\n",
    "from selenium.common.exceptions import NoSuchElementException, UnexpectedAlertPresentException, TimeoutException\n",
    "from selenium import webdriver\n",
    "from selenium.webdriver.common.by import By\n",
    "# import chromedriver_auto\n",
    "\n",
    "\n",
    "# 웹드라이버 설정\n",
    "options = webdriver.ChromeOptions()\n",
    "options.add_experimental_option(\"excludeSwitches\", [\"enable-automation\"])\n",
    "options.add_experimental_option(\"useAutomationExtension\", False)\n",
    "options.add_argument('headless') # 창 숨기기\n"
   ]
  },
  {
   "cell_type": "code",
   "execution_count": 2,
   "id": "990973ce",
   "metadata": {},
   "outputs": [],
   "source": [
    "# from user_agent import generate_user_agent, generate_navigator\n",
    "\n",
    "# print(generate_user_agent(device_type='desktop'))\n",
    "# print(generate_user_agent(os='win', device_type='desktop'))\n",
    "\n",
    "# navigator = generate_navigator()\n",
    "\n",
    "# random_user = generate_user_agent(os='win', device_type='desktop')\n",
    "# print(random_user)"
   ]
  },
  {
   "cell_type": "code",
   "execution_count": 2,
   "id": "36c7dea6",
   "metadata": {},
   "outputs": [],
   "source": [
    "from selenium.webdriver.chrome.options import Options\n",
    "\n",
    "# chrome_options = Options()\n",
    "# chrome_options.add_argument(random_user)\n",
    "driver = webdriver.Chrome(executable_path ='../chromedriver_win32/chromedriver.exe',options = options)\n",
    "\n",
    "driver.maximize_window()\n",
    "driver.get(\"https://www.naver.com/\")\n",
    "driver.implicitly_wait(10)\n"
   ]
  },
  {
   "cell_type": "code",
   "execution_count": 3,
   "id": "e4e6f57e",
   "metadata": {},
   "outputs": [
    {
     "name": "stdout",
     "output_type": "stream",
     "text": [
      "(18989, 3) Index(['url', 'title', 'date'], dtype='object')\n"
     ]
    },
    {
     "data": {
      "text/html": [
       "<div>\n",
       "<style scoped>\n",
       "    .dataframe tbody tr th:only-of-type {\n",
       "        vertical-align: middle;\n",
       "    }\n",
       "\n",
       "    .dataframe tbody tr th {\n",
       "        vertical-align: top;\n",
       "    }\n",
       "\n",
       "    .dataframe thead th {\n",
       "        text-align: right;\n",
       "    }\n",
       "</style>\n",
       "<table border=\"1\" class=\"dataframe\">\n",
       "  <thead>\n",
       "    <tr style=\"text-align: right;\">\n",
       "      <th></th>\n",
       "      <th>url</th>\n",
       "      <th>title</th>\n",
       "      <th>date</th>\n",
       "    </tr>\n",
       "  </thead>\n",
       "  <tbody>\n",
       "    <tr>\n",
       "      <th>0</th>\n",
       "      <td>https://blog.naver.com/kuna611/222835896356</td>\n",
       "      <td>[블챌] 7월 4주차_주간 일기? 일상 기록이라 쓰고, 욕망의...</td>\n",
       "      <td>2022.07.31.</td>\n",
       "    </tr>\n",
       "    <tr>\n",
       "      <th>1</th>\n",
       "      <td>https://blog.naver.com/zjavbxjqnd/222835899401</td>\n",
       "      <td>안동 여행지 추천! (in.월영교/낙강물길공원/병산서원)</td>\n",
       "      <td>2022.07.31.</td>\n",
       "    </tr>\n",
       "    <tr>\n",
       "      <th>2</th>\n",
       "      <td>https://blog.naver.com/roseyh78/222835897663</td>\n",
       "      <td>경주 건천맛집 명문갈비 가야밀면 편백나무숲 맛집</td>\n",
       "      <td>2022.07.31.</td>\n",
       "    </tr>\n",
       "    <tr>\n",
       "      <th>3</th>\n",
       "      <td>https://blog.naver.com/y_girok_/222835898249</td>\n",
       "      <td>[주간일기 챌린지 / 7월 4주차] 7월 25일 ~ 7월 31일</td>\n",
       "      <td>2022.07.31.</td>\n",
       "    </tr>\n",
       "    <tr>\n",
       "      <th>4</th>\n",
       "      <td>https://blog.naver.com/anuyheel/222835899414</td>\n",
       "      <td>[수영구 남천동 / 광안리 화실] 보통날의 작업실 - 아크릴...</td>\n",
       "      <td>2022.07.31.</td>\n",
       "    </tr>\n",
       "    <tr>\n",
       "      <th>...</th>\n",
       "      <td>...</td>\n",
       "      <td>...</td>\n",
       "      <td>...</td>\n",
       "    </tr>\n",
       "    <tr>\n",
       "      <th>18984</th>\n",
       "      <td>https://blog.naver.com/so9650/222795579526</td>\n",
       "      <td>[2022년 6월] 동서고금을 막론하고</td>\n",
       "      <td>2022.07.01.</td>\n",
       "    </tr>\n",
       "    <tr>\n",
       "      <th>18985</th>\n",
       "      <td>https://blog.naver.com/ottffss758/222794556276</td>\n",
       "      <td>안동 하루 여행 걷기 좋은 월영교, 안동여행 1편</td>\n",
       "      <td>2022.07.01.</td>\n",
       "    </tr>\n",
       "    <tr>\n",
       "      <th>18986</th>\n",
       "      <td>https://blog.naver.com/sil8004/222761395361</td>\n",
       "      <td>영주 여행지/소수서원~한국 유교 문화 발상지</td>\n",
       "      <td>2022.07.01.</td>\n",
       "    </tr>\n",
       "    <tr>\n",
       "      <th>18987</th>\n",
       "      <td>https://blog.naver.com/cool2404/222795339338</td>\n",
       "      <td>단 하나, 트리니티클럽</td>\n",
       "      <td>2022.07.01.</td>\n",
       "    </tr>\n",
       "    <tr>\n",
       "      <th>18988</th>\n",
       "      <td>https://blog.naver.com/sakaman/222795578669</td>\n",
       "      <td>피톤치드 가득한 숲캉스 백운산자연휴양림과...</td>\n",
       "      <td>2022.07.01.</td>\n",
       "    </tr>\n",
       "  </tbody>\n",
       "</table>\n",
       "<p>18989 rows × 3 columns</p>\n",
       "</div>"
      ],
      "text/plain": [
       "                                                  url  \\\n",
       "0         https://blog.naver.com/kuna611/222835896356   \n",
       "1      https://blog.naver.com/zjavbxjqnd/222835899401   \n",
       "2        https://blog.naver.com/roseyh78/222835897663   \n",
       "3        https://blog.naver.com/y_girok_/222835898249   \n",
       "4        https://blog.naver.com/anuyheel/222835899414   \n",
       "...                                               ...   \n",
       "18984      https://blog.naver.com/so9650/222795579526   \n",
       "18985  https://blog.naver.com/ottffss758/222794556276   \n",
       "18986     https://blog.naver.com/sil8004/222761395361   \n",
       "18987    https://blog.naver.com/cool2404/222795339338   \n",
       "18988     https://blog.naver.com/sakaman/222795578669   \n",
       "\n",
       "                                       title         date  \n",
       "0      [블챌] 7월 4주차_주간 일기? 일상 기록이라 쓰고, 욕망의...  2022.07.31.  \n",
       "1            안동 여행지 추천! (in.월영교/낙강물길공원/병산서원)  2022.07.31.  \n",
       "2                 경주 건천맛집 명문갈비 가야밀면 편백나무숲 맛집  2022.07.31.  \n",
       "3        [주간일기 챌린지 / 7월 4주차] 7월 25일 ~ 7월 31일  2022.07.31.  \n",
       "4       [수영구 남천동 / 광안리 화실] 보통날의 작업실 - 아크릴...  2022.07.31.  \n",
       "...                                      ...          ...  \n",
       "18984                  [2022년 6월] 동서고금을 막론하고  2022.07.01.  \n",
       "18985            안동 하루 여행 걷기 좋은 월영교, 안동여행 1편  2022.07.01.  \n",
       "18986               영주 여행지/소수서원~한국 유교 문화 발상지  2022.07.01.  \n",
       "18987                           단 하나, 트리니티클럽  2022.07.01.  \n",
       "18988              피톤치드 가득한 숲캉스 백운산자연휴양림과...  2022.07.01.  \n",
       "\n",
       "[18989 rows x 3 columns]"
      ]
     },
     "execution_count": 3,
     "metadata": {},
     "output_type": "execute_result"
    }
   ],
   "source": [
    "url_df = pd.read_csv(\"../dataset/2022/링크_크롤링/나무문화_링크_2022_7월.csv\", encoding='UTF-8')\n",
    "print(url_df.shape, url_df.columns)\n",
    "url_df\n"
   ]
  },
  {
   "cell_type": "code",
   "execution_count": 4,
   "id": "892b0519",
   "metadata": {},
   "outputs": [
    {
     "name": "stdout",
     "output_type": "stream",
     "text": [
      "18989\n"
     ]
    }
   ],
   "source": [
    "blog_links = url_df['url'].to_list()\n",
    "print(len(blog_links))\n"
   ]
  },
  {
   "cell_type": "code",
   "execution_count": 7,
   "id": "865be6f4",
   "metadata": {},
   "outputs": [],
   "source": [
    "# df = pd.DataFrame(columns = ['url','본문'])\n",
    "# df.to_csv(\"../dataset/2022/본문_크롤링/나무문화_본문_2022_7월.csv\", index=False, encoding='UTF-8')\n",
    "#df.to_excel(\"../dataset/2022/본문_크롤링/나무문화_본문_2022_7월.xlsx\", index=False, encoding='UTF-8')"
   ]
  },
  {
   "cell_type": "code",
   "execution_count": 8,
   "id": "8d715a2b",
   "metadata": {},
   "outputs": [
    {
     "data": {
      "text/html": [
       "<div>\n",
       "<style scoped>\n",
       "    .dataframe tbody tr th:only-of-type {\n",
       "        vertical-align: middle;\n",
       "    }\n",
       "\n",
       "    .dataframe tbody tr th {\n",
       "        vertical-align: top;\n",
       "    }\n",
       "\n",
       "    .dataframe thead th {\n",
       "        text-align: right;\n",
       "    }\n",
       "</style>\n",
       "<table border=\"1\" class=\"dataframe\">\n",
       "  <thead>\n",
       "    <tr style=\"text-align: right;\">\n",
       "      <th></th>\n",
       "      <th>url</th>\n",
       "      <th>본문</th>\n",
       "    </tr>\n",
       "  </thead>\n",
       "  <tbody>\n",
       "    <tr>\n",
       "      <th>0</th>\n",
       "      <td>https://blog.naver.com/kuna611/222835896356</td>\n",
       "      <td>#25일급여 #삼성카드 #특판적금 #서울행복신협 #구즉신협 #카카오뱅크8%적금 #새...</td>\n",
       "    </tr>\n",
       "    <tr>\n",
       "      <th>1</th>\n",
       "      <td>https://blog.naver.com/zjavbxjqnd/222835899401</td>\n",
       "      <td>일요일 주말 휴가가 생겨서\\n오빠랑 급 안동으로 여행 다녀왔어용\\n(*ᴗ͈ˬᴗ͈)ꕤ...</td>\n",
       "    </tr>\n",
       "    <tr>\n",
       "      <th>2</th>\n",
       "      <td>https://blog.naver.com/roseyh78/222835897663</td>\n",
       "      <td>경주 켄싱턴리조트 퇴실 후 곧장 집으로 가자하면 어쩌나 했는데\\n다행이 내가 가고 ...</td>\n",
       "    </tr>\n",
       "    <tr>\n",
       "      <th>3</th>\n",
       "      <td>https://blog.naver.com/y_girok_/222835898249</td>\n",
       "      <td>안녕-!\\n재미없었고 별 다른 일이 없어서\\n조용했던 저번주와는 달리\\n시끌벅적 우...</td>\n",
       "    </tr>\n",
       "    <tr>\n",
       "      <th>4</th>\n",
       "      <td>https://blog.naver.com/anuyheel/222835899414</td>\n",
       "      <td>수영구에서 뭐 재미있는 거 배울만한 게 있을까?\\n새로운 것을 도전해보면서 문화 생...</td>\n",
       "    </tr>\n",
       "    <tr>\n",
       "      <th>...</th>\n",
       "      <td>...</td>\n",
       "      <td>...</td>\n",
       "    </tr>\n",
       "    <tr>\n",
       "      <th>5081</th>\n",
       "      <td>https://blog.naver.com/hye0na/222826787299</td>\n",
       "      <td>저번 주 데스노트에 이어 이번에는 웃는남자\\n1. 극에 대한 세세한 리뷰\\n2. 극...</td>\n",
       "    </tr>\n",
       "    <tr>\n",
       "      <th>5082</th>\n",
       "      <td>https://blog.naver.com/dlrrb0108/222826785175</td>\n",
       "      <td>19세기 중반은 유럽 열강들이 세계를 정복하던 시대입니다. 제국주의 시대라고도 불리...</td>\n",
       "    </tr>\n",
       "    <tr>\n",
       "      <th>5083</th>\n",
       "      <td>https://blog.naver.com/dlatjdtn1997/222826785236</td>\n",
       "      <td>https://donotmemory.tistory.com/\\n아미아미아미\\n많은 공...</td>\n",
       "    </tr>\n",
       "    <tr>\n",
       "      <th>5084</th>\n",
       "      <td>https://blog.naver.com/jungpark7030/222826780793</td>\n",
       "      <td>낙지호롱\\n낙지호롱\\nㅇ 재료: 낙지2마리, 소금1큰\\nㅇ 밑간: 참기름, 마늘, ...</td>\n",
       "    </tr>\n",
       "    <tr>\n",
       "      <th>5085</th>\n",
       "      <td>https://blog.naver.com/akddndls/222826779842</td>\n",
       "      <td>이웃님들\\n안녕하세요\\n오늘 리뷰할 책은 개러스 무어 님의 기억력 천재 게으른 뇌를...</td>\n",
       "    </tr>\n",
       "  </tbody>\n",
       "</table>\n",
       "<p>5086 rows × 2 columns</p>\n",
       "</div>"
      ],
      "text/plain": [
       "                                                   url  \\\n",
       "0          https://blog.naver.com/kuna611/222835896356   \n",
       "1       https://blog.naver.com/zjavbxjqnd/222835899401   \n",
       "2         https://blog.naver.com/roseyh78/222835897663   \n",
       "3         https://blog.naver.com/y_girok_/222835898249   \n",
       "4         https://blog.naver.com/anuyheel/222835899414   \n",
       "...                                                ...   \n",
       "5081        https://blog.naver.com/hye0na/222826787299   \n",
       "5082     https://blog.naver.com/dlrrb0108/222826785175   \n",
       "5083  https://blog.naver.com/dlatjdtn1997/222826785236   \n",
       "5084  https://blog.naver.com/jungpark7030/222826780793   \n",
       "5085      https://blog.naver.com/akddndls/222826779842   \n",
       "\n",
       "                                                     본문  \n",
       "0     #25일급여 #삼성카드 #특판적금 #서울행복신협 #구즉신협 #카카오뱅크8%적금 #새...  \n",
       "1     일요일 주말 휴가가 생겨서\\n오빠랑 급 안동으로 여행 다녀왔어용\\n(*ᴗ͈ˬᴗ͈)ꕤ...  \n",
       "2     경주 켄싱턴리조트 퇴실 후 곧장 집으로 가자하면 어쩌나 했는데\\n다행이 내가 가고 ...  \n",
       "3     안녕-!\\n재미없었고 별 다른 일이 없어서\\n조용했던 저번주와는 달리\\n시끌벅적 우...  \n",
       "4     수영구에서 뭐 재미있는 거 배울만한 게 있을까?\\n새로운 것을 도전해보면서 문화 생...  \n",
       "...                                                 ...  \n",
       "5081  저번 주 데스노트에 이어 이번에는 웃는남자\\n1. 극에 대한 세세한 리뷰\\n2. 극...  \n",
       "5082  19세기 중반은 유럽 열강들이 세계를 정복하던 시대입니다. 제국주의 시대라고도 불리...  \n",
       "5083  https://donotmemory.tistory.com/\\n아미아미아미\\n많은 공...  \n",
       "5084  낙지호롱\\n낙지호롱\\nㅇ 재료: 낙지2마리, 소금1큰\\nㅇ 밑간: 참기름, 마늘, ...  \n",
       "5085  이웃님들\\n안녕하세요\\n오늘 리뷰할 책은 개러스 무어 님의 기억력 천재 게으른 뇌를...  \n",
       "\n",
       "[5086 rows x 2 columns]"
      ]
     },
     "execution_count": 8,
     "metadata": {},
     "output_type": "execute_result"
    }
   ],
   "source": [
    "df = pd.read_csv(\"../dataset/2022/본문_크롤링/나무문화_본문_2022_7월.csv\", encoding='UTF-8')\n",
    "df"
   ]
  },
  {
   "cell_type": "code",
   "execution_count": 6,
   "id": "0504acf1",
   "metadata": {},
   "outputs": [
    {
     "data": {
      "text/plain": [
       "2657"
      ]
     },
     "execution_count": 6,
     "metadata": {},
     "output_type": "execute_result"
    }
   ],
   "source": [
    "len(df)"
   ]
  },
  {
   "cell_type": "code",
   "execution_count": 9,
   "id": "2896404b",
   "metadata": {},
   "outputs": [],
   "source": [
    "#url_df.iloc[5349]"
   ]
  },
  {
   "cell_type": "code",
   "execution_count": 10,
   "id": "b6825e03",
   "metadata": {},
   "outputs": [],
   "source": [
    "# 이건 필요할때 쓰면 됨. 블로그가 닫혔거나 삭제되었을때 빈 본문을 가진 데이터프레임 추가.\n",
    "# content_dic = {'url' : [\"https://blog.naver.com/himynet/222036795571\"], '본문' : [None]}\n",
    "# additional_df = pd.DataFrame(content_dic)\n",
    "# df = df.append(additional_df, ignore_index = True)"
   ]
  },
  {
   "cell_type": "code",
   "execution_count": null,
   "id": "7bfeb2ec",
   "metadata": {
    "scrolled": true
   },
   "outputs": [],
   "source": [
    "#### 삭제/비공개 링크 인덱스도 매번 바꿔줄 것!!! ###\n",
    "# contents = []\n",
    "# old_blogs = []\n",
    "hide_link = []\n",
    "waitsec = random.uniform(4,4.5)\n",
    "\n",
    "for i in tqdm(blog_links[len(df):]):\n",
    "    content_dic = {'url' : [], '본문' : []}\n",
    "    content_dic['url'].append(i)\n",
    "    driver.get(i)\n",
    "    driver.implicitly_wait(100)\n",
    "    time.sleep(waitsec)\n",
    "    try:\n",
    "        driver.switch_to.frame(\"mainFrame\")\n",
    "    except TimeoutException as e:\n",
    "        print('시간 초과 오류 : ', e)\n",
    "        content_dic['본문'].append('수집불가능')\n",
    "    except UnexpectedAlertPresentException as e:\n",
    "    ### 이 오류 해결함. 에러 코드 파일에서 직접 임포트하면 된다!\n",
    "        print(e)\n",
    "                                                                            # 여기도 바꿔야 함\n",
    "        print('{}번째 게시글은 비공개로 전환되었거나 게시판이 바뀜.'.format(blog_links.index(i)))\n",
    "        hide_link.append(i)\n",
    "        time.sleep(1.5)\n",
    "        driver.switch_to.frame('mainFrame')\n",
    "    try:\n",
    "        a = driver.find_element(By.CSS_SELECTOR,'div.se-main-container').text\n",
    "        content_dic['본문'].append(a)\n",
    "    # NoSuchElement 오류시 예외처리(구버전 블로그에 적용)\n",
    "    except NoSuchElementException:\n",
    "        a = driver.find_element(By.CSS_SELECTOR,'div#content-area').text\n",
    "        content_dic['본문'].append(a)\n",
    "        #old_blogs.append(i)\n",
    "    additional_df = pd.DataFrame(content_dic)\n",
    "    df = df.append(additional_df, ignore_index = True)\n",
    "    df.to_csv(\"../dataset/2022/본문_크롤링/나무문화_본문_2022_7월.csv\", index=False, encoding='UTF-8')\n",
    "    #df.to_excel(\"./나무문화/2020/나무문화_본문_2020_7월.xlsx\", index=False, encoding='UTF-8')\n",
    "    # if blog_links.index(i) != df['본문'].tolist().index(a):\n",
    "    #     break\n"
   ]
  }
 ],
 "metadata": {
  "kernelspec": {
   "display_name": "Python 3.8.0 ('NIFS')",
   "language": "python",
   "name": "python3"
  },
  "language_info": {
   "codemirror_mode": {
    "name": "ipython",
    "version": 3
   },
   "file_extension": ".py",
   "mimetype": "text/x-python",
   "name": "python",
   "nbconvert_exporter": "python",
   "pygments_lexer": "ipython3",
   "version": "3.8.0"
  },
  "vscode": {
   "interpreter": {
    "hash": "ef870b4feb386425c661b7ebcadef1c9affb03996f900964fa02bf03ee560957"
   }
  }
 },
 "nbformat": 4,
 "nbformat_minor": 5
}
