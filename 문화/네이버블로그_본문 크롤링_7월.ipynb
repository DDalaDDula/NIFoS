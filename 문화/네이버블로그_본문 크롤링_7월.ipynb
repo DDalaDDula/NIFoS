{
 "cells": [
  {
   "cell_type": "markdown",
   "id": "db7b5304",
   "metadata": {},
   "source": [
    "# 본문 스크래핑"
   ]
  },
  {
   "cell_type": "code",
   "execution_count": 1,
   "id": "88f269e2",
   "metadata": {},
   "outputs": [],
   "source": [
    "import pandas as pd\n",
    "import numpy as np\n",
    "import time\n",
    "from tqdm.notebook import tqdm\n",
    "import random\n",
    "import urllib.request\n",
    "from selenium.common.exceptions import NoSuchElementException, UnexpectedAlertPresentException, TimeoutException\n",
    "from selenium import webdriver\n",
    "from selenium.webdriver.common.by import By\n",
    "# import chromedriver_auto\n",
    "\n",
    "\n",
    "# 웹드라이버 설정\n",
    "options = webdriver.ChromeOptions()\n",
    "options.add_experimental_option(\"excludeSwitches\", [\"enable-automation\"])\n",
    "options.add_experimental_option(\"useAutomationExtension\", False)\n",
    "options.add_argument('headless') # 창 숨기기\n"
   ]
  },
  {
   "cell_type": "code",
   "execution_count": 2,
   "id": "990973ce",
   "metadata": {},
   "outputs": [],
   "source": [
    "# from user_agent import generate_user_agent, generate_navigator\n",
    "\n",
    "# print(generate_user_agent(device_type='desktop'))\n",
    "# print(generate_user_agent(os='win', device_type='desktop'))\n",
    "\n",
    "# navigator = generate_navigator()\n",
    "\n",
    "# random_user = generate_user_agent(os='win', device_type='desktop')\n",
    "# print(random_user)"
   ]
  },
  {
   "cell_type": "code",
   "execution_count": 3,
   "id": "36c7dea6",
   "metadata": {},
   "outputs": [],
   "source": [
    "from selenium.webdriver.chrome.options import Options\n",
    "\n",
    "# chrome_options = Options()\n",
    "# chrome_options.add_argument(random_user)\n",
    "driver = webdriver.Chrome(executable_path ='./chromedriver_win32/chromedriver.exe',options = options)\n",
    "\n",
    "driver.maximize_window()\n",
    "driver.get(\"https://www.naver.com/\")\n",
    "driver.implicitly_wait(10)\n"
   ]
  },
  {
   "cell_type": "code",
   "execution_count": 4,
   "id": "e4e6f57e",
   "metadata": {},
   "outputs": [
    {
     "name": "stdout",
     "output_type": "stream",
     "text": [
      "(2867, 3) Index(['url', 'title', 'date'], dtype='object')\n"
     ]
    },
    {
     "data": {
      "text/html": [
       "<div>\n",
       "<style scoped>\n",
       "    .dataframe tbody tr th:only-of-type {\n",
       "        vertical-align: middle;\n",
       "    }\n",
       "\n",
       "    .dataframe tbody tr th {\n",
       "        vertical-align: top;\n",
       "    }\n",
       "\n",
       "    .dataframe thead th {\n",
       "        text-align: right;\n",
       "    }\n",
       "</style>\n",
       "<table border=\"1\" class=\"dataframe\">\n",
       "  <thead>\n",
       "    <tr style=\"text-align: right;\">\n",
       "      <th></th>\n",
       "      <th>url</th>\n",
       "      <th>title</th>\n",
       "      <th>date</th>\n",
       "    </tr>\n",
       "  </thead>\n",
       "  <tbody>\n",
       "    <tr>\n",
       "      <th>0</th>\n",
       "      <td>https://blog.naver.com/yangyoseop91/222835899184</td>\n",
       "      <td>주간일기 8: 파리 2</td>\n",
       "      <td>2022.07.31.</td>\n",
       "    </tr>\n",
       "    <tr>\n",
       "      <th>1</th>\n",
       "      <td>https://blog.naver.com/kuna611/222835896356</td>\n",
       "      <td>[블챌] 7월 4주차_주간 일기? 일상 기록이라 쓰고, 욕망의...</td>\n",
       "      <td>2022.07.31.</td>\n",
       "    </tr>\n",
       "    <tr>\n",
       "      <th>2</th>\n",
       "      <td>https://blog.naver.com/y_girok_/222835898249</td>\n",
       "      <td>[주간일기 챌린지 / 7월 4주차] 7월 25일 ~ 7월 31일</td>\n",
       "      <td>2022.07.31.</td>\n",
       "    </tr>\n",
       "    <tr>\n",
       "      <th>3</th>\n",
       "      <td>https://blog.naver.com/roseyh78/222835897663</td>\n",
       "      <td>경주 건천맛집 명문갈비 가야밀면 편백나무숲 맛집</td>\n",
       "      <td>2022.07.31.</td>\n",
       "    </tr>\n",
       "    <tr>\n",
       "      <th>4</th>\n",
       "      <td>https://blog.naver.com/anuyheel/222835899414</td>\n",
       "      <td>[수영구 남천동 / 광안리 화실] 보통날의 작업실 - 아크릴...</td>\n",
       "      <td>2022.07.31.</td>\n",
       "    </tr>\n",
       "    <tr>\n",
       "      <th>...</th>\n",
       "      <td>...</td>\n",
       "      <td>...</td>\n",
       "      <td>...</td>\n",
       "    </tr>\n",
       "    <tr>\n",
       "      <th>2862</th>\n",
       "      <td>https://blog.naver.com/babjule/222796851268</td>\n",
       "      <td>무더위 이태원 데이트코스 추천! 리움미술관, 우육미엔...</td>\n",
       "      <td>2022.07.01.</td>\n",
       "    </tr>\n",
       "    <tr>\n",
       "      <th>2863</th>\n",
       "      <td>https://blog.naver.com/tjdrud34/222796850531</td>\n",
       "      <td>베트남 푸꾸옥 투어 버스 썬월드 혼똔섬 케이블카 시간 및...</td>\n",
       "      <td>2022.07.01.</td>\n",
       "    </tr>\n",
       "    <tr>\n",
       "      <th>2864</th>\n",
       "      <td>https://blog.naver.com/dnpftlsh/222796844700</td>\n",
       "      <td>6월4주 월미도 당일여행 / 월미바다열차, 월미산정상</td>\n",
       "      <td>2022.07.01.</td>\n",
       "    </tr>\n",
       "    <tr>\n",
       "      <th>2865</th>\n",
       "      <td>https://blog.naver.com/crazyboy/222796842010</td>\n",
       "      <td>김지하 시(詩) 7 - 사편 1</td>\n",
       "      <td>2022.07.01.</td>\n",
       "    </tr>\n",
       "    <tr>\n",
       "      <th>2866</th>\n",
       "      <td>https://blog.naver.com/ecopia0611/222796839357</td>\n",
       "      <td>불국사 경주여행</td>\n",
       "      <td>2022.07.01.</td>\n",
       "    </tr>\n",
       "  </tbody>\n",
       "</table>\n",
       "<p>2867 rows × 3 columns</p>\n",
       "</div>"
      ],
      "text/plain": [
       "                                                   url  \\\n",
       "0     https://blog.naver.com/yangyoseop91/222835899184   \n",
       "1          https://blog.naver.com/kuna611/222835896356   \n",
       "2         https://blog.naver.com/y_girok_/222835898249   \n",
       "3         https://blog.naver.com/roseyh78/222835897663   \n",
       "4         https://blog.naver.com/anuyheel/222835899414   \n",
       "...                                                ...   \n",
       "2862       https://blog.naver.com/babjule/222796851268   \n",
       "2863      https://blog.naver.com/tjdrud34/222796850531   \n",
       "2864      https://blog.naver.com/dnpftlsh/222796844700   \n",
       "2865      https://blog.naver.com/crazyboy/222796842010   \n",
       "2866    https://blog.naver.com/ecopia0611/222796839357   \n",
       "\n",
       "                                      title         date  \n",
       "0                              주간일기 8: 파리 2  2022.07.31.  \n",
       "1     [블챌] 7월 4주차_주간 일기? 일상 기록이라 쓰고, 욕망의...  2022.07.31.  \n",
       "2       [주간일기 챌린지 / 7월 4주차] 7월 25일 ~ 7월 31일  2022.07.31.  \n",
       "3                경주 건천맛집 명문갈비 가야밀면 편백나무숲 맛집  2022.07.31.  \n",
       "4      [수영구 남천동 / 광안리 화실] 보통날의 작업실 - 아크릴...  2022.07.31.  \n",
       "...                                     ...          ...  \n",
       "2862       무더위 이태원 데이트코스 추천! 리움미술관, 우육미엔...  2022.07.01.  \n",
       "2863     베트남 푸꾸옥 투어 버스 썬월드 혼똔섬 케이블카 시간 및...  2022.07.01.  \n",
       "2864          6월4주 월미도 당일여행 / 월미바다열차, 월미산정상  2022.07.01.  \n",
       "2865                      김지하 시(詩) 7 - 사편 1  2022.07.01.  \n",
       "2866                               불국사 경주여행  2022.07.01.  \n",
       "\n",
       "[2867 rows x 3 columns]"
      ]
     },
     "execution_count": 4,
     "metadata": {},
     "output_type": "execute_result"
    }
   ],
   "source": [
    "url_df = pd.read_csv(\"./나무문화/2022/나무문화_링크_2022_7월.csv\", encoding='UTF-8')\n",
    "print(url_df.shape, url_df.columns)\n",
    "url_df\n"
   ]
  },
  {
   "cell_type": "code",
   "execution_count": 5,
   "id": "892b0519",
   "metadata": {},
   "outputs": [
    {
     "name": "stdout",
     "output_type": "stream",
     "text": [
      "2867\n"
     ]
    }
   ],
   "source": [
    "blog_links = url_df['url'].to_list()\n",
    "print(len(blog_links))\n"
   ]
  },
  {
   "cell_type": "code",
   "execution_count": 6,
   "id": "865be6f4",
   "metadata": {},
   "outputs": [],
   "source": [
    "# df = pd.DataFrame(columns = ['url','본문'])\n",
    "# df.to_csv(\"./나무문화/2022/나무문화_본문_2022_7월.csv\", index=False, encoding='UTF-8')\n",
    "# df.to_excel(\"./나무문화/2022/나무문화_본문_2022_7월.xlsx\", index=False, encoding='UTF-8')"
   ]
  },
  {
   "cell_type": "code",
   "execution_count": 7,
   "id": "8d715a2b",
   "metadata": {},
   "outputs": [
    {
     "data": {
      "text/html": [
       "<div>\n",
       "<style scoped>\n",
       "    .dataframe tbody tr th:only-of-type {\n",
       "        vertical-align: middle;\n",
       "    }\n",
       "\n",
       "    .dataframe tbody tr th {\n",
       "        vertical-align: top;\n",
       "    }\n",
       "\n",
       "    .dataframe thead th {\n",
       "        text-align: right;\n",
       "    }\n",
       "</style>\n",
       "<table border=\"1\" class=\"dataframe\">\n",
       "  <thead>\n",
       "    <tr style=\"text-align: right;\">\n",
       "      <th></th>\n",
       "      <th>url</th>\n",
       "      <th>본문</th>\n",
       "    </tr>\n",
       "  </thead>\n",
       "  <tbody>\n",
       "    <tr>\n",
       "      <th>0</th>\n",
       "      <td>https://blog.naver.com/yangyoseop91/222835899184</td>\n",
       "      <td>인트로\\n살려달라고 써놓고 부랴부랴 수정하는 중... 이번주 주간일기도 마저 써야되...</td>\n",
       "    </tr>\n",
       "    <tr>\n",
       "      <th>1</th>\n",
       "      <td>https://blog.naver.com/kuna611/222835896356</td>\n",
       "      <td>#25일급여 #삼성카드 #특판적금 #서울행복신협 #구즉신협 #카카오뱅크8%적금 #새...</td>\n",
       "    </tr>\n",
       "    <tr>\n",
       "      <th>2</th>\n",
       "      <td>https://blog.naver.com/y_girok_/222835898249</td>\n",
       "      <td>안녕-!\\n재미없었고 별 다른 일이 없어서\\n조용했던 저번주와는 달리\\n시끌벅적 우...</td>\n",
       "    </tr>\n",
       "    <tr>\n",
       "      <th>3</th>\n",
       "      <td>https://blog.naver.com/roseyh78/222835897663</td>\n",
       "      <td>경주 켄싱턴리조트 퇴실 후 곧장 집으로 가자하면 어쩌나 했는데\\n다행이 내가 가고 ...</td>\n",
       "    </tr>\n",
       "    <tr>\n",
       "      <th>4</th>\n",
       "      <td>https://blog.naver.com/anuyheel/222835899414</td>\n",
       "      <td>수영구에서 뭐 재미있는 거 배울만한 게 있을까?\\n새로운 것을 도전해보면서 문화 생...</td>\n",
       "    </tr>\n",
       "    <tr>\n",
       "      <th>...</th>\n",
       "      <td>...</td>\n",
       "      <td>...</td>\n",
       "    </tr>\n",
       "    <tr>\n",
       "      <th>1195</th>\n",
       "      <td>https://blog.naver.com/hoperecipe/222834415619</td>\n",
       "      <td>광주 산책 광주천 동구와 남구를 가르는 하천이에요\\n전날 518민주광장에서 야경을 ...</td>\n",
       "    </tr>\n",
       "    <tr>\n",
       "      <th>1196</th>\n",
       "      <td>https://blog.naver.com/jnanoori/222834414816</td>\n",
       "      <td>코로나19 재유행에 대비하여\\n미추홀구\\n호흡기환자 진료센터 및\\n코로나 검사, 진...</td>\n",
       "    </tr>\n",
       "    <tr>\n",
       "      <th>1197</th>\n",
       "      <td>https://blog.naver.com/yangklee/222834413045</td>\n",
       "      <td>티티키\\n산류천석, 산에서 흐르는 물이 바위를 뚫는다.\\n천안 동남권에 위치한다. ...</td>\n",
       "    </tr>\n",
       "    <tr>\n",
       "      <th>1198</th>\n",
       "      <td>https://blog.naver.com/busan_suyeong/222828321611</td>\n",
       "      <td>#\\n'수영구'와\\n'수영구 도시재생 현장지원센터'\\n그리고\\n'숲 우리들'이 함께...</td>\n",
       "    </tr>\n",
       "    <tr>\n",
       "      <th>1199</th>\n",
       "      <td>https://blog.naver.com/mt941802/222834411641</td>\n",
       "      <td>로드니 스타크의 신간이 출간되었네요\\n이 저자의 책은 반드시 읽어야 합니다. ^^\\...</td>\n",
       "    </tr>\n",
       "  </tbody>\n",
       "</table>\n",
       "<p>1200 rows × 2 columns</p>\n",
       "</div>"
      ],
      "text/plain": [
       "                                                    url  \\\n",
       "0      https://blog.naver.com/yangyoseop91/222835899184   \n",
       "1           https://blog.naver.com/kuna611/222835896356   \n",
       "2          https://blog.naver.com/y_girok_/222835898249   \n",
       "3          https://blog.naver.com/roseyh78/222835897663   \n",
       "4          https://blog.naver.com/anuyheel/222835899414   \n",
       "...                                                 ...   \n",
       "1195     https://blog.naver.com/hoperecipe/222834415619   \n",
       "1196       https://blog.naver.com/jnanoori/222834414816   \n",
       "1197       https://blog.naver.com/yangklee/222834413045   \n",
       "1198  https://blog.naver.com/busan_suyeong/222828321611   \n",
       "1199       https://blog.naver.com/mt941802/222834411641   \n",
       "\n",
       "                                                     본문  \n",
       "0     인트로\\n살려달라고 써놓고 부랴부랴 수정하는 중... 이번주 주간일기도 마저 써야되...  \n",
       "1     #25일급여 #삼성카드 #특판적금 #서울행복신협 #구즉신협 #카카오뱅크8%적금 #새...  \n",
       "2     안녕-!\\n재미없었고 별 다른 일이 없어서\\n조용했던 저번주와는 달리\\n시끌벅적 우...  \n",
       "3     경주 켄싱턴리조트 퇴실 후 곧장 집으로 가자하면 어쩌나 했는데\\n다행이 내가 가고 ...  \n",
       "4     수영구에서 뭐 재미있는 거 배울만한 게 있을까?\\n새로운 것을 도전해보면서 문화 생...  \n",
       "...                                                 ...  \n",
       "1195  광주 산책 광주천 동구와 남구를 가르는 하천이에요\\n전날 518민주광장에서 야경을 ...  \n",
       "1196  코로나19 재유행에 대비하여\\n미추홀구\\n호흡기환자 진료센터 및\\n코로나 검사, 진...  \n",
       "1197  티티키\\n산류천석, 산에서 흐르는 물이 바위를 뚫는다.\\n천안 동남권에 위치한다. ...  \n",
       "1198  #\\n'수영구'와\\n'수영구 도시재생 현장지원센터'\\n그리고\\n'숲 우리들'이 함께...  \n",
       "1199  로드니 스타크의 신간이 출간되었네요\\n이 저자의 책은 반드시 읽어야 합니다. ^^\\...  \n",
       "\n",
       "[1200 rows x 2 columns]"
      ]
     },
     "execution_count": 7,
     "metadata": {},
     "output_type": "execute_result"
    }
   ],
   "source": [
    "df = pd.read_csv(\"./나무문화/2022/나무문화_본문_2022_7월.csv\", encoding='UTF-8')\n",
    "df"
   ]
  },
  {
   "cell_type": "code",
   "execution_count": 8,
   "id": "0504acf1",
   "metadata": {},
   "outputs": [
    {
     "data": {
      "text/plain": [
       "1200"
      ]
     },
     "execution_count": 8,
     "metadata": {},
     "output_type": "execute_result"
    }
   ],
   "source": [
    "len(df)"
   ]
  },
  {
   "cell_type": "code",
   "execution_count": 9,
   "id": "2896404b",
   "metadata": {},
   "outputs": [],
   "source": [
    "#url_df.iloc[5349]"
   ]
  },
  {
   "cell_type": "code",
   "execution_count": 10,
   "id": "b6825e03",
   "metadata": {},
   "outputs": [],
   "source": [
    "# 이건 필요할때 쓰면 됨. 블로그가 닫혔거나 삭제되었을때 빈 본문을 가진 데이터프레임 추가.\n",
    "# content_dic = {'url' : [\"https://blog.naver.com/himynet/222036795571\"], '본문' : [None]}\n",
    "# additional_df = pd.DataFrame(content_dic)\n",
    "# df = df.append(additional_df, ignore_index = True)"
   ]
  },
  {
   "cell_type": "code",
   "execution_count": 11,
   "id": "7bfeb2ec",
   "metadata": {
    "scrolled": true
   },
   "outputs": [
    {
     "name": "stdout",
     "output_type": "stream",
     "text": [
      "1430 1430\n"
     ]
    },
    {
     "name": "stderr",
     "output_type": "stream",
     "text": [
      "C:\\Users\\user\\AppData\\Local\\Temp\\ipykernel_2424\\3956159720.py:42: FutureWarning: The frame.append method is deprecated and will be removed from pandas in a future version. Use pandas.concat instead.\n",
      "  df = df.append(additional_df, ignore_index = True)\n"
     ]
    }
   ],
   "source": [
    "#### 삭제/비공개 링크 인덱스도 매번 바꿔줄 것!!! ###\n",
    "# contents = []\n",
    "# old_blogs = []\n",
    "hide_link = []\n",
    "waitsec = random.uniform(4,4.5)\n",
    "\n",
    "from IPython.display import clear_output\n",
    "from IPython import display # 램효율을 늘리기 위해 아웃풋 display를 지워줄 것.\n",
    "from ipywidgets import Output\n",
    "\n",
    "out = Output()\n",
    "display.display(out)\n",
    "\n",
    "for i in tqdm(blog_links[len(df):]):\n",
    "    content_dic = {'url' : [], '본문' : []}\n",
    "    content_dic['url'].append(i)\n",
    "    driver.get(i)\n",
    "    driver.implicitly_wait(100)\n",
    "    time.sleep(waitsec)\n",
    "    try:\n",
    "        driver.switch_to.frame(\"mainFrame\")\n",
    "    except TimeoutException as e:\n",
    "        print('시간 초과 오류 : ', e)\n",
    "        content_dic['본문'].append('수집불가능')\n",
    "    except UnexpectedAlertPresentException as e:\n",
    "    ### 이 오류 해결함. 에러 코드 파일에서 직접 임포트하면 된다!\n",
    "        print(e)\n",
    "                                                                            # 여기도 바꿔야 함\n",
    "        print('{}번째 게시글은 비공개로 전환되었거나 게시판이 바뀜.'.format(blog_links.index(i)))\n",
    "        hide_link.append(i)\n",
    "        time.sleep(1.5)\n",
    "        driver.switch_to.frame('mainFrame')\n",
    "    try:\n",
    "        a = driver.find_element(By.CSS_SELECTOR,'div.se-main-container').text\n",
    "        content_dic['본문'].append(a)\n",
    "    # NoSuchElement 오류시 예외처리(구버전 블로그에 적용)\n",
    "    except NoSuchElementException:\n",
    "        a = driver.find_element(By.CSS_SELECTOR,'div#content-area').text\n",
    "        content_dic['본문'].append(a)\n",
    "        #old_blogs.append(i)\n",
    "    additional_df = pd.DataFrame(content_dic)\n",
    "    df = df.append(additional_df, ignore_index = True)\n",
    "    df.to_csv(\"./나무문화/2022/나무문화_본문_2022_7월.csv\", index=False, encoding='UTF-8')\n",
    "    #df.to_excel(\"./나무문화/2020/나무문화_본문_2020_7월.xlsx\", index=False, encoding='UTF-8')\n",
    "    print(blog_links.index(i), df['본문'].tolist().index(a))\n",
    "    \n",
    "    display.clear_output(wait=True) # 출력지우기\n",
    "    # if blog_links.index(i) != df['본문'].tolist().index(a):\n",
    "    #     break\n"
   ]
  },
  {
   "cell_type": "code",
   "execution_count": null,
   "id": "febb389f",
   "metadata": {},
   "outputs": [],
   "source": [
    "df"
   ]
  },
  {
   "cell_type": "code",
   "execution_count": null,
   "id": "e35b9068",
   "metadata": {},
   "outputs": [],
   "source": [
    "print(len(contents))\n",
    "#print(len(old_blogs))\n",
    "print(len(hide_link))\n"
   ]
  }
 ],
 "metadata": {
  "kernelspec": {
   "display_name": "Python 3.8.0 ('NIFS')",
   "language": "python",
   "name": "python3"
  },
  "language_info": {
   "codemirror_mode": {
    "name": "ipython",
    "version": 3
   },
   "file_extension": ".py",
   "mimetype": "text/x-python",
   "name": "python",
   "nbconvert_exporter": "python",
   "pygments_lexer": "ipython3",
   "version": "3.8.0"
  },
  "vscode": {
   "interpreter": {
    "hash": "ef870b4feb386425c661b7ebcadef1c9affb03996f900964fa02bf03ee560957"
   }
  }
 },
 "nbformat": 4,
 "nbformat_minor": 5
}
